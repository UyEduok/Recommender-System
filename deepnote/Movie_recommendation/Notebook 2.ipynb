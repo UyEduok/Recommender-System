{
  "cells": [
    {
      "cell_type": "markdown",
      "source": "### Content-Based Filtering",
      "metadata": {
        "formattedRanges": [],
        "cell_id": "4cafb0d9936e4a6ca78aab3bab806996",
        "deepnote_cell_type": "text-cell-h3"
      }
    },
    {
      "cell_type": "code",
      "source": "import pandas as pd \nmovies = pd.read_csv('movies.csv')\nmovies.head(30) ",
      "metadata": {
        "source_hash": null,
        "execution_start": 1688208630025,
        "execution_millis": 440,
        "deepnote_to_be_reexecuted": false,
        "cell_id": "b77d8b02132444948cf30487e222ce6c",
        "deepnote_cell_type": "code"
      },
      "outputs": [
        {
          "output_type": "execute_result",
          "execution_count": 1,
          "data": {
            "application/vnd.deepnote.dataframe.v3+json": {
              "column_count": 20,
              "row_count": 30,
              "columns": [
                {
                  "name": "budget",
                  "dtype": "int64",
                  "stats": {
                    "unique_count": 18,
                    "nan_count": 0,
                    "min": "150000000",
                    "max": "380000000",
                    "histogram": [
                      {
                        "bin_start": 150000000,
                        "bin_end": 173000000,
                        "count": 1
                      },
                      {
                        "bin_start": 173000000,
                        "bin_end": 196000000,
                        "count": 1
                      },
                      {
                        "bin_start": 196000000,
                        "bin_end": 219000000,
                        "count": 8
                      },
                      {
                        "bin_start": 219000000,
                        "bin_end": 242000000,
                        "count": 5
                      },
                      {
                        "bin_start": 242000000,
                        "bin_end": 265000000,
                        "count": 11
                      },
                      {
                        "bin_start": 265000000,
                        "bin_end": 288000000,
                        "count": 2
                      },
                      {
                        "bin_start": 288000000,
                        "bin_end": 311000000,
                        "count": 1
                      },
                      {
                        "bin_start": 311000000,
                        "bin_end": 334000000,
                        "count": 0
                      },
                      {
                        "bin_start": 334000000,
                        "bin_end": 357000000,
                        "count": 0
                      },
                      {
                        "bin_start": 357000000,
                        "bin_end": 380000000,
                        "count": 1
                      }
                    ]
                  }
                },
                {
                  "name": "genres",
                  "dtype": "object",
                  "stats": {
                    "unique_count": 24,
                    "nan_count": 0,
                    "categories": [
                      {
                        "name": "[{\"id\": 28, \"name\": \"Action\"}, {\"id\": 12, \"name\": \"Adventure\"}, {\"id\": 14, \"name\": \"Fantasy\"}]",
                        "count": 3
                      },
                      {
                        "name": "[{\"id\": 28, \"name\": \"Action\"}, {\"id\": 12, \"name\": \"Adventure\"}, {\"id\": 14, \"name\": \"Fantasy\"}, {\"id\": 878, \"name\": \"Science Fiction\"}]",
                        "count": 2
                      },
                      {
                        "name": "22 others",
                        "count": 25
                      }
                    ]
                  }
                },
                {
                  "name": "homepage",
                  "dtype": "object",
                  "stats": {
                    "unique_count": 25,
                    "nan_count": 3,
                    "categories": [
                      {
                        "name": "http://disney.go.com/disneypictures/pirates/",
                        "count": 2
                      },
                      {
                        "name": "24 others",
                        "count": 25
                      },
                      {
                        "name": "Missing",
                        "count": 3
                      }
                    ]
                  }
                },
                {
                  "name": "id",
                  "dtype": "int64",
                  "stats": {
                    "unique_count": 30,
                    "nan_count": 0,
                    "min": "58",
                    "max": "271110",
                    "histogram": [
                      {
                        "bin_start": 58,
                        "bin_end": 27163.2,
                        "count": 15
                      },
                      {
                        "bin_start": 27163.2,
                        "bin_end": 54268.4,
                        "count": 7
                      },
                      {
                        "bin_start": 54268.4,
                        "bin_end": 81373.6,
                        "count": 2
                      },
                      {
                        "bin_start": 81373.6,
                        "bin_end": 108478.8,
                        "count": 1
                      },
                      {
                        "bin_start": 108478.8,
                        "bin_end": 135584,
                        "count": 2
                      },
                      {
                        "bin_start": 135584,
                        "bin_end": 162689.2,
                        "count": 0
                      },
                      {
                        "bin_start": 162689.2,
                        "bin_end": 189794.4,
                        "count": 0
                      },
                      {
                        "bin_start": 189794.4,
                        "bin_end": 216899.6,
                        "count": 2
                      },
                      {
                        "bin_start": 216899.6,
                        "bin_end": 244004.80000000002,
                        "count": 0
                      },
                      {
                        "bin_start": 244004.80000000002,
                        "bin_end": 271110,
                        "count": 1
                      }
                    ]
                  }
                },
                {
                  "name": "keywords",
                  "dtype": "object",
                  "stats": {
                    "unique_count": 30,
                    "nan_count": 0,
                    "categories": [
                      {
                        "name": "[{\"id\": 1463, \"name\": \"culture clash\"}, {\"id\": 2964, \"name\": \"future\"}, {\"id\": 3386, \"name\": \"space war\"}, {\"id\": 3388, \"name\": \"space colony\"}, {\"id\": 3679, \"name\": \"society\"}, {\"id\": 3801, \"name\": \"space travel\"}, {\"id\": 9685, \"name\": \"futuristic\"}, {\"id\": 9840, \"name\": \"romance\"}, {\"id\": 9882, \"name\": \"space\"}, {\"id\": 9951, \"name\": \"alien\"}, {\"id\": 10148, \"name\": \"tribe\"}, {\"id\": 10158, \"name\": \"alien planet\"}, {\"id\": 10987, \"name\": \"cgi\"}, {\"id\": 11399, \"name\": \"marine\"}, {\"id\": 13065, \"name\": \"soldier\"}, {\"id\": 14643, \"name\": \"battle\"}, {\"id\": 14720, \"name\": \"love affair\"}, {\"id\": 165431, \"name\": \"anti war\"}, {\"id\": 193554, \"name\": \"power relations\"}, {\"id\": 206690, \"name\": \"mind and soul\"}, {\"id\": 209714, \"name\": \"3d\"}]",
                        "count": 1
                      },
                      {
                        "name": "[{\"id\": 270, \"name\": \"ocean\"}, {\"id\": 726, \"name\": \"drug abuse\"}, {\"id\": 911, \"name\": \"exotic island\"}, {\"id\": 1319, \"name\": \"east india trading company\"}, {\"id\": 2038, \"name\": \"love of one's life\"}, {\"id\": 2052, \"name\": \"traitor\"}, {\"id\": 2580, \"name\": \"shipwreck\"}, {\"id\": 2660, \"name\": \"strong woman\"}, {\"id\": 3799, \"name\": \"ship\"}, {\"id\": 5740, \"name\": \"alliance\"}, {\"id\": 5941, \"name\": \"calypso\"}, {\"id\": 6155, \"name\": \"afterlife\"}, {\"id\": 6211, \"name\": \"fighter\"}, {\"id\": 12988, \"name\": \"pirate\"}, {\"id\": 157186, \"name\": \"swashbuckler\"}, {\"id\": 179430, \"name\": \"aftercreditsstinger\"}]",
                        "count": 1
                      },
                      {
                        "name": "28 others",
                        "count": 28
                      }
                    ]
                  }
                },
                {
                  "name": "original_language",
                  "dtype": "object",
                  "stats": {
                    "unique_count": 1,
                    "nan_count": 0,
                    "categories": [
                      {
                        "name": "en",
                        "count": 30
                      }
                    ]
                  }
                },
                {
                  "name": "original_title",
                  "dtype": "object",
                  "stats": {
                    "unique_count": 30,
                    "nan_count": 0,
                    "categories": [
                      {
                        "name": "Avatar",
                        "count": 1
                      },
                      {
                        "name": "Pirates of the Caribbean: At World's End",
                        "count": 1
                      },
                      {
                        "name": "28 others",
                        "count": 28
                      }
                    ]
                  }
                },
                {
                  "name": "overview",
                  "dtype": "object",
                  "stats": {
                    "unique_count": 30,
                    "nan_count": 0,
                    "categories": [
                      {
                        "name": "In the 22nd century, a paraplegic Marine is dispatched to the moon Pandora on a unique mission, but becomes torn between following orders and protecting an alien civilization.",
                        "count": 1
                      },
                      {
                        "name": "Captain Barbossa, long believed to be dead, has come back to life and is headed to the edge of the Earth with Will Turner and Elizabeth Swann. But nothing is quite as it seems.",
                        "count": 1
                      },
                      {
                        "name": "28 others",
                        "count": 28
                      }
                    ]
                  }
                },
                {
                  "name": "popularity",
                  "dtype": "float64",
                  "stats": {
                    "unique_count": 30,
                    "nan_count": 0,
                    "min": "37.668301",
                    "max": "418.708552",
                    "histogram": [
                      {
                        "bin_start": 37.668301,
                        "bin_end": 75.7723261,
                        "count": 10
                      },
                      {
                        "bin_start": 75.7723261,
                        "bin_end": 113.8763512,
                        "count": 9
                      },
                      {
                        "bin_start": 113.8763512,
                        "bin_end": 151.9803763,
                        "count": 8
                      },
                      {
                        "bin_start": 151.9803763,
                        "bin_end": 190.0844014,
                        "count": 1
                      },
                      {
                        "bin_start": 190.0844014,
                        "bin_end": 228.1884265,
                        "count": 1
                      },
                      {
                        "bin_start": 228.1884265,
                        "bin_end": 266.2924516,
                        "count": 0
                      },
                      {
                        "bin_start": 266.2924516,
                        "bin_end": 304.3964767,
                        "count": 0
                      },
                      {
                        "bin_start": 304.3964767,
                        "bin_end": 342.5005018,
                        "count": 0
                      },
                      {
                        "bin_start": 342.5005018,
                        "bin_end": 380.6045269,
                        "count": 0
                      },
                      {
                        "bin_start": 380.6045269,
                        "bin_end": 418.708552,
                        "count": 1
                      }
                    ]
                  }
                },
                {
                  "name": "production_companies",
                  "dtype": "object",
                  "stats": {
                    "unique_count": 29,
                    "nan_count": 0,
                    "categories": [
                      {
                        "name": "[{\"name\": \"Walt Disney Pictures\", \"id\": 2}, {\"name\": \"Jerry Bruckheimer Films\", \"id\": 130}, {\"name\": \"Second Mate Productions\", \"id\": 19936}]",
                        "count": 2
                      },
                      {
                        "name": "[{\"name\": \"Ingenious Film Partners\", \"id\": 289}, {\"name\": \"Twentieth Century Fox Film Corporation\", \"id\": 306}, {\"name\": \"Dune Entertainment\", \"id\": 444}, {\"name\": \"Lightstorm Entertainment\", \"id\": 574}]",
                        "count": 1
                      },
                      {
                        "name": "27 others",
                        "count": 27
                      }
                    ]
                  }
                },
                {
                  "name": "production_countries",
                  "dtype": "object",
                  "stats": {
                    "unique_count": 7,
                    "nan_count": 0,
                    "categories": [
                      {
                        "name": "[{\"iso_3166_1\": \"US\", \"name\": \"United States of America\"}]",
                        "count": 17
                      },
                      {
                        "name": "[{\"iso_3166_1\": \"GB\", \"name\": \"United Kingdom\"}, {\"iso_3166_1\": \"US\", \"name\": \"United States of America\"}]",
                        "count": 7
                      },
                      {
                        "name": "5 others",
                        "count": 6
                      }
                    ]
                  }
                },
                {
                  "name": "release_date",
                  "dtype": "object",
                  "stats": {
                    "unique_count": 30,
                    "nan_count": 0,
                    "categories": [
                      {
                        "name": "2009-12-10",
                        "count": 1
                      },
                      {
                        "name": "2007-05-19",
                        "count": 1
                      },
                      {
                        "name": "28 others",
                        "count": 28
                      }
                    ]
                  }
                },
                {
                  "name": "revenue",
                  "dtype": "int64",
                  "stats": {
                    "unique_count": 30,
                    "nan_count": 0,
                    "min": "89289910",
                    "max": "2787965087",
                    "histogram": [
                      {
                        "bin_start": 89289910,
                        "bin_end": 359157427.7,
                        "count": 4
                      },
                      {
                        "bin_start": 359157427.7,
                        "bin_end": 629024945.4,
                        "count": 7
                      },
                      {
                        "bin_start": 629024945.4,
                        "bin_end": 898892463.0999999,
                        "count": 5
                      },
                      {
                        "bin_start": 898892463.0999999,
                        "bin_end": 1168759980.8,
                        "count": 9
                      },
                      {
                        "bin_start": 1168759980.8,
                        "bin_end": 1438627498.5,
                        "count": 1
                      },
                      {
                        "bin_start": 1438627498.5,
                        "bin_end": 1708495016.1999998,
                        "count": 2
                      },
                      {
                        "bin_start": 1708495016.1999998,
                        "bin_end": 1978362533.8999999,
                        "count": 1
                      },
                      {
                        "bin_start": 1978362533.8999999,
                        "bin_end": 2248230051.6,
                        "count": 0
                      },
                      {
                        "bin_start": 2248230051.6,
                        "bin_end": 2518097569.2999997,
                        "count": 0
                      },
                      {
                        "bin_start": 2518097569.2999997,
                        "bin_end": 2787965087,
                        "count": 1
                      }
                    ]
                  }
                },
                {
                  "name": "runtime",
                  "dtype": "float64",
                  "stats": {
                    "unique_count": 25,
                    "nan_count": 0,
                    "min": "100.0",
                    "max": "194.0",
                    "histogram": [
                      {
                        "bin_start": 100,
                        "bin_end": 109.4,
                        "count": 3
                      },
                      {
                        "bin_start": 109.4,
                        "bin_end": 118.8,
                        "count": 1
                      },
                      {
                        "bin_start": 118.8,
                        "bin_end": 128.2,
                        "count": 1
                      },
                      {
                        "bin_start": 128.2,
                        "bin_end": 137.6,
                        "count": 4
                      },
                      {
                        "bin_start": 137.6,
                        "bin_end": 147,
                        "count": 7
                      },
                      {
                        "bin_start": 147,
                        "bin_end": 156.4,
                        "count": 8
                      },
                      {
                        "bin_start": 156.4,
                        "bin_end": 165.8,
                        "count": 3
                      },
                      {
                        "bin_start": 165.8,
                        "bin_end": 175.2,
                        "count": 1
                      },
                      {
                        "bin_start": 175.2,
                        "bin_end": 184.60000000000002,
                        "count": 0
                      },
                      {
                        "bin_start": 184.60000000000002,
                        "bin_end": 194,
                        "count": 2
                      }
                    ]
                  }
                },
                {
                  "name": "spoken_languages",
                  "dtype": "object",
                  "stats": {
                    "unique_count": 11,
                    "nan_count": 0,
                    "categories": [
                      {
                        "name": "[{\"iso_639_1\": \"en\", \"name\": \"English\"}]",
                        "count": 18
                      },
                      {
                        "name": "[{\"iso_639_1\": \"en\", \"name\": \"English\"}, {\"iso_639_1\": \"es\", \"name\": \"Espa\\u00f1ol\"}]",
                        "count": 2
                      },
                      {
                        "name": "9 others",
                        "count": 10
                      }
                    ]
                  }
                },
                {
                  "name": "status",
                  "dtype": "object",
                  "stats": {
                    "unique_count": 1,
                    "nan_count": 0,
                    "categories": [
                      {
                        "name": "Released",
                        "count": 30
                      }
                    ]
                  }
                },
                {
                  "name": "tagline",
                  "dtype": "object",
                  "stats": {
                    "unique_count": 29,
                    "nan_count": 1,
                    "categories": [
                      {
                        "name": "Enter the World of Pandora.",
                        "count": 1
                      },
                      {
                        "name": "28 others",
                        "count": 28
                      },
                      {
                        "name": "Missing",
                        "count": 1
                      }
                    ]
                  }
                },
                {
                  "name": "title",
                  "dtype": "object",
                  "stats": {
                    "unique_count": 30,
                    "nan_count": 0,
                    "categories": [
                      {
                        "name": "Avatar",
                        "count": 1
                      },
                      {
                        "name": "Pirates of the Caribbean: At World's End",
                        "count": 1
                      },
                      {
                        "name": "28 others",
                        "count": 28
                      }
                    ]
                  }
                },
                {
                  "name": "vote_average",
                  "dtype": "float64",
                  "stats": {
                    "unique_count": 19,
                    "nan_count": 0,
                    "min": "5.4",
                    "max": "7.6",
                    "histogram": [
                      {
                        "bin_start": 5.4,
                        "bin_end": 5.62,
                        "count": 2
                      },
                      {
                        "bin_start": 5.62,
                        "bin_end": 5.84,
                        "count": 2
                      },
                      {
                        "bin_start": 5.84,
                        "bin_end": 6.0600000000000005,
                        "count": 2
                      },
                      {
                        "bin_start": 6.0600000000000005,
                        "bin_end": 6.28,
                        "count": 4
                      },
                      {
                        "bin_start": 6.28,
                        "bin_end": 6.5,
                        "count": 3
                      },
                      {
                        "bin_start": 6.5,
                        "bin_end": 6.72,
                        "count": 4
                      },
                      {
                        "bin_start": 6.72,
                        "bin_end": 6.9399999999999995,
                        "count": 2
                      },
                      {
                        "bin_start": 6.9399999999999995,
                        "bin_end": 7.16,
                        "count": 3
                      },
                      {
                        "bin_start": 7.16,
                        "bin_end": 7.38,
                        "count": 2
                      },
                      {
                        "bin_start": 7.38,
                        "bin_end": 7.6,
                        "count": 6
                      }
                    ]
                  }
                },
                {
                  "name": "vote_count",
                  "dtype": "int64",
                  "stats": {
                    "unique_count": 30,
                    "nan_count": 0,
                    "min": "1303",
                    "max": "11800",
                    "histogram": [
                      {
                        "bin_start": 1303,
                        "bin_end": 2352.7,
                        "count": 8
                      },
                      {
                        "bin_start": 2352.7,
                        "bin_end": 3402.4,
                        "count": 2
                      },
                      {
                        "bin_start": 3402.4,
                        "bin_end": 4452.1,
                        "count": 2
                      },
                      {
                        "bin_start": 4452.1,
                        "bin_end": 5501.8,
                        "count": 7
                      },
                      {
                        "bin_start": 5501.8,
                        "bin_end": 6551.5,
                        "count": 1
                      },
                      {
                        "bin_start": 6551.5,
                        "bin_end": 7601.200000000001,
                        "count": 5
                      },
                      {
                        "bin_start": 7601.200000000001,
                        "bin_end": 8650.900000000001,
                        "count": 1
                      },
                      {
                        "bin_start": 8650.900000000001,
                        "bin_end": 9700.6,
                        "count": 2
                      },
                      {
                        "bin_start": 9700.6,
                        "bin_end": 10750.300000000001,
                        "count": 0
                      },
                      {
                        "bin_start": 10750.300000000001,
                        "bin_end": 11800,
                        "count": 2
                      }
                    ]
                  }
                },
                {
                  "name": "_deepnote_index_column",
                  "dtype": "int64"
                }
              ],
              "rows": [
                {
                  "budget": 237000000,
                  "genres": "[{\"id\": 28, \"name\": \"Action\"}, {\"id\": 12, \"name\": \"Adventure\"}, {\"id\": 14, \"name\": \"Fantasy\"}, {\"id\": 878, \"name\": \"Science Fiction\"}]",
                  "homepage": "http://www.avatarmovie.com/",
                  "id": 19995,
                  "keywords": "[{\"id\": 1463, \"name\": \"culture clash\"}, {\"id\": 2964, \"name\": \"future\"}, {\"id\": 3386, \"name\": \"space war\"}, {\"id\": 3388, \"name\": \"space colony\"}, {\"id\": 3679, \"name\": \"society\"}, {\"id\": 3801, \"name\": \"space travel\"}, {\"id\": 9685, \"name\": \"futuristic\"}, {\"id\": 9840, \"name\": \"romance\"}, {\"id\": 9882, \"name\": \"space\"}, {\"id\": 9951, \"name\": \"alien\"}, {\"id\": 10148, \"name\": \"tribe\"}, {\"id\": 10158, \"name\": \"alien planet\"}, {\"id\": 10987, \"name\": \"cgi\"}, {\"id\": 11399, \"name\": \"marine\"}, {\"id\": 13065, \"name\": \"soldier\"}, {\"id\": 14643, \"name\": \"battle\"}, {\"id\": 14720, \"name\": \"love affair\"}, {\"id\": 165431, \"name\": \"anti war\"}, {\"id\": 193554, \"name\": \"power relations\"}, {\"id\": 206690, \"name\": \"mind and soul\"}, {\"id\": 209714, \"name\": \"3d\"}]",
                  "original_language": "en",
                  "original_title": "Avatar",
                  "overview": "In the 22nd century, a paraplegic Marine is dispatched to the moon Pandora on a unique mission, but becomes torn between following orders and protecting an alien civilization.",
                  "popularity": 150.437577,
                  "production_companies": "[{\"name\": \"Ingenious Film Partners\", \"id\": 289}, {\"name\": \"Twentieth Century Fox Film Corporation\", \"id\": 306}, {\"name\": \"Dune Entertainment\", \"id\": 444}, {\"name\": \"Lightstorm Entertainment\", \"id\": 574}]",
                  "production_countries": "[{\"iso_3166_1\": \"US\", \"name\": \"United States of America\"}, {\"iso_3166_1\": \"GB\", \"name\": \"United Kingdom\"}]",
                  "release_date": "2009-12-10",
                  "revenue": 2787965087,
                  "runtime": 162,
                  "spoken_languages": "[{\"iso_639_1\": \"en\", \"name\": \"English\"}, {\"iso_639_1\": \"es\", \"name\": \"Espa\\u00f1ol\"}]",
                  "status": "Released",
                  "tagline": "Enter the World of Pandora.",
                  "title": "Avatar",
                  "vote_average": 7.2,
                  "vote_count": 11800,
                  "_deepnote_index_column": 0
                },
                {
                  "budget": 300000000,
                  "genres": "[{\"id\": 12, \"name\": \"Adventure\"}, {\"id\": 14, \"name\": \"Fantasy\"}, {\"id\": 28, \"name\": \"Action\"}]",
                  "homepage": "http://disney.go.com/disneypictures/pirates/",
                  "id": 285,
                  "keywords": "[{\"id\": 270, \"name\": \"ocean\"}, {\"id\": 726, \"name\": \"drug abuse\"}, {\"id\": 911, \"name\": \"exotic island\"}, {\"id\": 1319, \"name\": \"east india trading company\"}, {\"id\": 2038, \"name\": \"love of one's life\"}, {\"id\": 2052, \"name\": \"traitor\"}, {\"id\": 2580, \"name\": \"shipwreck\"}, {\"id\": 2660, \"name\": \"strong woman\"}, {\"id\": 3799, \"name\": \"ship\"}, {\"id\": 5740, \"name\": \"alliance\"}, {\"id\": 5941, \"name\": \"calypso\"}, {\"id\": 6155, \"name\": \"afterlife\"}, {\"id\": 6211, \"name\": \"fighter\"}, {\"id\": 12988, \"name\": \"pirate\"}, {\"id\": 157186, \"name\": \"swashbuckler\"}, {\"id\": 179430, \"name\": \"aftercreditsstinger\"}]",
                  "original_language": "en",
                  "original_title": "Pirates of the Caribbean: At World's End",
                  "overview": "Captain Barbossa, long believed to be dead, has come back to life and is headed to the edge of the Earth with Will Turner and Elizabeth Swann. But nothing is quite as it seems.",
                  "popularity": 139.082615,
                  "production_companies": "[{\"name\": \"Walt Disney Pictures\", \"id\": 2}, {\"name\": \"Jerry Bruckheimer Films\", \"id\": 130}, {\"name\": \"Second Mate Productions\", \"id\": 19936}]",
                  "production_countries": "[{\"iso_3166_1\": \"US\", \"name\": \"United States of America\"}]",
                  "release_date": "2007-05-19",
                  "revenue": 961000000,
                  "runtime": 169,
                  "spoken_languages": "[{\"iso_639_1\": \"en\", \"name\": \"English\"}]",
                  "status": "Released",
                  "tagline": "At the end of the world, the adventure begins.",
                  "title": "Pirates of the Caribbean: At World's End",
                  "vote_average": 6.9,
                  "vote_count": 4500,
                  "_deepnote_index_column": 1
                },
                {
                  "budget": 245000000,
                  "genres": "[{\"id\": 28, \"name\": \"Action\"}, {\"id\": 12, \"name\": \"Adventure\"}, {\"id\": 80, \"name\": \"Crime\"}]",
                  "homepage": "http://www.sonypictures.com/movies/spectre/",
                  "id": 206647,
                  "keywords": "[{\"id\": 470, \"name\": \"spy\"}, {\"id\": 818, \"name\": \"based on novel\"}, {\"id\": 4289, \"name\": \"secret agent\"}, {\"id\": 9663, \"name\": \"sequel\"}, {\"id\": 14555, \"name\": \"mi6\"}, {\"id\": 156095, \"name\": \"british secret service\"}, {\"id\": 158431, \"name\": \"united kingdom\"}]",
                  "original_language": "en",
                  "original_title": "Spectre",
                  "overview": "A cryptic message from Bond’s past sends him on a trail to uncover a sinister organization. While M battles political forces to keep the secret service alive, Bond peels back the layers of deceit to reveal the terrible truth behind SPECTRE.",
                  "popularity": 107.376788,
                  "production_companies": "[{\"name\": \"Columbia Pictures\", \"id\": 5}, {\"name\": \"Danjaq\", \"id\": 10761}, {\"name\": \"B24\", \"id\": 69434}]",
                  "production_countries": "[{\"iso_3166_1\": \"GB\", \"name\": \"United Kingdom\"}, {\"iso_3166_1\": \"US\", \"name\": \"United States of America\"}]",
                  "release_date": "2015-10-26",
                  "revenue": 880674609,
                  "runtime": 148,
                  "spoken_languages": "[{\"iso_639_1\": \"fr\", \"name\": \"Fran\\u00e7ais\"}, {\"iso_639_1\": \"en\", \"name\": \"English\"}, {\"iso_639_1\": \"es\", \"name\": \"Espa\\u00f1ol\"}, {\"iso_639_1\": \"it\", \"name\": \"Italiano\"}, {\"iso_639_1\": \"de\", \"name\": \"Deutsch\"}]",
                  "status": "Released",
                  "tagline": "A Plan No One Escapes",
                  "title": "Spectre",
                  "vote_average": 6.3,
                  "vote_count": 4466,
                  "_deepnote_index_column": 2
                },
                {
                  "budget": 250000000,
                  "genres": "[{\"id\": 28, \"name\": \"Action\"}, {\"id\": 80, \"name\": \"Crime\"}, {\"id\": 18, \"name\": \"Drama\"}, {\"id\": 53, \"name\": \"Thriller\"}]",
                  "homepage": "http://www.thedarkknightrises.com/",
                  "id": 49026,
                  "keywords": "[{\"id\": 849, \"name\": \"dc comics\"}, {\"id\": 853, \"name\": \"crime fighter\"}, {\"id\": 949, \"name\": \"terrorist\"}, {\"id\": 1308, \"name\": \"secret identity\"}, {\"id\": 1437, \"name\": \"burglar\"}, {\"id\": 3051, \"name\": \"hostage drama\"}, {\"id\": 3562, \"name\": \"time bomb\"}, {\"id\": 6969, \"name\": \"gotham city\"}, {\"id\": 7002, \"name\": \"vigilante\"}, {\"id\": 9665, \"name\": \"cover-up\"}, {\"id\": 9715, \"name\": \"superhero\"}, {\"id\": 9990, \"name\": \"villainess\"}, {\"id\": 10044, \"name\": \"tragic hero\"}, {\"id\": 13015, \"name\": \"terrorism\"}, {\"id\": 14796, \"name\": \"destruction\"}, {\"id\": 18933, \"name\": \"catwoman\"}, {\"id\": 156082, \"name\": \"cat burglar\"}, {\"id\": 156395, \"name\": \"imax\"}, {\"id\": 173272, \"name\": \"flood\"}, {\"id\": 179093, \"name\": \"criminal underworld\"}, {\"id\": 230775, \"name\": \"batman\"}]",
                  "original_language": "en",
                  "original_title": "The Dark Knight Rises",
                  "overview": "Following the death of District Attorney Harvey Dent, Batman assumes responsibility for Dent's crimes to protect the late attorney's reputation and is subsequently hunted by the Gotham City Police Department. Eight years later, Batman encounters the mysterious Selina Kyle and the villainous Bane, a new terrorist leader who overwhelms Gotham's finest. The Dark Knight resurfaces to protect a city that has branded him an enemy.",
                  "popularity": 112.31295,
                  "production_companies": "[{\"name\": \"Legendary Pictures\", \"id\": 923}, {\"name\": \"Warner Bros.\", \"id\": 6194}, {\"name\": \"DC Entertainment\", \"id\": 9993}, {\"name\": \"Syncopy\", \"id\": 9996}]",
                  "production_countries": "[{\"iso_3166_1\": \"US\", \"name\": \"United States of America\"}]",
                  "release_date": "2012-07-16",
                  "revenue": 1084939099,
                  "runtime": 165,
                  "spoken_languages": "[{\"iso_639_1\": \"en\", \"name\": \"English\"}]",
                  "status": "Released",
                  "tagline": "The Legend Ends",
                  "title": "The Dark Knight Rises",
                  "vote_average": 7.6,
                  "vote_count": 9106,
                  "_deepnote_index_column": 3
                },
                {
                  "budget": 260000000,
                  "genres": "[{\"id\": 28, \"name\": \"Action\"}, {\"id\": 12, \"name\": \"Adventure\"}, {\"id\": 878, \"name\": \"Science Fiction\"}]",
                  "homepage": "http://movies.disney.com/john-carter",
                  "id": 49529,
                  "keywords": "[{\"id\": 818, \"name\": \"based on novel\"}, {\"id\": 839, \"name\": \"mars\"}, {\"id\": 1456, \"name\": \"medallion\"}, {\"id\": 3801, \"name\": \"space travel\"}, {\"id\": 7376, \"name\": \"princess\"}, {\"id\": 9951, \"name\": \"alien\"}, {\"id\": 10028, \"name\": \"steampunk\"}, {\"id\": 10539, \"name\": \"martian\"}, {\"id\": 10685, \"name\": \"escape\"}, {\"id\": 161511, \"name\": \"edgar rice burroughs\"}, {\"id\": 163252, \"name\": \"alien race\"}, {\"id\": 179102, \"name\": \"superhuman strength\"}, {\"id\": 190320, \"name\": \"mars civilization\"}, {\"id\": 195446, \"name\": \"sword and planet\"}, {\"id\": 207928, \"name\": \"19th century\"}, {\"id\": 209714, \"name\": \"3d\"}]",
                  "original_language": "en",
                  "original_title": "John Carter",
                  "overview": "John Carter is a war-weary, former military captain who's inexplicably transported to the mysterious and exotic planet of Barsoom (Mars) and reluctantly becomes embroiled in an epic conflict. It's a world on the brink of collapse, and Carter rediscovers his humanity when he realizes the survival of Barsoom and its people rests in his hands.",
                  "popularity": 43.926995,
                  "production_companies": "[{\"name\": \"Walt Disney Pictures\", \"id\": 2}]",
                  "production_countries": "[{\"iso_3166_1\": \"US\", \"name\": \"United States of America\"}]",
                  "release_date": "2012-03-07",
                  "revenue": 284139100,
                  "runtime": 132,
                  "spoken_languages": "[{\"iso_639_1\": \"en\", \"name\": \"English\"}]",
                  "status": "Released",
                  "tagline": "Lost in our world, found in another.",
                  "title": "John Carter",
                  "vote_average": 6.1,
                  "vote_count": 2124,
                  "_deepnote_index_column": 4
                },
                {
                  "budget": 258000000,
                  "genres": "[{\"id\": 14, \"name\": \"Fantasy\"}, {\"id\": 28, \"name\": \"Action\"}, {\"id\": 12, \"name\": \"Adventure\"}]",
                  "homepage": "http://www.sonypictures.com/movies/spider-man3/",
                  "id": 559,
                  "keywords": "[{\"id\": 851, \"name\": \"dual identity\"}, {\"id\": 1453, \"name\": \"amnesia\"}, {\"id\": 1965, \"name\": \"sandstorm\"}, {\"id\": 2038, \"name\": \"love of one's life\"}, {\"id\": 3446, \"name\": \"forgiveness\"}, {\"id\": 3986, \"name\": \"spider\"}, {\"id\": 4391, \"name\": \"wretch\"}, {\"id\": 4959, \"name\": \"death of a friend\"}, {\"id\": 5776, \"name\": \"egomania\"}, {\"id\": 5789, \"name\": \"sand\"}, {\"id\": 5857, \"name\": \"narcism\"}, {\"id\": 6062, \"name\": \"hostility\"}, {\"id\": 8828, \"name\": \"marvel comic\"}, {\"id\": 9663, \"name\": \"sequel\"}, {\"id\": 9715, \"name\": \"superhero\"}, {\"id\": 9748, \"name\": \"revenge\"}]",
                  "original_language": "en",
                  "original_title": "Spider-Man 3",
                  "overview": "The seemingly invincible Spider-Man goes up against an all-new crop of villain – including the shape-shifting Sandman. While Spider-Man’s superpowers are altered by an alien organism, his alter ego, Peter Parker, deals with nemesis Eddie Brock and also gets caught up in a love triangle.",
                  "popularity": 115.699814,
                  "production_companies": "[{\"name\": \"Columbia Pictures\", \"id\": 5}, {\"name\": \"Laura Ziskin Productions\", \"id\": 326}, {\"name\": \"Marvel Enterprises\", \"id\": 19551}]",
                  "production_countries": "[{\"iso_3166_1\": \"US\", \"name\": \"United States of America\"}]",
                  "release_date": "2007-05-01",
                  "revenue": 890871626,
                  "runtime": 139,
                  "spoken_languages": "[{\"iso_639_1\": \"en\", \"name\": \"English\"}, {\"iso_639_1\": \"fr\", \"name\": \"Fran\\u00e7ais\"}]",
                  "status": "Released",
                  "tagline": "The battle within.",
                  "title": "Spider-Man 3",
                  "vote_average": 5.9,
                  "vote_count": 3576,
                  "_deepnote_index_column": 5
                },
                {
                  "budget": 260000000,
                  "genres": "[{\"id\": 16, \"name\": \"Animation\"}, {\"id\": 10751, \"name\": \"Family\"}]",
                  "homepage": "http://disney.go.com/disneypictures/tangled/",
                  "id": 38757,
                  "keywords": "[{\"id\": 1562, \"name\": \"hostage\"}, {\"id\": 2343, \"name\": \"magic\"}, {\"id\": 2673, \"name\": \"horse\"}, {\"id\": 3205, \"name\": \"fairy tale\"}, {\"id\": 4344, \"name\": \"musical\"}, {\"id\": 7376, \"name\": \"princess\"}, {\"id\": 10336, \"name\": \"animation\"}, {\"id\": 33787, \"name\": \"tower\"}, {\"id\": 155658, \"name\": \"blonde woman\"}, {\"id\": 162219, \"name\": \"selfishness\"}, {\"id\": 163545, \"name\": \"healing power\"}, {\"id\": 179411, \"name\": \"based on fairy tale\"}, {\"id\": 179431, \"name\": \"duringcreditsstinger\"}, {\"id\": 215258, \"name\": \"healing gift\"}, {\"id\": 234183, \"name\": \"animal sidekick\"}]",
                  "original_language": "en",
                  "original_title": "Tangled",
                  "overview": "When the kingdom's most wanted-and most charming-bandit Flynn Rider hides out in a mysterious tower, he's taken hostage by Rapunzel, a beautiful and feisty tower-bound teen with 70 feet of magical, golden hair. Flynn's curious captor, who's looking for her ticket out of the tower where she's been locked away for years, strikes a deal with the handsome thief and the unlikely duo sets off on an action-packed escapade, complete with a super-cop horse, an over-protective chameleon and a gruff gang of pub thugs.",
                  "popularity": 48.681969,
                  "production_companies": "[{\"name\": \"Walt Disney Pictures\", \"id\": 2}, {\"name\": \"Walt Disney Animation Studios\", \"id\": 6125}]",
                  "production_countries": "[{\"iso_3166_1\": \"US\", \"name\": \"United States of America\"}]",
                  "release_date": "2010-11-24",
                  "revenue": 591794936,
                  "runtime": 100,
                  "spoken_languages": "[{\"iso_639_1\": \"en\", \"name\": \"English\"}]",
                  "status": "Released",
                  "tagline": "They're taking adventure to new lengths.",
                  "title": "Tangled",
                  "vote_average": 7.4,
                  "vote_count": 3330,
                  "_deepnote_index_column": 6
                },
                {
                  "budget": 280000000,
                  "genres": "[{\"id\": 28, \"name\": \"Action\"}, {\"id\": 12, \"name\": \"Adventure\"}, {\"id\": 878, \"name\": \"Science Fiction\"}]",
                  "homepage": "http://marvel.com/movies/movie/193/avengers_age_of_ultron",
                  "id": 99861,
                  "keywords": "[{\"id\": 8828, \"name\": \"marvel comic\"}, {\"id\": 9663, \"name\": \"sequel\"}, {\"id\": 9715, \"name\": \"superhero\"}, {\"id\": 9717, \"name\": \"based on comic book\"}, {\"id\": 10629, \"name\": \"vision\"}, {\"id\": 155030, \"name\": \"superhero team\"}, {\"id\": 179431, \"name\": \"duringcreditsstinger\"}, {\"id\": 180547, \"name\": \"marvel cinematic universe\"}, {\"id\": 209714, \"name\": \"3d\"}]",
                  "original_language": "en",
                  "original_title": "Avengers: Age of Ultron",
                  "overview": "When Tony Stark tries to jumpstart a dormant peacekeeping program, things go awry and Earth’s Mightiest Heroes are put to the ultimate test as the fate of the planet hangs in the balance. As the villainous Ultron emerges, it is up to The Avengers to stop him from enacting his terrible plans, and soon uneasy alliances and unexpected action pave the way for an epic and unique global adventure.",
                  "popularity": 134.279229,
                  "production_companies": "[{\"name\": \"Marvel Studios\", \"id\": 420}, {\"name\": \"Prime Focus\", \"id\": 15357}, {\"name\": \"Revolution Sun Studios\", \"id\": 76043}]",
                  "production_countries": "[{\"iso_3166_1\": \"US\", \"name\": \"United States of America\"}]",
                  "release_date": "2015-04-22",
                  "revenue": 1405403694,
                  "runtime": 141,
                  "spoken_languages": "[{\"iso_639_1\": \"en\", \"name\": \"English\"}]",
                  "status": "Released",
                  "tagline": "A New Age Has Come.",
                  "title": "Avengers: Age of Ultron",
                  "vote_average": 7.3,
                  "vote_count": 6767,
                  "_deepnote_index_column": 7
                },
                {
                  "budget": 250000000,
                  "genres": "[{\"id\": 12, \"name\": \"Adventure\"}, {\"id\": 14, \"name\": \"Fantasy\"}, {\"id\": 10751, \"name\": \"Family\"}]",
                  "homepage": "http://harrypotter.warnerbros.com/harrypotterandthehalf-bloodprince/dvd/index.html",
                  "id": 767,
                  "keywords": "[{\"id\": 616, \"name\": \"witch\"}, {\"id\": 2343, \"name\": \"magic\"}, {\"id\": 3872, \"name\": \"broom\"}, {\"id\": 3884, \"name\": \"school of witchcraft\"}, {\"id\": 6333, \"name\": \"wizardry\"}, {\"id\": 10164, \"name\": \"apparition\"}, {\"id\": 10791, \"name\": \"teenage crush\"}, {\"id\": 12564, \"name\": \"werewolf\"}]",
                  "original_language": "en",
                  "original_title": "Harry Potter and the Half-Blood Prince",
                  "overview": "As Harry begins his sixth year at Hogwarts, he discovers an old book marked as 'Property of the Half-Blood Prince', and begins to learn more about Lord Voldemort's dark past.",
                  "popularity": 98.885637,
                  "production_companies": "[{\"name\": \"Warner Bros.\", \"id\": 6194}, {\"name\": \"Heyday Films\", \"id\": 7364}]",
                  "production_countries": "[{\"iso_3166_1\": \"GB\", \"name\": \"United Kingdom\"}, {\"iso_3166_1\": \"US\", \"name\": \"United States of America\"}]",
                  "release_date": "2009-07-07",
                  "revenue": 933959197,
                  "runtime": 153,
                  "spoken_languages": "[{\"iso_639_1\": \"en\", \"name\": \"English\"}]",
                  "status": "Released",
                  "tagline": "Dark Secrets Revealed",
                  "title": "Harry Potter and the Half-Blood Prince",
                  "vote_average": 7.4,
                  "vote_count": 5293,
                  "_deepnote_index_column": 8
                },
                {
                  "budget": 250000000,
                  "genres": "[{\"id\": 28, \"name\": \"Action\"}, {\"id\": 12, \"name\": \"Adventure\"}, {\"id\": 14, \"name\": \"Fantasy\"}]",
                  "homepage": "http://www.batmanvsupermandawnofjustice.com/",
                  "id": 209112,
                  "keywords": "[{\"id\": 849, \"name\": \"dc comics\"}, {\"id\": 7002, \"name\": \"vigilante\"}, {\"id\": 9715, \"name\": \"superhero\"}, {\"id\": 9717, \"name\": \"based on comic book\"}, {\"id\": 9748, \"name\": \"revenge\"}, {\"id\": 163455, \"name\": \"super powers\"}, {\"id\": 195242, \"name\": \"clark kent\"}, {\"id\": 195243, \"name\": \"bruce wayne\"}, {\"id\": 229266, \"name\": \"dc extended universe\"}]",
                  "original_language": "en",
                  "original_title": "Batman v Superman: Dawn of Justice",
                  "overview": "Fearing the actions of a god-like Super Hero left unchecked, Gotham City’s own formidable, forceful vigilante takes on Metropolis’s most revered, modern-day savior, while the world wrestles with what sort of hero it really needs. And with Batman and Superman at war with one another, a new threat quickly arises, putting mankind in greater danger than it’s ever known before.",
                  "popularity": 155.790452,
                  "production_companies": "[{\"name\": \"DC Comics\", \"id\": 429}, {\"name\": \"Atlas Entertainment\", \"id\": 507}, {\"name\": \"Warner Bros.\", \"id\": 6194}, {\"name\": \"DC Entertainment\", \"id\": 9993}, {\"name\": \"Cruel & Unusual Films\", \"id\": 9995}, {\"name\": \"RatPac-Dune Entertainment\", \"id\": 41624}]",
                  "production_countries": "[{\"iso_3166_1\": \"US\", \"name\": \"United States of America\"}]",
                  "release_date": "2016-03-23",
                  "revenue": 873260194,
                  "runtime": 151,
                  "spoken_languages": "[{\"iso_639_1\": \"en\", \"name\": \"English\"}]",
                  "status": "Released",
                  "tagline": "Justice or revenge",
                  "title": "Batman v Superman: Dawn of Justice",
                  "vote_average": 5.7,
                  "vote_count": 7004,
                  "_deepnote_index_column": 9
                }
              ]
            },
            "text/plain": "       budget                                             genres  \\\n0   237000000  [{\"id\": 28, \"name\": \"Action\"}, {\"id\": 12, \"nam...   \n1   300000000  [{\"id\": 12, \"name\": \"Adventure\"}, {\"id\": 14, \"...   \n2   245000000  [{\"id\": 28, \"name\": \"Action\"}, {\"id\": 12, \"nam...   \n3   250000000  [{\"id\": 28, \"name\": \"Action\"}, {\"id\": 80, \"nam...   \n4   260000000  [{\"id\": 28, \"name\": \"Action\"}, {\"id\": 12, \"nam...   \n5   258000000  [{\"id\": 14, \"name\": \"Fantasy\"}, {\"id\": 28, \"na...   \n6   260000000  [{\"id\": 16, \"name\": \"Animation\"}, {\"id\": 10751...   \n7   280000000  [{\"id\": 28, \"name\": \"Action\"}, {\"id\": 12, \"nam...   \n8   250000000  [{\"id\": 12, \"name\": \"Adventure\"}, {\"id\": 14, \"...   \n9   250000000  [{\"id\": 28, \"name\": \"Action\"}, {\"id\": 12, \"nam...   \n10  270000000  [{\"id\": 12, \"name\": \"Adventure\"}, {\"id\": 14, \"...   \n11  200000000  [{\"id\": 12, \"name\": \"Adventure\"}, {\"id\": 28, \"...   \n12  200000000  [{\"id\": 12, \"name\": \"Adventure\"}, {\"id\": 14, \"...   \n13  255000000  [{\"id\": 28, \"name\": \"Action\"}, {\"id\": 12, \"nam...   \n14  225000000  [{\"id\": 28, \"name\": \"Action\"}, {\"id\": 12, \"nam...   \n15  225000000  [{\"id\": 12, \"name\": \"Adventure\"}, {\"id\": 10751...   \n16  220000000  [{\"id\": 878, \"name\": \"Science Fiction\"}, {\"id\"...   \n17  380000000  [{\"id\": 12, \"name\": \"Adventure\"}, {\"id\": 28, \"...   \n18  225000000  [{\"id\": 28, \"name\": \"Action\"}, {\"id\": 35, \"nam...   \n19  250000000  [{\"id\": 28, \"name\": \"Action\"}, {\"id\": 12, \"nam...   \n20  215000000  [{\"id\": 28, \"name\": \"Action\"}, {\"id\": 12, \"nam...   \n21  200000000  [{\"id\": 28, \"name\": \"Action\"}, {\"id\": 12, \"nam...   \n22  250000000  [{\"id\": 12, \"name\": \"Adventure\"}, {\"id\": 14, \"...   \n23  180000000  [{\"id\": 12, \"name\": \"Adventure\"}, {\"id\": 14, \"...   \n24  207000000  [{\"id\": 12, \"name\": \"Adventure\"}, {\"id\": 18, \"...   \n25  200000000  [{\"id\": 18, \"name\": \"Drama\"}, {\"id\": 10749, \"n...   \n26  250000000  [{\"id\": 12, \"name\": \"Adventure\"}, {\"id\": 28, \"...   \n27  209000000  [{\"id\": 53, \"name\": \"Thriller\"}, {\"id\": 28, \"n...   \n28  150000000  [{\"id\": 28, \"name\": \"Action\"}, {\"id\": 12, \"nam...   \n29  200000000  [{\"id\": 28, \"name\": \"Action\"}, {\"id\": 12, \"nam...   \n\n                                             homepage      id  \\\n0                         http://www.avatarmovie.com/   19995   \n1        http://disney.go.com/disneypictures/pirates/     285   \n2         http://www.sonypictures.com/movies/spectre/  206647   \n3                  http://www.thedarkknightrises.com/   49026   \n4                http://movies.disney.com/john-carter   49529   \n5     http://www.sonypictures.com/movies/spider-man3/     559   \n6        http://disney.go.com/disneypictures/tangled/   38757   \n7   http://marvel.com/movies/movie/193/avengers_ag...   99861   \n8   http://harrypotter.warnerbros.com/harrypottera...     767   \n9        http://www.batmanvsupermandawnofjustice.com/  209112   \n10                            http://www.superman.com    1452   \n11  http://www.mgm.com/view/movie/234/Quantum-of-S...   10764   \n12       http://disney.go.com/disneypictures/pirates/      58   \n13              http://disney.go.com/the-lone-ranger/   57201   \n14                         http://www.manofsteel.com/   49521   \n15                                                NaN    2454   \n16                  http://marvel.com/avengers_movie/   24428   \n17  http://disney.go.com/pirates/index-on-stranger...    1865   \n18    http://www.sonypictures.com/movies/meninblack3/   41154   \n19                          http://www.thehobbit.com/  122917   \n20                 http://www.theamazingspiderman.com    1930   \n21                  http://www.robinhoodthemovie.com/   20662   \n22                          http://www.thehobbit.com/   57158   \n23  http://www.goldencompassmovie.com/index_german...    2268   \n24                                                NaN     254   \n25                        http://www.titanicmovie.com     597   \n26           http://marvel.com/captainamericapremiere  271110   \n27                                                NaN   44833   \n28                      http://www.jurassicworld.com/  135397   \n29                       http://www.skyfall-movie.com   37724   \n\n                                             keywords original_language  \\\n0   [{\"id\": 1463, \"name\": \"culture clash\"}, {\"id\":...                en   \n1   [{\"id\": 270, \"name\": \"ocean\"}, {\"id\": 726, \"na...                en   \n2   [{\"id\": 470, \"name\": \"spy\"}, {\"id\": 818, \"name...                en   \n3   [{\"id\": 849, \"name\": \"dc comics\"}, {\"id\": 853,...                en   \n4   [{\"id\": 818, \"name\": \"based on novel\"}, {\"id\":...                en   \n5   [{\"id\": 851, \"name\": \"dual identity\"}, {\"id\": ...                en   \n6   [{\"id\": 1562, \"name\": \"hostage\"}, {\"id\": 2343,...                en   \n7   [{\"id\": 8828, \"name\": \"marvel comic\"}, {\"id\": ...                en   \n8   [{\"id\": 616, \"name\": \"witch\"}, {\"id\": 2343, \"n...                en   \n9   [{\"id\": 849, \"name\": \"dc comics\"}, {\"id\": 7002...                en   \n10  [{\"id\": 83, \"name\": \"saving the world\"}, {\"id\"...                en   \n11  [{\"id\": 627, \"name\": \"killing\"}, {\"id\": 1568, ...                en   \n12  [{\"id\": 616, \"name\": \"witch\"}, {\"id\": 663, \"na...                en   \n13  [{\"id\": 1556, \"name\": \"texas\"}, {\"id\": 2673, \"...                en   \n14  [{\"id\": 83, \"name\": \"saving the world\"}, {\"id\"...                en   \n15  [{\"id\": 818, \"name\": \"based on novel\"}, {\"id\":...                en   \n16  [{\"id\": 242, \"name\": \"new york\"}, {\"id\": 5539,...                en   \n17  [{\"id\": 658, \"name\": \"sea\"}, {\"id\": 1316, \"nam...                en   \n18  [{\"id\": 4379, \"name\": \"time travel\"}, {\"id\": 5...                en   \n19  [{\"id\": 417, \"name\": \"corruption\"}, {\"id\": 603...                en   \n20  [{\"id\": 1872, \"name\": \"loss of father\"}, {\"id\"...                en   \n21  [{\"id\": 4147, \"name\": \"robin hood\"}, {\"id\": 43...                en   \n22  [{\"id\": 603, \"name\": \"elves\"}, {\"id\": 604, \"na...                en   \n23  [{\"id\": 392, \"name\": \"england\"}, {\"id\": 1461, ...                en   \n24  [{\"id\": 774, \"name\": \"film business\"}, {\"id\": ...                en   \n25  [{\"id\": 2580, \"name\": \"shipwreck\"}, {\"id\": 298...                en   \n26  [{\"id\": 393, \"name\": \"civil war\"}, {\"id\": 6091...                en   \n27  [{\"id\": 1721, \"name\": \"fight\"}, {\"id\": 4410, \"...                en   \n28  [{\"id\": 1299, \"name\": \"monster\"}, {\"id\": 1718,...                en   \n29  [{\"id\": 470, \"name\": \"spy\"}, {\"id\": 4289, \"nam...                en   \n\n                                 original_title  \\\n0                                        Avatar   \n1      Pirates of the Caribbean: At World's End   \n2                                       Spectre   \n3                         The Dark Knight Rises   \n4                                   John Carter   \n5                                  Spider-Man 3   \n6                                       Tangled   \n7                       Avengers: Age of Ultron   \n8        Harry Potter and the Half-Blood Prince   \n9            Batman v Superman: Dawn of Justice   \n10                             Superman Returns   \n11                            Quantum of Solace   \n12   Pirates of the Caribbean: Dead Man's Chest   \n13                              The Lone Ranger   \n14                                 Man of Steel   \n15     The Chronicles of Narnia: Prince Caspian   \n16                                 The Avengers   \n17  Pirates of the Caribbean: On Stranger Tides   \n18                               Men in Black 3   \n19    The Hobbit: The Battle of the Five Armies   \n20                       The Amazing Spider-Man   \n21                                   Robin Hood   \n22          The Hobbit: The Desolation of Smaug   \n23                           The Golden Compass   \n24                                    King Kong   \n25                                      Titanic   \n26                   Captain America: Civil War   \n27                                   Battleship   \n28                               Jurassic World   \n29                                      Skyfall   \n\n                                             overview  popularity  \\\n0   In the 22nd century, a paraplegic Marine is di...  150.437577   \n1   Captain Barbossa, long believed to be dead, ha...  139.082615   \n2   A cryptic message from Bond’s past sends him o...  107.376788   \n3   Following the death of District Attorney Harve...  112.312950   \n4   John Carter is a war-weary, former military ca...   43.926995   \n5   The seemingly invincible Spider-Man goes up ag...  115.699814   \n6   When the kingdom's most wanted-and most charmi...   48.681969   \n7   When Tony Stark tries to jumpstart a dormant p...  134.279229   \n8   As Harry begins his sixth year at Hogwarts, he...   98.885637   \n9   Fearing the actions of a god-like Super Hero l...  155.790452   \n10  Superman returns to discover his 5-year absenc...   57.925623   \n11  Quantum of Solace continues the adventures of ...  107.928811   \n12  Captain Jack Sparrow works his way out of a bl...  145.847379   \n13  The Texas Rangers chase down a gang of outlaws...   49.046956   \n14  A young boy learns that he has extraordinary p...   99.398009   \n15  One year after their incredible adventures in ...   53.978602   \n16  When an unexpected enemy emerges and threatens...  144.448633   \n17  Captain Jack Sparrow crosses paths with a woma...  135.413856   \n18  Agents J (Will Smith) and K (Tommy Lee Jones) ...   52.035179   \n19  Immediately after the events of The Desolation...  120.965743   \n20  Peter Parker is an outcast high schooler aband...   89.866276   \n21  When soldier Robin happens upon the dying Robe...   37.668301   \n22  The Dwarves, Bilbo and Gandalf have successful...   94.370564   \n23  After overhearing a shocking secret, precociou...   42.990906   \n24  In 1933 New York, an overly ambitious movie pr...   61.226010   \n25  84 years later, a 101-year-old woman named Ros...  100.025899   \n26  Following the events of Age of Ultron, the col...  198.372395   \n27  When mankind beams a radio signal into space, ...   64.928382   \n28  Twenty-two years after the events of Jurassic ...  418.708552   \n29  When Bond's latest assignment goes gravely wro...   93.004993   \n\n                                 production_companies  \\\n0   [{\"name\": \"Ingenious Film Partners\", \"id\": 289...   \n1   [{\"name\": \"Walt Disney Pictures\", \"id\": 2}, {\"...   \n2   [{\"name\": \"Columbia Pictures\", \"id\": 5}, {\"nam...   \n3   [{\"name\": \"Legendary Pictures\", \"id\": 923}, {\"...   \n4         [{\"name\": \"Walt Disney Pictures\", \"id\": 2}]   \n5   [{\"name\": \"Columbia Pictures\", \"id\": 5}, {\"nam...   \n6   [{\"name\": \"Walt Disney Pictures\", \"id\": 2}, {\"...   \n7   [{\"name\": \"Marvel Studios\", \"id\": 420}, {\"name...   \n8   [{\"name\": \"Warner Bros.\", \"id\": 6194}, {\"name\"...   \n9   [{\"name\": \"DC Comics\", \"id\": 429}, {\"name\": \"A...   \n10  [{\"name\": \"DC Comics\", \"id\": 429}, {\"name\": \"L...   \n11          [{\"name\": \"Eon Productions\", \"id\": 7576}]   \n12  [{\"name\": \"Walt Disney Pictures\", \"id\": 2}, {\"...   \n13  [{\"name\": \"Walt Disney Pictures\", \"id\": 2}, {\"...   \n14  [{\"name\": \"Legendary Pictures\", \"id\": 923}, {\"...   \n15  [{\"name\": \"Walt Disney\", \"id\": 5888}, {\"name\":...   \n16  [{\"name\": \"Paramount Pictures\", \"id\": 4}, {\"na...   \n17  [{\"name\": \"Walt Disney Pictures\", \"id\": 2}, {\"...   \n18  [{\"name\": \"Amblin Entertainment\", \"id\": 56}, {...   \n19  [{\"name\": \"WingNut Films\", \"id\": 11}, {\"name\":...   \n20  [{\"name\": \"Columbia Pictures\", \"id\": 5}, {\"nam...   \n21  [{\"name\": \"Imagine Entertainment\", \"id\": 23}, ...   \n22  [{\"name\": \"WingNut Films\", \"id\": 11}, {\"name\":...   \n23  [{\"name\": \"New Line Cinema\", \"id\": 12}, {\"name...   \n24  [{\"name\": \"WingNut Films\", \"id\": 11}, {\"name\":...   \n25  [{\"name\": \"Paramount Pictures\", \"id\": 4}, {\"na...   \n26  [{\"name\": \"Studio Babelsberg\", \"id\": 264}, {\"n...   \n27  [{\"name\": \"Universal Pictures\", \"id\": 33}, {\"n...   \n28  [{\"name\": \"Universal Studios\", \"id\": 13}, {\"na...   \n29           [{\"name\": \"Columbia Pictures\", \"id\": 5}]   \n\n                                 production_countries release_date  \\\n0   [{\"iso_3166_1\": \"US\", \"name\": \"United States o...   2009-12-10   \n1   [{\"iso_3166_1\": \"US\", \"name\": \"United States o...   2007-05-19   \n2   [{\"iso_3166_1\": \"GB\", \"name\": \"United Kingdom\"...   2015-10-26   \n3   [{\"iso_3166_1\": \"US\", \"name\": \"United States o...   2012-07-16   \n4   [{\"iso_3166_1\": \"US\", \"name\": \"United States o...   2012-03-07   \n5   [{\"iso_3166_1\": \"US\", \"name\": \"United States o...   2007-05-01   \n6   [{\"iso_3166_1\": \"US\", \"name\": \"United States o...   2010-11-24   \n7   [{\"iso_3166_1\": \"US\", \"name\": \"United States o...   2015-04-22   \n8   [{\"iso_3166_1\": \"GB\", \"name\": \"United Kingdom\"...   2009-07-07   \n9   [{\"iso_3166_1\": \"US\", \"name\": \"United States o...   2016-03-23   \n10  [{\"iso_3166_1\": \"US\", \"name\": \"United States o...   2006-06-28   \n11  [{\"iso_3166_1\": \"GB\", \"name\": \"United Kingdom\"...   2008-10-30   \n12  [{\"iso_3166_1\": \"JM\", \"name\": \"Jamaica\"}, {\"is...   2006-06-20   \n13  [{\"iso_3166_1\": \"US\", \"name\": \"United States o...   2013-07-03   \n14  [{\"iso_3166_1\": \"GB\", \"name\": \"United Kingdom\"...   2013-06-12   \n15  [{\"iso_3166_1\": \"CZ\", \"name\": \"Czech Republic\"...   2008-05-15   \n16  [{\"iso_3166_1\": \"US\", \"name\": \"United States o...   2012-04-25   \n17  [{\"iso_3166_1\": \"US\", \"name\": \"United States o...   2011-05-14   \n18  [{\"iso_3166_1\": \"US\", \"name\": \"United States o...   2012-05-23   \n19  [{\"iso_3166_1\": \"NZ\", \"name\": \"New Zealand\"}, ...   2014-12-10   \n20  [{\"iso_3166_1\": \"US\", \"name\": \"United States o...   2012-06-27   \n21  [{\"iso_3166_1\": \"GB\", \"name\": \"United Kingdom\"...   2010-05-12   \n22  [{\"iso_3166_1\": \"NZ\", \"name\": \"New Zealand\"}, ...   2013-12-11   \n23  [{\"iso_3166_1\": \"GB\", \"name\": \"United Kingdom\"...   2007-12-04   \n24  [{\"iso_3166_1\": \"NZ\", \"name\": \"New Zealand\"}, ...   2005-12-14   \n25  [{\"iso_3166_1\": \"US\", \"name\": \"United States o...   1997-11-18   \n26  [{\"iso_3166_1\": \"US\", \"name\": \"United States o...   2016-04-27   \n27  [{\"iso_3166_1\": \"US\", \"name\": \"United States o...   2012-04-11   \n28  [{\"iso_3166_1\": \"US\", \"name\": \"United States o...   2015-06-09   \n29  [{\"iso_3166_1\": \"GB\", \"name\": \"United Kingdom\"...   2012-10-25   \n\n       revenue  runtime                                   spoken_languages  \\\n0   2787965087    162.0  [{\"iso_639_1\": \"en\", \"name\": \"English\"}, {\"iso...   \n1    961000000    169.0           [{\"iso_639_1\": \"en\", \"name\": \"English\"}]   \n2    880674609    148.0  [{\"iso_639_1\": \"fr\", \"name\": \"Fran\\u00e7ais\"},...   \n3   1084939099    165.0           [{\"iso_639_1\": \"en\", \"name\": \"English\"}]   \n4    284139100    132.0           [{\"iso_639_1\": \"en\", \"name\": \"English\"}]   \n5    890871626    139.0  [{\"iso_639_1\": \"en\", \"name\": \"English\"}, {\"iso...   \n6    591794936    100.0           [{\"iso_639_1\": \"en\", \"name\": \"English\"}]   \n7   1405403694    141.0           [{\"iso_639_1\": \"en\", \"name\": \"English\"}]   \n8    933959197    153.0           [{\"iso_639_1\": \"en\", \"name\": \"English\"}]   \n9    873260194    151.0           [{\"iso_639_1\": \"en\", \"name\": \"English\"}]   \n10   391081192    154.0  [{\"iso_639_1\": \"en\", \"name\": \"English\"}, {\"iso...   \n11   586090727    106.0  [{\"iso_639_1\": \"en\", \"name\": \"English\"}, {\"iso...   \n12  1065659812    151.0  [{\"iso_639_1\": \"en\", \"name\": \"English\"}, {\"iso...   \n13    89289910    149.0           [{\"iso_639_1\": \"en\", \"name\": \"English\"}]   \n14   662845518    143.0           [{\"iso_639_1\": \"en\", \"name\": \"English\"}]   \n15   419651413    150.0           [{\"iso_639_1\": \"en\", \"name\": \"English\"}]   \n16  1519557910    143.0           [{\"iso_639_1\": \"en\", \"name\": \"English\"}]   \n17  1045713802    136.0  [{\"iso_639_1\": \"en\", \"name\": \"English\"}, {\"iso...   \n18   624026776    106.0           [{\"iso_639_1\": \"en\", \"name\": \"English\"}]   \n19   956019788    144.0           [{\"iso_639_1\": \"en\", \"name\": \"English\"}]   \n20   752215857    136.0           [{\"iso_639_1\": \"en\", \"name\": \"English\"}]   \n21   310669540    140.0  [{\"iso_639_1\": \"en\", \"name\": \"English\"}, {\"iso...   \n22   958400000    161.0           [{\"iso_639_1\": \"en\", \"name\": \"English\"}]   \n23   372234864    113.0  [{\"iso_639_1\": \"is\", \"name\": \"\\u00cdslenska\"},...   \n24   550000000    187.0           [{\"iso_639_1\": \"en\", \"name\": \"English\"}]   \n25  1845034188    194.0  [{\"iso_639_1\": \"en\", \"name\": \"English\"}, {\"iso...   \n26  1153304495    147.0  [{\"iso_639_1\": \"ro\", \"name\": \"Rom\\u00e2n\\u0103...   \n27   303025485    131.0  [{\"iso_639_1\": \"en\", \"name\": \"English\"}, {\"iso...   \n28  1513528810    124.0           [{\"iso_639_1\": \"en\", \"name\": \"English\"}]   \n29  1108561013    143.0           [{\"iso_639_1\": \"en\", \"name\": \"English\"}]   \n\n      status                                            tagline  \\\n0   Released                        Enter the World of Pandora.   \n1   Released     At the end of the world, the adventure begins.   \n2   Released                              A Plan No One Escapes   \n3   Released                                    The Legend Ends   \n4   Released               Lost in our world, found in another.   \n5   Released                                 The battle within.   \n6   Released           They're taking adventure to new lengths.   \n7   Released                                A New Age Has Come.   \n8   Released                              Dark Secrets Revealed   \n9   Released                                 Justice or revenge   \n10  Released                                                NaN   \n11  Released      For love, for hate, for justice, for revenge.   \n12  Released                                      Jack is back!   \n13  Released                            Never Take Off the Mask   \n14  Released               You will believe that a man can fly.   \n15  Released                               Hope has a new face.   \n16  Released                            Some assembly required.   \n17  Released                        Live Forever Or Die Trying.   \n18  Released                          They are back... in time.   \n19  Released  Witness the defining chapter of the Middle-Ear...   \n20  Released                           The untold story begins.   \n21  Released     Rise and rise again, until lambs become lions.   \n22  Released  Beyond darkness... beyond desolation... lies t...   \n23  Released  There are worlds beyond our own - the compass ...   \n24  Released                    The eighth wonder of the world.   \n25  Released          Nothing on Earth could come between them.   \n26  Released                                    Divided We Fall   \n27  Released                 The Battle for Earth Begins at Sea   \n28  Released                                  The park is open.   \n29  Released                                Think on your sins.   \n\n                                          title  vote_average  vote_count  \n0                                        Avatar           7.2       11800  \n1      Pirates of the Caribbean: At World's End           6.9        4500  \n2                                       Spectre           6.3        4466  \n3                         The Dark Knight Rises           7.6        9106  \n4                                   John Carter           6.1        2124  \n5                                  Spider-Man 3           5.9        3576  \n6                                       Tangled           7.4        3330  \n7                       Avengers: Age of Ultron           7.3        6767  \n8        Harry Potter and the Half-Blood Prince           7.4        5293  \n9            Batman v Superman: Dawn of Justice           5.7        7004  \n10                             Superman Returns           5.4        1400  \n11                            Quantum of Solace           6.1        2965  \n12   Pirates of the Caribbean: Dead Man's Chest           7.0        5246  \n13                              The Lone Ranger           5.9        2311  \n14                                 Man of Steel           6.5        6359  \n15     The Chronicles of Narnia: Prince Caspian           6.3        1630  \n16                                 The Avengers           7.4       11776  \n17  Pirates of the Caribbean: On Stranger Tides           6.4        4948  \n18                               Men in Black 3           6.2        4160  \n19    The Hobbit: The Battle of the Five Armies           7.1        4760  \n20                       The Amazing Spider-Man           6.5        6586  \n21                                   Robin Hood           6.2        1398  \n22          The Hobbit: The Desolation of Smaug           7.6        4524  \n23                           The Golden Compass           5.8        1303  \n24                                    King Kong           6.6        2337  \n25                                      Titanic           7.5        7562  \n26                   Captain America: Civil War           7.1        7241  \n27                                   Battleship           5.5        2114  \n28                               Jurassic World           6.5        8662  \n29                                      Skyfall           6.9        7604  ",
            "text/html": "<div>\n<style scoped>\n    .dataframe tbody tr th:only-of-type {\n        vertical-align: middle;\n    }\n\n    .dataframe tbody tr th {\n        vertical-align: top;\n    }\n\n    .dataframe thead th {\n        text-align: right;\n    }\n</style>\n<table border=\"1\" class=\"dataframe\">\n  <thead>\n    <tr style=\"text-align: right;\">\n      <th></th>\n      <th>budget</th>\n      <th>genres</th>\n      <th>homepage</th>\n      <th>id</th>\n      <th>keywords</th>\n      <th>original_language</th>\n      <th>original_title</th>\n      <th>overview</th>\n      <th>popularity</th>\n      <th>production_companies</th>\n      <th>production_countries</th>\n      <th>release_date</th>\n      <th>revenue</th>\n      <th>runtime</th>\n      <th>spoken_languages</th>\n      <th>status</th>\n      <th>tagline</th>\n      <th>title</th>\n      <th>vote_average</th>\n      <th>vote_count</th>\n    </tr>\n  </thead>\n  <tbody>\n    <tr>\n      <th>0</th>\n      <td>237000000</td>\n      <td>[{\"id\": 28, \"name\": \"Action\"}, {\"id\": 12, \"nam...</td>\n      <td>http://www.avatarmovie.com/</td>\n      <td>19995</td>\n      <td>[{\"id\": 1463, \"name\": \"culture clash\"}, {\"id\":...</td>\n      <td>en</td>\n      <td>Avatar</td>\n      <td>In the 22nd century, a paraplegic Marine is di...</td>\n      <td>150.437577</td>\n      <td>[{\"name\": \"Ingenious Film Partners\", \"id\": 289...</td>\n      <td>[{\"iso_3166_1\": \"US\", \"name\": \"United States o...</td>\n      <td>2009-12-10</td>\n      <td>2787965087</td>\n      <td>162.0</td>\n      <td>[{\"iso_639_1\": \"en\", \"name\": \"English\"}, {\"iso...</td>\n      <td>Released</td>\n      <td>Enter the World of Pandora.</td>\n      <td>Avatar</td>\n      <td>7.2</td>\n      <td>11800</td>\n    </tr>\n    <tr>\n      <th>1</th>\n      <td>300000000</td>\n      <td>[{\"id\": 12, \"name\": \"Adventure\"}, {\"id\": 14, \"...</td>\n      <td>http://disney.go.com/disneypictures/pirates/</td>\n      <td>285</td>\n      <td>[{\"id\": 270, \"name\": \"ocean\"}, {\"id\": 726, \"na...</td>\n      <td>en</td>\n      <td>Pirates of the Caribbean: At World's End</td>\n      <td>Captain Barbossa, long believed to be dead, ha...</td>\n      <td>139.082615</td>\n      <td>[{\"name\": \"Walt Disney Pictures\", \"id\": 2}, {\"...</td>\n      <td>[{\"iso_3166_1\": \"US\", \"name\": \"United States o...</td>\n      <td>2007-05-19</td>\n      <td>961000000</td>\n      <td>169.0</td>\n      <td>[{\"iso_639_1\": \"en\", \"name\": \"English\"}]</td>\n      <td>Released</td>\n      <td>At the end of the world, the adventure begins.</td>\n      <td>Pirates of the Caribbean: At World's End</td>\n      <td>6.9</td>\n      <td>4500</td>\n    </tr>\n    <tr>\n      <th>2</th>\n      <td>245000000</td>\n      <td>[{\"id\": 28, \"name\": \"Action\"}, {\"id\": 12, \"nam...</td>\n      <td>http://www.sonypictures.com/movies/spectre/</td>\n      <td>206647</td>\n      <td>[{\"id\": 470, \"name\": \"spy\"}, {\"id\": 818, \"name...</td>\n      <td>en</td>\n      <td>Spectre</td>\n      <td>A cryptic message from Bond’s past sends him o...</td>\n      <td>107.376788</td>\n      <td>[{\"name\": \"Columbia Pictures\", \"id\": 5}, {\"nam...</td>\n      <td>[{\"iso_3166_1\": \"GB\", \"name\": \"United Kingdom\"...</td>\n      <td>2015-10-26</td>\n      <td>880674609</td>\n      <td>148.0</td>\n      <td>[{\"iso_639_1\": \"fr\", \"name\": \"Fran\\u00e7ais\"},...</td>\n      <td>Released</td>\n      <td>A Plan No One Escapes</td>\n      <td>Spectre</td>\n      <td>6.3</td>\n      <td>4466</td>\n    </tr>\n    <tr>\n      <th>3</th>\n      <td>250000000</td>\n      <td>[{\"id\": 28, \"name\": \"Action\"}, {\"id\": 80, \"nam...</td>\n      <td>http://www.thedarkknightrises.com/</td>\n      <td>49026</td>\n      <td>[{\"id\": 849, \"name\": \"dc comics\"}, {\"id\": 853,...</td>\n      <td>en</td>\n      <td>The Dark Knight Rises</td>\n      <td>Following the death of District Attorney Harve...</td>\n      <td>112.312950</td>\n      <td>[{\"name\": \"Legendary Pictures\", \"id\": 923}, {\"...</td>\n      <td>[{\"iso_3166_1\": \"US\", \"name\": \"United States o...</td>\n      <td>2012-07-16</td>\n      <td>1084939099</td>\n      <td>165.0</td>\n      <td>[{\"iso_639_1\": \"en\", \"name\": \"English\"}]</td>\n      <td>Released</td>\n      <td>The Legend Ends</td>\n      <td>The Dark Knight Rises</td>\n      <td>7.6</td>\n      <td>9106</td>\n    </tr>\n    <tr>\n      <th>4</th>\n      <td>260000000</td>\n      <td>[{\"id\": 28, \"name\": \"Action\"}, {\"id\": 12, \"nam...</td>\n      <td>http://movies.disney.com/john-carter</td>\n      <td>49529</td>\n      <td>[{\"id\": 818, \"name\": \"based on novel\"}, {\"id\":...</td>\n      <td>en</td>\n      <td>John Carter</td>\n      <td>John Carter is a war-weary, former military ca...</td>\n      <td>43.926995</td>\n      <td>[{\"name\": \"Walt Disney Pictures\", \"id\": 2}]</td>\n      <td>[{\"iso_3166_1\": \"US\", \"name\": \"United States o...</td>\n      <td>2012-03-07</td>\n      <td>284139100</td>\n      <td>132.0</td>\n      <td>[{\"iso_639_1\": \"en\", \"name\": \"English\"}]</td>\n      <td>Released</td>\n      <td>Lost in our world, found in another.</td>\n      <td>John Carter</td>\n      <td>6.1</td>\n      <td>2124</td>\n    </tr>\n    <tr>\n      <th>5</th>\n      <td>258000000</td>\n      <td>[{\"id\": 14, \"name\": \"Fantasy\"}, {\"id\": 28, \"na...</td>\n      <td>http://www.sonypictures.com/movies/spider-man3/</td>\n      <td>559</td>\n      <td>[{\"id\": 851, \"name\": \"dual identity\"}, {\"id\": ...</td>\n      <td>en</td>\n      <td>Spider-Man 3</td>\n      <td>The seemingly invincible Spider-Man goes up ag...</td>\n      <td>115.699814</td>\n      <td>[{\"name\": \"Columbia Pictures\", \"id\": 5}, {\"nam...</td>\n      <td>[{\"iso_3166_1\": \"US\", \"name\": \"United States o...</td>\n      <td>2007-05-01</td>\n      <td>890871626</td>\n      <td>139.0</td>\n      <td>[{\"iso_639_1\": \"en\", \"name\": \"English\"}, {\"iso...</td>\n      <td>Released</td>\n      <td>The battle within.</td>\n      <td>Spider-Man 3</td>\n      <td>5.9</td>\n      <td>3576</td>\n    </tr>\n    <tr>\n      <th>6</th>\n      <td>260000000</td>\n      <td>[{\"id\": 16, \"name\": \"Animation\"}, {\"id\": 10751...</td>\n      <td>http://disney.go.com/disneypictures/tangled/</td>\n      <td>38757</td>\n      <td>[{\"id\": 1562, \"name\": \"hostage\"}, {\"id\": 2343,...</td>\n      <td>en</td>\n      <td>Tangled</td>\n      <td>When the kingdom's most wanted-and most charmi...</td>\n      <td>48.681969</td>\n      <td>[{\"name\": \"Walt Disney Pictures\", \"id\": 2}, {\"...</td>\n      <td>[{\"iso_3166_1\": \"US\", \"name\": \"United States o...</td>\n      <td>2010-11-24</td>\n      <td>591794936</td>\n      <td>100.0</td>\n      <td>[{\"iso_639_1\": \"en\", \"name\": \"English\"}]</td>\n      <td>Released</td>\n      <td>They're taking adventure to new lengths.</td>\n      <td>Tangled</td>\n      <td>7.4</td>\n      <td>3330</td>\n    </tr>\n    <tr>\n      <th>7</th>\n      <td>280000000</td>\n      <td>[{\"id\": 28, \"name\": \"Action\"}, {\"id\": 12, \"nam...</td>\n      <td>http://marvel.com/movies/movie/193/avengers_ag...</td>\n      <td>99861</td>\n      <td>[{\"id\": 8828, \"name\": \"marvel comic\"}, {\"id\": ...</td>\n      <td>en</td>\n      <td>Avengers: Age of Ultron</td>\n      <td>When Tony Stark tries to jumpstart a dormant p...</td>\n      <td>134.279229</td>\n      <td>[{\"name\": \"Marvel Studios\", \"id\": 420}, {\"name...</td>\n      <td>[{\"iso_3166_1\": \"US\", \"name\": \"United States o...</td>\n      <td>2015-04-22</td>\n      <td>1405403694</td>\n      <td>141.0</td>\n      <td>[{\"iso_639_1\": \"en\", \"name\": \"English\"}]</td>\n      <td>Released</td>\n      <td>A New Age Has Come.</td>\n      <td>Avengers: Age of Ultron</td>\n      <td>7.3</td>\n      <td>6767</td>\n    </tr>\n    <tr>\n      <th>8</th>\n      <td>250000000</td>\n      <td>[{\"id\": 12, \"name\": \"Adventure\"}, {\"id\": 14, \"...</td>\n      <td>http://harrypotter.warnerbros.com/harrypottera...</td>\n      <td>767</td>\n      <td>[{\"id\": 616, \"name\": \"witch\"}, {\"id\": 2343, \"n...</td>\n      <td>en</td>\n      <td>Harry Potter and the Half-Blood Prince</td>\n      <td>As Harry begins his sixth year at Hogwarts, he...</td>\n      <td>98.885637</td>\n      <td>[{\"name\": \"Warner Bros.\", \"id\": 6194}, {\"name\"...</td>\n      <td>[{\"iso_3166_1\": \"GB\", \"name\": \"United Kingdom\"...</td>\n      <td>2009-07-07</td>\n      <td>933959197</td>\n      <td>153.0</td>\n      <td>[{\"iso_639_1\": \"en\", \"name\": \"English\"}]</td>\n      <td>Released</td>\n      <td>Dark Secrets Revealed</td>\n      <td>Harry Potter and the Half-Blood Prince</td>\n      <td>7.4</td>\n      <td>5293</td>\n    </tr>\n    <tr>\n      <th>9</th>\n      <td>250000000</td>\n      <td>[{\"id\": 28, \"name\": \"Action\"}, {\"id\": 12, \"nam...</td>\n      <td>http://www.batmanvsupermandawnofjustice.com/</td>\n      <td>209112</td>\n      <td>[{\"id\": 849, \"name\": \"dc comics\"}, {\"id\": 7002...</td>\n      <td>en</td>\n      <td>Batman v Superman: Dawn of Justice</td>\n      <td>Fearing the actions of a god-like Super Hero l...</td>\n      <td>155.790452</td>\n      <td>[{\"name\": \"DC Comics\", \"id\": 429}, {\"name\": \"A...</td>\n      <td>[{\"iso_3166_1\": \"US\", \"name\": \"United States o...</td>\n      <td>2016-03-23</td>\n      <td>873260194</td>\n      <td>151.0</td>\n      <td>[{\"iso_639_1\": \"en\", \"name\": \"English\"}]</td>\n      <td>Released</td>\n      <td>Justice or revenge</td>\n      <td>Batman v Superman: Dawn of Justice</td>\n      <td>5.7</td>\n      <td>7004</td>\n    </tr>\n    <tr>\n      <th>10</th>\n      <td>270000000</td>\n      <td>[{\"id\": 12, \"name\": \"Adventure\"}, {\"id\": 14, \"...</td>\n      <td>http://www.superman.com</td>\n      <td>1452</td>\n      <td>[{\"id\": 83, \"name\": \"saving the world\"}, {\"id\"...</td>\n      <td>en</td>\n      <td>Superman Returns</td>\n      <td>Superman returns to discover his 5-year absenc...</td>\n      <td>57.925623</td>\n      <td>[{\"name\": \"DC Comics\", \"id\": 429}, {\"name\": \"L...</td>\n      <td>[{\"iso_3166_1\": \"US\", \"name\": \"United States o...</td>\n      <td>2006-06-28</td>\n      <td>391081192</td>\n      <td>154.0</td>\n      <td>[{\"iso_639_1\": \"en\", \"name\": \"English\"}, {\"iso...</td>\n      <td>Released</td>\n      <td>NaN</td>\n      <td>Superman Returns</td>\n      <td>5.4</td>\n      <td>1400</td>\n    </tr>\n    <tr>\n      <th>11</th>\n      <td>200000000</td>\n      <td>[{\"id\": 12, \"name\": \"Adventure\"}, {\"id\": 28, \"...</td>\n      <td>http://www.mgm.com/view/movie/234/Quantum-of-S...</td>\n      <td>10764</td>\n      <td>[{\"id\": 627, \"name\": \"killing\"}, {\"id\": 1568, ...</td>\n      <td>en</td>\n      <td>Quantum of Solace</td>\n      <td>Quantum of Solace continues the adventures of ...</td>\n      <td>107.928811</td>\n      <td>[{\"name\": \"Eon Productions\", \"id\": 7576}]</td>\n      <td>[{\"iso_3166_1\": \"GB\", \"name\": \"United Kingdom\"...</td>\n      <td>2008-10-30</td>\n      <td>586090727</td>\n      <td>106.0</td>\n      <td>[{\"iso_639_1\": \"en\", \"name\": \"English\"}, {\"iso...</td>\n      <td>Released</td>\n      <td>For love, for hate, for justice, for revenge.</td>\n      <td>Quantum of Solace</td>\n      <td>6.1</td>\n      <td>2965</td>\n    </tr>\n    <tr>\n      <th>12</th>\n      <td>200000000</td>\n      <td>[{\"id\": 12, \"name\": \"Adventure\"}, {\"id\": 14, \"...</td>\n      <td>http://disney.go.com/disneypictures/pirates/</td>\n      <td>58</td>\n      <td>[{\"id\": 616, \"name\": \"witch\"}, {\"id\": 663, \"na...</td>\n      <td>en</td>\n      <td>Pirates of the Caribbean: Dead Man's Chest</td>\n      <td>Captain Jack Sparrow works his way out of a bl...</td>\n      <td>145.847379</td>\n      <td>[{\"name\": \"Walt Disney Pictures\", \"id\": 2}, {\"...</td>\n      <td>[{\"iso_3166_1\": \"JM\", \"name\": \"Jamaica\"}, {\"is...</td>\n      <td>2006-06-20</td>\n      <td>1065659812</td>\n      <td>151.0</td>\n      <td>[{\"iso_639_1\": \"en\", \"name\": \"English\"}, {\"iso...</td>\n      <td>Released</td>\n      <td>Jack is back!</td>\n      <td>Pirates of the Caribbean: Dead Man's Chest</td>\n      <td>7.0</td>\n      <td>5246</td>\n    </tr>\n    <tr>\n      <th>13</th>\n      <td>255000000</td>\n      <td>[{\"id\": 28, \"name\": \"Action\"}, {\"id\": 12, \"nam...</td>\n      <td>http://disney.go.com/the-lone-ranger/</td>\n      <td>57201</td>\n      <td>[{\"id\": 1556, \"name\": \"texas\"}, {\"id\": 2673, \"...</td>\n      <td>en</td>\n      <td>The Lone Ranger</td>\n      <td>The Texas Rangers chase down a gang of outlaws...</td>\n      <td>49.046956</td>\n      <td>[{\"name\": \"Walt Disney Pictures\", \"id\": 2}, {\"...</td>\n      <td>[{\"iso_3166_1\": \"US\", \"name\": \"United States o...</td>\n      <td>2013-07-03</td>\n      <td>89289910</td>\n      <td>149.0</td>\n      <td>[{\"iso_639_1\": \"en\", \"name\": \"English\"}]</td>\n      <td>Released</td>\n      <td>Never Take Off the Mask</td>\n      <td>The Lone Ranger</td>\n      <td>5.9</td>\n      <td>2311</td>\n    </tr>\n    <tr>\n      <th>14</th>\n      <td>225000000</td>\n      <td>[{\"id\": 28, \"name\": \"Action\"}, {\"id\": 12, \"nam...</td>\n      <td>http://www.manofsteel.com/</td>\n      <td>49521</td>\n      <td>[{\"id\": 83, \"name\": \"saving the world\"}, {\"id\"...</td>\n      <td>en</td>\n      <td>Man of Steel</td>\n      <td>A young boy learns that he has extraordinary p...</td>\n      <td>99.398009</td>\n      <td>[{\"name\": \"Legendary Pictures\", \"id\": 923}, {\"...</td>\n      <td>[{\"iso_3166_1\": \"GB\", \"name\": \"United Kingdom\"...</td>\n      <td>2013-06-12</td>\n      <td>662845518</td>\n      <td>143.0</td>\n      <td>[{\"iso_639_1\": \"en\", \"name\": \"English\"}]</td>\n      <td>Released</td>\n      <td>You will believe that a man can fly.</td>\n      <td>Man of Steel</td>\n      <td>6.5</td>\n      <td>6359</td>\n    </tr>\n    <tr>\n      <th>15</th>\n      <td>225000000</td>\n      <td>[{\"id\": 12, \"name\": \"Adventure\"}, {\"id\": 10751...</td>\n      <td>NaN</td>\n      <td>2454</td>\n      <td>[{\"id\": 818, \"name\": \"based on novel\"}, {\"id\":...</td>\n      <td>en</td>\n      <td>The Chronicles of Narnia: Prince Caspian</td>\n      <td>One year after their incredible adventures in ...</td>\n      <td>53.978602</td>\n      <td>[{\"name\": \"Walt Disney\", \"id\": 5888}, {\"name\":...</td>\n      <td>[{\"iso_3166_1\": \"CZ\", \"name\": \"Czech Republic\"...</td>\n      <td>2008-05-15</td>\n      <td>419651413</td>\n      <td>150.0</td>\n      <td>[{\"iso_639_1\": \"en\", \"name\": \"English\"}]</td>\n      <td>Released</td>\n      <td>Hope has a new face.</td>\n      <td>The Chronicles of Narnia: Prince Caspian</td>\n      <td>6.3</td>\n      <td>1630</td>\n    </tr>\n    <tr>\n      <th>16</th>\n      <td>220000000</td>\n      <td>[{\"id\": 878, \"name\": \"Science Fiction\"}, {\"id\"...</td>\n      <td>http://marvel.com/avengers_movie/</td>\n      <td>24428</td>\n      <td>[{\"id\": 242, \"name\": \"new york\"}, {\"id\": 5539,...</td>\n      <td>en</td>\n      <td>The Avengers</td>\n      <td>When an unexpected enemy emerges and threatens...</td>\n      <td>144.448633</td>\n      <td>[{\"name\": \"Paramount Pictures\", \"id\": 4}, {\"na...</td>\n      <td>[{\"iso_3166_1\": \"US\", \"name\": \"United States o...</td>\n      <td>2012-04-25</td>\n      <td>1519557910</td>\n      <td>143.0</td>\n      <td>[{\"iso_639_1\": \"en\", \"name\": \"English\"}]</td>\n      <td>Released</td>\n      <td>Some assembly required.</td>\n      <td>The Avengers</td>\n      <td>7.4</td>\n      <td>11776</td>\n    </tr>\n    <tr>\n      <th>17</th>\n      <td>380000000</td>\n      <td>[{\"id\": 12, \"name\": \"Adventure\"}, {\"id\": 28, \"...</td>\n      <td>http://disney.go.com/pirates/index-on-stranger...</td>\n      <td>1865</td>\n      <td>[{\"id\": 658, \"name\": \"sea\"}, {\"id\": 1316, \"nam...</td>\n      <td>en</td>\n      <td>Pirates of the Caribbean: On Stranger Tides</td>\n      <td>Captain Jack Sparrow crosses paths with a woma...</td>\n      <td>135.413856</td>\n      <td>[{\"name\": \"Walt Disney Pictures\", \"id\": 2}, {\"...</td>\n      <td>[{\"iso_3166_1\": \"US\", \"name\": \"United States o...</td>\n      <td>2011-05-14</td>\n      <td>1045713802</td>\n      <td>136.0</td>\n      <td>[{\"iso_639_1\": \"en\", \"name\": \"English\"}, {\"iso...</td>\n      <td>Released</td>\n      <td>Live Forever Or Die Trying.</td>\n      <td>Pirates of the Caribbean: On Stranger Tides</td>\n      <td>6.4</td>\n      <td>4948</td>\n    </tr>\n    <tr>\n      <th>18</th>\n      <td>225000000</td>\n      <td>[{\"id\": 28, \"name\": \"Action\"}, {\"id\": 35, \"nam...</td>\n      <td>http://www.sonypictures.com/movies/meninblack3/</td>\n      <td>41154</td>\n      <td>[{\"id\": 4379, \"name\": \"time travel\"}, {\"id\": 5...</td>\n      <td>en</td>\n      <td>Men in Black 3</td>\n      <td>Agents J (Will Smith) and K (Tommy Lee Jones) ...</td>\n      <td>52.035179</td>\n      <td>[{\"name\": \"Amblin Entertainment\", \"id\": 56}, {...</td>\n      <td>[{\"iso_3166_1\": \"US\", \"name\": \"United States o...</td>\n      <td>2012-05-23</td>\n      <td>624026776</td>\n      <td>106.0</td>\n      <td>[{\"iso_639_1\": \"en\", \"name\": \"English\"}]</td>\n      <td>Released</td>\n      <td>They are back... in time.</td>\n      <td>Men in Black 3</td>\n      <td>6.2</td>\n      <td>4160</td>\n    </tr>\n    <tr>\n      <th>19</th>\n      <td>250000000</td>\n      <td>[{\"id\": 28, \"name\": \"Action\"}, {\"id\": 12, \"nam...</td>\n      <td>http://www.thehobbit.com/</td>\n      <td>122917</td>\n      <td>[{\"id\": 417, \"name\": \"corruption\"}, {\"id\": 603...</td>\n      <td>en</td>\n      <td>The Hobbit: The Battle of the Five Armies</td>\n      <td>Immediately after the events of The Desolation...</td>\n      <td>120.965743</td>\n      <td>[{\"name\": \"WingNut Films\", \"id\": 11}, {\"name\":...</td>\n      <td>[{\"iso_3166_1\": \"NZ\", \"name\": \"New Zealand\"}, ...</td>\n      <td>2014-12-10</td>\n      <td>956019788</td>\n      <td>144.0</td>\n      <td>[{\"iso_639_1\": \"en\", \"name\": \"English\"}]</td>\n      <td>Released</td>\n      <td>Witness the defining chapter of the Middle-Ear...</td>\n      <td>The Hobbit: The Battle of the Five Armies</td>\n      <td>7.1</td>\n      <td>4760</td>\n    </tr>\n    <tr>\n      <th>20</th>\n      <td>215000000</td>\n      <td>[{\"id\": 28, \"name\": \"Action\"}, {\"id\": 12, \"nam...</td>\n      <td>http://www.theamazingspiderman.com</td>\n      <td>1930</td>\n      <td>[{\"id\": 1872, \"name\": \"loss of father\"}, {\"id\"...</td>\n      <td>en</td>\n      <td>The Amazing Spider-Man</td>\n      <td>Peter Parker is an outcast high schooler aband...</td>\n      <td>89.866276</td>\n      <td>[{\"name\": \"Columbia Pictures\", \"id\": 5}, {\"nam...</td>\n      <td>[{\"iso_3166_1\": \"US\", \"name\": \"United States o...</td>\n      <td>2012-06-27</td>\n      <td>752215857</td>\n      <td>136.0</td>\n      <td>[{\"iso_639_1\": \"en\", \"name\": \"English\"}]</td>\n      <td>Released</td>\n      <td>The untold story begins.</td>\n      <td>The Amazing Spider-Man</td>\n      <td>6.5</td>\n      <td>6586</td>\n    </tr>\n    <tr>\n      <th>21</th>\n      <td>200000000</td>\n      <td>[{\"id\": 28, \"name\": \"Action\"}, {\"id\": 12, \"nam...</td>\n      <td>http://www.robinhoodthemovie.com/</td>\n      <td>20662</td>\n      <td>[{\"id\": 4147, \"name\": \"robin hood\"}, {\"id\": 43...</td>\n      <td>en</td>\n      <td>Robin Hood</td>\n      <td>When soldier Robin happens upon the dying Robe...</td>\n      <td>37.668301</td>\n      <td>[{\"name\": \"Imagine Entertainment\", \"id\": 23}, ...</td>\n      <td>[{\"iso_3166_1\": \"GB\", \"name\": \"United Kingdom\"...</td>\n      <td>2010-05-12</td>\n      <td>310669540</td>\n      <td>140.0</td>\n      <td>[{\"iso_639_1\": \"en\", \"name\": \"English\"}, {\"iso...</td>\n      <td>Released</td>\n      <td>Rise and rise again, until lambs become lions.</td>\n      <td>Robin Hood</td>\n      <td>6.2</td>\n      <td>1398</td>\n    </tr>\n    <tr>\n      <th>22</th>\n      <td>250000000</td>\n      <td>[{\"id\": 12, \"name\": \"Adventure\"}, {\"id\": 14, \"...</td>\n      <td>http://www.thehobbit.com/</td>\n      <td>57158</td>\n      <td>[{\"id\": 603, \"name\": \"elves\"}, {\"id\": 604, \"na...</td>\n      <td>en</td>\n      <td>The Hobbit: The Desolation of Smaug</td>\n      <td>The Dwarves, Bilbo and Gandalf have successful...</td>\n      <td>94.370564</td>\n      <td>[{\"name\": \"WingNut Films\", \"id\": 11}, {\"name\":...</td>\n      <td>[{\"iso_3166_1\": \"NZ\", \"name\": \"New Zealand\"}, ...</td>\n      <td>2013-12-11</td>\n      <td>958400000</td>\n      <td>161.0</td>\n      <td>[{\"iso_639_1\": \"en\", \"name\": \"English\"}]</td>\n      <td>Released</td>\n      <td>Beyond darkness... beyond desolation... lies t...</td>\n      <td>The Hobbit: The Desolation of Smaug</td>\n      <td>7.6</td>\n      <td>4524</td>\n    </tr>\n    <tr>\n      <th>23</th>\n      <td>180000000</td>\n      <td>[{\"id\": 12, \"name\": \"Adventure\"}, {\"id\": 14, \"...</td>\n      <td>http://www.goldencompassmovie.com/index_german...</td>\n      <td>2268</td>\n      <td>[{\"id\": 392, \"name\": \"england\"}, {\"id\": 1461, ...</td>\n      <td>en</td>\n      <td>The Golden Compass</td>\n      <td>After overhearing a shocking secret, precociou...</td>\n      <td>42.990906</td>\n      <td>[{\"name\": \"New Line Cinema\", \"id\": 12}, {\"name...</td>\n      <td>[{\"iso_3166_1\": \"GB\", \"name\": \"United Kingdom\"...</td>\n      <td>2007-12-04</td>\n      <td>372234864</td>\n      <td>113.0</td>\n      <td>[{\"iso_639_1\": \"is\", \"name\": \"\\u00cdslenska\"},...</td>\n      <td>Released</td>\n      <td>There are worlds beyond our own - the compass ...</td>\n      <td>The Golden Compass</td>\n      <td>5.8</td>\n      <td>1303</td>\n    </tr>\n    <tr>\n      <th>24</th>\n      <td>207000000</td>\n      <td>[{\"id\": 12, \"name\": \"Adventure\"}, {\"id\": 18, \"...</td>\n      <td>NaN</td>\n      <td>254</td>\n      <td>[{\"id\": 774, \"name\": \"film business\"}, {\"id\": ...</td>\n      <td>en</td>\n      <td>King Kong</td>\n      <td>In 1933 New York, an overly ambitious movie pr...</td>\n      <td>61.226010</td>\n      <td>[{\"name\": \"WingNut Films\", \"id\": 11}, {\"name\":...</td>\n      <td>[{\"iso_3166_1\": \"NZ\", \"name\": \"New Zealand\"}, ...</td>\n      <td>2005-12-14</td>\n      <td>550000000</td>\n      <td>187.0</td>\n      <td>[{\"iso_639_1\": \"en\", \"name\": \"English\"}]</td>\n      <td>Released</td>\n      <td>The eighth wonder of the world.</td>\n      <td>King Kong</td>\n      <td>6.6</td>\n      <td>2337</td>\n    </tr>\n    <tr>\n      <th>25</th>\n      <td>200000000</td>\n      <td>[{\"id\": 18, \"name\": \"Drama\"}, {\"id\": 10749, \"n...</td>\n      <td>http://www.titanicmovie.com</td>\n      <td>597</td>\n      <td>[{\"id\": 2580, \"name\": \"shipwreck\"}, {\"id\": 298...</td>\n      <td>en</td>\n      <td>Titanic</td>\n      <td>84 years later, a 101-year-old woman named Ros...</td>\n      <td>100.025899</td>\n      <td>[{\"name\": \"Paramount Pictures\", \"id\": 4}, {\"na...</td>\n      <td>[{\"iso_3166_1\": \"US\", \"name\": \"United States o...</td>\n      <td>1997-11-18</td>\n      <td>1845034188</td>\n      <td>194.0</td>\n      <td>[{\"iso_639_1\": \"en\", \"name\": \"English\"}, {\"iso...</td>\n      <td>Released</td>\n      <td>Nothing on Earth could come between them.</td>\n      <td>Titanic</td>\n      <td>7.5</td>\n      <td>7562</td>\n    </tr>\n    <tr>\n      <th>26</th>\n      <td>250000000</td>\n      <td>[{\"id\": 12, \"name\": \"Adventure\"}, {\"id\": 28, \"...</td>\n      <td>http://marvel.com/captainamericapremiere</td>\n      <td>271110</td>\n      <td>[{\"id\": 393, \"name\": \"civil war\"}, {\"id\": 6091...</td>\n      <td>en</td>\n      <td>Captain America: Civil War</td>\n      <td>Following the events of Age of Ultron, the col...</td>\n      <td>198.372395</td>\n      <td>[{\"name\": \"Studio Babelsberg\", \"id\": 264}, {\"n...</td>\n      <td>[{\"iso_3166_1\": \"US\", \"name\": \"United States o...</td>\n      <td>2016-04-27</td>\n      <td>1153304495</td>\n      <td>147.0</td>\n      <td>[{\"iso_639_1\": \"ro\", \"name\": \"Rom\\u00e2n\\u0103...</td>\n      <td>Released</td>\n      <td>Divided We Fall</td>\n      <td>Captain America: Civil War</td>\n      <td>7.1</td>\n      <td>7241</td>\n    </tr>\n    <tr>\n      <th>27</th>\n      <td>209000000</td>\n      <td>[{\"id\": 53, \"name\": \"Thriller\"}, {\"id\": 28, \"n...</td>\n      <td>NaN</td>\n      <td>44833</td>\n      <td>[{\"id\": 1721, \"name\": \"fight\"}, {\"id\": 4410, \"...</td>\n      <td>en</td>\n      <td>Battleship</td>\n      <td>When mankind beams a radio signal into space, ...</td>\n      <td>64.928382</td>\n      <td>[{\"name\": \"Universal Pictures\", \"id\": 33}, {\"n...</td>\n      <td>[{\"iso_3166_1\": \"US\", \"name\": \"United States o...</td>\n      <td>2012-04-11</td>\n      <td>303025485</td>\n      <td>131.0</td>\n      <td>[{\"iso_639_1\": \"en\", \"name\": \"English\"}, {\"iso...</td>\n      <td>Released</td>\n      <td>The Battle for Earth Begins at Sea</td>\n      <td>Battleship</td>\n      <td>5.5</td>\n      <td>2114</td>\n    </tr>\n    <tr>\n      <th>28</th>\n      <td>150000000</td>\n      <td>[{\"id\": 28, \"name\": \"Action\"}, {\"id\": 12, \"nam...</td>\n      <td>http://www.jurassicworld.com/</td>\n      <td>135397</td>\n      <td>[{\"id\": 1299, \"name\": \"monster\"}, {\"id\": 1718,...</td>\n      <td>en</td>\n      <td>Jurassic World</td>\n      <td>Twenty-two years after the events of Jurassic ...</td>\n      <td>418.708552</td>\n      <td>[{\"name\": \"Universal Studios\", \"id\": 13}, {\"na...</td>\n      <td>[{\"iso_3166_1\": \"US\", \"name\": \"United States o...</td>\n      <td>2015-06-09</td>\n      <td>1513528810</td>\n      <td>124.0</td>\n      <td>[{\"iso_639_1\": \"en\", \"name\": \"English\"}]</td>\n      <td>Released</td>\n      <td>The park is open.</td>\n      <td>Jurassic World</td>\n      <td>6.5</td>\n      <td>8662</td>\n    </tr>\n    <tr>\n      <th>29</th>\n      <td>200000000</td>\n      <td>[{\"id\": 28, \"name\": \"Action\"}, {\"id\": 12, \"nam...</td>\n      <td>http://www.skyfall-movie.com</td>\n      <td>37724</td>\n      <td>[{\"id\": 470, \"name\": \"spy\"}, {\"id\": 4289, \"nam...</td>\n      <td>en</td>\n      <td>Skyfall</td>\n      <td>When Bond's latest assignment goes gravely wro...</td>\n      <td>93.004993</td>\n      <td>[{\"name\": \"Columbia Pictures\", \"id\": 5}]</td>\n      <td>[{\"iso_3166_1\": \"GB\", \"name\": \"United Kingdom\"...</td>\n      <td>2012-10-25</td>\n      <td>1108561013</td>\n      <td>143.0</td>\n      <td>[{\"iso_639_1\": \"en\", \"name\": \"English\"}]</td>\n      <td>Released</td>\n      <td>Think on your sins.</td>\n      <td>Skyfall</td>\n      <td>6.9</td>\n      <td>7604</td>\n    </tr>\n  </tbody>\n</table>\n</div>"
          },
          "metadata": {}
        }
      ],
      "execution_count": null
    },
    {
      "cell_type": "code",
      "source": "from sklearn.feature_extraction.text import TfidfVectorizer\ntfidf = TfidfVectorizer(stop_words='english')\nmovies['overview'] = movies['overview'].fillna('')",
      "metadata": {
        "source_hash": null,
        "execution_start": 1688208630316,
        "execution_millis": 888,
        "deepnote_to_be_reexecuted": false,
        "cell_id": "6c4820cd3b23406c8a232652d9904568",
        "deepnote_cell_type": "code"
      },
      "outputs": [],
      "execution_count": null
    },
    {
      "cell_type": "code",
      "source": "tfidf_matrix = tfidf.fit_transform(movies['overview'])\npd.DataFrame(tfidf_matrix.toarray(), columns=tfidf.get_feature_names())",
      "metadata": {
        "source_hash": null,
        "execution_start": 1688208631240,
        "execution_millis": 4195,
        "deepnote_to_be_reexecuted": false,
        "cell_id": "14b9d23dc2cc44ff86d0d6318b02051b",
        "deepnote_cell_type": "code"
      },
      "outputs": [
        {
          "name": "stderr",
          "text": "/shared-libs/python3.9/py/lib/python3.9/site-packages/sklearn/utils/deprecation.py:87: FutureWarning: Function get_feature_names is deprecated; get_feature_names is deprecated in 1.0 and will be removed in 1.2. Please use get_feature_names_out instead.\n  warnings.warn(msg, category=FutureWarning)\n",
          "output_type": "stream"
        },
        {
          "output_type": "execute_result",
          "execution_count": 3,
          "data": {
            "application/vnd.deepnote.dataframe.v3+json": {
              "column_count": 20978,
              "row_count": 4803,
              "columns": [
                {
                  "name": "00",
                  "dtype": "float64",
                  "stats": {
                    "unique_count": 4,
                    "nan_count": 0,
                    "min": "0.0",
                    "max": "0.2552106868806951",
                    "histogram": [
                      {
                        "bin_start": 0,
                        "bin_end": 0.02552106868806951,
                        "count": 4800
                      },
                      {
                        "bin_start": 0.02552106868806951,
                        "bin_end": 0.05104213737613902,
                        "count": 0
                      },
                      {
                        "bin_start": 0.05104213737613902,
                        "bin_end": 0.07656320606420852,
                        "count": 0
                      },
                      {
                        "bin_start": 0.07656320606420852,
                        "bin_end": 0.10208427475227803,
                        "count": 0
                      },
                      {
                        "bin_start": 0.10208427475227803,
                        "bin_end": 0.12760534344034755,
                        "count": 0
                      },
                      {
                        "bin_start": 0.12760534344034755,
                        "bin_end": 0.15312641212841704,
                        "count": 0
                      },
                      {
                        "bin_start": 0.15312641212841704,
                        "bin_end": 0.17864748081648657,
                        "count": 2
                      },
                      {
                        "bin_start": 0.17864748081648657,
                        "bin_end": 0.20416854950455607,
                        "count": 0
                      },
                      {
                        "bin_start": 0.20416854950455607,
                        "bin_end": 0.22968961819262557,
                        "count": 0
                      },
                      {
                        "bin_start": 0.22968961819262557,
                        "bin_end": 0.2552106868806951,
                        "count": 1
                      }
                    ]
                  }
                },
                {
                  "name": "000",
                  "dtype": "float64",
                  "stats": {
                    "unique_count": 41,
                    "nan_count": 0,
                    "min": "0.0",
                    "max": "0.4645375536266446",
                    "histogram": [
                      {
                        "bin_start": 0,
                        "bin_end": 0.04645375536266446,
                        "count": 4763
                      },
                      {
                        "bin_start": 0.04645375536266446,
                        "bin_end": 0.09290751072532892,
                        "count": 4
                      },
                      {
                        "bin_start": 0.09290751072532892,
                        "bin_end": 0.13936126608799337,
                        "count": 10
                      },
                      {
                        "bin_start": 0.13936126608799337,
                        "bin_end": 0.18581502145065784,
                        "count": 11
                      },
                      {
                        "bin_start": 0.18581502145065784,
                        "bin_end": 0.2322687768133223,
                        "count": 10
                      },
                      {
                        "bin_start": 0.2322687768133223,
                        "bin_end": 0.27872253217598675,
                        "count": 3
                      },
                      {
                        "bin_start": 0.27872253217598675,
                        "bin_end": 0.32517628753865124,
                        "count": 0
                      },
                      {
                        "bin_start": 0.32517628753865124,
                        "bin_end": 0.3716300429013157,
                        "count": 0
                      },
                      {
                        "bin_start": 0.3716300429013157,
                        "bin_end": 0.4180837982639801,
                        "count": 0
                      },
                      {
                        "bin_start": 0.4180837982639801,
                        "bin_end": 0.4645375536266446,
                        "count": 2
                      }
                    ]
                  }
                },
                {
                  "name": "007",
                  "dtype": "float64",
                  "stats": {
                    "unique_count": 10,
                    "nan_count": 0,
                    "min": "0.0",
                    "max": "0.3089360995485264",
                    "histogram": [
                      {
                        "bin_start": 0,
                        "bin_end": 0.03089360995485264,
                        "count": 4794
                      },
                      {
                        "bin_start": 0.03089360995485264,
                        "bin_end": 0.06178721990970528,
                        "count": 0
                      },
                      {
                        "bin_start": 0.06178721990970528,
                        "bin_end": 0.09268082986455792,
                        "count": 0
                      },
                      {
                        "bin_start": 0.09268082986455792,
                        "bin_end": 0.12357443981941056,
                        "count": 0
                      },
                      {
                        "bin_start": 0.12357443981941056,
                        "bin_end": 0.1544680497742632,
                        "count": 2
                      },
                      {
                        "bin_start": 0.1544680497742632,
                        "bin_end": 0.18536165972911584,
                        "count": 1
                      },
                      {
                        "bin_start": 0.18536165972911584,
                        "bin_end": 0.2162552696839685,
                        "count": 2
                      },
                      {
                        "bin_start": 0.2162552696839685,
                        "bin_end": 0.24714887963882112,
                        "count": 3
                      },
                      {
                        "bin_start": 0.24714887963882112,
                        "bin_end": 0.2780424895936738,
                        "count": 0
                      },
                      {
                        "bin_start": 0.2780424895936738,
                        "bin_end": 0.3089360995485264,
                        "count": 1
                      }
                    ]
                  }
                },
                {
                  "name": "07am",
                  "dtype": "float64",
                  "stats": {
                    "unique_count": 2,
                    "nan_count": 0,
                    "min": "0.0",
                    "max": "0.19571384459892735",
                    "histogram": [
                      {
                        "bin_start": 0,
                        "bin_end": 0.019571384459892736,
                        "count": 4802
                      },
                      {
                        "bin_start": 0.019571384459892736,
                        "bin_end": 0.03914276891978547,
                        "count": 0
                      },
                      {
                        "bin_start": 0.03914276891978547,
                        "bin_end": 0.05871415337967821,
                        "count": 0
                      },
                      {
                        "bin_start": 0.05871415337967821,
                        "bin_end": 0.07828553783957094,
                        "count": 0
                      },
                      {
                        "bin_start": 0.07828553783957094,
                        "bin_end": 0.09785692229946368,
                        "count": 0
                      },
                      {
                        "bin_start": 0.09785692229946368,
                        "bin_end": 0.11742830675935642,
                        "count": 0
                      },
                      {
                        "bin_start": 0.11742830675935642,
                        "bin_end": 0.13699969121924915,
                        "count": 0
                      },
                      {
                        "bin_start": 0.13699969121924915,
                        "bin_end": 0.15657107567914189,
                        "count": 0
                      },
                      {
                        "bin_start": 0.15657107567914189,
                        "bin_end": 0.17614246013903462,
                        "count": 0
                      },
                      {
                        "bin_start": 0.17614246013903462,
                        "bin_end": 0.19571384459892735,
                        "count": 1
                      }
                    ]
                  }
                },
                {
                  "name": "10",
                  "dtype": "float64",
                  "stats": {
                    "unique_count": 39,
                    "nan_count": 0,
                    "min": "0.0",
                    "max": "0.3972357514992456",
                    "histogram": [
                      {
                        "bin_start": 0,
                        "bin_end": 0.03972357514992456,
                        "count": 4765
                      },
                      {
                        "bin_start": 0.03972357514992456,
                        "bin_end": 0.07944715029984913,
                        "count": 1
                      },
                      {
                        "bin_start": 0.07944715029984913,
                        "bin_end": 0.1191707254497737,
                        "count": 10
                      },
                      {
                        "bin_start": 0.1191707254497737,
                        "bin_end": 0.15889430059969825,
                        "count": 10
                      },
                      {
                        "bin_start": 0.15889430059969825,
                        "bin_end": 0.1986178757496228,
                        "count": 7
                      },
                      {
                        "bin_start": 0.1986178757496228,
                        "bin_end": 0.2383414508995474,
                        "count": 5
                      },
                      {
                        "bin_start": 0.2383414508995474,
                        "bin_end": 0.2780650260494719,
                        "count": 2
                      },
                      {
                        "bin_start": 0.2780650260494719,
                        "bin_end": 0.3177886011993965,
                        "count": 0
                      },
                      {
                        "bin_start": 0.3177886011993965,
                        "bin_end": 0.3575121763493211,
                        "count": 2
                      },
                      {
                        "bin_start": 0.3575121763493211,
                        "bin_end": 0.3972357514992456,
                        "count": 1
                      }
                    ]
                  }
                },
                {
                  "name": "100",
                  "dtype": "float64",
                  "stats": {
                    "unique_count": 10,
                    "nan_count": 0,
                    "min": "0.0",
                    "max": "0.23330517382701987",
                    "histogram": [
                      {
                        "bin_start": 0,
                        "bin_end": 0.023330517382701987,
                        "count": 4794
                      },
                      {
                        "bin_start": 0.023330517382701987,
                        "bin_end": 0.04666103476540397,
                        "count": 0
                      },
                      {
                        "bin_start": 0.04666103476540397,
                        "bin_end": 0.06999155214810596,
                        "count": 0
                      },
                      {
                        "bin_start": 0.06999155214810596,
                        "bin_end": 0.09332206953080795,
                        "count": 0
                      },
                      {
                        "bin_start": 0.09332206953080795,
                        "bin_end": 0.11665258691350994,
                        "count": 0
                      },
                      {
                        "bin_start": 0.11665258691350994,
                        "bin_end": 0.1399831042962119,
                        "count": 0
                      },
                      {
                        "bin_start": 0.1399831042962119,
                        "bin_end": 0.16331362167891392,
                        "count": 3
                      },
                      {
                        "bin_start": 0.16331362167891392,
                        "bin_end": 0.1866441390616159,
                        "count": 4
                      },
                      {
                        "bin_start": 0.1866441390616159,
                        "bin_end": 0.20997465644431787,
                        "count": 1
                      },
                      {
                        "bin_start": 0.20997465644431787,
                        "bin_end": 0.23330517382701987,
                        "count": 1
                      }
                    ]
                  }
                },
                {
                  "name": "1000",
                  "dtype": "float64",
                  "stats": {
                    "unique_count": 3,
                    "nan_count": 0,
                    "min": "0.0",
                    "max": "0.20300788933475203",
                    "histogram": [
                      {
                        "bin_start": 0,
                        "bin_end": 0.020300788933475204,
                        "count": 4801
                      },
                      {
                        "bin_start": 0.020300788933475204,
                        "bin_end": 0.04060157786695041,
                        "count": 0
                      },
                      {
                        "bin_start": 0.04060157786695041,
                        "bin_end": 0.060902366800425614,
                        "count": 0
                      },
                      {
                        "bin_start": 0.060902366800425614,
                        "bin_end": 0.08120315573390081,
                        "count": 0
                      },
                      {
                        "bin_start": 0.08120315573390081,
                        "bin_end": 0.10150394466737601,
                        "count": 0
                      },
                      {
                        "bin_start": 0.10150394466737601,
                        "bin_end": 0.12180473360085123,
                        "count": 0
                      },
                      {
                        "bin_start": 0.12180473360085123,
                        "bin_end": 0.14210552253432643,
                        "count": 0
                      },
                      {
                        "bin_start": 0.14210552253432643,
                        "bin_end": 0.16240631146780163,
                        "count": 0
                      },
                      {
                        "bin_start": 0.16240631146780163,
                        "bin_end": 0.18270710040127683,
                        "count": 0
                      },
                      {
                        "bin_start": 0.18270710040127683,
                        "bin_end": 0.20300788933475203,
                        "count": 2
                      }
                    ]
                  }
                },
                {
                  "name": "101",
                  "dtype": "float64",
                  "stats": {
                    "unique_count": 2,
                    "nan_count": 0,
                    "min": "0.0",
                    "max": "0.12973111547961028",
                    "histogram": [
                      {
                        "bin_start": 0,
                        "bin_end": 0.012973111547961028,
                        "count": 4802
                      },
                      {
                        "bin_start": 0.012973111547961028,
                        "bin_end": 0.025946223095922056,
                        "count": 0
                      },
                      {
                        "bin_start": 0.025946223095922056,
                        "bin_end": 0.038919334643883086,
                        "count": 0
                      },
                      {
                        "bin_start": 0.038919334643883086,
                        "bin_end": 0.05189244619184411,
                        "count": 0
                      },
                      {
                        "bin_start": 0.05189244619184411,
                        "bin_end": 0.06486555773980514,
                        "count": 0
                      },
                      {
                        "bin_start": 0.06486555773980514,
                        "bin_end": 0.07783866928776617,
                        "count": 0
                      },
                      {
                        "bin_start": 0.07783866928776617,
                        "bin_end": 0.09081178083572719,
                        "count": 0
                      },
                      {
                        "bin_start": 0.09081178083572719,
                        "bin_end": 0.10378489238368822,
                        "count": 0
                      },
                      {
                        "bin_start": 0.10378489238368822,
                        "bin_end": 0.11675800393164926,
                        "count": 0
                      },
                      {
                        "bin_start": 0.11675800393164926,
                        "bin_end": 0.12973111547961028,
                        "count": 1
                      }
                    ]
                  }
                },
                {
                  "name": "108",
                  "dtype": "float64",
                  "stats": {
                    "unique_count": 2,
                    "nan_count": 0,
                    "min": "0.0",
                    "max": "0.1996769027486971",
                    "histogram": [
                      {
                        "bin_start": 0,
                        "bin_end": 0.01996769027486971,
                        "count": 4802
                      },
                      {
                        "bin_start": 0.01996769027486971,
                        "bin_end": 0.03993538054973942,
                        "count": 0
                      },
                      {
                        "bin_start": 0.03993538054973942,
                        "bin_end": 0.059903070824609134,
                        "count": 0
                      },
                      {
                        "bin_start": 0.059903070824609134,
                        "bin_end": 0.07987076109947884,
                        "count": 0
                      },
                      {
                        "bin_start": 0.07987076109947884,
                        "bin_end": 0.09983845137434855,
                        "count": 0
                      },
                      {
                        "bin_start": 0.09983845137434855,
                        "bin_end": 0.11980614164921827,
                        "count": 0
                      },
                      {
                        "bin_start": 0.11980614164921827,
                        "bin_end": 0.13977383192408796,
                        "count": 0
                      },
                      {
                        "bin_start": 0.13977383192408796,
                        "bin_end": 0.15974152219895768,
                        "count": 0
                      },
                      {
                        "bin_start": 0.15974152219895768,
                        "bin_end": 0.1797092124738274,
                        "count": 0
                      },
                      {
                        "bin_start": 0.1797092124738274,
                        "bin_end": 0.1996769027486971,
                        "count": 1
                      }
                    ]
                  }
                },
                {
                  "name": "10th",
                  "dtype": "float64",
                  "stats": {
                    "unique_count": 6,
                    "nan_count": 0,
                    "min": "0.0",
                    "max": "0.22731311760209363",
                    "histogram": [
                      {
                        "bin_start": 0,
                        "bin_end": 0.022731311760209365,
                        "count": 4798
                      },
                      {
                        "bin_start": 0.022731311760209365,
                        "bin_end": 0.04546262352041873,
                        "count": 0
                      },
                      {
                        "bin_start": 0.04546262352041873,
                        "bin_end": 0.06819393528062809,
                        "count": 0
                      },
                      {
                        "bin_start": 0.06819393528062809,
                        "bin_end": 0.09092524704083746,
                        "count": 0
                      },
                      {
                        "bin_start": 0.09092524704083746,
                        "bin_end": 0.11365655880104683,
                        "count": 1
                      },
                      {
                        "bin_start": 0.11365655880104683,
                        "bin_end": 0.13638787056125617,
                        "count": 0
                      },
                      {
                        "bin_start": 0.13638787056125617,
                        "bin_end": 0.15911918232146555,
                        "count": 2
                      },
                      {
                        "bin_start": 0.15911918232146555,
                        "bin_end": 0.18185049408167492,
                        "count": 0
                      },
                      {
                        "bin_start": 0.18185049408167492,
                        "bin_end": 0.2045818058418843,
                        "count": 0
                      },
                      {
                        "bin_start": 0.2045818058418843,
                        "bin_end": 0.22731311760209363,
                        "count": 2
                      }
                    ]
                  }
                },
                {
                  "name": "11",
                  "dtype": "float64",
                  "stats": {
                    "unique_count": 26,
                    "nan_count": 0,
                    "min": "0.0",
                    "max": "0.3329240299948185",
                    "histogram": [
                      {
                        "bin_start": 0,
                        "bin_end": 0.03329240299948185,
                        "count": 4778
                      },
                      {
                        "bin_start": 0.03329240299948185,
                        "bin_end": 0.0665848059989637,
                        "count": 0
                      },
                      {
                        "bin_start": 0.0665848059989637,
                        "bin_end": 0.09987720899844554,
                        "count": 2
                      },
                      {
                        "bin_start": 0.09987720899844554,
                        "bin_end": 0.1331696119979274,
                        "count": 6
                      },
                      {
                        "bin_start": 0.1331696119979274,
                        "bin_end": 0.16646201499740926,
                        "count": 5
                      },
                      {
                        "bin_start": 0.16646201499740926,
                        "bin_end": 0.1997544179968911,
                        "count": 7
                      },
                      {
                        "bin_start": 0.1997544179968911,
                        "bin_end": 0.23304682099637294,
                        "count": 2
                      },
                      {
                        "bin_start": 0.23304682099637294,
                        "bin_end": 0.2663392239958548,
                        "count": 2
                      },
                      {
                        "bin_start": 0.2663392239958548,
                        "bin_end": 0.29963162699533663,
                        "count": 0
                      },
                      {
                        "bin_start": 0.29963162699533663,
                        "bin_end": 0.3329240299948185,
                        "count": 1
                      }
                    ]
                  }
                },
                {
                  "name": "114",
                  "dtype": "float64",
                  "stats": {
                    "unique_count": 2,
                    "nan_count": 0,
                    "min": "0.0",
                    "max": "0.17950645153405848",
                    "histogram": [
                      {
                        "bin_start": 0,
                        "bin_end": 0.017950645153405848,
                        "count": 4802
                      },
                      {
                        "bin_start": 0.017950645153405848,
                        "bin_end": 0.035901290306811696,
                        "count": 0
                      },
                      {
                        "bin_start": 0.035901290306811696,
                        "bin_end": 0.05385193546021755,
                        "count": 0
                      },
                      {
                        "bin_start": 0.05385193546021755,
                        "bin_end": 0.07180258061362339,
                        "count": 0
                      },
                      {
                        "bin_start": 0.07180258061362339,
                        "bin_end": 0.08975322576702924,
                        "count": 0
                      },
                      {
                        "bin_start": 0.08975322576702924,
                        "bin_end": 0.1077038709204351,
                        "count": 0
                      },
                      {
                        "bin_start": 0.1077038709204351,
                        "bin_end": 0.12565451607384093,
                        "count": 0
                      },
                      {
                        "bin_start": 0.12565451607384093,
                        "bin_end": 0.14360516122724679,
                        "count": 0
                      },
                      {
                        "bin_start": 0.14360516122724679,
                        "bin_end": 0.16155580638065264,
                        "count": 0
                      },
                      {
                        "bin_start": 0.16155580638065264,
                        "bin_end": 0.17950645153405848,
                        "count": 1
                      }
                    ]
                  }
                },
                {
                  "name": "117",
                  "dtype": "float64",
                  "stats": {
                    "unique_count": 2,
                    "nan_count": 0,
                    "min": "0.0",
                    "max": "0.23514867925672703",
                    "histogram": [
                      {
                        "bin_start": 0,
                        "bin_end": 0.023514867925672703,
                        "count": 4802
                      },
                      {
                        "bin_start": 0.023514867925672703,
                        "bin_end": 0.04702973585134541,
                        "count": 0
                      },
                      {
                        "bin_start": 0.04702973585134541,
                        "bin_end": 0.07054460377701811,
                        "count": 0
                      },
                      {
                        "bin_start": 0.07054460377701811,
                        "bin_end": 0.09405947170269081,
                        "count": 0
                      },
                      {
                        "bin_start": 0.09405947170269081,
                        "bin_end": 0.11757433962836351,
                        "count": 0
                      },
                      {
                        "bin_start": 0.11757433962836351,
                        "bin_end": 0.14108920755403623,
                        "count": 0
                      },
                      {
                        "bin_start": 0.14108920755403623,
                        "bin_end": 0.16460407547970893,
                        "count": 0
                      },
                      {
                        "bin_start": 0.16460407547970893,
                        "bin_end": 0.18811894340538163,
                        "count": 0
                      },
                      {
                        "bin_start": 0.18811894340538163,
                        "bin_end": 0.21163381133105433,
                        "count": 0
                      },
                      {
                        "bin_start": 0.21163381133105433,
                        "bin_end": 0.23514867925672703,
                        "count": 1
                      }
                    ]
                  }
                },
                {
                  "name": "118",
                  "dtype": "float64",
                  "stats": {
                    "unique_count": 2,
                    "nan_count": 0,
                    "min": "0.0",
                    "max": "0.21472318162284737",
                    "histogram": [
                      {
                        "bin_start": 0,
                        "bin_end": 0.02147231816228474,
                        "count": 4802
                      },
                      {
                        "bin_start": 0.02147231816228474,
                        "bin_end": 0.04294463632456948,
                        "count": 0
                      },
                      {
                        "bin_start": 0.04294463632456948,
                        "bin_end": 0.06441695448685422,
                        "count": 0
                      },
                      {
                        "bin_start": 0.06441695448685422,
                        "bin_end": 0.08588927264913895,
                        "count": 0
                      },
                      {
                        "bin_start": 0.08588927264913895,
                        "bin_end": 0.10736159081142368,
                        "count": 0
                      },
                      {
                        "bin_start": 0.10736159081142368,
                        "bin_end": 0.12883390897370844,
                        "count": 0
                      },
                      {
                        "bin_start": 0.12883390897370844,
                        "bin_end": 0.15030622713599318,
                        "count": 0
                      },
                      {
                        "bin_start": 0.15030622713599318,
                        "bin_end": 0.1717785452982779,
                        "count": 0
                      },
                      {
                        "bin_start": 0.1717785452982779,
                        "bin_end": 0.19325086346056264,
                        "count": 0
                      },
                      {
                        "bin_start": 0.19325086346056264,
                        "bin_end": 0.21472318162284737,
                        "count": 1
                      }
                    ]
                  }
                },
                {
                  "name": "119",
                  "dtype": "float64",
                  "stats": {
                    "unique_count": 3,
                    "nan_count": 0,
                    "min": "0.0",
                    "max": "0.2781061736014417",
                    "histogram": [
                      {
                        "bin_start": 0,
                        "bin_end": 0.027810617360144167,
                        "count": 4801
                      },
                      {
                        "bin_start": 0.027810617360144167,
                        "bin_end": 0.055621234720288334,
                        "count": 0
                      },
                      {
                        "bin_start": 0.055621234720288334,
                        "bin_end": 0.0834318520804325,
                        "count": 0
                      },
                      {
                        "bin_start": 0.0834318520804325,
                        "bin_end": 0.11124246944057667,
                        "count": 0
                      },
                      {
                        "bin_start": 0.11124246944057667,
                        "bin_end": 0.13905308680072084,
                        "count": 0
                      },
                      {
                        "bin_start": 0.13905308680072084,
                        "bin_end": 0.166863704160865,
                        "count": 0
                      },
                      {
                        "bin_start": 0.166863704160865,
                        "bin_end": 0.19467432152100916,
                        "count": 0
                      },
                      {
                        "bin_start": 0.19467432152100916,
                        "bin_end": 0.22248493888115334,
                        "count": 1
                      },
                      {
                        "bin_start": 0.22248493888115334,
                        "bin_end": 0.2502955562412975,
                        "count": 0
                      },
                      {
                        "bin_start": 0.2502955562412975,
                        "bin_end": 0.2781061736014417,
                        "count": 1
                      }
                    ]
                  }
                },
                {
                  "name": "11th",
                  "dtype": "float64",
                  "stats": {
                    "unique_count": 4,
                    "nan_count": 0,
                    "min": "0.0",
                    "max": "0.3634576954934001",
                    "histogram": [
                      {
                        "bin_start": 0,
                        "bin_end": 0.03634576954934001,
                        "count": 4800
                      },
                      {
                        "bin_start": 0.03634576954934001,
                        "bin_end": 0.07269153909868002,
                        "count": 0
                      },
                      {
                        "bin_start": 0.07269153909868002,
                        "bin_end": 0.10903730864802003,
                        "count": 0
                      },
                      {
                        "bin_start": 0.10903730864802003,
                        "bin_end": 0.14538307819736004,
                        "count": 0
                      },
                      {
                        "bin_start": 0.14538307819736004,
                        "bin_end": 0.18172884774670006,
                        "count": 0
                      },
                      {
                        "bin_start": 0.18172884774670006,
                        "bin_end": 0.21807461729604005,
                        "count": 1
                      },
                      {
                        "bin_start": 0.21807461729604005,
                        "bin_end": 0.2544203868453801,
                        "count": 1
                      },
                      {
                        "bin_start": 0.2544203868453801,
                        "bin_end": 0.2907661563947201,
                        "count": 0
                      },
                      {
                        "bin_start": 0.2907661563947201,
                        "bin_end": 0.3271119259440601,
                        "count": 0
                      },
                      {
                        "bin_start": 0.3271119259440601,
                        "bin_end": 0.3634576954934001,
                        "count": 1
                      }
                    ]
                  }
                },
                {
                  "name": "12",
                  "dtype": "float64",
                  "stats": {
                    "unique_count": 33,
                    "nan_count": 0,
                    "min": "0.0",
                    "max": "0.4048590625571781",
                    "histogram": [
                      {
                        "bin_start": 0,
                        "bin_end": 0.04048590625571781,
                        "count": 4771
                      },
                      {
                        "bin_start": 0.04048590625571781,
                        "bin_end": 0.08097181251143562,
                        "count": 1
                      },
                      {
                        "bin_start": 0.08097181251143562,
                        "bin_end": 0.12145771876715343,
                        "count": 4
                      },
                      {
                        "bin_start": 0.12145771876715343,
                        "bin_end": 0.16194362502287124,
                        "count": 10
                      },
                      {
                        "bin_start": 0.16194362502287124,
                        "bin_end": 0.20242953127858904,
                        "count": 7
                      },
                      {
                        "bin_start": 0.20242953127858904,
                        "bin_end": 0.24291543753430686,
                        "count": 8
                      },
                      {
                        "bin_start": 0.24291543753430686,
                        "bin_end": 0.2834013437900247,
                        "count": 1
                      },
                      {
                        "bin_start": 0.2834013437900247,
                        "bin_end": 0.3238872500457425,
                        "count": 0
                      },
                      {
                        "bin_start": 0.3238872500457425,
                        "bin_end": 0.3643731563014603,
                        "count": 0
                      },
                      {
                        "bin_start": 0.3643731563014603,
                        "bin_end": 0.4048590625571781,
                        "count": 1
                      }
                    ]
                  }
                },
                {
                  "name": "1200",
                  "dtype": "float64",
                  "stats": {
                    "unique_count": 3,
                    "nan_count": 0,
                    "min": "0.0",
                    "max": "0.42259536554032257",
                    "histogram": [
                      {
                        "bin_start": 0,
                        "bin_end": 0.04225953655403226,
                        "count": 4801
                      },
                      {
                        "bin_start": 0.04225953655403226,
                        "bin_end": 0.08451907310806452,
                        "count": 0
                      },
                      {
                        "bin_start": 0.08451907310806452,
                        "bin_end": 0.12677860966209678,
                        "count": 0
                      },
                      {
                        "bin_start": 0.12677860966209678,
                        "bin_end": 0.16903814621612903,
                        "count": 1
                      },
                      {
                        "bin_start": 0.16903814621612903,
                        "bin_end": 0.21129768277016128,
                        "count": 0
                      },
                      {
                        "bin_start": 0.21129768277016128,
                        "bin_end": 0.25355721932419356,
                        "count": 0
                      },
                      {
                        "bin_start": 0.25355721932419356,
                        "bin_end": 0.2958167558782258,
                        "count": 0
                      },
                      {
                        "bin_start": 0.2958167558782258,
                        "bin_end": 0.33807629243225806,
                        "count": 0
                      },
                      {
                        "bin_start": 0.33807629243225806,
                        "bin_end": 0.3803358289862903,
                        "count": 0
                      },
                      {
                        "bin_start": 0.3803358289862903,
                        "bin_end": 0.42259536554032257,
                        "count": 1
                      }
                    ]
                  }
                },
                {
                  "name": "1215",
                  "dtype": "float64",
                  "stats": {
                    "unique_count": 2,
                    "nan_count": 0,
                    "min": "0.0",
                    "max": "0.1663501494766892",
                    "histogram": [
                      {
                        "bin_start": 0,
                        "bin_end": 0.01663501494766892,
                        "count": 4802
                      },
                      {
                        "bin_start": 0.01663501494766892,
                        "bin_end": 0.03327002989533784,
                        "count": 0
                      },
                      {
                        "bin_start": 0.03327002989533784,
                        "bin_end": 0.04990504484300676,
                        "count": 0
                      },
                      {
                        "bin_start": 0.04990504484300676,
                        "bin_end": 0.06654005979067568,
                        "count": 0
                      },
                      {
                        "bin_start": 0.06654005979067568,
                        "bin_end": 0.0831750747383446,
                        "count": 0
                      },
                      {
                        "bin_start": 0.0831750747383446,
                        "bin_end": 0.09981008968601351,
                        "count": 0
                      },
                      {
                        "bin_start": 0.09981008968601351,
                        "bin_end": 0.11644510463368243,
                        "count": 0
                      },
                      {
                        "bin_start": 0.11644510463368243,
                        "bin_end": 0.13308011958135135,
                        "count": 0
                      },
                      {
                        "bin_start": 0.13308011958135135,
                        "bin_end": 0.14971513452902027,
                        "count": 0
                      },
                      {
                        "bin_start": 0.14971513452902027,
                        "bin_end": 0.1663501494766892,
                        "count": 1
                      }
                    ]
                  }
                },
                {
                  "name": "1250",
                  "dtype": "float64",
                  "stats": {
                    "unique_count": 2,
                    "nan_count": 0,
                    "min": "0.0",
                    "max": "0.16311862525004361",
                    "histogram": [
                      {
                        "bin_start": 0,
                        "bin_end": 0.016311862525004363,
                        "count": 4802
                      },
                      {
                        "bin_start": 0.016311862525004363,
                        "bin_end": 0.032623725050008726,
                        "count": 0
                      },
                      {
                        "bin_start": 0.032623725050008726,
                        "bin_end": 0.04893558757501309,
                        "count": 0
                      },
                      {
                        "bin_start": 0.04893558757501309,
                        "bin_end": 0.06524745010001745,
                        "count": 0
                      },
                      {
                        "bin_start": 0.06524745010001745,
                        "bin_end": 0.08155931262502181,
                        "count": 0
                      },
                      {
                        "bin_start": 0.08155931262502181,
                        "bin_end": 0.09787117515002618,
                        "count": 0
                      },
                      {
                        "bin_start": 0.09787117515002618,
                        "bin_end": 0.11418303767503055,
                        "count": 0
                      },
                      {
                        "bin_start": 0.11418303767503055,
                        "bin_end": 0.1304949002000349,
                        "count": 0
                      },
                      {
                        "bin_start": 0.1304949002000349,
                        "bin_end": 0.14680676272503926,
                        "count": 0
                      },
                      {
                        "bin_start": 0.14680676272503926,
                        "bin_end": 0.16311862525004361,
                        "count": 1
                      }
                    ]
                  }
                },
                {
                  "name": "125th",
                  "dtype": "float64"
                },
                {
                  "name": "12th",
                  "dtype": "float64"
                },
                {
                  "name": "13",
                  "dtype": "float64"
                },
                {
                  "name": "1300",
                  "dtype": "float64"
                },
                {
                  "name": "13th",
                  "dtype": "float64"
                },
                {
                  "name": "14",
                  "dtype": "float64"
                },
                {
                  "name": "140",
                  "dtype": "float64"
                },
                {
                  "name": "1408",
                  "dtype": "float64"
                },
                {
                  "name": "142",
                  "dtype": "float64"
                },
                {
                  "name": "1429",
                  "dtype": "float64"
                },
                {
                  "name": "148",
                  "dtype": "float64"
                },
                {
                  "name": "14pm",
                  "dtype": "float64"
                },
                {
                  "name": "14th",
                  "dtype": "float64"
                },
                {
                  "name": "15",
                  "dtype": "float64"
                },
                {
                  "name": "150",
                  "dtype": "float64"
                },
                {
                  "name": "150th",
                  "dtype": "float64"
                },
                {
                  "name": "1520s",
                  "dtype": "float64"
                },
                {
                  "name": "1536",
                  "dtype": "float64"
                },
                {
                  "name": "15th",
                  "dtype": "float64"
                },
                {
                  "name": "16",
                  "dtype": "float64"
                },
                {
                  "name": "1600s",
                  "dtype": "float64"
                },
                {
                  "name": "161",
                  "dtype": "float64"
                },
                {
                  "name": "1630s",
                  "dtype": "float64"
                },
                {
                  "name": "1644",
                  "dtype": "float64"
                },
                {
                  "name": "1681",
                  "dtype": "float64"
                },
                {
                  "name": "1691",
                  "dtype": "float64"
                },
                {
                  "name": "16th",
                  "dtype": "float64"
                },
                {
                  "name": "17",
                  "dtype": "float64"
                },
                {
                  "name": "170",
                  "dtype": "float64"
                },
                {
                  "name": "1700s",
                  "dtype": "float64"
                },
                {
                  "name": "173rd",
                  "dtype": "float64"
                },
                {
                  "name": "1748",
                  "dtype": "float64"
                },
                {
                  "name": "1776",
                  "dtype": "float64"
                },
                {
                  "name": "17th",
                  "dtype": "float64"
                },
                {
                  "name": "18",
                  "dtype": "float64"
                },
                {
                  "name": "180",
                  "dtype": "float64"
                },
                {
                  "name": "1800",
                  "dtype": "float64"
                },
                {
                  "name": "1818",
                  "dtype": "float64"
                },
                {
                  "name": "1820",
                  "dtype": "float64"
                },
                {
                  "name": "1820s",
                  "dtype": "float64"
                },
                {
                  "name": "1824",
                  "dtype": "float64"
                },
                {
                  "name": "1831",
                  "dtype": "float64"
                },
                {
                  "name": "1834",
                  "dtype": "float64"
                },
                {
                  "name": "1836",
                  "dtype": "float64"
                },
                {
                  "name": "1838",
                  "dtype": "float64"
                },
                {
                  "name": "1839",
                  "dtype": "float64"
                },
                {
                  "name": "1841",
                  "dtype": "float64"
                },
                {
                  "name": "1845",
                  "dtype": "float64"
                },
                {
                  "name": "1850",
                  "dtype": "float64"
                },
                {
                  "name": "1850s",
                  "dtype": "float64"
                },
                {
                  "name": "1856",
                  "dtype": "float64"
                },
                {
                  "name": "1857",
                  "dtype": "float64"
                },
                {
                  "name": "1860",
                  "dtype": "float64"
                },
                {
                  "name": "1862",
                  "dtype": "float64"
                },
                {
                  "name": "1863",
                  "dtype": "float64"
                },
                {
                  "name": "1870s",
                  "dtype": "float64"
                },
                {
                  "name": "1875",
                  "dtype": "float64"
                },
                {
                  "name": "1876",
                  "dtype": "float64"
                },
                {
                  "name": "1879",
                  "dtype": "float64"
                },
                {
                  "name": "1880s",
                  "dtype": "float64"
                },
                {
                  "name": "1882",
                  "dtype": "float64"
                },
                {
                  "name": "1885",
                  "dtype": "float64"
                },
                {
                  "name": "1889",
                  "dtype": "float64"
                },
                {
                  "name": "1890",
                  "dtype": "float64"
                },
                {
                  "name": "1890s",
                  "dtype": "float64"
                },
                {
                  "name": "18th",
                  "dtype": "float64"
                },
                {
                  "name": "19",
                  "dtype": "float64"
                },
                {
                  "name": "1900",
                  "dtype": "float64"
                },
                {
                  "name": "1900s",
                  "dtype": "float64"
                },
                {
                  "name": "1903",
                  "dtype": "float64"
                },
                {
                  "name": "1905",
                  "dtype": "float64"
                },
                {
                  "name": "191",
                  "dtype": "float64"
                },
                {
                  "name": "1910",
                  "dtype": "float64"
                },
                {
                  "name": "1910s",
                  "dtype": "float64"
                },
                {
                  "name": "1911",
                  "dtype": "float64"
                },
                {
                  "name": "1912",
                  "dtype": "float64"
                },
                {
                  "name": "1914",
                  "dtype": "float64"
                },
                {
                  "name": "1915",
                  "dtype": "float64"
                },
                {
                  "name": "1917",
                  "dtype": "float64"
                },
                {
                  "name": "1918",
                  "dtype": "float64"
                },
                {
                  "name": "1919",
                  "dtype": "float64"
                },
                {
                  "name": "1920",
                  "dtype": "float64"
                },
                {
                  "name": "1920s",
                  "dtype": "float64"
                },
                {
                  "name": "1921",
                  "dtype": "float64"
                },
                {
                  "name": "1922",
                  "dtype": "float64"
                },
                {
                  "name": "1924",
                  "dtype": "float64"
                },
                {
                  "name": "1925",
                  "dtype": "float64"
                },
                {
                  "name": "1926",
                  "dtype": "float64"
                },
                {
                  "name": "1927",
                  "dtype": "float64"
                },
                {
                  "name": "1928",
                  "dtype": "float64"
                },
                {
                  "name": "1929",
                  "dtype": "float64"
                },
                {
                  "name": "1930",
                  "dtype": "float64"
                },
                {
                  "name": "1930s",
                  "dtype": "float64"
                },
                {
                  "name": "1931",
                  "dtype": "float64"
                },
                {
                  "name": "1932",
                  "dtype": "float64"
                },
                {
                  "name": "1933",
                  "dtype": "float64"
                },
                {
                  "name": "1934",
                  "dtype": "float64"
                },
                {
                  "name": "1936",
                  "dtype": "float64"
                },
                {
                  "name": "1937",
                  "dtype": "float64"
                },
                {
                  "name": "1939",
                  "dtype": "float64"
                },
                {
                  "name": "1940",
                  "dtype": "float64"
                },
                {
                  "name": "1940s",
                  "dtype": "float64"
                },
                {
                  "name": "1941",
                  "dtype": "float64"
                },
                {
                  "name": "1942",
                  "dtype": "float64"
                },
                {
                  "name": "1943",
                  "dtype": "float64"
                },
                {
                  "name": "1944",
                  "dtype": "float64"
                },
                {
                  "name": "1945",
                  "dtype": "float64"
                },
                {
                  "name": "1946",
                  "dtype": "float64"
                },
                {
                  "name": "1947",
                  "dtype": "float64"
                },
                {
                  "name": "1949",
                  "dtype": "float64"
                },
                {
                  "name": "1950",
                  "dtype": "float64"
                },
                {
                  "name": "1950s",
                  "dtype": "float64"
                },
                {
                  "name": "1951",
                  "dtype": "float64"
                },
                {
                  "name": "1952",
                  "dtype": "float64"
                },
                {
                  "name": "1953",
                  "dtype": "float64"
                },
                {
                  "name": "1954",
                  "dtype": "float64"
                },
                {
                  "name": "1955",
                  "dtype": "float64"
                },
                {
                  "name": "1956",
                  "dtype": "float64"
                },
                {
                  "name": "1957",
                  "dtype": "float64"
                },
                {
                  "name": "1958",
                  "dtype": "float64"
                },
                {
                  "name": "1959",
                  "dtype": "float64"
                },
                {
                  "name": "1960",
                  "dtype": "float64"
                },
                {
                  "name": "1960s",
                  "dtype": "float64"
                },
                {
                  "name": "1962",
                  "dtype": "float64"
                },
                {
                  "name": "1964",
                  "dtype": "float64"
                },
                {
                  "name": "1965",
                  "dtype": "float64"
                },
                {
                  "name": "1966",
                  "dtype": "float64"
                },
                {
                  "name": "1967",
                  "dtype": "float64"
                },
                {
                  "name": "1968",
                  "dtype": "float64"
                },
                {
                  "name": "1969",
                  "dtype": "float64"
                },
                {
                  "name": "1970",
                  "dtype": "float64"
                },
                {
                  "name": "1970s",
                  "dtype": "float64"
                },
                {
                  "name": "1971",
                  "dtype": "float64"
                },
                {
                  "name": "1972",
                  "dtype": "float64"
                },
                {
                  "name": "1973",
                  "dtype": "float64"
                },
                {
                  "name": "1974",
                  "dtype": "float64"
                },
                {
                  "name": "1975",
                  "dtype": "float64"
                },
                {
                  "name": "1976",
                  "dtype": "float64"
                },
                {
                  "name": "1977",
                  "dtype": "float64"
                },
                {
                  "name": "1978",
                  "dtype": "float64"
                },
                {
                  "name": "1979",
                  "dtype": "float64"
                },
                {
                  "name": "1980",
                  "dtype": "float64"
                },
                {
                  "name": "1980s",
                  "dtype": "float64"
                },
                {
                  "name": "1981",
                  "dtype": "float64"
                },
                {
                  "name": "1982",
                  "dtype": "float64"
                },
                {
                  "name": "1983",
                  "dtype": "float64"
                },
                {
                  "name": "1984",
                  "dtype": "float64"
                },
                {
                  "name": "1985",
                  "dtype": "float64"
                },
                {
                  "name": "1986",
                  "dtype": "float64"
                },
                {
                  "name": "1987",
                  "dtype": "float64"
                },
                {
                  "name": "1988",
                  "dtype": "float64"
                },
                {
                  "name": "1989",
                  "dtype": "float64"
                },
                {
                  "name": "1990",
                  "dtype": "float64"
                },
                {
                  "name": "1990s",
                  "dtype": "float64"
                },
                {
                  "name": "1991",
                  "dtype": "float64"
                },
                {
                  "name": "1992",
                  "dtype": "float64"
                },
                {
                  "name": "1993",
                  "dtype": "float64"
                },
                {
                  "name": "1994",
                  "dtype": "float64"
                },
                {
                  "name": "1995",
                  "dtype": "float64"
                },
                {
                  "name": "1996",
                  "dtype": "float64"
                },
                {
                  "name": "1997",
                  "dtype": "float64"
                },
                {
                  "name": "1998",
                  "dtype": "float64"
                },
                {
                  "name": "1999",
                  "dtype": "float64"
                },
                {
                  "name": "19th",
                  "dtype": "float64"
                },
                {
                  "name": "1st",
                  "dtype": "float64"
                },
                {
                  "name": "20",
                  "dtype": "float64"
                },
                {
                  "name": "200",
                  "dtype": "float64"
                },
                {
                  "name": "2000",
                  "dtype": "float64"
                },
                {
                  "name": "2001",
                  "dtype": "float64"
                },
                {
                  "name": "2002",
                  "dtype": "float64"
                },
                {
                  "name": "2003",
                  "dtype": "float64"
                },
                {
                  "name": "2004",
                  "dtype": "float64"
                },
                {
                  "name": "2005",
                  "dtype": "float64"
                },
                {
                  "name": "2006",
                  "dtype": "float64"
                },
                {
                  "name": "2007",
                  "dtype": "float64"
                },
                {
                  "name": "2008",
                  "dtype": "float64"
                },
                {
                  "name": "2009",
                  "dtype": "float64"
                },
                {
                  "name": "2010",
                  "dtype": "float64"
                },
                {
                  "name": "2011",
                  "dtype": "float64"
                },
                {
                  "name": "2012",
                  "dtype": "float64"
                },
                {
                  "name": "2013",
                  "dtype": "float64"
                },
                {
                  "name": "2014",
                  "dtype": "float64"
                },
                {
                  "name": "2015",
                  "dtype": "float64"
                },
                {
                  "name": "2016",
                  "dtype": "float64"
                },
                {
                  "name": "2017",
                  "dtype": "float64"
                },
                {
                  "name": "2018",
                  "dtype": "float64"
                },
                {
                  "name": "2019",
                  "dtype": "float64"
                },
                {
                  "name": "2020",
                  "dtype": "float64"
                },
                {
                  "name": "2025",
                  "dtype": "float64"
                },
                {
                  "name": "2027",
                  "dtype": "float64"
                },
                {
                  "name": "2028",
                  "dtype": "float64"
                },
                {
                  "name": "2029",
                  "dtype": "float64"
                },
                {
                  "name": "2035",
                  "dtype": "float64"
                },
                {
                  "name": "2046",
                  "dtype": "float64"
                },
                {
                  "name": "2047",
                  "dtype": "float64"
                },
                {
                  "name": "2058",
                  "dtype": "float64"
                },
                {
                  "name": "2087",
                  "dtype": "float64"
                },
                {
                  "name": "20s",
                  "dtype": "float64"
                },
                {
                  "name": "20th",
                  "dtype": "float64"
                },
                {
                  "name": "21",
                  "dtype": "float64"
                },
                {
                  "name": "2159",
                  "dtype": "float64"
                },
                {
                  "name": "2199",
                  "dtype": "float64"
                },
                {
                  "name": "21st",
                  "dtype": "float64"
                },
                {
                  "name": "22",
                  "dtype": "float64"
                },
                {
                  "name": "2257",
                  "dtype": "float64"
                },
                {
                  "name": "22nd",
                  "dtype": "float64"
                },
                {
                  "name": "23",
                  "dtype": "float64"
                },
                {
                  "name": "24",
                  "dtype": "float64"
                },
                {
                  "name": "2455",
                  "dtype": "float64"
                },
                {
                  "name": "25",
                  "dtype": "float64"
                },
                {
                  "name": "250",
                  "dtype": "float64"
                },
                {
                  "name": "2505",
                  "dtype": "float64"
                },
                {
                  "name": "250cc",
                  "dtype": "float64"
                },
                {
                  "name": "25th",
                  "dtype": "float64"
                },
                {
                  "name": "26",
                  "dtype": "float64"
                },
                {
                  "name": "27",
                  "dtype": "float64"
                },
                {
                  "name": "27th",
                  "dtype": "float64"
                },
                {
                  "name": "28",
                  "dtype": "float64"
                },
                {
                  "name": "280",
                  "dtype": "float64"
                },
                {
                  "name": "28th",
                  "dtype": "float64"
                },
                {
                  "name": "29",
                  "dtype": "float64"
                },
                {
                  "name": "298",
                  "dtype": "float64"
                },
                {
                  "name": "2nd",
                  "dtype": "float64"
                },
                {
                  "name": "30",
                  "dtype": "float64"
                },
                {
                  "name": "300",
                  "dtype": "float64"
                },
                {
                  "name": "3000",
                  "dtype": "float64"
                },
                {
                  "name": "30s",
                  "dtype": "float64"
                },
                {
                  "name": "30th",
                  "dtype": "float64"
                },
                {
                  "name": "31",
                  "dtype": "float64"
                },
                {
                  "name": "310lb",
                  "dtype": "float64"
                },
                {
                  "name": "32",
                  "dtype": "float64"
                },
                {
                  "name": "33",
                  "dtype": "float64"
                },
                {
                  "name": "344m",
                  "dtype": "float64"
                },
                {
                  "name": "35",
                  "dtype": "float64"
                },
                {
                  "name": "350",
                  "dtype": "float64"
                },
                {
                  "name": "370",
                  "dtype": "float64"
                },
                {
                  "name": "38",
                  "dtype": "float64"
                },
                {
                  "name": "39",
                  "dtype": "float64"
                },
                {
                  "name": "3d",
                  "dtype": "float64"
                },
                {
                  "name": "3po",
                  "dtype": "float64"
                },
                {
                  "name": "40",
                  "dtype": "float64"
                },
                {
                  "name": "400",
                  "dtype": "float64"
                },
                {
                  "name": "40s",
                  "dtype": "float64"
                },
                {
                  "name": "42",
                  "dtype": "float64"
                },
                {
                  "name": "43",
                  "dtype": "float64"
                },
                {
                  "name": "44",
                  "dtype": "float64"
                },
                {
                  "name": "47",
                  "dtype": "float64"
                },
                {
                  "name": "47th",
                  "dtype": "float64"
                },
                {
                  "name": "48",
                  "dtype": "float64"
                },
                {
                  "name": "480",
                  "dtype": "float64"
                },
                {
                  "name": "49",
                  "dtype": "float64"
                },
                {
                  "name": "4k",
                  "dtype": "float64"
                },
                {
                  "name": "4th",
                  "dtype": "float64"
                },
                {
                  "name": "50",
                  "dtype": "float64"
                },
                {
                  "name": "500",
                  "dtype": "float64"
                },
                {
                  "name": "50s",
                  "dtype": "float64"
                },
                {
                  "name": "50th",
                  "dtype": "float64"
                },
                {
                  "name": "51",
                  "dtype": "float64"
                },
                {
                  "name": "51st",
                  "dtype": "float64"
                },
                {
                  "name": "53",
                  "dtype": "float64"
                },
                {
                  "name": "533",
                  "dtype": "float64"
                },
                {
                  "name": "54",
                  "dtype": "float64"
                },
                {
                  "name": "56",
                  "dtype": "float64"
                },
                {
                  "name": "58",
                  "dtype": "float64"
                },
                {
                  "name": "59",
                  "dtype": "float64"
                },
                {
                  "name": "5m",
                  "dtype": "float64"
                },
                {
                  "name": "5th",
                  "dtype": "float64"
                },
                {
                  "name": "60",
                  "dtype": "float64"
                },
                {
                  "name": "600",
                  "dtype": "float64"
                },
                {
                  "name": "60s",
                  "dtype": "float64"
                },
                {
                  "name": "63",
                  "dtype": "float64"
                },
                {
                  "name": "64",
                  "dtype": "float64"
                },
                {
                  "name": "643",
                  "dtype": "float64"
                },
                {
                  "name": "65th",
                  "dtype": "float64"
                },
                {
                  "name": "66",
                  "dtype": "float64"
                },
                {
                  "name": "69",
                  "dtype": "float64"
                },
                {
                  "name": "6th",
                  "dtype": "float64"
                },
                {
                  "name": "70",
                  "dtype": "float64"
                },
                {
                  "name": "700",
                  "dtype": "float64"
                },
                {
                  "name": "70mm",
                  "dtype": "float64"
                },
                {
                  "name": "70s",
                  "dtype": "float64"
                },
                {
                  "name": "72",
                  "dtype": "float64"
                },
                {
                  "name": "73",
                  "dtype": "float64"
                },
                {
                  "name": "747",
                  "dtype": "float64"
                },
                {
                  "name": "74th",
                  "dtype": "float64"
                },
                {
                  "name": "75",
                  "dtype": "float64"
                },
                {
                  "name": "75th",
                  "dtype": "float64"
                },
                {
                  "name": "78",
                  "dtype": "float64"
                },
                {
                  "name": "79",
                  "dtype": "float64"
                },
                {
                  "name": "7th",
                  "dtype": "float64"
                },
                {
                  "name": "80",
                  "dtype": "float64"
                },
                {
                  "name": "800",
                  "dtype": "float64"
                },
                {
                  "name": "80s",
                  "dtype": "float64"
                },
                {
                  "name": "81",
                  "dtype": "float64"
                },
                {
                  "name": "83",
                  "dtype": "float64"
                },
                {
                  "name": "84",
                  "dtype": "float64"
                },
                {
                  "name": "86",
                  "dtype": "float64"
                },
                {
                  "name": "88",
                  "dtype": "float64"
                },
                {
                  "name": "8km",
                  "dtype": "float64"
                },
                {
                  "name": "8th",
                  "dtype": "float64"
                },
                {
                  "name": "90",
                  "dtype": "float64"
                },
                {
                  "name": "9000",
                  "dtype": "float64"
                },
                {
                  "name": "900lb",
                  "dtype": "float64"
                },
                {
                  "name": "90210",
                  "dtype": "float64"
                },
                {
                  "name": "90s",
                  "dtype": "float64"
                },
                {
                  "name": "911",
                  "dtype": "float64"
                },
                {
                  "name": "922",
                  "dtype": "float64"
                },
                {
                  "name": "92nd",
                  "dtype": "float64"
                },
                {
                  "name": "93",
                  "dtype": "float64"
                },
                {
                  "name": "96",
                  "dtype": "float64"
                },
                {
                  "name": "98",
                  "dtype": "float64"
                },
                {
                  "name": "99",
                  "dtype": "float64"
                },
                {
                  "name": "9th",
                  "dtype": "float64"
                },
                {
                  "name": "_wizard",
                  "dtype": "float64"
                },
                {
                  "name": "aa",
                  "dtype": "float64"
                },
                {
                  "name": "aaa",
                  "dtype": "float64"
                },
                {
                  "name": "aames",
                  "dtype": "float64"
                },
                {
                  "name": "aang",
                  "dtype": "float64"
                },
                {
                  "name": "aaron",
                  "dtype": "float64"
                },
                {
                  "name": "aarons",
                  "dtype": "float64"
                },
                {
                  "name": "aba",
                  "dtype": "float64"
                },
                {
                  "name": "abaddon",
                  "dtype": "float64"
                },
                {
                  "name": "abagnale",
                  "dtype": "float64"
                },
                {
                  "name": "abandon",
                  "dtype": "float64"
                },
                {
                  "name": "abandoned",
                  "dtype": "float64"
                },
                {
                  "name": "abandoning",
                  "dtype": "float64"
                },
                {
                  "name": "abandonment",
                  "dtype": "float64"
                },
                {
                  "name": "abandons",
                  "dtype": "float64"
                },
                {
                  "name": "abba",
                  "dtype": "float64"
                },
                {
                  "name": "abbas",
                  "dtype": "float64"
                },
                {
                  "name": "abbate",
                  "dtype": "float64"
                },
                {
                  "name": "abberline",
                  "dtype": "float64"
                },
                {
                  "name": "abbey",
                  "dtype": "float64"
                },
                {
                  "name": "abbie",
                  "dtype": "float64"
                },
                {
                  "name": "abbott",
                  "dtype": "float64"
                },
                {
                  "name": "abby",
                  "dtype": "float64"
                },
                {
                  "name": "abdicates",
                  "dtype": "float64"
                },
                {
                  "name": "abdication",
                  "dtype": "float64"
                },
                {
                  "name": "abduct",
                  "dtype": "float64"
                },
                {
                  "name": "abducted",
                  "dtype": "float64"
                },
                {
                  "name": "abduction",
                  "dtype": "float64"
                },
                {
                  "name": "abductions",
                  "dtype": "float64"
                },
                {
                  "name": "abductors",
                  "dtype": "float64"
                },
                {
                  "name": "abducts",
                  "dtype": "float64"
                },
                {
                  "name": "abe",
                  "dtype": "float64"
                },
                {
                  "name": "abel",
                  "dtype": "float64"
                },
                {
                  "name": "aberdeen",
                  "dtype": "float64"
                },
                {
                  "name": "abernathy",
                  "dtype": "float64"
                },
                {
                  "name": "abhorrent",
                  "dtype": "float64"
                },
                {
                  "name": "abhors",
                  "dtype": "float64"
                },
                {
                  "name": "abide",
                  "dtype": "float64"
                },
                {
                  "name": "abigail",
                  "dtype": "float64"
                },
                {
                  "name": "abilities",
                  "dtype": "float64"
                },
                {
                  "name": "ability",
                  "dtype": "float64"
                },
                {
                  "name": "ablai",
                  "dtype": "float64"
                },
                {
                  "name": "able",
                  "dtype": "float64"
                },
                {
                  "name": "ableman",
                  "dtype": "float64"
                },
                {
                  "name": "abo",
                  "dtype": "float64"
                },
                {
                  "name": "aboard",
                  "dtype": "float64"
                },
                {
                  "name": "abode",
                  "dtype": "float64"
                },
                {
                  "name": "abolish",
                  "dtype": "float64"
                },
                {
                  "name": "abolition",
                  "dtype": "float64"
                },
                {
                  "name": "abolitionist",
                  "dtype": "float64"
                },
                {
                  "name": "aboriginal",
                  "dtype": "float64"
                },
                {
                  "name": "aborigines",
                  "dtype": "float64"
                },
                {
                  "name": "abortion",
                  "dtype": "float64"
                },
                {
                  "name": "abortionist",
                  "dtype": "float64"
                },
                {
                  "name": "abound",
                  "dtype": "float64"
                },
                {
                  "name": "abraham",
                  "dtype": "float64"
                },
                {
                  "name": "abrams",
                  "dtype": "float64"
                },
                {
                  "name": "abrasive",
                  "dtype": "float64"
                },
                {
                  "name": "abroad",
                  "dtype": "float64"
                },
                {
                  "name": "abrupt",
                  "dtype": "float64"
                },
                {
                  "name": "abruptly",
                  "dtype": "float64"
                },
                {
                  "name": "absence",
                  "dtype": "float64"
                },
                {
                  "name": "absences",
                  "dtype": "float64"
                },
                {
                  "name": "absent",
                  "dtype": "float64"
                },
                {
                  "name": "absentia",
                  "dtype": "float64"
                },
                {
                  "name": "abshire",
                  "dtype": "float64"
                },
                {
                  "name": "absolute",
                  "dtype": "float64"
                },
                {
                  "name": "absolutely",
                  "dtype": "float64"
                },
                {
                  "name": "absorbed",
                  "dtype": "float64"
                },
                {
                  "name": "absorbs",
                  "dtype": "float64"
                },
                {
                  "name": "absorption",
                  "dtype": "float64"
                },
                {
                  "name": "abstract",
                  "dtype": "float64"
                },
                {
                  "name": "abstraction",
                  "dtype": "float64"
                },
                {
                  "name": "absurd",
                  "dtype": "float64"
                },
                {
                  "name": "abu",
                  "dtype": "float64"
                },
                {
                  "name": "abundance",
                  "dtype": "float64"
                },
                {
                  "name": "abuse",
                  "dtype": "float64"
                },
                {
                  "name": "abused",
                  "dtype": "float64"
                },
                {
                  "name": "abuses",
                  "dtype": "float64"
                },
                {
                  "name": "abusing",
                  "dtype": "float64"
                },
                {
                  "name": "abusive",
                  "dtype": "float64"
                },
                {
                  "name": "abyss",
                  "dtype": "float64"
                },
                {
                  "name": "aca",
                  "dtype": "float64"
                },
                {
                  "name": "academia",
                  "dtype": "float64"
                },
                {
                  "name": "academic",
                  "dtype": "float64"
                },
                {
                  "name": "academy",
                  "dtype": "float64"
                },
                {
                  "name": "acapulco",
                  "dtype": "float64"
                },
                {
                  "name": "accelerated",
                  "dtype": "float64"
                },
                {
                  "name": "accelerating",
                  "dtype": "float64"
                },
                {
                  "name": "accept",
                  "dtype": "float64"
                },
                {
                  "name": "acceptable",
                  "dtype": "float64"
                },
                {
                  "name": "acceptance",
                  "dtype": "float64"
                },
                {
                  "name": "accepted",
                  "dtype": "float64"
                },
                {
                  "name": "accepting",
                  "dtype": "float64"
                },
                {
                  "name": "accepts",
                  "dtype": "float64"
                },
                {
                  "name": "access",
                  "dtype": "float64"
                },
                {
                  "name": "accessible",
                  "dtype": "float64"
                },
                {
                  "name": "accessories",
                  "dtype": "float64"
                },
                {
                  "name": "accident",
                  "dtype": "float64"
                },
                {
                  "name": "accidental",
                  "dtype": "float64"
                },
                {
                  "name": "accidentally",
                  "dtype": "float64"
                },
                {
                  "name": "accidentaly",
                  "dtype": "float64"
                },
                {
                  "name": "accidents",
                  "dtype": "float64"
                },
                {
                  "name": "acclaim",
                  "dtype": "float64"
                },
                {
                  "name": "acclaimed",
                  "dtype": "float64"
                },
                {
                  "name": "acclimated",
                  "dtype": "float64"
                },
                {
                  "name": "acclimates",
                  "dtype": "float64"
                },
                {
                  "name": "accolades",
                  "dtype": "float64"
                },
                {
                  "name": "accompanied",
                  "dtype": "float64"
                },
                {
                  "name": "accompanies",
                  "dtype": "float64"
                },
                {
                  "name": "accompany",
                  "dtype": "float64"
                },
                {
                  "name": "accompanying",
                  "dtype": "float64"
                },
                {
                  "name": "accomplice",
                  "dtype": "float64"
                },
                {
                  "name": "accomplices",
                  "dtype": "float64"
                },
                {
                  "name": "accomplish",
                  "dtype": "float64"
                },
                {
                  "name": "accomplished",
                  "dtype": "float64"
                },
                {
                  "name": "accordance",
                  "dtype": "float64"
                },
                {
                  "name": "accordian",
                  "dtype": "float64"
                },
                {
                  "name": "according",
                  "dtype": "float64"
                },
                {
                  "name": "account",
                  "dtype": "float64"
                },
                {
                  "name": "accountable",
                  "dtype": "float64"
                },
                {
                  "name": "accountant",
                  "dtype": "float64"
                },
                {
                  "name": "accountants",
                  "dtype": "float64"
                },
                {
                  "name": "accounting",
                  "dtype": "float64"
                },
                {
                  "name": "accounts",
                  "dtype": "float64"
                },
                {
                  "name": "accra",
                  "dtype": "float64"
                },
                {
                  "name": "accumulation",
                  "dtype": "float64"
                },
                {
                  "name": "accuracy",
                  "dtype": "float64"
                },
                {
                  "name": "accursed",
                  "dtype": "float64"
                },
                {
                  "name": "accusations",
                  "dtype": "float64"
                },
                {
                  "name": "accuse",
                  "dtype": "float64"
                },
                {
                  "name": "accused",
                  "dtype": "float64"
                },
                {
                  "name": "accuser",
                  "dtype": "float64"
                },
                {
                  "name": "accuses",
                  "dtype": "float64"
                },
                {
                  "name": "ace",
                  "dtype": "float64"
                },
                {
                  "name": "achieve",
                  "dtype": "float64"
                },
                {
                  "name": "achieved",
                  "dtype": "float64"
                },
                {
                  "name": "achievement",
                  "dtype": "float64"
                },
                {
                  "name": "achievements",
                  "dtype": "float64"
                },
                {
                  "name": "achieves",
                  "dtype": "float64"
                },
                {
                  "name": "achieving",
                  "dtype": "float64"
                },
                {
                  "name": "achilles",
                  "dtype": "float64"
                },
                {
                  "name": "achim",
                  "dtype": "float64"
                },
                {
                  "name": "aching",
                  "dtype": "float64"
                },
                {
                  "name": "acid",
                  "dtype": "float64"
                },
                {
                  "name": "acker",
                  "dtype": "float64"
                },
                {
                  "name": "acquaintance",
                  "dtype": "float64"
                },
                {
                  "name": "acquaintances",
                  "dtype": "float64"
                },
                {
                  "name": "acquainted",
                  "dtype": "float64"
                },
                {
                  "name": "acquire",
                  "dtype": "float64"
                },
                {
                  "name": "acquired",
                  "dtype": "float64"
                },
                {
                  "name": "acquires",
                  "dtype": "float64"
                },
                {
                  "name": "acquiring",
                  "dtype": "float64"
                },
                {
                  "name": "acquittal",
                  "dtype": "float64"
                },
                {
                  "name": "acquitted",
                  "dtype": "float64"
                },
                {
                  "name": "acre",
                  "dtype": "float64"
                },
                {
                  "name": "acrimonious",
                  "dtype": "float64"
                },
                {
                  "name": "acrobat",
                  "dtype": "float64"
                },
                {
                  "name": "act",
                  "dtype": "float64"
                },
                {
                  "name": "acting",
                  "dtype": "float64"
                },
                {
                  "name": "action",
                  "dtype": "float64"
                },
                {
                  "name": "actions",
                  "dtype": "float64"
                },
                {
                  "name": "activate",
                  "dtype": "float64"
                },
                {
                  "name": "active",
                  "dtype": "float64"
                },
                {
                  "name": "activist",
                  "dtype": "float64"
                },
                {
                  "name": "activists",
                  "dtype": "float64"
                },
                {
                  "name": "activities",
                  "dtype": "float64"
                },
                {
                  "name": "_deepnote_index_column",
                  "dtype": "int64"
                }
              ],
              "rows": [
                {
                  "10": 0,
                  "11": 0,
                  "12": 0,
                  "13": 0,
                  "14": 0,
                  "15": 0,
                  "16": 0,
                  "17": 0,
                  "18": 0,
                  "19": 0,
                  "20": 0,
                  "21": 0,
                  "22": 0,
                  "23": 0,
                  "24": 0,
                  "25": 0,
                  "26": 0,
                  "27": 0,
                  "28": 0,
                  "29": 0,
                  "30": 0,
                  "31": 0,
                  "32": 0,
                  "33": 0,
                  "35": 0,
                  "38": 0,
                  "39": 0,
                  "40": 0,
                  "42": 0,
                  "43": 0,
                  "44": 0,
                  "47": 0,
                  "48": 0,
                  "49": 0,
                  "50": 0,
                  "51": 0,
                  "53": 0,
                  "54": 0,
                  "56": 0,
                  "58": 0,
                  "59": 0,
                  "60": 0,
                  "63": 0,
                  "64": 0,
                  "66": 0,
                  "69": 0,
                  "70": 0,
                  "72": 0,
                  "73": 0,
                  "75": 0,
                  "78": 0,
                  "79": 0,
                  "80": 0,
                  "81": 0,
                  "83": 0,
                  "84": 0,
                  "86": 0,
                  "88": 0,
                  "90": 0,
                  "93": 0,
                  "96": 0,
                  "98": 0,
                  "99": 0,
                  "100": 0,
                  "101": 0,
                  "108": 0,
                  "114": 0,
                  "117": 0,
                  "118": 0,
                  "119": 0,
                  "140": 0,
                  "142": 0,
                  "148": 0,
                  "150": 0,
                  "161": 0,
                  "170": 0,
                  "180": 0,
                  "191": 0,
                  "200": 0,
                  "250": 0,
                  "280": 0,
                  "298": 0,
                  "300": 0,
                  "350": 0,
                  "370": 0,
                  "400": 0,
                  "480": 0,
                  "500": 0,
                  "533": 0,
                  "600": 0,
                  "643": 0,
                  "700": 0,
                  "747": 0,
                  "800": 0,
                  "911": 0,
                  "922": 0,
                  "1000": 0,
                  "1200": 0,
                  "1215": 0,
                  "1250": 0,
                  "1300": 0,
                  "1408": 0,
                  "1429": 0,
                  "1536": 0,
                  "1644": 0,
                  "1681": 0,
                  "1691": 0,
                  "1748": 0,
                  "1776": 0,
                  "1800": 0,
                  "1818": 0,
                  "1820": 0,
                  "1824": 0,
                  "1831": 0,
                  "1834": 0,
                  "1836": 0,
                  "1838": 0,
                  "1839": 0,
                  "1841": 0,
                  "1845": 0,
                  "1850": 0,
                  "1856": 0,
                  "1857": 0,
                  "1860": 0,
                  "1862": 0,
                  "1863": 0,
                  "1875": 0,
                  "1876": 0,
                  "1879": 0,
                  "1882": 0,
                  "1885": 0,
                  "1889": 0,
                  "1890": 0,
                  "1900": 0,
                  "1903": 0,
                  "1905": 0,
                  "1910": 0,
                  "1911": 0,
                  "1912": 0,
                  "1914": 0,
                  "1915": 0,
                  "1917": 0,
                  "1918": 0,
                  "1919": 0,
                  "1920": 0,
                  "1921": 0,
                  "1922": 0,
                  "1924": 0,
                  "1925": 0,
                  "1926": 0,
                  "1927": 0,
                  "1928": 0,
                  "1929": 0,
                  "1930": 0,
                  "1931": 0,
                  "1932": 0,
                  "1933": 0,
                  "1934": 0,
                  "1936": 0,
                  "1937": 0,
                  "1939": 0,
                  "1940": 0,
                  "1941": 0,
                  "1942": 0,
                  "1943": 0,
                  "1944": 0,
                  "1945": 0,
                  "1946": 0,
                  "1947": 0,
                  "1949": 0,
                  "1950": 0,
                  "1951": 0,
                  "1952": 0,
                  "1953": 0,
                  "1954": 0,
                  "1955": 0,
                  "1956": 0,
                  "1957": 0,
                  "1958": 0,
                  "1959": 0,
                  "1960": 0,
                  "1962": 0,
                  "1964": 0,
                  "1965": 0,
                  "1966": 0,
                  "1967": 0,
                  "1968": 0,
                  "1969": 0,
                  "1970": 0,
                  "1971": 0,
                  "1972": 0,
                  "1973": 0,
                  "1974": 0,
                  "1975": 0,
                  "1976": 0,
                  "1977": 0,
                  "1978": 0,
                  "1979": 0,
                  "1980": 0,
                  "1981": 0,
                  "1982": 0,
                  "1983": 0,
                  "1984": 0,
                  "1985": 0,
                  "1986": 0,
                  "1987": 0,
                  "1988": 0,
                  "1989": 0,
                  "1990": 0,
                  "1991": 0,
                  "1992": 0,
                  "1993": 0,
                  "1994": 0,
                  "1995": 0,
                  "1996": 0,
                  "1997": 0,
                  "1998": 0,
                  "1999": 0,
                  "2000": 0,
                  "2001": 0,
                  "2002": 0,
                  "2003": 0,
                  "2004": 0,
                  "2005": 0,
                  "2006": 0,
                  "2007": 0,
                  "2008": 0,
                  "2009": 0,
                  "2010": 0,
                  "2011": 0,
                  "2012": 0,
                  "2013": 0,
                  "2014": 0,
                  "2015": 0,
                  "2016": 0,
                  "2017": 0,
                  "2018": 0,
                  "2019": 0,
                  "2020": 0,
                  "2025": 0,
                  "2027": 0,
                  "2028": 0,
                  "2029": 0,
                  "2035": 0,
                  "2046": 0,
                  "2047": 0,
                  "2058": 0,
                  "2087": 0,
                  "2159": 0,
                  "2199": 0,
                  "2257": 0,
                  "2455": 0,
                  "2505": 0,
                  "3000": 0,
                  "9000": 0,
                  "90210": 0,
                  "00": 0,
                  "000": 0,
                  "007": 0,
                  "07am": 0,
                  "10th": 0,
                  "11th": 0,
                  "125th": 0,
                  "12th": 0,
                  "13th": 0,
                  "14pm": 0,
                  "14th": 0,
                  "150th": 0,
                  "1520s": 0,
                  "15th": 0,
                  "1600s": 0,
                  "1630s": 0,
                  "16th": 0,
                  "1700s": 0,
                  "173rd": 0,
                  "17th": 0,
                  "1820s": 0,
                  "1850s": 0,
                  "1870s": 0,
                  "1880s": 0,
                  "1890s": 0,
                  "18th": 0,
                  "1900s": 0,
                  "1910s": 0,
                  "1920s": 0,
                  "1930s": 0,
                  "1940s": 0,
                  "1950s": 0,
                  "1960s": 0,
                  "1970s": 0,
                  "1980s": 0,
                  "1990s": 0,
                  "19th": 0,
                  "1st": 0,
                  "20s": 0,
                  "20th": 0,
                  "21st": 0,
                  "22nd": 0.3055534742040413,
                  "250cc": 0,
                  "25th": 0,
                  "27th": 0,
                  "28th": 0,
                  "2nd": 0,
                  "30s": 0,
                  "30th": 0,
                  "310lb": 0,
                  "344m": 0,
                  "3d": 0,
                  "3po": 0,
                  "40s": 0,
                  "47th": 0,
                  "4k": 0,
                  "4th": 0,
                  "50s": 0,
                  "50th": 0,
                  "51st": 0,
                  "5m": 0,
                  "5th": 0,
                  "60s": 0,
                  "65th": 0,
                  "6th": 0,
                  "70mm": 0,
                  "70s": 0,
                  "74th": 0,
                  "75th": 0,
                  "7th": 0,
                  "80s": 0,
                  "8km": 0,
                  "8th": 0,
                  "900lb": 0,
                  "90s": 0,
                  "92nd": 0,
                  "9th": 0,
                  "_wizard": 0,
                  "aa": 0,
                  "aaa": 0,
                  "aames": 0,
                  "aang": 0,
                  "aaron": 0,
                  "aarons": 0,
                  "aba": 0,
                  "abaddon": 0,
                  "abagnale": 0,
                  "abandon": 0,
                  "abandoned": 0,
                  "abandoning": 0,
                  "abandonment": 0,
                  "abandons": 0,
                  "abba": 0,
                  "abbas": 0,
                  "abbate": 0,
                  "abberline": 0,
                  "abbey": 0,
                  "abbie": 0,
                  "abbott": 0,
                  "abby": 0,
                  "abdicates": 0,
                  "abdication": 0,
                  "abduct": 0,
                  "abducted": 0,
                  "abduction": 0,
                  "abductions": 0,
                  "abductors": 0,
                  "abducts": 0,
                  "abe": 0,
                  "abel": 0,
                  "aberdeen": 0,
                  "abernathy": 0,
                  "abhorrent": 0,
                  "abhors": 0,
                  "abide": 0,
                  "abigail": 0,
                  "abilities": 0,
                  "ability": 0,
                  "ablai": 0,
                  "able": 0,
                  "ableman": 0,
                  "abo": 0,
                  "aboard": 0,
                  "abode": 0,
                  "abolish": 0,
                  "abolition": 0,
                  "abolitionist": 0,
                  "aboriginal": 0,
                  "aborigines": 0,
                  "abortion": 0,
                  "abortionist": 0,
                  "abound": 0,
                  "abraham": 0,
                  "abrams": 0,
                  "abrasive": 0,
                  "abroad": 0,
                  "abrupt": 0,
                  "abruptly": 0,
                  "absence": 0,
                  "absences": 0,
                  "absent": 0,
                  "absentia": 0,
                  "abshire": 0,
                  "absolute": 0,
                  "absolutely": 0,
                  "absorbed": 0,
                  "absorbs": 0,
                  "absorption": 0,
                  "abstract": 0,
                  "abstraction": 0,
                  "absurd": 0,
                  "abu": 0,
                  "abundance": 0,
                  "abuse": 0,
                  "abused": 0,
                  "abuses": 0,
                  "abusing": 0,
                  "abusive": 0,
                  "abyss": 0,
                  "aca": 0,
                  "academia": 0,
                  "academic": 0,
                  "academy": 0,
                  "acapulco": 0,
                  "accelerated": 0,
                  "accelerating": 0,
                  "accept": 0,
                  "acceptable": 0,
                  "acceptance": 0,
                  "accepted": 0,
                  "accepting": 0,
                  "accepts": 0,
                  "access": 0,
                  "accessible": 0,
                  "accessories": 0,
                  "accident": 0,
                  "accidental": 0,
                  "accidentally": 0,
                  "accidentaly": 0,
                  "accidents": 0,
                  "acclaim": 0,
                  "acclaimed": 0,
                  "acclimated": 0,
                  "acclimates": 0,
                  "accolades": 0,
                  "accompanied": 0,
                  "accompanies": 0,
                  "accompany": 0,
                  "accompanying": 0,
                  "accomplice": 0,
                  "accomplices": 0,
                  "accomplish": 0,
                  "accomplished": 0,
                  "accordance": 0,
                  "accordian": 0,
                  "according": 0,
                  "account": 0,
                  "accountable": 0,
                  "accountant": 0,
                  "accountants": 0,
                  "accounting": 0,
                  "accounts": 0,
                  "accra": 0,
                  "accumulation": 0,
                  "accuracy": 0,
                  "accursed": 0,
                  "accusations": 0,
                  "accuse": 0,
                  "accused": 0,
                  "accuser": 0,
                  "accuses": 0,
                  "ace": 0,
                  "achieve": 0,
                  "achieved": 0,
                  "achievement": 0,
                  "achievements": 0,
                  "achieves": 0,
                  "achieving": 0,
                  "achilles": 0,
                  "achim": 0,
                  "aching": 0,
                  "acid": 0,
                  "acker": 0,
                  "acquaintance": 0,
                  "acquaintances": 0,
                  "acquainted": 0,
                  "acquire": 0,
                  "acquired": 0,
                  "acquires": 0,
                  "acquiring": 0,
                  "acquittal": 0,
                  "acquitted": 0,
                  "acre": 0,
                  "acrimonious": 0,
                  "acrobat": 0,
                  "act": 0,
                  "acting": 0,
                  "action": 0,
                  "actions": 0,
                  "activate": 0,
                  "active": 0,
                  "activist": 0,
                  "activists": 0,
                  "activities": 0,
                  "_deepnote_index_column": 0
                },
                {
                  "10": 0,
                  "11": 0,
                  "12": 0,
                  "13": 0,
                  "14": 0,
                  "15": 0,
                  "16": 0,
                  "17": 0,
                  "18": 0,
                  "19": 0,
                  "20": 0,
                  "21": 0,
                  "22": 0,
                  "23": 0,
                  "24": 0,
                  "25": 0,
                  "26": 0,
                  "27": 0,
                  "28": 0,
                  "29": 0,
                  "30": 0,
                  "31": 0,
                  "32": 0,
                  "33": 0,
                  "35": 0,
                  "38": 0,
                  "39": 0,
                  "40": 0,
                  "42": 0,
                  "43": 0,
                  "44": 0,
                  "47": 0,
                  "48": 0,
                  "49": 0,
                  "50": 0,
                  "51": 0,
                  "53": 0,
                  "54": 0,
                  "56": 0,
                  "58": 0,
                  "59": 0,
                  "60": 0,
                  "63": 0,
                  "64": 0,
                  "66": 0,
                  "69": 0,
                  "70": 0,
                  "72": 0,
                  "73": 0,
                  "75": 0,
                  "78": 0,
                  "79": 0,
                  "80": 0,
                  "81": 0,
                  "83": 0,
                  "84": 0,
                  "86": 0,
                  "88": 0,
                  "90": 0,
                  "93": 0,
                  "96": 0,
                  "98": 0,
                  "99": 0,
                  "100": 0,
                  "101": 0,
                  "108": 0,
                  "114": 0,
                  "117": 0,
                  "118": 0,
                  "119": 0,
                  "140": 0,
                  "142": 0,
                  "148": 0,
                  "150": 0,
                  "161": 0,
                  "170": 0,
                  "180": 0,
                  "191": 0,
                  "200": 0,
                  "250": 0,
                  "280": 0,
                  "298": 0,
                  "300": 0,
                  "350": 0,
                  "370": 0,
                  "400": 0,
                  "480": 0,
                  "500": 0,
                  "533": 0,
                  "600": 0,
                  "643": 0,
                  "700": 0,
                  "747": 0,
                  "800": 0,
                  "911": 0,
                  "922": 0,
                  "1000": 0,
                  "1200": 0,
                  "1215": 0,
                  "1250": 0,
                  "1300": 0,
                  "1408": 0,
                  "1429": 0,
                  "1536": 0,
                  "1644": 0,
                  "1681": 0,
                  "1691": 0,
                  "1748": 0,
                  "1776": 0,
                  "1800": 0,
                  "1818": 0,
                  "1820": 0,
                  "1824": 0,
                  "1831": 0,
                  "1834": 0,
                  "1836": 0,
                  "1838": 0,
                  "1839": 0,
                  "1841": 0,
                  "1845": 0,
                  "1850": 0,
                  "1856": 0,
                  "1857": 0,
                  "1860": 0,
                  "1862": 0,
                  "1863": 0,
                  "1875": 0,
                  "1876": 0,
                  "1879": 0,
                  "1882": 0,
                  "1885": 0,
                  "1889": 0,
                  "1890": 0,
                  "1900": 0,
                  "1903": 0,
                  "1905": 0,
                  "1910": 0,
                  "1911": 0,
                  "1912": 0,
                  "1914": 0,
                  "1915": 0,
                  "1917": 0,
                  "1918": 0,
                  "1919": 0,
                  "1920": 0,
                  "1921": 0,
                  "1922": 0,
                  "1924": 0,
                  "1925": 0,
                  "1926": 0,
                  "1927": 0,
                  "1928": 0,
                  "1929": 0,
                  "1930": 0,
                  "1931": 0,
                  "1932": 0,
                  "1933": 0,
                  "1934": 0,
                  "1936": 0,
                  "1937": 0,
                  "1939": 0,
                  "1940": 0,
                  "1941": 0,
                  "1942": 0,
                  "1943": 0,
                  "1944": 0,
                  "1945": 0,
                  "1946": 0,
                  "1947": 0,
                  "1949": 0,
                  "1950": 0,
                  "1951": 0,
                  "1952": 0,
                  "1953": 0,
                  "1954": 0,
                  "1955": 0,
                  "1956": 0,
                  "1957": 0,
                  "1958": 0,
                  "1959": 0,
                  "1960": 0,
                  "1962": 0,
                  "1964": 0,
                  "1965": 0,
                  "1966": 0,
                  "1967": 0,
                  "1968": 0,
                  "1969": 0,
                  "1970": 0,
                  "1971": 0,
                  "1972": 0,
                  "1973": 0,
                  "1974": 0,
                  "1975": 0,
                  "1976": 0,
                  "1977": 0,
                  "1978": 0,
                  "1979": 0,
                  "1980": 0,
                  "1981": 0,
                  "1982": 0,
                  "1983": 0,
                  "1984": 0,
                  "1985": 0,
                  "1986": 0,
                  "1987": 0,
                  "1988": 0,
                  "1989": 0,
                  "1990": 0,
                  "1991": 0,
                  "1992": 0,
                  "1993": 0,
                  "1994": 0,
                  "1995": 0,
                  "1996": 0,
                  "1997": 0,
                  "1998": 0,
                  "1999": 0,
                  "2000": 0,
                  "2001": 0,
                  "2002": 0,
                  "2003": 0,
                  "2004": 0,
                  "2005": 0,
                  "2006": 0,
                  "2007": 0,
                  "2008": 0,
                  "2009": 0,
                  "2010": 0,
                  "2011": 0,
                  "2012": 0,
                  "2013": 0,
                  "2014": 0,
                  "2015": 0,
                  "2016": 0,
                  "2017": 0,
                  "2018": 0,
                  "2019": 0,
                  "2020": 0,
                  "2025": 0,
                  "2027": 0,
                  "2028": 0,
                  "2029": 0,
                  "2035": 0,
                  "2046": 0,
                  "2047": 0,
                  "2058": 0,
                  "2087": 0,
                  "2159": 0,
                  "2199": 0,
                  "2257": 0,
                  "2455": 0,
                  "2505": 0,
                  "3000": 0,
                  "9000": 0,
                  "90210": 0,
                  "00": 0,
                  "000": 0,
                  "007": 0,
                  "07am": 0,
                  "10th": 0,
                  "11th": 0,
                  "125th": 0,
                  "12th": 0,
                  "13th": 0,
                  "14pm": 0,
                  "14th": 0,
                  "150th": 0,
                  "1520s": 0,
                  "15th": 0,
                  "1600s": 0,
                  "1630s": 0,
                  "16th": 0,
                  "1700s": 0,
                  "173rd": 0,
                  "17th": 0,
                  "1820s": 0,
                  "1850s": 0,
                  "1870s": 0,
                  "1880s": 0,
                  "1890s": 0,
                  "18th": 0,
                  "1900s": 0,
                  "1910s": 0,
                  "1920s": 0,
                  "1930s": 0,
                  "1940s": 0,
                  "1950s": 0,
                  "1960s": 0,
                  "1970s": 0,
                  "1980s": 0,
                  "1990s": 0,
                  "19th": 0,
                  "1st": 0,
                  "20s": 0,
                  "20th": 0,
                  "21st": 0,
                  "22nd": 0,
                  "250cc": 0,
                  "25th": 0,
                  "27th": 0,
                  "28th": 0,
                  "2nd": 0,
                  "30s": 0,
                  "30th": 0,
                  "310lb": 0,
                  "344m": 0,
                  "3d": 0,
                  "3po": 0,
                  "40s": 0,
                  "47th": 0,
                  "4k": 0,
                  "4th": 0,
                  "50s": 0,
                  "50th": 0,
                  "51st": 0,
                  "5m": 0,
                  "5th": 0,
                  "60s": 0,
                  "65th": 0,
                  "6th": 0,
                  "70mm": 0,
                  "70s": 0,
                  "74th": 0,
                  "75th": 0,
                  "7th": 0,
                  "80s": 0,
                  "8km": 0,
                  "8th": 0,
                  "900lb": 0,
                  "90s": 0,
                  "92nd": 0,
                  "9th": 0,
                  "_wizard": 0,
                  "aa": 0,
                  "aaa": 0,
                  "aames": 0,
                  "aang": 0,
                  "aaron": 0,
                  "aarons": 0,
                  "aba": 0,
                  "abaddon": 0,
                  "abagnale": 0,
                  "abandon": 0,
                  "abandoned": 0,
                  "abandoning": 0,
                  "abandonment": 0,
                  "abandons": 0,
                  "abba": 0,
                  "abbas": 0,
                  "abbate": 0,
                  "abberline": 0,
                  "abbey": 0,
                  "abbie": 0,
                  "abbott": 0,
                  "abby": 0,
                  "abdicates": 0,
                  "abdication": 0,
                  "abduct": 0,
                  "abducted": 0,
                  "abduction": 0,
                  "abductions": 0,
                  "abductors": 0,
                  "abducts": 0,
                  "abe": 0,
                  "abel": 0,
                  "aberdeen": 0,
                  "abernathy": 0,
                  "abhorrent": 0,
                  "abhors": 0,
                  "abide": 0,
                  "abigail": 0,
                  "abilities": 0,
                  "ability": 0,
                  "ablai": 0,
                  "able": 0,
                  "ableman": 0,
                  "abo": 0,
                  "aboard": 0,
                  "abode": 0,
                  "abolish": 0,
                  "abolition": 0,
                  "abolitionist": 0,
                  "aboriginal": 0,
                  "aborigines": 0,
                  "abortion": 0,
                  "abortionist": 0,
                  "abound": 0,
                  "abraham": 0,
                  "abrams": 0,
                  "abrasive": 0,
                  "abroad": 0,
                  "abrupt": 0,
                  "abruptly": 0,
                  "absence": 0,
                  "absences": 0,
                  "absent": 0,
                  "absentia": 0,
                  "abshire": 0,
                  "absolute": 0,
                  "absolutely": 0,
                  "absorbed": 0,
                  "absorbs": 0,
                  "absorption": 0,
                  "abstract": 0,
                  "abstraction": 0,
                  "absurd": 0,
                  "abu": 0,
                  "abundance": 0,
                  "abuse": 0,
                  "abused": 0,
                  "abuses": 0,
                  "abusing": 0,
                  "abusive": 0,
                  "abyss": 0,
                  "aca": 0,
                  "academia": 0,
                  "academic": 0,
                  "academy": 0,
                  "acapulco": 0,
                  "accelerated": 0,
                  "accelerating": 0,
                  "accept": 0,
                  "acceptable": 0,
                  "acceptance": 0,
                  "accepted": 0,
                  "accepting": 0,
                  "accepts": 0,
                  "access": 0,
                  "accessible": 0,
                  "accessories": 0,
                  "accident": 0,
                  "accidental": 0,
                  "accidentally": 0,
                  "accidentaly": 0,
                  "accidents": 0,
                  "acclaim": 0,
                  "acclaimed": 0,
                  "acclimated": 0,
                  "acclimates": 0,
                  "accolades": 0,
                  "accompanied": 0,
                  "accompanies": 0,
                  "accompany": 0,
                  "accompanying": 0,
                  "accomplice": 0,
                  "accomplices": 0,
                  "accomplish": 0,
                  "accomplished": 0,
                  "accordance": 0,
                  "accordian": 0,
                  "according": 0,
                  "account": 0,
                  "accountable": 0,
                  "accountant": 0,
                  "accountants": 0,
                  "accounting": 0,
                  "accounts": 0,
                  "accra": 0,
                  "accumulation": 0,
                  "accuracy": 0,
                  "accursed": 0,
                  "accusations": 0,
                  "accuse": 0,
                  "accused": 0,
                  "accuser": 0,
                  "accuses": 0,
                  "ace": 0,
                  "achieve": 0,
                  "achieved": 0,
                  "achievement": 0,
                  "achievements": 0,
                  "achieves": 0,
                  "achieving": 0,
                  "achilles": 0,
                  "achim": 0,
                  "aching": 0,
                  "acid": 0,
                  "acker": 0,
                  "acquaintance": 0,
                  "acquaintances": 0,
                  "acquainted": 0,
                  "acquire": 0,
                  "acquired": 0,
                  "acquires": 0,
                  "acquiring": 0,
                  "acquittal": 0,
                  "acquitted": 0,
                  "acre": 0,
                  "acrimonious": 0,
                  "acrobat": 0,
                  "act": 0,
                  "acting": 0,
                  "action": 0,
                  "actions": 0,
                  "activate": 0,
                  "active": 0,
                  "activist": 0,
                  "activists": 0,
                  "activities": 0,
                  "_deepnote_index_column": 1
                },
                {
                  "10": 0,
                  "11": 0,
                  "12": 0,
                  "13": 0,
                  "14": 0,
                  "15": 0,
                  "16": 0,
                  "17": 0,
                  "18": 0,
                  "19": 0,
                  "20": 0,
                  "21": 0,
                  "22": 0,
                  "23": 0,
                  "24": 0,
                  "25": 0,
                  "26": 0,
                  "27": 0,
                  "28": 0,
                  "29": 0,
                  "30": 0,
                  "31": 0,
                  "32": 0,
                  "33": 0,
                  "35": 0,
                  "38": 0,
                  "39": 0,
                  "40": 0,
                  "42": 0,
                  "43": 0,
                  "44": 0,
                  "47": 0,
                  "48": 0,
                  "49": 0,
                  "50": 0,
                  "51": 0,
                  "53": 0,
                  "54": 0,
                  "56": 0,
                  "58": 0,
                  "59": 0,
                  "60": 0,
                  "63": 0,
                  "64": 0,
                  "66": 0,
                  "69": 0,
                  "70": 0,
                  "72": 0,
                  "73": 0,
                  "75": 0,
                  "78": 0,
                  "79": 0,
                  "80": 0,
                  "81": 0,
                  "83": 0,
                  "84": 0,
                  "86": 0,
                  "88": 0,
                  "90": 0,
                  "93": 0,
                  "96": 0,
                  "98": 0,
                  "99": 0,
                  "100": 0,
                  "101": 0,
                  "108": 0,
                  "114": 0,
                  "117": 0,
                  "118": 0,
                  "119": 0,
                  "140": 0,
                  "142": 0,
                  "148": 0,
                  "150": 0,
                  "161": 0,
                  "170": 0,
                  "180": 0,
                  "191": 0,
                  "200": 0,
                  "250": 0,
                  "280": 0,
                  "298": 0,
                  "300": 0,
                  "350": 0,
                  "370": 0,
                  "400": 0,
                  "480": 0,
                  "500": 0,
                  "533": 0,
                  "600": 0,
                  "643": 0,
                  "700": 0,
                  "747": 0,
                  "800": 0,
                  "911": 0,
                  "922": 0,
                  "1000": 0,
                  "1200": 0,
                  "1215": 0,
                  "1250": 0,
                  "1300": 0,
                  "1408": 0,
                  "1429": 0,
                  "1536": 0,
                  "1644": 0,
                  "1681": 0,
                  "1691": 0,
                  "1748": 0,
                  "1776": 0,
                  "1800": 0,
                  "1818": 0,
                  "1820": 0,
                  "1824": 0,
                  "1831": 0,
                  "1834": 0,
                  "1836": 0,
                  "1838": 0,
                  "1839": 0,
                  "1841": 0,
                  "1845": 0,
                  "1850": 0,
                  "1856": 0,
                  "1857": 0,
                  "1860": 0,
                  "1862": 0,
                  "1863": 0,
                  "1875": 0,
                  "1876": 0,
                  "1879": 0,
                  "1882": 0,
                  "1885": 0,
                  "1889": 0,
                  "1890": 0,
                  "1900": 0,
                  "1903": 0,
                  "1905": 0,
                  "1910": 0,
                  "1911": 0,
                  "1912": 0,
                  "1914": 0,
                  "1915": 0,
                  "1917": 0,
                  "1918": 0,
                  "1919": 0,
                  "1920": 0,
                  "1921": 0,
                  "1922": 0,
                  "1924": 0,
                  "1925": 0,
                  "1926": 0,
                  "1927": 0,
                  "1928": 0,
                  "1929": 0,
                  "1930": 0,
                  "1931": 0,
                  "1932": 0,
                  "1933": 0,
                  "1934": 0,
                  "1936": 0,
                  "1937": 0,
                  "1939": 0,
                  "1940": 0,
                  "1941": 0,
                  "1942": 0,
                  "1943": 0,
                  "1944": 0,
                  "1945": 0,
                  "1946": 0,
                  "1947": 0,
                  "1949": 0,
                  "1950": 0,
                  "1951": 0,
                  "1952": 0,
                  "1953": 0,
                  "1954": 0,
                  "1955": 0,
                  "1956": 0,
                  "1957": 0,
                  "1958": 0,
                  "1959": 0,
                  "1960": 0,
                  "1962": 0,
                  "1964": 0,
                  "1965": 0,
                  "1966": 0,
                  "1967": 0,
                  "1968": 0,
                  "1969": 0,
                  "1970": 0,
                  "1971": 0,
                  "1972": 0,
                  "1973": 0,
                  "1974": 0,
                  "1975": 0,
                  "1976": 0,
                  "1977": 0,
                  "1978": 0,
                  "1979": 0,
                  "1980": 0,
                  "1981": 0,
                  "1982": 0,
                  "1983": 0,
                  "1984": 0,
                  "1985": 0,
                  "1986": 0,
                  "1987": 0,
                  "1988": 0,
                  "1989": 0,
                  "1990": 0,
                  "1991": 0,
                  "1992": 0,
                  "1993": 0,
                  "1994": 0,
                  "1995": 0,
                  "1996": 0,
                  "1997": 0,
                  "1998": 0,
                  "1999": 0,
                  "2000": 0,
                  "2001": 0,
                  "2002": 0,
                  "2003": 0,
                  "2004": 0,
                  "2005": 0,
                  "2006": 0,
                  "2007": 0,
                  "2008": 0,
                  "2009": 0,
                  "2010": 0,
                  "2011": 0,
                  "2012": 0,
                  "2013": 0,
                  "2014": 0,
                  "2015": 0,
                  "2016": 0,
                  "2017": 0,
                  "2018": 0,
                  "2019": 0,
                  "2020": 0,
                  "2025": 0,
                  "2027": 0,
                  "2028": 0,
                  "2029": 0,
                  "2035": 0,
                  "2046": 0,
                  "2047": 0,
                  "2058": 0,
                  "2087": 0,
                  "2159": 0,
                  "2199": 0,
                  "2257": 0,
                  "2455": 0,
                  "2505": 0,
                  "3000": 0,
                  "9000": 0,
                  "90210": 0,
                  "00": 0,
                  "000": 0,
                  "007": 0,
                  "07am": 0,
                  "10th": 0,
                  "11th": 0,
                  "125th": 0,
                  "12th": 0,
                  "13th": 0,
                  "14pm": 0,
                  "14th": 0,
                  "150th": 0,
                  "1520s": 0,
                  "15th": 0,
                  "1600s": 0,
                  "1630s": 0,
                  "16th": 0,
                  "1700s": 0,
                  "173rd": 0,
                  "17th": 0,
                  "1820s": 0,
                  "1850s": 0,
                  "1870s": 0,
                  "1880s": 0,
                  "1890s": 0,
                  "18th": 0,
                  "1900s": 0,
                  "1910s": 0,
                  "1920s": 0,
                  "1930s": 0,
                  "1940s": 0,
                  "1950s": 0,
                  "1960s": 0,
                  "1970s": 0,
                  "1980s": 0,
                  "1990s": 0,
                  "19th": 0,
                  "1st": 0,
                  "20s": 0,
                  "20th": 0,
                  "21st": 0,
                  "22nd": 0,
                  "250cc": 0,
                  "25th": 0,
                  "27th": 0,
                  "28th": 0,
                  "2nd": 0,
                  "30s": 0,
                  "30th": 0,
                  "310lb": 0,
                  "344m": 0,
                  "3d": 0,
                  "3po": 0,
                  "40s": 0,
                  "47th": 0,
                  "4k": 0,
                  "4th": 0,
                  "50s": 0,
                  "50th": 0,
                  "51st": 0,
                  "5m": 0,
                  "5th": 0,
                  "60s": 0,
                  "65th": 0,
                  "6th": 0,
                  "70mm": 0,
                  "70s": 0,
                  "74th": 0,
                  "75th": 0,
                  "7th": 0,
                  "80s": 0,
                  "8km": 0,
                  "8th": 0,
                  "900lb": 0,
                  "90s": 0,
                  "92nd": 0,
                  "9th": 0,
                  "_wizard": 0,
                  "aa": 0,
                  "aaa": 0,
                  "aames": 0,
                  "aang": 0,
                  "aaron": 0,
                  "aarons": 0,
                  "aba": 0,
                  "abaddon": 0,
                  "abagnale": 0,
                  "abandon": 0,
                  "abandoned": 0,
                  "abandoning": 0,
                  "abandonment": 0,
                  "abandons": 0,
                  "abba": 0,
                  "abbas": 0,
                  "abbate": 0,
                  "abberline": 0,
                  "abbey": 0,
                  "abbie": 0,
                  "abbott": 0,
                  "abby": 0,
                  "abdicates": 0,
                  "abdication": 0,
                  "abduct": 0,
                  "abducted": 0,
                  "abduction": 0,
                  "abductions": 0,
                  "abductors": 0,
                  "abducts": 0,
                  "abe": 0,
                  "abel": 0,
                  "aberdeen": 0,
                  "abernathy": 0,
                  "abhorrent": 0,
                  "abhors": 0,
                  "abide": 0,
                  "abigail": 0,
                  "abilities": 0,
                  "ability": 0,
                  "ablai": 0,
                  "able": 0,
                  "ableman": 0,
                  "abo": 0,
                  "aboard": 0,
                  "abode": 0,
                  "abolish": 0,
                  "abolition": 0,
                  "abolitionist": 0,
                  "aboriginal": 0,
                  "aborigines": 0,
                  "abortion": 0,
                  "abortionist": 0,
                  "abound": 0,
                  "abraham": 0,
                  "abrams": 0,
                  "abrasive": 0,
                  "abroad": 0,
                  "abrupt": 0,
                  "abruptly": 0,
                  "absence": 0,
                  "absences": 0,
                  "absent": 0,
                  "absentia": 0,
                  "abshire": 0,
                  "absolute": 0,
                  "absolutely": 0,
                  "absorbed": 0,
                  "absorbs": 0,
                  "absorption": 0,
                  "abstract": 0,
                  "abstraction": 0,
                  "absurd": 0,
                  "abu": 0,
                  "abundance": 0,
                  "abuse": 0,
                  "abused": 0,
                  "abuses": 0,
                  "abusing": 0,
                  "abusive": 0,
                  "abyss": 0,
                  "aca": 0,
                  "academia": 0,
                  "academic": 0,
                  "academy": 0,
                  "acapulco": 0,
                  "accelerated": 0,
                  "accelerating": 0,
                  "accept": 0,
                  "acceptable": 0,
                  "acceptance": 0,
                  "accepted": 0,
                  "accepting": 0,
                  "accepts": 0,
                  "access": 0,
                  "accessible": 0,
                  "accessories": 0,
                  "accident": 0,
                  "accidental": 0,
                  "accidentally": 0,
                  "accidentaly": 0,
                  "accidents": 0,
                  "acclaim": 0,
                  "acclaimed": 0,
                  "acclimated": 0,
                  "acclimates": 0,
                  "accolades": 0,
                  "accompanied": 0,
                  "accompanies": 0,
                  "accompany": 0,
                  "accompanying": 0,
                  "accomplice": 0,
                  "accomplices": 0,
                  "accomplish": 0,
                  "accomplished": 0,
                  "accordance": 0,
                  "accordian": 0,
                  "according": 0,
                  "account": 0,
                  "accountable": 0,
                  "accountant": 0,
                  "accountants": 0,
                  "accounting": 0,
                  "accounts": 0,
                  "accra": 0,
                  "accumulation": 0,
                  "accuracy": 0,
                  "accursed": 0,
                  "accusations": 0,
                  "accuse": 0,
                  "accused": 0,
                  "accuser": 0,
                  "accuses": 0,
                  "ace": 0,
                  "achieve": 0,
                  "achieved": 0,
                  "achievement": 0,
                  "achievements": 0,
                  "achieves": 0,
                  "achieving": 0,
                  "achilles": 0,
                  "achim": 0,
                  "aching": 0,
                  "acid": 0,
                  "acker": 0,
                  "acquaintance": 0,
                  "acquaintances": 0,
                  "acquainted": 0,
                  "acquire": 0,
                  "acquired": 0,
                  "acquires": 0,
                  "acquiring": 0,
                  "acquittal": 0,
                  "acquitted": 0,
                  "acre": 0,
                  "acrimonious": 0,
                  "acrobat": 0,
                  "act": 0,
                  "acting": 0,
                  "action": 0,
                  "actions": 0,
                  "activate": 0,
                  "active": 0,
                  "activist": 0,
                  "activists": 0,
                  "activities": 0,
                  "_deepnote_index_column": 2
                },
                {
                  "10": 0,
                  "11": 0,
                  "12": 0,
                  "13": 0,
                  "14": 0,
                  "15": 0,
                  "16": 0,
                  "17": 0,
                  "18": 0,
                  "19": 0,
                  "20": 0,
                  "21": 0,
                  "22": 0,
                  "23": 0,
                  "24": 0,
                  "25": 0,
                  "26": 0,
                  "27": 0,
                  "28": 0,
                  "29": 0,
                  "30": 0,
                  "31": 0,
                  "32": 0,
                  "33": 0,
                  "35": 0,
                  "38": 0,
                  "39": 0,
                  "40": 0,
                  "42": 0,
                  "43": 0,
                  "44": 0,
                  "47": 0,
                  "48": 0,
                  "49": 0,
                  "50": 0,
                  "51": 0,
                  "53": 0,
                  "54": 0,
                  "56": 0,
                  "58": 0,
                  "59": 0,
                  "60": 0,
                  "63": 0,
                  "64": 0,
                  "66": 0,
                  "69": 0,
                  "70": 0,
                  "72": 0,
                  "73": 0,
                  "75": 0,
                  "78": 0,
                  "79": 0,
                  "80": 0,
                  "81": 0,
                  "83": 0,
                  "84": 0,
                  "86": 0,
                  "88": 0,
                  "90": 0,
                  "93": 0,
                  "96": 0,
                  "98": 0,
                  "99": 0,
                  "100": 0,
                  "101": 0,
                  "108": 0,
                  "114": 0,
                  "117": 0,
                  "118": 0,
                  "119": 0,
                  "140": 0,
                  "142": 0,
                  "148": 0,
                  "150": 0,
                  "161": 0,
                  "170": 0,
                  "180": 0,
                  "191": 0,
                  "200": 0,
                  "250": 0,
                  "280": 0,
                  "298": 0,
                  "300": 0,
                  "350": 0,
                  "370": 0,
                  "400": 0,
                  "480": 0,
                  "500": 0,
                  "533": 0,
                  "600": 0,
                  "643": 0,
                  "700": 0,
                  "747": 0,
                  "800": 0,
                  "911": 0,
                  "922": 0,
                  "1000": 0,
                  "1200": 0,
                  "1215": 0,
                  "1250": 0,
                  "1300": 0,
                  "1408": 0,
                  "1429": 0,
                  "1536": 0,
                  "1644": 0,
                  "1681": 0,
                  "1691": 0,
                  "1748": 0,
                  "1776": 0,
                  "1800": 0,
                  "1818": 0,
                  "1820": 0,
                  "1824": 0,
                  "1831": 0,
                  "1834": 0,
                  "1836": 0,
                  "1838": 0,
                  "1839": 0,
                  "1841": 0,
                  "1845": 0,
                  "1850": 0,
                  "1856": 0,
                  "1857": 0,
                  "1860": 0,
                  "1862": 0,
                  "1863": 0,
                  "1875": 0,
                  "1876": 0,
                  "1879": 0,
                  "1882": 0,
                  "1885": 0,
                  "1889": 0,
                  "1890": 0,
                  "1900": 0,
                  "1903": 0,
                  "1905": 0,
                  "1910": 0,
                  "1911": 0,
                  "1912": 0,
                  "1914": 0,
                  "1915": 0,
                  "1917": 0,
                  "1918": 0,
                  "1919": 0,
                  "1920": 0,
                  "1921": 0,
                  "1922": 0,
                  "1924": 0,
                  "1925": 0,
                  "1926": 0,
                  "1927": 0,
                  "1928": 0,
                  "1929": 0,
                  "1930": 0,
                  "1931": 0,
                  "1932": 0,
                  "1933": 0,
                  "1934": 0,
                  "1936": 0,
                  "1937": 0,
                  "1939": 0,
                  "1940": 0,
                  "1941": 0,
                  "1942": 0,
                  "1943": 0,
                  "1944": 0,
                  "1945": 0,
                  "1946": 0,
                  "1947": 0,
                  "1949": 0,
                  "1950": 0,
                  "1951": 0,
                  "1952": 0,
                  "1953": 0,
                  "1954": 0,
                  "1955": 0,
                  "1956": 0,
                  "1957": 0,
                  "1958": 0,
                  "1959": 0,
                  "1960": 0,
                  "1962": 0,
                  "1964": 0,
                  "1965": 0,
                  "1966": 0,
                  "1967": 0,
                  "1968": 0,
                  "1969": 0,
                  "1970": 0,
                  "1971": 0,
                  "1972": 0,
                  "1973": 0,
                  "1974": 0,
                  "1975": 0,
                  "1976": 0,
                  "1977": 0,
                  "1978": 0,
                  "1979": 0,
                  "1980": 0,
                  "1981": 0,
                  "1982": 0,
                  "1983": 0,
                  "1984": 0,
                  "1985": 0,
                  "1986": 0,
                  "1987": 0,
                  "1988": 0,
                  "1989": 0,
                  "1990": 0,
                  "1991": 0,
                  "1992": 0,
                  "1993": 0,
                  "1994": 0,
                  "1995": 0,
                  "1996": 0,
                  "1997": 0,
                  "1998": 0,
                  "1999": 0,
                  "2000": 0,
                  "2001": 0,
                  "2002": 0,
                  "2003": 0,
                  "2004": 0,
                  "2005": 0,
                  "2006": 0,
                  "2007": 0,
                  "2008": 0,
                  "2009": 0,
                  "2010": 0,
                  "2011": 0,
                  "2012": 0,
                  "2013": 0,
                  "2014": 0,
                  "2015": 0,
                  "2016": 0,
                  "2017": 0,
                  "2018": 0,
                  "2019": 0,
                  "2020": 0,
                  "2025": 0,
                  "2027": 0,
                  "2028": 0,
                  "2029": 0,
                  "2035": 0,
                  "2046": 0,
                  "2047": 0,
                  "2058": 0,
                  "2087": 0,
                  "2159": 0,
                  "2199": 0,
                  "2257": 0,
                  "2455": 0,
                  "2505": 0,
                  "3000": 0,
                  "9000": 0,
                  "90210": 0,
                  "00": 0,
                  "000": 0,
                  "007": 0,
                  "07am": 0,
                  "10th": 0,
                  "11th": 0,
                  "125th": 0,
                  "12th": 0,
                  "13th": 0,
                  "14pm": 0,
                  "14th": 0,
                  "150th": 0,
                  "1520s": 0,
                  "15th": 0,
                  "1600s": 0,
                  "1630s": 0,
                  "16th": 0,
                  "1700s": 0,
                  "173rd": 0,
                  "17th": 0,
                  "1820s": 0,
                  "1850s": 0,
                  "1870s": 0,
                  "1880s": 0,
                  "1890s": 0,
                  "18th": 0,
                  "1900s": 0,
                  "1910s": 0,
                  "1920s": 0,
                  "1930s": 0,
                  "1940s": 0,
                  "1950s": 0,
                  "1960s": 0,
                  "1970s": 0,
                  "1980s": 0,
                  "1990s": 0,
                  "19th": 0,
                  "1st": 0,
                  "20s": 0,
                  "20th": 0,
                  "21st": 0,
                  "22nd": 0,
                  "250cc": 0,
                  "25th": 0,
                  "27th": 0,
                  "28th": 0,
                  "2nd": 0,
                  "30s": 0,
                  "30th": 0,
                  "310lb": 0,
                  "344m": 0,
                  "3d": 0,
                  "3po": 0,
                  "40s": 0,
                  "47th": 0,
                  "4k": 0,
                  "4th": 0,
                  "50s": 0,
                  "50th": 0,
                  "51st": 0,
                  "5m": 0,
                  "5th": 0,
                  "60s": 0,
                  "65th": 0,
                  "6th": 0,
                  "70mm": 0,
                  "70s": 0,
                  "74th": 0,
                  "75th": 0,
                  "7th": 0,
                  "80s": 0,
                  "8km": 0,
                  "8th": 0,
                  "900lb": 0,
                  "90s": 0,
                  "92nd": 0,
                  "9th": 0,
                  "_wizard": 0,
                  "aa": 0,
                  "aaa": 0,
                  "aames": 0,
                  "aang": 0,
                  "aaron": 0,
                  "aarons": 0,
                  "aba": 0,
                  "abaddon": 0,
                  "abagnale": 0,
                  "abandon": 0,
                  "abandoned": 0,
                  "abandoning": 0,
                  "abandonment": 0,
                  "abandons": 0,
                  "abba": 0,
                  "abbas": 0,
                  "abbate": 0,
                  "abberline": 0,
                  "abbey": 0,
                  "abbie": 0,
                  "abbott": 0,
                  "abby": 0,
                  "abdicates": 0,
                  "abdication": 0,
                  "abduct": 0,
                  "abducted": 0,
                  "abduction": 0,
                  "abductions": 0,
                  "abductors": 0,
                  "abducts": 0,
                  "abe": 0,
                  "abel": 0,
                  "aberdeen": 0,
                  "abernathy": 0,
                  "abhorrent": 0,
                  "abhors": 0,
                  "abide": 0,
                  "abigail": 0,
                  "abilities": 0,
                  "ability": 0,
                  "ablai": 0,
                  "able": 0,
                  "ableman": 0,
                  "abo": 0,
                  "aboard": 0,
                  "abode": 0,
                  "abolish": 0,
                  "abolition": 0,
                  "abolitionist": 0,
                  "aboriginal": 0,
                  "aborigines": 0,
                  "abortion": 0,
                  "abortionist": 0,
                  "abound": 0,
                  "abraham": 0,
                  "abrams": 0,
                  "abrasive": 0,
                  "abroad": 0,
                  "abrupt": 0,
                  "abruptly": 0,
                  "absence": 0,
                  "absences": 0,
                  "absent": 0,
                  "absentia": 0,
                  "abshire": 0,
                  "absolute": 0,
                  "absolutely": 0,
                  "absorbed": 0,
                  "absorbs": 0,
                  "absorption": 0,
                  "abstract": 0,
                  "abstraction": 0,
                  "absurd": 0,
                  "abu": 0,
                  "abundance": 0,
                  "abuse": 0,
                  "abused": 0,
                  "abuses": 0,
                  "abusing": 0,
                  "abusive": 0,
                  "abyss": 0,
                  "aca": 0,
                  "academia": 0,
                  "academic": 0,
                  "academy": 0,
                  "acapulco": 0,
                  "accelerated": 0,
                  "accelerating": 0,
                  "accept": 0,
                  "acceptable": 0,
                  "acceptance": 0,
                  "accepted": 0,
                  "accepting": 0,
                  "accepts": 0,
                  "access": 0,
                  "accessible": 0,
                  "accessories": 0,
                  "accident": 0,
                  "accidental": 0,
                  "accidentally": 0,
                  "accidentaly": 0,
                  "accidents": 0,
                  "acclaim": 0,
                  "acclaimed": 0,
                  "acclimated": 0,
                  "acclimates": 0,
                  "accolades": 0,
                  "accompanied": 0,
                  "accompanies": 0,
                  "accompany": 0,
                  "accompanying": 0,
                  "accomplice": 0,
                  "accomplices": 0,
                  "accomplish": 0,
                  "accomplished": 0,
                  "accordance": 0,
                  "accordian": 0,
                  "according": 0,
                  "account": 0,
                  "accountable": 0,
                  "accountant": 0,
                  "accountants": 0,
                  "accounting": 0,
                  "accounts": 0,
                  "accra": 0,
                  "accumulation": 0,
                  "accuracy": 0,
                  "accursed": 0,
                  "accusations": 0,
                  "accuse": 0,
                  "accused": 0,
                  "accuser": 0,
                  "accuses": 0,
                  "ace": 0,
                  "achieve": 0,
                  "achieved": 0,
                  "achievement": 0,
                  "achievements": 0,
                  "achieves": 0,
                  "achieving": 0,
                  "achilles": 0,
                  "achim": 0,
                  "aching": 0,
                  "acid": 0,
                  "acker": 0,
                  "acquaintance": 0,
                  "acquaintances": 0,
                  "acquainted": 0,
                  "acquire": 0,
                  "acquired": 0,
                  "acquires": 0,
                  "acquiring": 0,
                  "acquittal": 0,
                  "acquitted": 0,
                  "acre": 0,
                  "acrimonious": 0,
                  "acrobat": 0,
                  "act": 0,
                  "acting": 0,
                  "action": 0,
                  "actions": 0,
                  "activate": 0,
                  "active": 0,
                  "activist": 0,
                  "activists": 0,
                  "activities": 0,
                  "_deepnote_index_column": 3
                },
                {
                  "10": 0,
                  "11": 0,
                  "12": 0,
                  "13": 0,
                  "14": 0,
                  "15": 0,
                  "16": 0,
                  "17": 0,
                  "18": 0,
                  "19": 0,
                  "20": 0,
                  "21": 0,
                  "22": 0,
                  "23": 0,
                  "24": 0,
                  "25": 0,
                  "26": 0,
                  "27": 0,
                  "28": 0,
                  "29": 0,
                  "30": 0,
                  "31": 0,
                  "32": 0,
                  "33": 0,
                  "35": 0,
                  "38": 0,
                  "39": 0,
                  "40": 0,
                  "42": 0,
                  "43": 0,
                  "44": 0,
                  "47": 0,
                  "48": 0,
                  "49": 0,
                  "50": 0,
                  "51": 0,
                  "53": 0,
                  "54": 0,
                  "56": 0,
                  "58": 0,
                  "59": 0,
                  "60": 0,
                  "63": 0,
                  "64": 0,
                  "66": 0,
                  "69": 0,
                  "70": 0,
                  "72": 0,
                  "73": 0,
                  "75": 0,
                  "78": 0,
                  "79": 0,
                  "80": 0,
                  "81": 0,
                  "83": 0,
                  "84": 0,
                  "86": 0,
                  "88": 0,
                  "90": 0,
                  "93": 0,
                  "96": 0,
                  "98": 0,
                  "99": 0,
                  "100": 0,
                  "101": 0,
                  "108": 0,
                  "114": 0,
                  "117": 0,
                  "118": 0,
                  "119": 0,
                  "140": 0,
                  "142": 0,
                  "148": 0,
                  "150": 0,
                  "161": 0,
                  "170": 0,
                  "180": 0,
                  "191": 0,
                  "200": 0,
                  "250": 0,
                  "280": 0,
                  "298": 0,
                  "300": 0,
                  "350": 0,
                  "370": 0,
                  "400": 0,
                  "480": 0,
                  "500": 0,
                  "533": 0,
                  "600": 0,
                  "643": 0,
                  "700": 0,
                  "747": 0,
                  "800": 0,
                  "911": 0,
                  "922": 0,
                  "1000": 0,
                  "1200": 0,
                  "1215": 0,
                  "1250": 0,
                  "1300": 0,
                  "1408": 0,
                  "1429": 0,
                  "1536": 0,
                  "1644": 0,
                  "1681": 0,
                  "1691": 0,
                  "1748": 0,
                  "1776": 0,
                  "1800": 0,
                  "1818": 0,
                  "1820": 0,
                  "1824": 0,
                  "1831": 0,
                  "1834": 0,
                  "1836": 0,
                  "1838": 0,
                  "1839": 0,
                  "1841": 0,
                  "1845": 0,
                  "1850": 0,
                  "1856": 0,
                  "1857": 0,
                  "1860": 0,
                  "1862": 0,
                  "1863": 0,
                  "1875": 0,
                  "1876": 0,
                  "1879": 0,
                  "1882": 0,
                  "1885": 0,
                  "1889": 0,
                  "1890": 0,
                  "1900": 0,
                  "1903": 0,
                  "1905": 0,
                  "1910": 0,
                  "1911": 0,
                  "1912": 0,
                  "1914": 0,
                  "1915": 0,
                  "1917": 0,
                  "1918": 0,
                  "1919": 0,
                  "1920": 0,
                  "1921": 0,
                  "1922": 0,
                  "1924": 0,
                  "1925": 0,
                  "1926": 0,
                  "1927": 0,
                  "1928": 0,
                  "1929": 0,
                  "1930": 0,
                  "1931": 0,
                  "1932": 0,
                  "1933": 0,
                  "1934": 0,
                  "1936": 0,
                  "1937": 0,
                  "1939": 0,
                  "1940": 0,
                  "1941": 0,
                  "1942": 0,
                  "1943": 0,
                  "1944": 0,
                  "1945": 0,
                  "1946": 0,
                  "1947": 0,
                  "1949": 0,
                  "1950": 0,
                  "1951": 0,
                  "1952": 0,
                  "1953": 0,
                  "1954": 0,
                  "1955": 0,
                  "1956": 0,
                  "1957": 0,
                  "1958": 0,
                  "1959": 0,
                  "1960": 0,
                  "1962": 0,
                  "1964": 0,
                  "1965": 0,
                  "1966": 0,
                  "1967": 0,
                  "1968": 0,
                  "1969": 0,
                  "1970": 0,
                  "1971": 0,
                  "1972": 0,
                  "1973": 0,
                  "1974": 0,
                  "1975": 0,
                  "1976": 0,
                  "1977": 0,
                  "1978": 0,
                  "1979": 0,
                  "1980": 0,
                  "1981": 0,
                  "1982": 0,
                  "1983": 0,
                  "1984": 0,
                  "1985": 0,
                  "1986": 0,
                  "1987": 0,
                  "1988": 0,
                  "1989": 0,
                  "1990": 0,
                  "1991": 0,
                  "1992": 0,
                  "1993": 0,
                  "1994": 0,
                  "1995": 0,
                  "1996": 0,
                  "1997": 0,
                  "1998": 0,
                  "1999": 0,
                  "2000": 0,
                  "2001": 0,
                  "2002": 0,
                  "2003": 0,
                  "2004": 0,
                  "2005": 0,
                  "2006": 0,
                  "2007": 0,
                  "2008": 0,
                  "2009": 0,
                  "2010": 0,
                  "2011": 0,
                  "2012": 0,
                  "2013": 0,
                  "2014": 0,
                  "2015": 0,
                  "2016": 0,
                  "2017": 0,
                  "2018": 0,
                  "2019": 0,
                  "2020": 0,
                  "2025": 0,
                  "2027": 0,
                  "2028": 0,
                  "2029": 0,
                  "2035": 0,
                  "2046": 0,
                  "2047": 0,
                  "2058": 0,
                  "2087": 0,
                  "2159": 0,
                  "2199": 0,
                  "2257": 0,
                  "2455": 0,
                  "2505": 0,
                  "3000": 0,
                  "9000": 0,
                  "90210": 0,
                  "00": 0,
                  "000": 0,
                  "007": 0,
                  "07am": 0,
                  "10th": 0,
                  "11th": 0,
                  "125th": 0,
                  "12th": 0,
                  "13th": 0,
                  "14pm": 0,
                  "14th": 0,
                  "150th": 0,
                  "1520s": 0,
                  "15th": 0,
                  "1600s": 0,
                  "1630s": 0,
                  "16th": 0,
                  "1700s": 0,
                  "173rd": 0,
                  "17th": 0,
                  "1820s": 0,
                  "1850s": 0,
                  "1870s": 0,
                  "1880s": 0,
                  "1890s": 0,
                  "18th": 0,
                  "1900s": 0,
                  "1910s": 0,
                  "1920s": 0,
                  "1930s": 0,
                  "1940s": 0,
                  "1950s": 0,
                  "1960s": 0,
                  "1970s": 0,
                  "1980s": 0,
                  "1990s": 0,
                  "19th": 0,
                  "1st": 0,
                  "20s": 0,
                  "20th": 0,
                  "21st": 0,
                  "22nd": 0,
                  "250cc": 0,
                  "25th": 0,
                  "27th": 0,
                  "28th": 0,
                  "2nd": 0,
                  "30s": 0,
                  "30th": 0,
                  "310lb": 0,
                  "344m": 0,
                  "3d": 0,
                  "3po": 0,
                  "40s": 0,
                  "47th": 0,
                  "4k": 0,
                  "4th": 0,
                  "50s": 0,
                  "50th": 0,
                  "51st": 0,
                  "5m": 0,
                  "5th": 0,
                  "60s": 0,
                  "65th": 0,
                  "6th": 0,
                  "70mm": 0,
                  "70s": 0,
                  "74th": 0,
                  "75th": 0,
                  "7th": 0,
                  "80s": 0,
                  "8km": 0,
                  "8th": 0,
                  "900lb": 0,
                  "90s": 0,
                  "92nd": 0,
                  "9th": 0,
                  "_wizard": 0,
                  "aa": 0,
                  "aaa": 0,
                  "aames": 0,
                  "aang": 0,
                  "aaron": 0,
                  "aarons": 0,
                  "aba": 0,
                  "abaddon": 0,
                  "abagnale": 0,
                  "abandon": 0,
                  "abandoned": 0,
                  "abandoning": 0,
                  "abandonment": 0,
                  "abandons": 0,
                  "abba": 0,
                  "abbas": 0,
                  "abbate": 0,
                  "abberline": 0,
                  "abbey": 0,
                  "abbie": 0,
                  "abbott": 0,
                  "abby": 0,
                  "abdicates": 0,
                  "abdication": 0,
                  "abduct": 0,
                  "abducted": 0,
                  "abduction": 0,
                  "abductions": 0,
                  "abductors": 0,
                  "abducts": 0,
                  "abe": 0,
                  "abel": 0,
                  "aberdeen": 0,
                  "abernathy": 0,
                  "abhorrent": 0,
                  "abhors": 0,
                  "abide": 0,
                  "abigail": 0,
                  "abilities": 0,
                  "ability": 0,
                  "ablai": 0,
                  "able": 0,
                  "ableman": 0,
                  "abo": 0,
                  "aboard": 0,
                  "abode": 0,
                  "abolish": 0,
                  "abolition": 0,
                  "abolitionist": 0,
                  "aboriginal": 0,
                  "aborigines": 0,
                  "abortion": 0,
                  "abortionist": 0,
                  "abound": 0,
                  "abraham": 0,
                  "abrams": 0,
                  "abrasive": 0,
                  "abroad": 0,
                  "abrupt": 0,
                  "abruptly": 0,
                  "absence": 0,
                  "absences": 0,
                  "absent": 0,
                  "absentia": 0,
                  "abshire": 0,
                  "absolute": 0,
                  "absolutely": 0,
                  "absorbed": 0,
                  "absorbs": 0,
                  "absorption": 0,
                  "abstract": 0,
                  "abstraction": 0,
                  "absurd": 0,
                  "abu": 0,
                  "abundance": 0,
                  "abuse": 0,
                  "abused": 0,
                  "abuses": 0,
                  "abusing": 0,
                  "abusive": 0,
                  "abyss": 0,
                  "aca": 0,
                  "academia": 0,
                  "academic": 0,
                  "academy": 0,
                  "acapulco": 0,
                  "accelerated": 0,
                  "accelerating": 0,
                  "accept": 0,
                  "acceptable": 0,
                  "acceptance": 0,
                  "accepted": 0,
                  "accepting": 0,
                  "accepts": 0,
                  "access": 0,
                  "accessible": 0,
                  "accessories": 0,
                  "accident": 0,
                  "accidental": 0,
                  "accidentally": 0,
                  "accidentaly": 0,
                  "accidents": 0,
                  "acclaim": 0,
                  "acclaimed": 0,
                  "acclimated": 0,
                  "acclimates": 0,
                  "accolades": 0,
                  "accompanied": 0,
                  "accompanies": 0,
                  "accompany": 0,
                  "accompanying": 0,
                  "accomplice": 0,
                  "accomplices": 0,
                  "accomplish": 0,
                  "accomplished": 0,
                  "accordance": 0,
                  "accordian": 0,
                  "according": 0,
                  "account": 0,
                  "accountable": 0,
                  "accountant": 0,
                  "accountants": 0,
                  "accounting": 0,
                  "accounts": 0,
                  "accra": 0,
                  "accumulation": 0,
                  "accuracy": 0,
                  "accursed": 0,
                  "accusations": 0,
                  "accuse": 0,
                  "accused": 0,
                  "accuser": 0,
                  "accuses": 0,
                  "ace": 0,
                  "achieve": 0,
                  "achieved": 0,
                  "achievement": 0,
                  "achievements": 0,
                  "achieves": 0,
                  "achieving": 0,
                  "achilles": 0,
                  "achim": 0,
                  "aching": 0,
                  "acid": 0,
                  "acker": 0,
                  "acquaintance": 0,
                  "acquaintances": 0,
                  "acquainted": 0,
                  "acquire": 0,
                  "acquired": 0,
                  "acquires": 0,
                  "acquiring": 0,
                  "acquittal": 0,
                  "acquitted": 0,
                  "acre": 0,
                  "acrimonious": 0,
                  "acrobat": 0,
                  "act": 0,
                  "acting": 0,
                  "action": 0,
                  "actions": 0,
                  "activate": 0,
                  "active": 0,
                  "activist": 0,
                  "activists": 0,
                  "activities": 0,
                  "_deepnote_index_column": 4
                },
                {
                  "10": 0,
                  "11": 0,
                  "12": 0,
                  "13": 0,
                  "14": 0,
                  "15": 0,
                  "16": 0,
                  "17": 0,
                  "18": 0,
                  "19": 0,
                  "20": 0,
                  "21": 0,
                  "22": 0,
                  "23": 0,
                  "24": 0,
                  "25": 0,
                  "26": 0,
                  "27": 0,
                  "28": 0,
                  "29": 0,
                  "30": 0,
                  "31": 0,
                  "32": 0,
                  "33": 0,
                  "35": 0,
                  "38": 0,
                  "39": 0,
                  "40": 0,
                  "42": 0,
                  "43": 0,
                  "44": 0,
                  "47": 0,
                  "48": 0,
                  "49": 0,
                  "50": 0,
                  "51": 0,
                  "53": 0,
                  "54": 0,
                  "56": 0,
                  "58": 0,
                  "59": 0,
                  "60": 0,
                  "63": 0,
                  "64": 0,
                  "66": 0,
                  "69": 0,
                  "70": 0,
                  "72": 0,
                  "73": 0,
                  "75": 0,
                  "78": 0,
                  "79": 0,
                  "80": 0,
                  "81": 0,
                  "83": 0,
                  "84": 0,
                  "86": 0,
                  "88": 0,
                  "90": 0,
                  "93": 0,
                  "96": 0,
                  "98": 0,
                  "99": 0,
                  "100": 0,
                  "101": 0,
                  "108": 0,
                  "114": 0,
                  "117": 0,
                  "118": 0,
                  "119": 0,
                  "140": 0,
                  "142": 0,
                  "148": 0,
                  "150": 0,
                  "161": 0,
                  "170": 0,
                  "180": 0,
                  "191": 0,
                  "200": 0,
                  "250": 0,
                  "280": 0,
                  "298": 0,
                  "300": 0,
                  "350": 0,
                  "370": 0,
                  "400": 0,
                  "480": 0,
                  "500": 0,
                  "533": 0,
                  "600": 0,
                  "643": 0,
                  "700": 0,
                  "747": 0,
                  "800": 0,
                  "911": 0,
                  "922": 0,
                  "1000": 0,
                  "1200": 0,
                  "1215": 0,
                  "1250": 0,
                  "1300": 0,
                  "1408": 0,
                  "1429": 0,
                  "1536": 0,
                  "1644": 0,
                  "1681": 0,
                  "1691": 0,
                  "1748": 0,
                  "1776": 0,
                  "1800": 0,
                  "1818": 0,
                  "1820": 0,
                  "1824": 0,
                  "1831": 0,
                  "1834": 0,
                  "1836": 0,
                  "1838": 0,
                  "1839": 0,
                  "1841": 0,
                  "1845": 0,
                  "1850": 0,
                  "1856": 0,
                  "1857": 0,
                  "1860": 0,
                  "1862": 0,
                  "1863": 0,
                  "1875": 0,
                  "1876": 0,
                  "1879": 0,
                  "1882": 0,
                  "1885": 0,
                  "1889": 0,
                  "1890": 0,
                  "1900": 0,
                  "1903": 0,
                  "1905": 0,
                  "1910": 0,
                  "1911": 0,
                  "1912": 0,
                  "1914": 0,
                  "1915": 0,
                  "1917": 0,
                  "1918": 0,
                  "1919": 0,
                  "1920": 0,
                  "1921": 0,
                  "1922": 0,
                  "1924": 0,
                  "1925": 0,
                  "1926": 0,
                  "1927": 0,
                  "1928": 0,
                  "1929": 0,
                  "1930": 0,
                  "1931": 0,
                  "1932": 0,
                  "1933": 0,
                  "1934": 0,
                  "1936": 0,
                  "1937": 0,
                  "1939": 0,
                  "1940": 0,
                  "1941": 0,
                  "1942": 0,
                  "1943": 0,
                  "1944": 0,
                  "1945": 0,
                  "1946": 0,
                  "1947": 0,
                  "1949": 0,
                  "1950": 0,
                  "1951": 0,
                  "1952": 0,
                  "1953": 0,
                  "1954": 0,
                  "1955": 0,
                  "1956": 0,
                  "1957": 0,
                  "1958": 0,
                  "1959": 0,
                  "1960": 0,
                  "1962": 0,
                  "1964": 0,
                  "1965": 0,
                  "1966": 0,
                  "1967": 0,
                  "1968": 0,
                  "1969": 0,
                  "1970": 0,
                  "1971": 0,
                  "1972": 0,
                  "1973": 0,
                  "1974": 0,
                  "1975": 0,
                  "1976": 0,
                  "1977": 0,
                  "1978": 0,
                  "1979": 0,
                  "1980": 0,
                  "1981": 0,
                  "1982": 0,
                  "1983": 0,
                  "1984": 0,
                  "1985": 0,
                  "1986": 0,
                  "1987": 0,
                  "1988": 0,
                  "1989": 0,
                  "1990": 0,
                  "1991": 0,
                  "1992": 0,
                  "1993": 0,
                  "1994": 0,
                  "1995": 0,
                  "1996": 0,
                  "1997": 0,
                  "1998": 0,
                  "1999": 0,
                  "2000": 0,
                  "2001": 0,
                  "2002": 0,
                  "2003": 0,
                  "2004": 0,
                  "2005": 0,
                  "2006": 0,
                  "2007": 0,
                  "2008": 0,
                  "2009": 0,
                  "2010": 0,
                  "2011": 0,
                  "2012": 0,
                  "2013": 0,
                  "2014": 0,
                  "2015": 0,
                  "2016": 0,
                  "2017": 0,
                  "2018": 0,
                  "2019": 0,
                  "2020": 0,
                  "2025": 0,
                  "2027": 0,
                  "2028": 0,
                  "2029": 0,
                  "2035": 0,
                  "2046": 0,
                  "2047": 0,
                  "2058": 0,
                  "2087": 0,
                  "2159": 0,
                  "2199": 0,
                  "2257": 0,
                  "2455": 0,
                  "2505": 0,
                  "3000": 0,
                  "9000": 0,
                  "90210": 0,
                  "00": 0,
                  "000": 0,
                  "007": 0,
                  "07am": 0,
                  "10th": 0,
                  "11th": 0,
                  "125th": 0,
                  "12th": 0,
                  "13th": 0,
                  "14pm": 0,
                  "14th": 0,
                  "150th": 0,
                  "1520s": 0,
                  "15th": 0,
                  "1600s": 0,
                  "1630s": 0,
                  "16th": 0,
                  "1700s": 0,
                  "173rd": 0,
                  "17th": 0,
                  "1820s": 0,
                  "1850s": 0,
                  "1870s": 0,
                  "1880s": 0,
                  "1890s": 0,
                  "18th": 0,
                  "1900s": 0,
                  "1910s": 0,
                  "1920s": 0,
                  "1930s": 0,
                  "1940s": 0,
                  "1950s": 0,
                  "1960s": 0,
                  "1970s": 0,
                  "1980s": 0,
                  "1990s": 0,
                  "19th": 0,
                  "1st": 0,
                  "20s": 0,
                  "20th": 0,
                  "21st": 0,
                  "22nd": 0,
                  "250cc": 0,
                  "25th": 0,
                  "27th": 0,
                  "28th": 0,
                  "2nd": 0,
                  "30s": 0,
                  "30th": 0,
                  "310lb": 0,
                  "344m": 0,
                  "3d": 0,
                  "3po": 0,
                  "40s": 0,
                  "47th": 0,
                  "4k": 0,
                  "4th": 0,
                  "50s": 0,
                  "50th": 0,
                  "51st": 0,
                  "5m": 0,
                  "5th": 0,
                  "60s": 0,
                  "65th": 0,
                  "6th": 0,
                  "70mm": 0,
                  "70s": 0,
                  "74th": 0,
                  "75th": 0,
                  "7th": 0,
                  "80s": 0,
                  "8km": 0,
                  "8th": 0,
                  "900lb": 0,
                  "90s": 0,
                  "92nd": 0,
                  "9th": 0,
                  "_wizard": 0,
                  "aa": 0,
                  "aaa": 0,
                  "aames": 0,
                  "aang": 0,
                  "aaron": 0,
                  "aarons": 0,
                  "aba": 0,
                  "abaddon": 0,
                  "abagnale": 0,
                  "abandon": 0,
                  "abandoned": 0,
                  "abandoning": 0,
                  "abandonment": 0,
                  "abandons": 0,
                  "abba": 0,
                  "abbas": 0,
                  "abbate": 0,
                  "abberline": 0,
                  "abbey": 0,
                  "abbie": 0,
                  "abbott": 0,
                  "abby": 0,
                  "abdicates": 0,
                  "abdication": 0,
                  "abduct": 0,
                  "abducted": 0,
                  "abduction": 0,
                  "abductions": 0,
                  "abductors": 0,
                  "abducts": 0,
                  "abe": 0,
                  "abel": 0,
                  "aberdeen": 0,
                  "abernathy": 0,
                  "abhorrent": 0,
                  "abhors": 0,
                  "abide": 0,
                  "abigail": 0,
                  "abilities": 0,
                  "ability": 0,
                  "ablai": 0,
                  "able": 0,
                  "ableman": 0,
                  "abo": 0,
                  "aboard": 0,
                  "abode": 0,
                  "abolish": 0,
                  "abolition": 0,
                  "abolitionist": 0,
                  "aboriginal": 0,
                  "aborigines": 0,
                  "abortion": 0,
                  "abortionist": 0,
                  "abound": 0,
                  "abraham": 0,
                  "abrams": 0,
                  "abrasive": 0,
                  "abroad": 0,
                  "abrupt": 0,
                  "abruptly": 0,
                  "absence": 0,
                  "absences": 0,
                  "absent": 0,
                  "absentia": 0,
                  "abshire": 0,
                  "absolute": 0,
                  "absolutely": 0,
                  "absorbed": 0,
                  "absorbs": 0,
                  "absorption": 0,
                  "abstract": 0,
                  "abstraction": 0,
                  "absurd": 0,
                  "abu": 0,
                  "abundance": 0,
                  "abuse": 0,
                  "abused": 0,
                  "abuses": 0,
                  "abusing": 0,
                  "abusive": 0,
                  "abyss": 0,
                  "aca": 0,
                  "academia": 0,
                  "academic": 0,
                  "academy": 0,
                  "acapulco": 0,
                  "accelerated": 0,
                  "accelerating": 0,
                  "accept": 0,
                  "acceptable": 0,
                  "acceptance": 0,
                  "accepted": 0,
                  "accepting": 0,
                  "accepts": 0,
                  "access": 0,
                  "accessible": 0,
                  "accessories": 0,
                  "accident": 0,
                  "accidental": 0,
                  "accidentally": 0,
                  "accidentaly": 0,
                  "accidents": 0,
                  "acclaim": 0,
                  "acclaimed": 0,
                  "acclimated": 0,
                  "acclimates": 0,
                  "accolades": 0,
                  "accompanied": 0,
                  "accompanies": 0,
                  "accompany": 0,
                  "accompanying": 0,
                  "accomplice": 0,
                  "accomplices": 0,
                  "accomplish": 0,
                  "accomplished": 0,
                  "accordance": 0,
                  "accordian": 0,
                  "according": 0,
                  "account": 0,
                  "accountable": 0,
                  "accountant": 0,
                  "accountants": 0,
                  "accounting": 0,
                  "accounts": 0,
                  "accra": 0,
                  "accumulation": 0,
                  "accuracy": 0,
                  "accursed": 0,
                  "accusations": 0,
                  "accuse": 0,
                  "accused": 0,
                  "accuser": 0,
                  "accuses": 0,
                  "ace": 0,
                  "achieve": 0,
                  "achieved": 0,
                  "achievement": 0,
                  "achievements": 0,
                  "achieves": 0,
                  "achieving": 0,
                  "achilles": 0,
                  "achim": 0,
                  "aching": 0,
                  "acid": 0,
                  "acker": 0,
                  "acquaintance": 0,
                  "acquaintances": 0,
                  "acquainted": 0,
                  "acquire": 0,
                  "acquired": 0,
                  "acquires": 0,
                  "acquiring": 0,
                  "acquittal": 0,
                  "acquitted": 0,
                  "acre": 0,
                  "acrimonious": 0,
                  "acrobat": 0,
                  "act": 0,
                  "acting": 0,
                  "action": 0,
                  "actions": 0,
                  "activate": 0,
                  "active": 0,
                  "activist": 0,
                  "activists": 0,
                  "activities": 0,
                  "_deepnote_index_column": 5
                },
                {
                  "10": 0,
                  "11": 0,
                  "12": 0,
                  "13": 0,
                  "14": 0,
                  "15": 0,
                  "16": 0,
                  "17": 0,
                  "18": 0,
                  "19": 0,
                  "20": 0,
                  "21": 0,
                  "22": 0,
                  "23": 0,
                  "24": 0,
                  "25": 0,
                  "26": 0,
                  "27": 0,
                  "28": 0,
                  "29": 0,
                  "30": 0,
                  "31": 0,
                  "32": 0,
                  "33": 0,
                  "35": 0,
                  "38": 0,
                  "39": 0,
                  "40": 0,
                  "42": 0,
                  "43": 0,
                  "44": 0,
                  "47": 0,
                  "48": 0,
                  "49": 0,
                  "50": 0,
                  "51": 0,
                  "53": 0,
                  "54": 0,
                  "56": 0,
                  "58": 0,
                  "59": 0,
                  "60": 0,
                  "63": 0,
                  "64": 0,
                  "66": 0,
                  "69": 0,
                  "70": 0.1363862131362596,
                  "72": 0,
                  "73": 0,
                  "75": 0,
                  "78": 0,
                  "79": 0,
                  "80": 0,
                  "81": 0,
                  "83": 0,
                  "84": 0,
                  "86": 0,
                  "88": 0,
                  "90": 0,
                  "93": 0,
                  "96": 0,
                  "98": 0,
                  "99": 0,
                  "100": 0,
                  "101": 0,
                  "108": 0,
                  "114": 0,
                  "117": 0,
                  "118": 0,
                  "119": 0,
                  "140": 0,
                  "142": 0,
                  "148": 0,
                  "150": 0,
                  "161": 0,
                  "170": 0,
                  "180": 0,
                  "191": 0,
                  "200": 0,
                  "250": 0,
                  "280": 0,
                  "298": 0,
                  "300": 0,
                  "350": 0,
                  "370": 0,
                  "400": 0,
                  "480": 0,
                  "500": 0,
                  "533": 0,
                  "600": 0,
                  "643": 0,
                  "700": 0,
                  "747": 0,
                  "800": 0,
                  "911": 0,
                  "922": 0,
                  "1000": 0,
                  "1200": 0,
                  "1215": 0,
                  "1250": 0,
                  "1300": 0,
                  "1408": 0,
                  "1429": 0,
                  "1536": 0,
                  "1644": 0,
                  "1681": 0,
                  "1691": 0,
                  "1748": 0,
                  "1776": 0,
                  "1800": 0,
                  "1818": 0,
                  "1820": 0,
                  "1824": 0,
                  "1831": 0,
                  "1834": 0,
                  "1836": 0,
                  "1838": 0,
                  "1839": 0,
                  "1841": 0,
                  "1845": 0,
                  "1850": 0,
                  "1856": 0,
                  "1857": 0,
                  "1860": 0,
                  "1862": 0,
                  "1863": 0,
                  "1875": 0,
                  "1876": 0,
                  "1879": 0,
                  "1882": 0,
                  "1885": 0,
                  "1889": 0,
                  "1890": 0,
                  "1900": 0,
                  "1903": 0,
                  "1905": 0,
                  "1910": 0,
                  "1911": 0,
                  "1912": 0,
                  "1914": 0,
                  "1915": 0,
                  "1917": 0,
                  "1918": 0,
                  "1919": 0,
                  "1920": 0,
                  "1921": 0,
                  "1922": 0,
                  "1924": 0,
                  "1925": 0,
                  "1926": 0,
                  "1927": 0,
                  "1928": 0,
                  "1929": 0,
                  "1930": 0,
                  "1931": 0,
                  "1932": 0,
                  "1933": 0,
                  "1934": 0,
                  "1936": 0,
                  "1937": 0,
                  "1939": 0,
                  "1940": 0,
                  "1941": 0,
                  "1942": 0,
                  "1943": 0,
                  "1944": 0,
                  "1945": 0,
                  "1946": 0,
                  "1947": 0,
                  "1949": 0,
                  "1950": 0,
                  "1951": 0,
                  "1952": 0,
                  "1953": 0,
                  "1954": 0,
                  "1955": 0,
                  "1956": 0,
                  "1957": 0,
                  "1958": 0,
                  "1959": 0,
                  "1960": 0,
                  "1962": 0,
                  "1964": 0,
                  "1965": 0,
                  "1966": 0,
                  "1967": 0,
                  "1968": 0,
                  "1969": 0,
                  "1970": 0,
                  "1971": 0,
                  "1972": 0,
                  "1973": 0,
                  "1974": 0,
                  "1975": 0,
                  "1976": 0,
                  "1977": 0,
                  "1978": 0,
                  "1979": 0,
                  "1980": 0,
                  "1981": 0,
                  "1982": 0,
                  "1983": 0,
                  "1984": 0,
                  "1985": 0,
                  "1986": 0,
                  "1987": 0,
                  "1988": 0,
                  "1989": 0,
                  "1990": 0,
                  "1991": 0,
                  "1992": 0,
                  "1993": 0,
                  "1994": 0,
                  "1995": 0,
                  "1996": 0,
                  "1997": 0,
                  "1998": 0,
                  "1999": 0,
                  "2000": 0,
                  "2001": 0,
                  "2002": 0,
                  "2003": 0,
                  "2004": 0,
                  "2005": 0,
                  "2006": 0,
                  "2007": 0,
                  "2008": 0,
                  "2009": 0,
                  "2010": 0,
                  "2011": 0,
                  "2012": 0,
                  "2013": 0,
                  "2014": 0,
                  "2015": 0,
                  "2016": 0,
                  "2017": 0,
                  "2018": 0,
                  "2019": 0,
                  "2020": 0,
                  "2025": 0,
                  "2027": 0,
                  "2028": 0,
                  "2029": 0,
                  "2035": 0,
                  "2046": 0,
                  "2047": 0,
                  "2058": 0,
                  "2087": 0,
                  "2159": 0,
                  "2199": 0,
                  "2257": 0,
                  "2455": 0,
                  "2505": 0,
                  "3000": 0,
                  "9000": 0,
                  "90210": 0,
                  "00": 0,
                  "000": 0,
                  "007": 0,
                  "07am": 0,
                  "10th": 0,
                  "11th": 0,
                  "125th": 0,
                  "12th": 0,
                  "13th": 0,
                  "14pm": 0,
                  "14th": 0,
                  "150th": 0,
                  "1520s": 0,
                  "15th": 0,
                  "1600s": 0,
                  "1630s": 0,
                  "16th": 0,
                  "1700s": 0,
                  "173rd": 0,
                  "17th": 0,
                  "1820s": 0,
                  "1850s": 0,
                  "1870s": 0,
                  "1880s": 0,
                  "1890s": 0,
                  "18th": 0,
                  "1900s": 0,
                  "1910s": 0,
                  "1920s": 0,
                  "1930s": 0,
                  "1940s": 0,
                  "1950s": 0,
                  "1960s": 0,
                  "1970s": 0,
                  "1980s": 0,
                  "1990s": 0,
                  "19th": 0,
                  "1st": 0,
                  "20s": 0,
                  "20th": 0,
                  "21st": 0,
                  "22nd": 0,
                  "250cc": 0,
                  "25th": 0,
                  "27th": 0,
                  "28th": 0,
                  "2nd": 0,
                  "30s": 0,
                  "30th": 0,
                  "310lb": 0,
                  "344m": 0,
                  "3d": 0,
                  "3po": 0,
                  "40s": 0,
                  "47th": 0,
                  "4k": 0,
                  "4th": 0,
                  "50s": 0,
                  "50th": 0,
                  "51st": 0,
                  "5m": 0,
                  "5th": 0,
                  "60s": 0,
                  "65th": 0,
                  "6th": 0,
                  "70mm": 0,
                  "70s": 0,
                  "74th": 0,
                  "75th": 0,
                  "7th": 0,
                  "80s": 0,
                  "8km": 0,
                  "8th": 0,
                  "900lb": 0,
                  "90s": 0,
                  "92nd": 0,
                  "9th": 0,
                  "_wizard": 0,
                  "aa": 0,
                  "aaa": 0,
                  "aames": 0,
                  "aang": 0,
                  "aaron": 0,
                  "aarons": 0,
                  "aba": 0,
                  "abaddon": 0,
                  "abagnale": 0,
                  "abandon": 0,
                  "abandoned": 0,
                  "abandoning": 0,
                  "abandonment": 0,
                  "abandons": 0,
                  "abba": 0,
                  "abbas": 0,
                  "abbate": 0,
                  "abberline": 0,
                  "abbey": 0,
                  "abbie": 0,
                  "abbott": 0,
                  "abby": 0,
                  "abdicates": 0,
                  "abdication": 0,
                  "abduct": 0,
                  "abducted": 0,
                  "abduction": 0,
                  "abductions": 0,
                  "abductors": 0,
                  "abducts": 0,
                  "abe": 0,
                  "abel": 0,
                  "aberdeen": 0,
                  "abernathy": 0,
                  "abhorrent": 0,
                  "abhors": 0,
                  "abide": 0,
                  "abigail": 0,
                  "abilities": 0,
                  "ability": 0,
                  "ablai": 0,
                  "able": 0,
                  "ableman": 0,
                  "abo": 0,
                  "aboard": 0,
                  "abode": 0,
                  "abolish": 0,
                  "abolition": 0,
                  "abolitionist": 0,
                  "aboriginal": 0,
                  "aborigines": 0,
                  "abortion": 0,
                  "abortionist": 0,
                  "abound": 0,
                  "abraham": 0,
                  "abrams": 0,
                  "abrasive": 0,
                  "abroad": 0,
                  "abrupt": 0,
                  "abruptly": 0,
                  "absence": 0,
                  "absences": 0,
                  "absent": 0,
                  "absentia": 0,
                  "abshire": 0,
                  "absolute": 0,
                  "absolutely": 0,
                  "absorbed": 0,
                  "absorbs": 0,
                  "absorption": 0,
                  "abstract": 0,
                  "abstraction": 0,
                  "absurd": 0,
                  "abu": 0,
                  "abundance": 0,
                  "abuse": 0,
                  "abused": 0,
                  "abuses": 0,
                  "abusing": 0,
                  "abusive": 0,
                  "abyss": 0,
                  "aca": 0,
                  "academia": 0,
                  "academic": 0,
                  "academy": 0,
                  "acapulco": 0,
                  "accelerated": 0,
                  "accelerating": 0,
                  "accept": 0,
                  "acceptable": 0,
                  "acceptance": 0,
                  "accepted": 0,
                  "accepting": 0,
                  "accepts": 0,
                  "access": 0,
                  "accessible": 0,
                  "accessories": 0,
                  "accident": 0,
                  "accidental": 0,
                  "accidentally": 0,
                  "accidentaly": 0,
                  "accidents": 0,
                  "acclaim": 0,
                  "acclaimed": 0,
                  "acclimated": 0,
                  "acclimates": 0,
                  "accolades": 0,
                  "accompanied": 0,
                  "accompanies": 0,
                  "accompany": 0,
                  "accompanying": 0,
                  "accomplice": 0,
                  "accomplices": 0,
                  "accomplish": 0,
                  "accomplished": 0,
                  "accordance": 0,
                  "accordian": 0,
                  "according": 0,
                  "account": 0,
                  "accountable": 0,
                  "accountant": 0,
                  "accountants": 0,
                  "accounting": 0,
                  "accounts": 0,
                  "accra": 0,
                  "accumulation": 0,
                  "accuracy": 0,
                  "accursed": 0,
                  "accusations": 0,
                  "accuse": 0,
                  "accused": 0,
                  "accuser": 0,
                  "accuses": 0,
                  "ace": 0,
                  "achieve": 0,
                  "achieved": 0,
                  "achievement": 0,
                  "achievements": 0,
                  "achieves": 0,
                  "achieving": 0,
                  "achilles": 0,
                  "achim": 0,
                  "aching": 0,
                  "acid": 0,
                  "acker": 0,
                  "acquaintance": 0,
                  "acquaintances": 0,
                  "acquainted": 0,
                  "acquire": 0,
                  "acquired": 0,
                  "acquires": 0,
                  "acquiring": 0,
                  "acquittal": 0,
                  "acquitted": 0,
                  "acre": 0,
                  "acrimonious": 0,
                  "acrobat": 0,
                  "act": 0,
                  "acting": 0,
                  "action": 0.09431944121861724,
                  "actions": 0,
                  "activate": 0,
                  "active": 0,
                  "activist": 0,
                  "activists": 0,
                  "activities": 0,
                  "_deepnote_index_column": 6
                },
                {
                  "10": 0,
                  "11": 0,
                  "12": 0,
                  "13": 0,
                  "14": 0,
                  "15": 0,
                  "16": 0,
                  "17": 0,
                  "18": 0,
                  "19": 0,
                  "20": 0,
                  "21": 0,
                  "22": 0,
                  "23": 0,
                  "24": 0,
                  "25": 0,
                  "26": 0,
                  "27": 0,
                  "28": 0,
                  "29": 0,
                  "30": 0,
                  "31": 0,
                  "32": 0,
                  "33": 0,
                  "35": 0,
                  "38": 0,
                  "39": 0,
                  "40": 0,
                  "42": 0,
                  "43": 0,
                  "44": 0,
                  "47": 0,
                  "48": 0,
                  "49": 0,
                  "50": 0,
                  "51": 0,
                  "53": 0,
                  "54": 0,
                  "56": 0,
                  "58": 0,
                  "59": 0,
                  "60": 0,
                  "63": 0,
                  "64": 0,
                  "66": 0,
                  "69": 0,
                  "70": 0,
                  "72": 0,
                  "73": 0,
                  "75": 0,
                  "78": 0,
                  "79": 0,
                  "80": 0,
                  "81": 0,
                  "83": 0,
                  "84": 0,
                  "86": 0,
                  "88": 0,
                  "90": 0,
                  "93": 0,
                  "96": 0,
                  "98": 0,
                  "99": 0,
                  "100": 0,
                  "101": 0,
                  "108": 0,
                  "114": 0,
                  "117": 0,
                  "118": 0,
                  "119": 0,
                  "140": 0,
                  "142": 0,
                  "148": 0,
                  "150": 0,
                  "161": 0,
                  "170": 0,
                  "180": 0,
                  "191": 0,
                  "200": 0,
                  "250": 0,
                  "280": 0,
                  "298": 0,
                  "300": 0,
                  "350": 0,
                  "370": 0,
                  "400": 0,
                  "480": 0,
                  "500": 0,
                  "533": 0,
                  "600": 0,
                  "643": 0,
                  "700": 0,
                  "747": 0,
                  "800": 0,
                  "911": 0,
                  "922": 0,
                  "1000": 0,
                  "1200": 0,
                  "1215": 0,
                  "1250": 0,
                  "1300": 0,
                  "1408": 0,
                  "1429": 0,
                  "1536": 0,
                  "1644": 0,
                  "1681": 0,
                  "1691": 0,
                  "1748": 0,
                  "1776": 0,
                  "1800": 0,
                  "1818": 0,
                  "1820": 0,
                  "1824": 0,
                  "1831": 0,
                  "1834": 0,
                  "1836": 0,
                  "1838": 0,
                  "1839": 0,
                  "1841": 0,
                  "1845": 0,
                  "1850": 0,
                  "1856": 0,
                  "1857": 0,
                  "1860": 0,
                  "1862": 0,
                  "1863": 0,
                  "1875": 0,
                  "1876": 0,
                  "1879": 0,
                  "1882": 0,
                  "1885": 0,
                  "1889": 0,
                  "1890": 0,
                  "1900": 0,
                  "1903": 0,
                  "1905": 0,
                  "1910": 0,
                  "1911": 0,
                  "1912": 0,
                  "1914": 0,
                  "1915": 0,
                  "1917": 0,
                  "1918": 0,
                  "1919": 0,
                  "1920": 0,
                  "1921": 0,
                  "1922": 0,
                  "1924": 0,
                  "1925": 0,
                  "1926": 0,
                  "1927": 0,
                  "1928": 0,
                  "1929": 0,
                  "1930": 0,
                  "1931": 0,
                  "1932": 0,
                  "1933": 0,
                  "1934": 0,
                  "1936": 0,
                  "1937": 0,
                  "1939": 0,
                  "1940": 0,
                  "1941": 0,
                  "1942": 0,
                  "1943": 0,
                  "1944": 0,
                  "1945": 0,
                  "1946": 0,
                  "1947": 0,
                  "1949": 0,
                  "1950": 0,
                  "1951": 0,
                  "1952": 0,
                  "1953": 0,
                  "1954": 0,
                  "1955": 0,
                  "1956": 0,
                  "1957": 0,
                  "1958": 0,
                  "1959": 0,
                  "1960": 0,
                  "1962": 0,
                  "1964": 0,
                  "1965": 0,
                  "1966": 0,
                  "1967": 0,
                  "1968": 0,
                  "1969": 0,
                  "1970": 0,
                  "1971": 0,
                  "1972": 0,
                  "1973": 0,
                  "1974": 0,
                  "1975": 0,
                  "1976": 0,
                  "1977": 0,
                  "1978": 0,
                  "1979": 0,
                  "1980": 0,
                  "1981": 0,
                  "1982": 0,
                  "1983": 0,
                  "1984": 0,
                  "1985": 0,
                  "1986": 0,
                  "1987": 0,
                  "1988": 0,
                  "1989": 0,
                  "1990": 0,
                  "1991": 0,
                  "1992": 0,
                  "1993": 0,
                  "1994": 0,
                  "1995": 0,
                  "1996": 0,
                  "1997": 0,
                  "1998": 0,
                  "1999": 0,
                  "2000": 0,
                  "2001": 0,
                  "2002": 0,
                  "2003": 0,
                  "2004": 0,
                  "2005": 0,
                  "2006": 0,
                  "2007": 0,
                  "2008": 0,
                  "2009": 0,
                  "2010": 0,
                  "2011": 0,
                  "2012": 0,
                  "2013": 0,
                  "2014": 0,
                  "2015": 0,
                  "2016": 0,
                  "2017": 0,
                  "2018": 0,
                  "2019": 0,
                  "2020": 0,
                  "2025": 0,
                  "2027": 0,
                  "2028": 0,
                  "2029": 0,
                  "2035": 0,
                  "2046": 0,
                  "2047": 0,
                  "2058": 0,
                  "2087": 0,
                  "2159": 0,
                  "2199": 0,
                  "2257": 0,
                  "2455": 0,
                  "2505": 0,
                  "3000": 0,
                  "9000": 0,
                  "90210": 0,
                  "00": 0,
                  "000": 0,
                  "007": 0,
                  "07am": 0,
                  "10th": 0,
                  "11th": 0,
                  "125th": 0,
                  "12th": 0,
                  "13th": 0,
                  "14pm": 0,
                  "14th": 0,
                  "150th": 0,
                  "1520s": 0,
                  "15th": 0,
                  "1600s": 0,
                  "1630s": 0,
                  "16th": 0,
                  "1700s": 0,
                  "173rd": 0,
                  "17th": 0,
                  "1820s": 0,
                  "1850s": 0,
                  "1870s": 0,
                  "1880s": 0,
                  "1890s": 0,
                  "18th": 0,
                  "1900s": 0,
                  "1910s": 0,
                  "1920s": 0,
                  "1930s": 0,
                  "1940s": 0,
                  "1950s": 0,
                  "1960s": 0,
                  "1970s": 0,
                  "1980s": 0,
                  "1990s": 0,
                  "19th": 0,
                  "1st": 0,
                  "20s": 0,
                  "20th": 0,
                  "21st": 0,
                  "22nd": 0,
                  "250cc": 0,
                  "25th": 0,
                  "27th": 0,
                  "28th": 0,
                  "2nd": 0,
                  "30s": 0,
                  "30th": 0,
                  "310lb": 0,
                  "344m": 0,
                  "3d": 0,
                  "3po": 0,
                  "40s": 0,
                  "47th": 0,
                  "4k": 0,
                  "4th": 0,
                  "50s": 0,
                  "50th": 0,
                  "51st": 0,
                  "5m": 0,
                  "5th": 0,
                  "60s": 0,
                  "65th": 0,
                  "6th": 0,
                  "70mm": 0,
                  "70s": 0,
                  "74th": 0,
                  "75th": 0,
                  "7th": 0,
                  "80s": 0,
                  "8km": 0,
                  "8th": 0,
                  "900lb": 0,
                  "90s": 0,
                  "92nd": 0,
                  "9th": 0,
                  "_wizard": 0,
                  "aa": 0,
                  "aaa": 0,
                  "aames": 0,
                  "aang": 0,
                  "aaron": 0,
                  "aarons": 0,
                  "aba": 0,
                  "abaddon": 0,
                  "abagnale": 0,
                  "abandon": 0,
                  "abandoned": 0,
                  "abandoning": 0,
                  "abandonment": 0,
                  "abandons": 0,
                  "abba": 0,
                  "abbas": 0,
                  "abbate": 0,
                  "abberline": 0,
                  "abbey": 0,
                  "abbie": 0,
                  "abbott": 0,
                  "abby": 0,
                  "abdicates": 0,
                  "abdication": 0,
                  "abduct": 0,
                  "abducted": 0,
                  "abduction": 0,
                  "abductions": 0,
                  "abductors": 0,
                  "abducts": 0,
                  "abe": 0,
                  "abel": 0,
                  "aberdeen": 0,
                  "abernathy": 0,
                  "abhorrent": 0,
                  "abhors": 0,
                  "abide": 0,
                  "abigail": 0,
                  "abilities": 0,
                  "ability": 0,
                  "ablai": 0,
                  "able": 0,
                  "ableman": 0,
                  "abo": 0,
                  "aboard": 0,
                  "abode": 0,
                  "abolish": 0,
                  "abolition": 0,
                  "abolitionist": 0,
                  "aboriginal": 0,
                  "aborigines": 0,
                  "abortion": 0,
                  "abortionist": 0,
                  "abound": 0,
                  "abraham": 0,
                  "abrams": 0,
                  "abrasive": 0,
                  "abroad": 0,
                  "abrupt": 0,
                  "abruptly": 0,
                  "absence": 0,
                  "absences": 0,
                  "absent": 0,
                  "absentia": 0,
                  "abshire": 0,
                  "absolute": 0,
                  "absolutely": 0,
                  "absorbed": 0,
                  "absorbs": 0,
                  "absorption": 0,
                  "abstract": 0,
                  "abstraction": 0,
                  "absurd": 0,
                  "abu": 0,
                  "abundance": 0,
                  "abuse": 0,
                  "abused": 0,
                  "abuses": 0,
                  "abusing": 0,
                  "abusive": 0,
                  "abyss": 0,
                  "aca": 0,
                  "academia": 0,
                  "academic": 0,
                  "academy": 0,
                  "acapulco": 0,
                  "accelerated": 0,
                  "accelerating": 0,
                  "accept": 0,
                  "acceptable": 0,
                  "acceptance": 0,
                  "accepted": 0,
                  "accepting": 0,
                  "accepts": 0,
                  "access": 0,
                  "accessible": 0,
                  "accessories": 0,
                  "accident": 0,
                  "accidental": 0,
                  "accidentally": 0,
                  "accidentaly": 0,
                  "accidents": 0,
                  "acclaim": 0,
                  "acclaimed": 0,
                  "acclimated": 0,
                  "acclimates": 0,
                  "accolades": 0,
                  "accompanied": 0,
                  "accompanies": 0,
                  "accompany": 0,
                  "accompanying": 0,
                  "accomplice": 0,
                  "accomplices": 0,
                  "accomplish": 0,
                  "accomplished": 0,
                  "accordance": 0,
                  "accordian": 0,
                  "according": 0,
                  "account": 0,
                  "accountable": 0,
                  "accountant": 0,
                  "accountants": 0,
                  "accounting": 0,
                  "accounts": 0,
                  "accra": 0,
                  "accumulation": 0,
                  "accuracy": 0,
                  "accursed": 0,
                  "accusations": 0,
                  "accuse": 0,
                  "accused": 0,
                  "accuser": 0,
                  "accuses": 0,
                  "ace": 0,
                  "achieve": 0,
                  "achieved": 0,
                  "achievement": 0,
                  "achievements": 0,
                  "achieves": 0,
                  "achieving": 0,
                  "achilles": 0,
                  "achim": 0,
                  "aching": 0,
                  "acid": 0,
                  "acker": 0,
                  "acquaintance": 0,
                  "acquaintances": 0,
                  "acquainted": 0,
                  "acquire": 0,
                  "acquired": 0,
                  "acquires": 0,
                  "acquiring": 0,
                  "acquittal": 0,
                  "acquitted": 0,
                  "acre": 0,
                  "acrimonious": 0,
                  "acrobat": 0,
                  "act": 0,
                  "acting": 0,
                  "action": 0.12596033760841358,
                  "actions": 0,
                  "activate": 0,
                  "active": 0,
                  "activist": 0,
                  "activists": 0,
                  "activities": 0,
                  "_deepnote_index_column": 7
                },
                {
                  "10": 0,
                  "11": 0,
                  "12": 0,
                  "13": 0,
                  "14": 0,
                  "15": 0,
                  "16": 0,
                  "17": 0,
                  "18": 0,
                  "19": 0,
                  "20": 0,
                  "21": 0,
                  "22": 0,
                  "23": 0,
                  "24": 0,
                  "25": 0,
                  "26": 0,
                  "27": 0,
                  "28": 0,
                  "29": 0,
                  "30": 0,
                  "31": 0,
                  "32": 0,
                  "33": 0,
                  "35": 0,
                  "38": 0,
                  "39": 0,
                  "40": 0,
                  "42": 0,
                  "43": 0,
                  "44": 0,
                  "47": 0,
                  "48": 0,
                  "49": 0,
                  "50": 0,
                  "51": 0,
                  "53": 0,
                  "54": 0,
                  "56": 0,
                  "58": 0,
                  "59": 0,
                  "60": 0,
                  "63": 0,
                  "64": 0,
                  "66": 0,
                  "69": 0,
                  "70": 0,
                  "72": 0,
                  "73": 0,
                  "75": 0,
                  "78": 0,
                  "79": 0,
                  "80": 0,
                  "81": 0,
                  "83": 0,
                  "84": 0,
                  "86": 0,
                  "88": 0,
                  "90": 0,
                  "93": 0,
                  "96": 0,
                  "98": 0,
                  "99": 0,
                  "100": 0,
                  "101": 0,
                  "108": 0,
                  "114": 0,
                  "117": 0,
                  "118": 0,
                  "119": 0,
                  "140": 0,
                  "142": 0,
                  "148": 0,
                  "150": 0,
                  "161": 0,
                  "170": 0,
                  "180": 0,
                  "191": 0,
                  "200": 0,
                  "250": 0,
                  "280": 0,
                  "298": 0,
                  "300": 0,
                  "350": 0,
                  "370": 0,
                  "400": 0,
                  "480": 0,
                  "500": 0,
                  "533": 0,
                  "600": 0,
                  "643": 0,
                  "700": 0,
                  "747": 0,
                  "800": 0,
                  "911": 0,
                  "922": 0,
                  "1000": 0,
                  "1200": 0,
                  "1215": 0,
                  "1250": 0,
                  "1300": 0,
                  "1408": 0,
                  "1429": 0,
                  "1536": 0,
                  "1644": 0,
                  "1681": 0,
                  "1691": 0,
                  "1748": 0,
                  "1776": 0,
                  "1800": 0,
                  "1818": 0,
                  "1820": 0,
                  "1824": 0,
                  "1831": 0,
                  "1834": 0,
                  "1836": 0,
                  "1838": 0,
                  "1839": 0,
                  "1841": 0,
                  "1845": 0,
                  "1850": 0,
                  "1856": 0,
                  "1857": 0,
                  "1860": 0,
                  "1862": 0,
                  "1863": 0,
                  "1875": 0,
                  "1876": 0,
                  "1879": 0,
                  "1882": 0,
                  "1885": 0,
                  "1889": 0,
                  "1890": 0,
                  "1900": 0,
                  "1903": 0,
                  "1905": 0,
                  "1910": 0,
                  "1911": 0,
                  "1912": 0,
                  "1914": 0,
                  "1915": 0,
                  "1917": 0,
                  "1918": 0,
                  "1919": 0,
                  "1920": 0,
                  "1921": 0,
                  "1922": 0,
                  "1924": 0,
                  "1925": 0,
                  "1926": 0,
                  "1927": 0,
                  "1928": 0,
                  "1929": 0,
                  "1930": 0,
                  "1931": 0,
                  "1932": 0,
                  "1933": 0,
                  "1934": 0,
                  "1936": 0,
                  "1937": 0,
                  "1939": 0,
                  "1940": 0,
                  "1941": 0,
                  "1942": 0,
                  "1943": 0,
                  "1944": 0,
                  "1945": 0,
                  "1946": 0,
                  "1947": 0,
                  "1949": 0,
                  "1950": 0,
                  "1951": 0,
                  "1952": 0,
                  "1953": 0,
                  "1954": 0,
                  "1955": 0,
                  "1956": 0,
                  "1957": 0,
                  "1958": 0,
                  "1959": 0,
                  "1960": 0,
                  "1962": 0,
                  "1964": 0,
                  "1965": 0,
                  "1966": 0,
                  "1967": 0,
                  "1968": 0,
                  "1969": 0,
                  "1970": 0,
                  "1971": 0,
                  "1972": 0,
                  "1973": 0,
                  "1974": 0,
                  "1975": 0,
                  "1976": 0,
                  "1977": 0,
                  "1978": 0,
                  "1979": 0,
                  "1980": 0,
                  "1981": 0,
                  "1982": 0,
                  "1983": 0,
                  "1984": 0,
                  "1985": 0,
                  "1986": 0,
                  "1987": 0,
                  "1988": 0,
                  "1989": 0,
                  "1990": 0,
                  "1991": 0,
                  "1992": 0,
                  "1993": 0,
                  "1994": 0,
                  "1995": 0,
                  "1996": 0,
                  "1997": 0,
                  "1998": 0,
                  "1999": 0,
                  "2000": 0,
                  "2001": 0,
                  "2002": 0,
                  "2003": 0,
                  "2004": 0,
                  "2005": 0,
                  "2006": 0,
                  "2007": 0,
                  "2008": 0,
                  "2009": 0,
                  "2010": 0,
                  "2011": 0,
                  "2012": 0,
                  "2013": 0,
                  "2014": 0,
                  "2015": 0,
                  "2016": 0,
                  "2017": 0,
                  "2018": 0,
                  "2019": 0,
                  "2020": 0,
                  "2025": 0,
                  "2027": 0,
                  "2028": 0,
                  "2029": 0,
                  "2035": 0,
                  "2046": 0,
                  "2047": 0,
                  "2058": 0,
                  "2087": 0,
                  "2159": 0,
                  "2199": 0,
                  "2257": 0,
                  "2455": 0,
                  "2505": 0,
                  "3000": 0,
                  "9000": 0,
                  "90210": 0,
                  "00": 0,
                  "000": 0,
                  "007": 0,
                  "07am": 0,
                  "10th": 0,
                  "11th": 0,
                  "125th": 0,
                  "12th": 0,
                  "13th": 0,
                  "14pm": 0,
                  "14th": 0,
                  "150th": 0,
                  "1520s": 0,
                  "15th": 0,
                  "1600s": 0,
                  "1630s": 0,
                  "16th": 0,
                  "1700s": 0,
                  "173rd": 0,
                  "17th": 0,
                  "1820s": 0,
                  "1850s": 0,
                  "1870s": 0,
                  "1880s": 0,
                  "1890s": 0,
                  "18th": 0,
                  "1900s": 0,
                  "1910s": 0,
                  "1920s": 0,
                  "1930s": 0,
                  "1940s": 0,
                  "1950s": 0,
                  "1960s": 0,
                  "1970s": 0,
                  "1980s": 0,
                  "1990s": 0,
                  "19th": 0,
                  "1st": 0,
                  "20s": 0,
                  "20th": 0,
                  "21st": 0,
                  "22nd": 0,
                  "250cc": 0,
                  "25th": 0,
                  "27th": 0,
                  "28th": 0,
                  "2nd": 0,
                  "30s": 0,
                  "30th": 0,
                  "310lb": 0,
                  "344m": 0,
                  "3d": 0,
                  "3po": 0,
                  "40s": 0,
                  "47th": 0,
                  "4k": 0,
                  "4th": 0,
                  "50s": 0,
                  "50th": 0,
                  "51st": 0,
                  "5m": 0,
                  "5th": 0,
                  "60s": 0,
                  "65th": 0,
                  "6th": 0,
                  "70mm": 0,
                  "70s": 0,
                  "74th": 0,
                  "75th": 0,
                  "7th": 0,
                  "80s": 0,
                  "8km": 0,
                  "8th": 0,
                  "900lb": 0,
                  "90s": 0,
                  "92nd": 0,
                  "9th": 0,
                  "_wizard": 0,
                  "aa": 0,
                  "aaa": 0,
                  "aames": 0,
                  "aang": 0,
                  "aaron": 0,
                  "aarons": 0,
                  "aba": 0,
                  "abaddon": 0,
                  "abagnale": 0,
                  "abandon": 0,
                  "abandoned": 0,
                  "abandoning": 0,
                  "abandonment": 0,
                  "abandons": 0,
                  "abba": 0,
                  "abbas": 0,
                  "abbate": 0,
                  "abberline": 0,
                  "abbey": 0,
                  "abbie": 0,
                  "abbott": 0,
                  "abby": 0,
                  "abdicates": 0,
                  "abdication": 0,
                  "abduct": 0,
                  "abducted": 0,
                  "abduction": 0,
                  "abductions": 0,
                  "abductors": 0,
                  "abducts": 0,
                  "abe": 0,
                  "abel": 0,
                  "aberdeen": 0,
                  "abernathy": 0,
                  "abhorrent": 0,
                  "abhors": 0,
                  "abide": 0,
                  "abigail": 0,
                  "abilities": 0,
                  "ability": 0,
                  "ablai": 0,
                  "able": 0,
                  "ableman": 0,
                  "abo": 0,
                  "aboard": 0,
                  "abode": 0,
                  "abolish": 0,
                  "abolition": 0,
                  "abolitionist": 0,
                  "aboriginal": 0,
                  "aborigines": 0,
                  "abortion": 0,
                  "abortionist": 0,
                  "abound": 0,
                  "abraham": 0,
                  "abrams": 0,
                  "abrasive": 0,
                  "abroad": 0,
                  "abrupt": 0,
                  "abruptly": 0,
                  "absence": 0,
                  "absences": 0,
                  "absent": 0,
                  "absentia": 0,
                  "abshire": 0,
                  "absolute": 0,
                  "absolutely": 0,
                  "absorbed": 0,
                  "absorbs": 0,
                  "absorption": 0,
                  "abstract": 0,
                  "abstraction": 0,
                  "absurd": 0,
                  "abu": 0,
                  "abundance": 0,
                  "abuse": 0,
                  "abused": 0,
                  "abuses": 0,
                  "abusing": 0,
                  "abusive": 0,
                  "abyss": 0,
                  "aca": 0,
                  "academia": 0,
                  "academic": 0,
                  "academy": 0,
                  "acapulco": 0,
                  "accelerated": 0,
                  "accelerating": 0,
                  "accept": 0,
                  "acceptable": 0,
                  "acceptance": 0,
                  "accepted": 0,
                  "accepting": 0,
                  "accepts": 0,
                  "access": 0,
                  "accessible": 0,
                  "accessories": 0,
                  "accident": 0,
                  "accidental": 0,
                  "accidentally": 0,
                  "accidentaly": 0,
                  "accidents": 0,
                  "acclaim": 0,
                  "acclaimed": 0,
                  "acclimated": 0,
                  "acclimates": 0,
                  "accolades": 0,
                  "accompanied": 0,
                  "accompanies": 0,
                  "accompany": 0,
                  "accompanying": 0,
                  "accomplice": 0,
                  "accomplices": 0,
                  "accomplish": 0,
                  "accomplished": 0,
                  "accordance": 0,
                  "accordian": 0,
                  "according": 0,
                  "account": 0,
                  "accountable": 0,
                  "accountant": 0,
                  "accountants": 0,
                  "accounting": 0,
                  "accounts": 0,
                  "accra": 0,
                  "accumulation": 0,
                  "accuracy": 0,
                  "accursed": 0,
                  "accusations": 0,
                  "accuse": 0,
                  "accused": 0,
                  "accuser": 0,
                  "accuses": 0,
                  "ace": 0,
                  "achieve": 0,
                  "achieved": 0,
                  "achievement": 0,
                  "achievements": 0,
                  "achieves": 0,
                  "achieving": 0,
                  "achilles": 0,
                  "achim": 0,
                  "aching": 0,
                  "acid": 0,
                  "acker": 0,
                  "acquaintance": 0,
                  "acquaintances": 0,
                  "acquainted": 0,
                  "acquire": 0,
                  "acquired": 0,
                  "acquires": 0,
                  "acquiring": 0,
                  "acquittal": 0,
                  "acquitted": 0,
                  "acre": 0,
                  "acrimonious": 0,
                  "acrobat": 0,
                  "act": 0,
                  "acting": 0,
                  "action": 0,
                  "actions": 0,
                  "activate": 0,
                  "active": 0,
                  "activist": 0,
                  "activists": 0,
                  "activities": 0,
                  "_deepnote_index_column": 8
                },
                {
                  "10": 0,
                  "11": 0,
                  "12": 0,
                  "13": 0,
                  "14": 0,
                  "15": 0,
                  "16": 0,
                  "17": 0,
                  "18": 0,
                  "19": 0,
                  "20": 0,
                  "21": 0,
                  "22": 0,
                  "23": 0,
                  "24": 0,
                  "25": 0,
                  "26": 0,
                  "27": 0,
                  "28": 0,
                  "29": 0,
                  "30": 0,
                  "31": 0,
                  "32": 0,
                  "33": 0,
                  "35": 0,
                  "38": 0,
                  "39": 0,
                  "40": 0,
                  "42": 0,
                  "43": 0,
                  "44": 0,
                  "47": 0,
                  "48": 0,
                  "49": 0,
                  "50": 0,
                  "51": 0,
                  "53": 0,
                  "54": 0,
                  "56": 0,
                  "58": 0,
                  "59": 0,
                  "60": 0,
                  "63": 0,
                  "64": 0,
                  "66": 0,
                  "69": 0,
                  "70": 0,
                  "72": 0,
                  "73": 0,
                  "75": 0,
                  "78": 0,
                  "79": 0,
                  "80": 0,
                  "81": 0,
                  "83": 0,
                  "84": 0,
                  "86": 0,
                  "88": 0,
                  "90": 0,
                  "93": 0,
                  "96": 0,
                  "98": 0,
                  "99": 0,
                  "100": 0,
                  "101": 0,
                  "108": 0,
                  "114": 0,
                  "117": 0,
                  "118": 0,
                  "119": 0,
                  "140": 0,
                  "142": 0,
                  "148": 0,
                  "150": 0,
                  "161": 0,
                  "170": 0,
                  "180": 0,
                  "191": 0,
                  "200": 0,
                  "250": 0,
                  "280": 0,
                  "298": 0,
                  "300": 0,
                  "350": 0,
                  "370": 0,
                  "400": 0,
                  "480": 0,
                  "500": 0,
                  "533": 0,
                  "600": 0,
                  "643": 0,
                  "700": 0,
                  "747": 0,
                  "800": 0,
                  "911": 0,
                  "922": 0,
                  "1000": 0,
                  "1200": 0,
                  "1215": 0,
                  "1250": 0,
                  "1300": 0,
                  "1408": 0,
                  "1429": 0,
                  "1536": 0,
                  "1644": 0,
                  "1681": 0,
                  "1691": 0,
                  "1748": 0,
                  "1776": 0,
                  "1800": 0,
                  "1818": 0,
                  "1820": 0,
                  "1824": 0,
                  "1831": 0,
                  "1834": 0,
                  "1836": 0,
                  "1838": 0,
                  "1839": 0,
                  "1841": 0,
                  "1845": 0,
                  "1850": 0,
                  "1856": 0,
                  "1857": 0,
                  "1860": 0,
                  "1862": 0,
                  "1863": 0,
                  "1875": 0,
                  "1876": 0,
                  "1879": 0,
                  "1882": 0,
                  "1885": 0,
                  "1889": 0,
                  "1890": 0,
                  "1900": 0,
                  "1903": 0,
                  "1905": 0,
                  "1910": 0,
                  "1911": 0,
                  "1912": 0,
                  "1914": 0,
                  "1915": 0,
                  "1917": 0,
                  "1918": 0,
                  "1919": 0,
                  "1920": 0,
                  "1921": 0,
                  "1922": 0,
                  "1924": 0,
                  "1925": 0,
                  "1926": 0,
                  "1927": 0,
                  "1928": 0,
                  "1929": 0,
                  "1930": 0,
                  "1931": 0,
                  "1932": 0,
                  "1933": 0,
                  "1934": 0,
                  "1936": 0,
                  "1937": 0,
                  "1939": 0,
                  "1940": 0,
                  "1941": 0,
                  "1942": 0,
                  "1943": 0,
                  "1944": 0,
                  "1945": 0,
                  "1946": 0,
                  "1947": 0,
                  "1949": 0,
                  "1950": 0,
                  "1951": 0,
                  "1952": 0,
                  "1953": 0,
                  "1954": 0,
                  "1955": 0,
                  "1956": 0,
                  "1957": 0,
                  "1958": 0,
                  "1959": 0,
                  "1960": 0,
                  "1962": 0,
                  "1964": 0,
                  "1965": 0,
                  "1966": 0,
                  "1967": 0,
                  "1968": 0,
                  "1969": 0,
                  "1970": 0,
                  "1971": 0,
                  "1972": 0,
                  "1973": 0,
                  "1974": 0,
                  "1975": 0,
                  "1976": 0,
                  "1977": 0,
                  "1978": 0,
                  "1979": 0,
                  "1980": 0,
                  "1981": 0,
                  "1982": 0,
                  "1983": 0,
                  "1984": 0,
                  "1985": 0,
                  "1986": 0,
                  "1987": 0,
                  "1988": 0,
                  "1989": 0,
                  "1990": 0,
                  "1991": 0,
                  "1992": 0,
                  "1993": 0,
                  "1994": 0,
                  "1995": 0,
                  "1996": 0,
                  "1997": 0,
                  "1998": 0,
                  "1999": 0,
                  "2000": 0,
                  "2001": 0,
                  "2002": 0,
                  "2003": 0,
                  "2004": 0,
                  "2005": 0,
                  "2006": 0,
                  "2007": 0,
                  "2008": 0,
                  "2009": 0,
                  "2010": 0,
                  "2011": 0,
                  "2012": 0,
                  "2013": 0,
                  "2014": 0,
                  "2015": 0,
                  "2016": 0,
                  "2017": 0,
                  "2018": 0,
                  "2019": 0,
                  "2020": 0,
                  "2025": 0,
                  "2027": 0,
                  "2028": 0,
                  "2029": 0,
                  "2035": 0,
                  "2046": 0,
                  "2047": 0,
                  "2058": 0,
                  "2087": 0,
                  "2159": 0,
                  "2199": 0,
                  "2257": 0,
                  "2455": 0,
                  "2505": 0,
                  "3000": 0,
                  "9000": 0,
                  "90210": 0,
                  "00": 0,
                  "000": 0,
                  "007": 0,
                  "07am": 0,
                  "10th": 0,
                  "11th": 0,
                  "125th": 0,
                  "12th": 0,
                  "13th": 0,
                  "14pm": 0,
                  "14th": 0,
                  "150th": 0,
                  "1520s": 0,
                  "15th": 0,
                  "1600s": 0,
                  "1630s": 0,
                  "16th": 0,
                  "1700s": 0,
                  "173rd": 0,
                  "17th": 0,
                  "1820s": 0,
                  "1850s": 0,
                  "1870s": 0,
                  "1880s": 0,
                  "1890s": 0,
                  "18th": 0,
                  "1900s": 0,
                  "1910s": 0,
                  "1920s": 0,
                  "1930s": 0,
                  "1940s": 0,
                  "1950s": 0,
                  "1960s": 0,
                  "1970s": 0,
                  "1980s": 0,
                  "1990s": 0,
                  "19th": 0,
                  "1st": 0,
                  "20s": 0,
                  "20th": 0,
                  "21st": 0,
                  "22nd": 0,
                  "250cc": 0,
                  "25th": 0,
                  "27th": 0,
                  "28th": 0,
                  "2nd": 0,
                  "30s": 0,
                  "30th": 0,
                  "310lb": 0,
                  "344m": 0,
                  "3d": 0,
                  "3po": 0,
                  "40s": 0,
                  "47th": 0,
                  "4k": 0,
                  "4th": 0,
                  "50s": 0,
                  "50th": 0,
                  "51st": 0,
                  "5m": 0,
                  "5th": 0,
                  "60s": 0,
                  "65th": 0,
                  "6th": 0,
                  "70mm": 0,
                  "70s": 0,
                  "74th": 0,
                  "75th": 0,
                  "7th": 0,
                  "80s": 0,
                  "8km": 0,
                  "8th": 0,
                  "900lb": 0,
                  "90s": 0,
                  "92nd": 0,
                  "9th": 0,
                  "_wizard": 0,
                  "aa": 0,
                  "aaa": 0,
                  "aames": 0,
                  "aang": 0,
                  "aaron": 0,
                  "aarons": 0,
                  "aba": 0,
                  "abaddon": 0,
                  "abagnale": 0,
                  "abandon": 0,
                  "abandoned": 0,
                  "abandoning": 0,
                  "abandonment": 0,
                  "abandons": 0,
                  "abba": 0,
                  "abbas": 0,
                  "abbate": 0,
                  "abberline": 0,
                  "abbey": 0,
                  "abbie": 0,
                  "abbott": 0,
                  "abby": 0,
                  "abdicates": 0,
                  "abdication": 0,
                  "abduct": 0,
                  "abducted": 0,
                  "abduction": 0,
                  "abductions": 0,
                  "abductors": 0,
                  "abducts": 0,
                  "abe": 0,
                  "abel": 0,
                  "aberdeen": 0,
                  "abernathy": 0,
                  "abhorrent": 0,
                  "abhors": 0,
                  "abide": 0,
                  "abigail": 0,
                  "abilities": 0,
                  "ability": 0,
                  "ablai": 0,
                  "able": 0,
                  "ableman": 0,
                  "abo": 0,
                  "aboard": 0,
                  "abode": 0,
                  "abolish": 0,
                  "abolition": 0,
                  "abolitionist": 0,
                  "aboriginal": 0,
                  "aborigines": 0,
                  "abortion": 0,
                  "abortionist": 0,
                  "abound": 0,
                  "abraham": 0,
                  "abrams": 0,
                  "abrasive": 0,
                  "abroad": 0,
                  "abrupt": 0,
                  "abruptly": 0,
                  "absence": 0,
                  "absences": 0,
                  "absent": 0,
                  "absentia": 0,
                  "abshire": 0,
                  "absolute": 0,
                  "absolutely": 0,
                  "absorbed": 0,
                  "absorbs": 0,
                  "absorption": 0,
                  "abstract": 0,
                  "abstraction": 0,
                  "absurd": 0,
                  "abu": 0,
                  "abundance": 0,
                  "abuse": 0,
                  "abused": 0,
                  "abuses": 0,
                  "abusing": 0,
                  "abusive": 0,
                  "abyss": 0,
                  "aca": 0,
                  "academia": 0,
                  "academic": 0,
                  "academy": 0,
                  "acapulco": 0,
                  "accelerated": 0,
                  "accelerating": 0,
                  "accept": 0,
                  "acceptable": 0,
                  "acceptance": 0,
                  "accepted": 0,
                  "accepting": 0,
                  "accepts": 0,
                  "access": 0,
                  "accessible": 0,
                  "accessories": 0,
                  "accident": 0,
                  "accidental": 0,
                  "accidentally": 0,
                  "accidentaly": 0,
                  "accidents": 0,
                  "acclaim": 0,
                  "acclaimed": 0,
                  "acclimated": 0,
                  "acclimates": 0,
                  "accolades": 0,
                  "accompanied": 0,
                  "accompanies": 0,
                  "accompany": 0,
                  "accompanying": 0,
                  "accomplice": 0,
                  "accomplices": 0,
                  "accomplish": 0,
                  "accomplished": 0,
                  "accordance": 0,
                  "accordian": 0,
                  "according": 0,
                  "account": 0,
                  "accountable": 0,
                  "accountant": 0,
                  "accountants": 0,
                  "accounting": 0,
                  "accounts": 0,
                  "accra": 0,
                  "accumulation": 0,
                  "accuracy": 0,
                  "accursed": 0,
                  "accusations": 0,
                  "accuse": 0,
                  "accused": 0,
                  "accuser": 0,
                  "accuses": 0,
                  "ace": 0,
                  "achieve": 0,
                  "achieved": 0,
                  "achievement": 0,
                  "achievements": 0,
                  "achieves": 0,
                  "achieving": 0,
                  "achilles": 0,
                  "achim": 0,
                  "aching": 0,
                  "acid": 0,
                  "acker": 0,
                  "acquaintance": 0,
                  "acquaintances": 0,
                  "acquainted": 0,
                  "acquire": 0,
                  "acquired": 0,
                  "acquires": 0,
                  "acquiring": 0,
                  "acquittal": 0,
                  "acquitted": 0,
                  "acre": 0,
                  "acrimonious": 0,
                  "acrobat": 0,
                  "act": 0,
                  "acting": 0,
                  "action": 0,
                  "actions": 0.16370691278862692,
                  "activate": 0,
                  "active": 0,
                  "activist": 0,
                  "activists": 0,
                  "activities": 0,
                  "_deepnote_index_column": 9
                }
              ]
            },
            "text/plain": "       00  000  007  07am   10  100  1000  101  108  10th  ...  zuckerberg  \\\n0     0.0  0.0  0.0   0.0  0.0  0.0   0.0  0.0  0.0   0.0  ...         0.0   \n1     0.0  0.0  0.0   0.0  0.0  0.0   0.0  0.0  0.0   0.0  ...         0.0   \n2     0.0  0.0  0.0   0.0  0.0  0.0   0.0  0.0  0.0   0.0  ...         0.0   \n3     0.0  0.0  0.0   0.0  0.0  0.0   0.0  0.0  0.0   0.0  ...         0.0   \n4     0.0  0.0  0.0   0.0  0.0  0.0   0.0  0.0  0.0   0.0  ...         0.0   \n...   ...  ...  ...   ...  ...  ...   ...  ...  ...   ...  ...         ...   \n4798  0.0  0.0  0.0   0.0  0.0  0.0   0.0  0.0  0.0   0.0  ...         0.0   \n4799  0.0  0.0  0.0   0.0  0.0  0.0   0.0  0.0  0.0   0.0  ...         0.0   \n4800  0.0  0.0  0.0   0.0  0.0  0.0   0.0  0.0  0.0   0.0  ...         0.0   \n4801  0.0  0.0  0.0   0.0  0.0  0.0   0.0  0.0  0.0   0.0  ...         0.0   \n4802  0.0  0.0  0.0   0.0  0.0  0.0   0.0  0.0  0.0   0.0  ...         0.0   \n\n      zula  zuzu  zyklon  æon  éloigne  émigré  été  única  über  \n0      0.0   0.0     0.0  0.0      0.0     0.0  0.0    0.0   0.0  \n1      0.0   0.0     0.0  0.0      0.0     0.0  0.0    0.0   0.0  \n2      0.0   0.0     0.0  0.0      0.0     0.0  0.0    0.0   0.0  \n3      0.0   0.0     0.0  0.0      0.0     0.0  0.0    0.0   0.0  \n4      0.0   0.0     0.0  0.0      0.0     0.0  0.0    0.0   0.0  \n...    ...   ...     ...  ...      ...     ...  ...    ...   ...  \n4798   0.0   0.0     0.0  0.0      0.0     0.0  0.0    0.0   0.0  \n4799   0.0   0.0     0.0  0.0      0.0     0.0  0.0    0.0   0.0  \n4800   0.0   0.0     0.0  0.0      0.0     0.0  0.0    0.0   0.0  \n4801   0.0   0.0     0.0  0.0      0.0     0.0  0.0    0.0   0.0  \n4802   0.0   0.0     0.0  0.0      0.0     0.0  0.0    0.0   0.0  \n\n[4803 rows x 20978 columns]",
            "text/html": "<div>\n<style scoped>\n    .dataframe tbody tr th:only-of-type {\n        vertical-align: middle;\n    }\n\n    .dataframe tbody tr th {\n        vertical-align: top;\n    }\n\n    .dataframe thead th {\n        text-align: right;\n    }\n</style>\n<table border=\"1\" class=\"dataframe\">\n  <thead>\n    <tr style=\"text-align: right;\">\n      <th></th>\n      <th>00</th>\n      <th>000</th>\n      <th>007</th>\n      <th>07am</th>\n      <th>10</th>\n      <th>100</th>\n      <th>1000</th>\n      <th>101</th>\n      <th>108</th>\n      <th>10th</th>\n      <th>...</th>\n      <th>zuckerberg</th>\n      <th>zula</th>\n      <th>zuzu</th>\n      <th>zyklon</th>\n      <th>æon</th>\n      <th>éloigne</th>\n      <th>émigré</th>\n      <th>été</th>\n      <th>única</th>\n      <th>über</th>\n    </tr>\n  </thead>\n  <tbody>\n    <tr>\n      <th>0</th>\n      <td>0.0</td>\n      <td>0.0</td>\n      <td>0.0</td>\n      <td>0.0</td>\n      <td>0.0</td>\n      <td>0.0</td>\n      <td>0.0</td>\n      <td>0.0</td>\n      <td>0.0</td>\n      <td>0.0</td>\n      <td>...</td>\n      <td>0.0</td>\n      <td>0.0</td>\n      <td>0.0</td>\n      <td>0.0</td>\n      <td>0.0</td>\n      <td>0.0</td>\n      <td>0.0</td>\n      <td>0.0</td>\n      <td>0.0</td>\n      <td>0.0</td>\n    </tr>\n    <tr>\n      <th>1</th>\n      <td>0.0</td>\n      <td>0.0</td>\n      <td>0.0</td>\n      <td>0.0</td>\n      <td>0.0</td>\n      <td>0.0</td>\n      <td>0.0</td>\n      <td>0.0</td>\n      <td>0.0</td>\n      <td>0.0</td>\n      <td>...</td>\n      <td>0.0</td>\n      <td>0.0</td>\n      <td>0.0</td>\n      <td>0.0</td>\n      <td>0.0</td>\n      <td>0.0</td>\n      <td>0.0</td>\n      <td>0.0</td>\n      <td>0.0</td>\n      <td>0.0</td>\n    </tr>\n    <tr>\n      <th>2</th>\n      <td>0.0</td>\n      <td>0.0</td>\n      <td>0.0</td>\n      <td>0.0</td>\n      <td>0.0</td>\n      <td>0.0</td>\n      <td>0.0</td>\n      <td>0.0</td>\n      <td>0.0</td>\n      <td>0.0</td>\n      <td>...</td>\n      <td>0.0</td>\n      <td>0.0</td>\n      <td>0.0</td>\n      <td>0.0</td>\n      <td>0.0</td>\n      <td>0.0</td>\n      <td>0.0</td>\n      <td>0.0</td>\n      <td>0.0</td>\n      <td>0.0</td>\n    </tr>\n    <tr>\n      <th>3</th>\n      <td>0.0</td>\n      <td>0.0</td>\n      <td>0.0</td>\n      <td>0.0</td>\n      <td>0.0</td>\n      <td>0.0</td>\n      <td>0.0</td>\n      <td>0.0</td>\n      <td>0.0</td>\n      <td>0.0</td>\n      <td>...</td>\n      <td>0.0</td>\n      <td>0.0</td>\n      <td>0.0</td>\n      <td>0.0</td>\n      <td>0.0</td>\n      <td>0.0</td>\n      <td>0.0</td>\n      <td>0.0</td>\n      <td>0.0</td>\n      <td>0.0</td>\n    </tr>\n    <tr>\n      <th>4</th>\n      <td>0.0</td>\n      <td>0.0</td>\n      <td>0.0</td>\n      <td>0.0</td>\n      <td>0.0</td>\n      <td>0.0</td>\n      <td>0.0</td>\n      <td>0.0</td>\n      <td>0.0</td>\n      <td>0.0</td>\n      <td>...</td>\n      <td>0.0</td>\n      <td>0.0</td>\n      <td>0.0</td>\n      <td>0.0</td>\n      <td>0.0</td>\n      <td>0.0</td>\n      <td>0.0</td>\n      <td>0.0</td>\n      <td>0.0</td>\n      <td>0.0</td>\n    </tr>\n    <tr>\n      <th>...</th>\n      <td>...</td>\n      <td>...</td>\n      <td>...</td>\n      <td>...</td>\n      <td>...</td>\n      <td>...</td>\n      <td>...</td>\n      <td>...</td>\n      <td>...</td>\n      <td>...</td>\n      <td>...</td>\n      <td>...</td>\n      <td>...</td>\n      <td>...</td>\n      <td>...</td>\n      <td>...</td>\n      <td>...</td>\n      <td>...</td>\n      <td>...</td>\n      <td>...</td>\n      <td>...</td>\n    </tr>\n    <tr>\n      <th>4798</th>\n      <td>0.0</td>\n      <td>0.0</td>\n      <td>0.0</td>\n      <td>0.0</td>\n      <td>0.0</td>\n      <td>0.0</td>\n      <td>0.0</td>\n      <td>0.0</td>\n      <td>0.0</td>\n      <td>0.0</td>\n      <td>...</td>\n      <td>0.0</td>\n      <td>0.0</td>\n      <td>0.0</td>\n      <td>0.0</td>\n      <td>0.0</td>\n      <td>0.0</td>\n      <td>0.0</td>\n      <td>0.0</td>\n      <td>0.0</td>\n      <td>0.0</td>\n    </tr>\n    <tr>\n      <th>4799</th>\n      <td>0.0</td>\n      <td>0.0</td>\n      <td>0.0</td>\n      <td>0.0</td>\n      <td>0.0</td>\n      <td>0.0</td>\n      <td>0.0</td>\n      <td>0.0</td>\n      <td>0.0</td>\n      <td>0.0</td>\n      <td>...</td>\n      <td>0.0</td>\n      <td>0.0</td>\n      <td>0.0</td>\n      <td>0.0</td>\n      <td>0.0</td>\n      <td>0.0</td>\n      <td>0.0</td>\n      <td>0.0</td>\n      <td>0.0</td>\n      <td>0.0</td>\n    </tr>\n    <tr>\n      <th>4800</th>\n      <td>0.0</td>\n      <td>0.0</td>\n      <td>0.0</td>\n      <td>0.0</td>\n      <td>0.0</td>\n      <td>0.0</td>\n      <td>0.0</td>\n      <td>0.0</td>\n      <td>0.0</td>\n      <td>0.0</td>\n      <td>...</td>\n      <td>0.0</td>\n      <td>0.0</td>\n      <td>0.0</td>\n      <td>0.0</td>\n      <td>0.0</td>\n      <td>0.0</td>\n      <td>0.0</td>\n      <td>0.0</td>\n      <td>0.0</td>\n      <td>0.0</td>\n    </tr>\n    <tr>\n      <th>4801</th>\n      <td>0.0</td>\n      <td>0.0</td>\n      <td>0.0</td>\n      <td>0.0</td>\n      <td>0.0</td>\n      <td>0.0</td>\n      <td>0.0</td>\n      <td>0.0</td>\n      <td>0.0</td>\n      <td>0.0</td>\n      <td>...</td>\n      <td>0.0</td>\n      <td>0.0</td>\n      <td>0.0</td>\n      <td>0.0</td>\n      <td>0.0</td>\n      <td>0.0</td>\n      <td>0.0</td>\n      <td>0.0</td>\n      <td>0.0</td>\n      <td>0.0</td>\n    </tr>\n    <tr>\n      <th>4802</th>\n      <td>0.0</td>\n      <td>0.0</td>\n      <td>0.0</td>\n      <td>0.0</td>\n      <td>0.0</td>\n      <td>0.0</td>\n      <td>0.0</td>\n      <td>0.0</td>\n      <td>0.0</td>\n      <td>0.0</td>\n      <td>...</td>\n      <td>0.0</td>\n      <td>0.0</td>\n      <td>0.0</td>\n      <td>0.0</td>\n      <td>0.0</td>\n      <td>0.0</td>\n      <td>0.0</td>\n      <td>0.0</td>\n      <td>0.0</td>\n      <td>0.0</td>\n    </tr>\n  </tbody>\n</table>\n<p>4803 rows × 20978 columns</p>\n</div>"
          },
          "metadata": {}
        }
      ],
      "execution_count": null
    },
    {
      "cell_type": "code",
      "source": "tfidf_matrix.shape",
      "metadata": {
        "source_hash": null,
        "execution_start": 1688208635306,
        "execution_millis": 10,
        "deepnote_to_be_reexecuted": false,
        "cell_id": "ead286d5b738457a8ffc59c418ceab28",
        "deepnote_cell_type": "code"
      },
      "outputs": [
        {
          "output_type": "execute_result",
          "execution_count": 4,
          "data": {
            "text/plain": "(4803, 20978)"
          },
          "metadata": {}
        }
      ],
      "execution_count": null
    },
    {
      "cell_type": "markdown",
      "source": "Similarity matrix",
      "metadata": {
        "formattedRanges": [],
        "cell_id": "fa79a84bda78444787945e41df09b30e",
        "deepnote_cell_type": "text-cell-p"
      }
    },
    {
      "cell_type": "code",
      "source": "from sklearn.metrics.pairwise import linear_kernel\nsimilarity_metrix = linear_kernel(tfidf_matrix, tfidf_matrix)\n",
      "metadata": {
        "source_hash": null,
        "execution_start": 1688208635327,
        "execution_millis": 373,
        "deepnote_to_be_reexecuted": false,
        "cell_id": "1b6704b6c08d4cc2a58071f5ddd4329c",
        "deepnote_cell_type": "code"
      },
      "outputs": [],
      "execution_count": null
    },
    {
      "cell_type": "code",
      "source": "similarity_metrix",
      "metadata": {
        "source_hash": null,
        "execution_start": 1688208635706,
        "execution_millis": 54,
        "deepnote_to_be_reexecuted": false,
        "cell_id": "d34e712a67924064bf44038ca6682108",
        "deepnote_cell_type": "code"
      },
      "outputs": [
        {
          "output_type": "execute_result",
          "execution_count": 6,
          "data": {
            "text/plain": "array([[1.        , 0.        , 0.        , ..., 0.        , 0.        ,\n        0.        ],\n       [0.        , 1.        , 0.        , ..., 0.02160533, 0.        ,\n        0.        ],\n       [0.        , 0.        , 1.        , ..., 0.01488159, 0.        ,\n        0.        ],\n       ...,\n       [0.        , 0.02160533, 0.01488159, ..., 1.        , 0.01609091,\n        0.00701914],\n       [0.        , 0.        , 0.        , ..., 0.01609091, 1.        ,\n        0.01171696],\n       [0.        , 0.        , 0.        , ..., 0.00701914, 0.01171696,\n        1.        ]])"
          },
          "metadata": {}
        }
      ],
      "execution_count": null
    },
    {
      "cell_type": "code",
      "source": "movie_title = 'Avengers: Age of Ultron'",
      "metadata": {
        "source_hash": null,
        "execution_start": 1688208635727,
        "execution_millis": 36,
        "deepnote_to_be_reexecuted": false,
        "cell_id": "8ff968fff0c944518bf89a96069b6dbb",
        "deepnote_cell_type": "code"
      },
      "outputs": [],
      "execution_count": null
    },
    {
      "cell_type": "code",
      "source": "idx = movies.loc[movies['title']==movie_title].index\nidx",
      "metadata": {
        "source_hash": null,
        "execution_start": 1688208635740,
        "execution_millis": 9,
        "deepnote_to_be_reexecuted": false,
        "cell_id": "5572902ab4cd498281f69a21d6f2f334",
        "deepnote_cell_type": "code"
      },
      "outputs": [
        {
          "output_type": "execute_result",
          "execution_count": 8,
          "data": {
            "text/plain": "Int64Index([7], dtype='int64')"
          },
          "metadata": {}
        }
      ],
      "execution_count": null
    },
    {
      "cell_type": "code",
      "source": "idx[0]",
      "metadata": {
        "source_hash": null,
        "execution_start": 1688208635753,
        "execution_millis": 15,
        "deepnote_to_be_reexecuted": false,
        "cell_id": "550ceb970b6b46c7b6c990261906a40b",
        "deepnote_cell_type": "code"
      },
      "outputs": [
        {
          "output_type": "execute_result",
          "execution_count": 9,
          "data": {
            "text/plain": "7"
          },
          "metadata": {}
        }
      ],
      "execution_count": null
    },
    {
      "cell_type": "code",
      "source": "idx = movies.loc[movies['title']==movie_title].index[0]\nidx",
      "metadata": {
        "source_hash": null,
        "execution_start": 1688208635763,
        "execution_millis": 16,
        "deepnote_to_be_reexecuted": false,
        "cell_id": "ee6a36c703054632b19a3852cec51f12",
        "deepnote_cell_type": "code"
      },
      "outputs": [
        {
          "output_type": "execute_result",
          "execution_count": 10,
          "data": {
            "text/plain": "7"
          },
          "metadata": {}
        }
      ],
      "execution_count": null
    },
    {
      "cell_type": "code",
      "source": "scores = list(enumerate(similarity_metrix[idx]))\nscores",
      "metadata": {
        "source_hash": null,
        "execution_start": 1688208635770,
        "execution_millis": 392,
        "deepnote_to_be_reexecuted": false,
        "cell_id": "bc33bf565c38410e8c37be70d93ec9ef",
        "deepnote_cell_type": "code"
      },
      "outputs": [
        {
          "output_type": "execute_result",
          "execution_count": 11,
          "data": {
            "text/plain": "[(0, 0.03758069690343087),\n (1, 0.02267550177141283),\n (2, 0.030949092660101093),\n (3, 0.026954270578912674),\n (4, 0.037407042075763064),\n (5, 0.0),\n (6, 0.011880508658933947),\n (7, 1.0000000000000002),\n (8, 0.0),\n (9, 0.0),\n (10, 0.0429550431317994),\n (11, 0.0),\n (12, 0.015118367234755849),\n (13, 0.0),\n (14, 0.021487381174343786),\n (15, 0.0),\n (16, 0.14637433182569917),\n (17, 0.03566279085158555),\n (18, 0.06105143604289205),\n (19, 0.010687019073260572),\n (20, 0.0),\n (21, 0.0),\n (22, 0.0),\n (23, 0.019444062784467437),\n (24, 0.0),\n (25, 0.0),\n (26, 0.12116153537372129),\n (27, 0.013869593920027644),\n (28, 0.0),\n (29, 0.0),\n (30, 0.0),\n (31, 0.10118475483965844),\n (32, 0.025950623484245632),\n (33, 0.0),\n (34, 0.0),\n (35, 0.0),\n (36, 0.028703008496637886),\n (37, 0.0),\n (38, 0.03877238062794898),\n (39, 0.03996667681811636),\n (40, 0.017740228422140375),\n (41, 0.0746524461017251),\n (42, 0.0),\n (43, 0.014420795250255525),\n (44, 0.0),\n (45, 0.0),\n (46, 0.06360351038213703),\n (47, 0.03912666507925262),\n (48, 0.02476306968378699),\n (49, 0.010393756272578186),\n (50, 0.0),\n (51, 0.014843566741493145),\n (52, 0.018781371942913922),\n (53, 0.0),\n (54, 0.03872557664031962),\n (55, 0.008629936438889855),\n (56, 0.03313585430379356),\n (57, 0.01293418408499384),\n (58, 0.015644506700878472),\n (59, 0.03490010653383411),\n (60, 0.019137201426212884),\n (61, 0.018906677661093347),\n (62, 0.0),\n (63, 0.0),\n (64, 0.0),\n (65, 0.009797613517382573),\n (66, 0.022184962099733686),\n (67, 0.015456343195281582),\n (68, 0.12607342868374588),\n (69, 0.00989360776073928),\n (70, 0.04935297649016792),\n (71, 0.0),\n (72, 0.0),\n (73, 0.0),\n (74, 0.0),\n (75, 0.038041325428916),\n (76, 0.0),\n (77, 0.016222172746722524),\n (78, 0.0),\n (79, 0.1315725085742952),\n (80, 0.0),\n (81, 0.010781195799063536),\n (82, 0.019628021096962846),\n (83, 0.03179633357004834),\n (84, 0.026281610347571212),\n (85, 0.07644336670199778),\n (86, 0.0),\n (87, 0.0),\n (88, 0.03313427866007192),\n (89, 0.0),\n (90, 0.0),\n (91, 0.06420003367534349),\n (92, 0.0),\n (93, 0.012881143111441349),\n (94, 0.018804388533674478),\n (95, 0.0),\n (96, 0.0),\n (97, 0.03061016441874209),\n (98, 0.024613106463692545),\n (99, 0.0),\n (100, 0.0),\n (101, 0.016262917844367442),\n (102, 0.0),\n (103, 0.011330676409088566),\n (104, 0.0),\n (105, 0.022031912415593612),\n (106, 0.0),\n (107, 0.041331081150517375),\n (108, 0.0),\n (109, 0.0),\n (110, 0.043333031250787135),\n (111, 0.015091615003094855),\n (112, 0.01209809398996897),\n (113, 0.0),\n (114, 0.0),\n (115, 0.0),\n (116, 0.0382430961685088),\n (117, 0.0),\n (118, 0.01922571294369174),\n (119, 0.0),\n (120, 0.0),\n (121, 0.02418158283386027),\n (122, 0.040113907655283824),\n (123, 0.0),\n (124, 0.035566266113421965),\n (125, 0.017739100031274768),\n (126, 0.0),\n (127, 0.07517031558751251),\n (128, 0.01576813310090271),\n (129, 0.02564191528917584),\n (130, 0.01215177453308525),\n (131, 0.029732308842128213),\n (132, 0.0),\n (133, 0.043798922859145044),\n (134, 0.0),\n (135, 0.0),\n (136, 0.0),\n (137, 0.02604300231694762),\n (138, 0.038557062453933144),\n (139, 0.0197711567993215),\n (140, 0.0),\n (141, 0.0),\n (142, 0.014132826447105321),\n (143, 0.02391052624149203),\n (144, 0.02667049682676802),\n (145, 0.0),\n (146, 0.0),\n (147, 0.01869760549987292),\n (148, 0.01538843756488169),\n (149, 0.03364191319302674),\n (150, 0.04844663255039244),\n (151, 0.0),\n (152, 0.031705771795185377),\n (153, 0.020594779181826776),\n (154, 0.0),\n (155, 0.0),\n (156, 0.02985694821876931),\n (157, 0.0),\n (158, 0.03161571325681926),\n (159, 0.0),\n (160, 0.014832834813022111),\n (161, 0.0),\n (162, 0.07319918925945093),\n (163, 0.02641404515764606),\n (164, 0.012721571273148925),\n (165, 0.0),\n (166, 0.0),\n (167, 0.025497722645138096),\n (168, 0.03163717144056933),\n (169, 0.012779408064716532),\n (170, 0.026364874197126832),\n (171, 0.0),\n (172, 0.0),\n (173, 0.026874323913667383),\n (174, 0.01949557055791966),\n (175, 0.018846268498468537),\n (176, 0.0),\n (177, 0.0),\n (178, 0.0),\n (179, 0.06425351921143238),\n (180, 0.0),\n (181, 0.0),\n (182, 0.0),\n (183, 0.00737787681572709),\n (184, 0.025238196958757148),\n (185, 0.014629115673851032),\n (186, 0.0),\n (187, 0.016957200662935136),\n (188, 0.0),\n (189, 0.0),\n (190, 0.01005338230551898),\n (191, 0.0),\n (192, 0.0),\n (193, 0.017733166512683574),\n (194, 0.0),\n (195, 0.022848318752643728),\n (196, 0.0),\n (197, 0.0),\n (198, 0.021108730700249826),\n (199, 0.0),\n (200, 0.0),\n (201, 0.0),\n (202, 0.014256908593908778),\n (203, 0.0),\n (204, 0.0),\n (205, 0.0),\n (206, 0.02373564598300942),\n (207, 0.012530442723888069),\n (208, 0.0),\n (209, 0.0),\n (210, 0.029947302762167415),\n (211, 0.0),\n (212, 0.013244856706195794),\n (213, 0.013031080253248709),\n (214, 0.01396221354949621),\n (215, 0.01880921354924061),\n (216, 0.0),\n (217, 0.0),\n (218, 0.0),\n (219, 0.03225849442426929),\n (220, 0.021528341201392697),\n (221, 0.0),\n (222, 0.03939973219257696),\n (223, 0.0),\n (224, 0.0),\n (225, 0.0),\n (226, 0.0),\n (227, 0.1046126962882957),\n (228, 0.03155352063839063),\n (229, 0.014708979434336246),\n (230, 0.006819242417948505),\n (231, 0.0),\n (232, 0.034597726949144376),\n (233, 0.06866414079035489),\n (234, 0.017477412236033565),\n (235, 0.0),\n (236, 0.0),\n (237, 0.015642399180679903),\n (238, 0.02011695071294867),\n (239, 0.01720708141666695),\n (240, 0.039387886201425526),\n (241, 0.0),\n (242, 0.01756380945771353),\n (243, 0.012773966606724679),\n (244, 0.0),\n (245, 0.02830010738753742),\n (246, 0.01653539591607922),\n (247, 0.0),\n (248, 0.015326601276670638),\n (249, 0.0),\n (250, 0.0),\n (251, 0.0),\n (252, 0.0),\n (253, 0.025878556387570653),\n (254, 0.009338578588045775),\n (255, 0.0),\n (256, 0.0),\n (257, 0.0),\n (258, 0.0),\n (259, 0.0),\n (260, 0.020159876972754724),\n (261, 0.017401562665215094),\n (262, 0.010097394173497878),\n (263, 0.025845191940789172),\n (264, 0.038911980878842185),\n (265, 0.01781698262786339),\n (266, 0.0),\n (267, 0.0),\n (268, 0.0),\n (269, 0.0),\n (270, 0.04120835142592522),\n (271, 0.02710209865128175),\n (272, 0.022159257993006026),\n (273, 0.0),\n (274, 0.010671588284674892),\n (275, 0.0),\n (276, 0.0),\n (277, 0.0),\n (278, 0.027932244030620054),\n (279, 0.0),\n (280, 0.0),\n (281, 0.03473906474466),\n (282, 0.020203204751135333),\n (283, 0.0),\n (284, 0.0),\n (285, 0.02275314778921411),\n (286, 0.044256685654892415),\n (287, 0.0),\n (288, 0.011723879015065261),\n (289, 0.008641994431103459),\n (290, 0.03015776141895954),\n (291, 0.0),\n (292, 0.0),\n (293, 0.0),\n (294, 0.0),\n (295, 0.0),\n (296, 0.0),\n (297, 0.0),\n (298, 0.0),\n (299, 0.0),\n (300, 0.0),\n (301, 0.013333472354818895),\n (302, 0.0),\n (303, 0.0),\n (304, 0.009591541694282628),\n (305, 0.010642007511255656),\n (306, 0.0),\n (307, 0.009220108939520298),\n (308, 0.0),\n (309, 0.0),\n (310, 0.0),\n (311, 0.0),\n (312, 0.0),\n (313, 0.03016286256914524),\n (314, 0.0),\n (315, 0.0),\n (316, 0.008713572158959416),\n (317, 0.0),\n (318, 0.0),\n (319, 0.0),\n (320, 0.0),\n (321, 0.0),\n (322, 0.0),\n (323, 0.01864175327272332),\n (324, 0.0),\n (325, 0.022423071992588393),\n (326, 0.0),\n (327, 0.031989993785798004),\n (328, 0.00850437645460568),\n (329, 0.0),\n (330, 0.0),\n (331, 0.012124198249115129),\n (332, 0.0),\n (333, 0.0),\n (334, 0.0),\n (335, 0.0),\n (336, 0.0),\n (337, 0.03686466262656124),\n (338, 0.0),\n (339, 0.0),\n (340, 0.0),\n (341, 0.0),\n (342, 0.03393284175598431),\n (343, 0.01172434803056368),\n (344, 0.08859633407406252),\n (345, 0.01990900192112649),\n (346, 0.015465415650962488),\n (347, 0.0),\n (348, 0.027685147941048326),\n (349, 0.02522947845107736),\n (350, 0.012677481898402123),\n (351, 0.012379334838012462),\n (352, 0.0),\n (353, 0.0),\n (354, 0.0),\n (355, 0.014959245243572039),\n (356, 0.0),\n (357, 0.0),\n (358, 0.0),\n (359, 0.01911717557427735),\n (360, 0.0),\n (361, 0.0),\n (362, 0.0),\n (363, 0.03999089814459306),\n (364, 0.0),\n (365, 0.0),\n (366, 0.011398570234863145),\n (367, 0.027083859326079814),\n (368, 0.04736471000290841),\n (369, 0.030987004484007725),\n (370, 0.0),\n (371, 0.0),\n (372, 0.0),\n (373, 0.0419755244640509),\n (374, 0.01773030610012559),\n (375, 0.00845080678041702),\n (376, 0.02229865681478869),\n (377, 0.0),\n (378, 0.0),\n (379, 0.0),\n (380, 0.0),\n (381, 0.0),\n (382, 0.0),\n (383, 0.027049094052127947),\n (384, 0.026469243165431474),\n (385, 0.0),\n (386, 0.0),\n (387, 0.0),\n (388, 0.0),\n (389, 0.044752528586372624),\n (390, 0.0),\n (391, 0.0),\n (392, 0.0),\n (393, 0.02273226283113589),\n (394, 0.0),\n (395, 0.0),\n (396, 0.01243598777493623),\n (397, 0.0),\n (398, 0.0),\n (399, 0.0),\n (400, 0.0),\n (401, 0.0),\n (402, 0.0),\n (403, 0.035360777701986805),\n (404, 0.03047564634153943),\n (405, 0.0),\n (406, 0.007652993957865523),\n (407, 0.0),\n (408, 0.0),\n (409, 0.0),\n (410, 0.021386692895323335),\n (411, 0.0),\n (412, 0.04631089348355727),\n (413, 0.029606743108073555),\n (414, 0.0),\n (415, 0.0),\n (416, 0.0),\n (417, 0.0),\n (418, 0.027220930039326796),\n (419, 0.013845415956213039),\n (420, 0.03166398261046649),\n (421, 0.0),\n (422, 0.03238360747658818),\n (423, 0.0),\n (424, 0.0),\n (425, 0.030725823398610103),\n (426, 0.0),\n (427, 0.016645480804044762),\n (428, 0.0),\n (429, 0.0),\n (430, 0.0),\n (431, 0.0),\n (432, 0.030526063735571592),\n (433, 0.03465763027259046),\n (434, 0.008873267051621619),\n (435, 0.0),\n (436, 0.0),\n (437, 0.018755068843357793),\n (438, 0.013421270894944104),\n (439, 0.0),\n (440, 0.0),\n (441, 0.0),\n (442, 0.0),\n (443, 0.0),\n (444, 0.0),\n (445, 0.012353592847160602),\n (446, 0.0),\n (447, 0.0),\n (448, 0.0),\n (449, 0.016260411266946537),\n (450, 0.0),\n (451, 0.010747974258729935),\n (452, 0.0),\n (453, 0.0),\n (454, 0.04910821552903051),\n (455, 0.0),\n (456, 0.0),\n (457, 0.0),\n (458, 0.006393596737405442),\n (459, 0.0),\n (460, 0.017690099685239224),\n (461, 0.03181653384625899),\n (462, 0.022416285584705),\n (463, 0.0),\n (464, 0.0),\n (465, 0.0),\n (466, 0.0),\n (467, 0.0),\n (468, 0.0),\n (469, 0.0),\n (470, 0.0),\n (471, 0.044280869651451546),\n (472, 0.02201818530827793),\n (473, 0.01922345067305303),\n (474, 0.0),\n (475, 0.0),\n (476, 0.0),\n (477, 0.0),\n (478, 0.0),\n (479, 0.0),\n (480, 0.032419547438939864),\n (481, 0.0),\n (482, 0.0),\n (483, 0.0),\n (484, 0.0),\n (485, 0.0),\n (486, 0.0),\n (487, 0.07542867881327013),\n (488, 0.0),\n (489, 0.0),\n (490, 0.0),\n (491, 0.024203299494538987),\n (492, 0.03240931309952664),\n (493, 0.007720425033968),\n (494, 0.023739208263378872),\n (495, 0.0),\n (496, 0.0),\n (497, 0.0),\n (498, 0.02094210777077116),\n (499, 0.0),\n (500, 0.0),\n (501, 0.0),\n (502, 0.012610572562858129),\n (503, 0.030012274544271134),\n (504, 0.0),\n (505, 0.0),\n (506, 0.0),\n (507, 0.024054072373105716),\n (508, 0.013458624505187833),\n (509, 0.01458212101074831),\n (510, 0.0),\n (511, 0.0),\n (512, 0.0),\n (513, 0.0),\n (514, 0.014490610839243644),\n (515, 0.0),\n (516, 0.0),\n (517, 0.0),\n (518, 0.0),\n (519, 0.0),\n (520, 0.0),\n (521, 0.0),\n (522, 0.011507040553373727),\n (523, 0.0),\n (524, 0.0),\n (525, 0.0),\n (526, 0.0),\n (527, 0.03322829775921958),\n (528, 0.0),\n (529, 0.0),\n (530, 0.0),\n (531, 0.08201436803230883),\n (532, 0.0),\n (533, 0.0),\n (534, 0.0),\n (535, 0.02416629753678449),\n (536, 0.0),\n (537, 0.0),\n (538, 0.0),\n (539, 0.0),\n (540, 0.0),\n (541, 0.04096341375426765),\n (542, 0.03477683459123843),\n (543, 0.018691725604409085),\n (544, 0.009688324975124955),\n (545, 0.0),\n (546, 0.0),\n (547, 0.0),\n (548, 0.0),\n (549, 0.0),\n (550, 0.0),\n (551, 0.010843280346391303),\n (552, 0.0),\n (553, 0.0),\n (554, 0.0),\n (555, 0.0),\n (556, 0.0),\n (557, 0.01539785365462941),\n (558, 0.0),\n (559, 0.0),\n (560, 0.0),\n (561, 0.0),\n (562, 0.02084352733931906),\n (563, 0.0),\n (564, 0.0),\n (565, 0.0),\n (566, 0.0),\n (567, 0.0),\n (568, 0.0),\n (569, 0.0),\n (570, 0.0810110595160813),\n (571, 0.009539329298987577),\n (572, 0.0),\n (573, 0.0),\n (574, 0.0),\n (575, 0.0),\n (576, 0.0),\n (577, 0.0),\n (578, 0.017450596019528475),\n (579, 0.0),\n (580, 0.0),\n (581, 0.04464319671821456),\n (582, 0.01646236071310366),\n (583, 0.0),\n (584, 0.0),\n (585, 0.0),\n (586, 0.014569459328994493),\n (587, 0.012022637719013242),\n (588, 0.021925177156797208),\n (589, 0.008871202741605907),\n (590, 0.0),\n (591, 0.0),\n (592, 0.00861918101472307),\n (593, 0.0),\n (594, 0.0),\n (595, 0.017621983398860314),\n (596, 0.014716009104516141),\n (597, 0.01604702812316254),\n (598, 0.0),\n (599, 0.0),\n (600, 0.0),\n (601, 0.010716222130422021),\n (602, 0.0),\n (603, 0.04706787076323533),\n (604, 0.02293492853944773),\n (605, 0.0),\n (606, 0.0),\n (607, 0.01893837638729347),\n (608, 0.0),\n (609, 0.02106752275906034),\n (610, 0.026373130044074558),\n (611, 0.0),\n (612, 0.0),\n (613, 0.0),\n (614, 0.040906934030765216),\n (615, 0.021130981882773587),\n (616, 0.0),\n (617, 0.0),\n (618, 0.024246032149834576),\n (619, 0.0),\n (620, 0.0),\n (621, 0.0),\n (622, 0.0),\n (623, 0.012885964546688838),\n (624, 0.0),\n (625, 0.0),\n (626, 0.03441205086475506),\n (627, 0.0),\n (628, 0.0),\n (629, 0.0),\n (630, 0.0),\n (631, 0.009570634784290693),\n (632, 0.013283769491308375),\n (633, 0.034978459717247744),\n (634, 0.020553177209455667),\n (635, 0.013407411079069035),\n (636, 0.0),\n (637, 0.0),\n (638, 0.0),\n (639, 0.01165700451059323),\n (640, 0.017201526954621002),\n (641, 0.0),\n (642, 0.0),\n (643, 0.05828142421610477),\n (644, 0.0),\n (645, 0.0),\n (646, 0.0),\n (647, 0.0),\n (648, 0.0),\n (649, 0.0),\n (650, 0.0),\n (651, 0.0),\n (652, 0.0),\n (653, 0.04446597372196053),\n (654, 0.0),\n (655, 0.0),\n (656, 0.0),\n (657, 0.02445824133771425),\n (658, 0.020639443626357907),\n (659, 0.0),\n (660, 0.0),\n (661, 0.0),\n (662, 0.010284505556240324),\n (663, 0.034142703086883996),\n (664, 0.0),\n (665, 0.0),\n (666, 0.04543514048703334),\n (667, 0.0),\n (668, 0.021613360645583002),\n (669, 0.0),\n (670, 0.0),\n (671, 0.015511335681801927),\n (672, 0.039202796177825544),\n (673, 0.015333945515613734),\n (674, 0.0),\n (675, 0.0),\n (676, 0.0301283151542224),\n (677, 0.0),\n (678, 0.0),\n (679, 0.0),\n (680, 0.0),\n (681, 0.0),\n (682, 0.025285363813353952),\n (683, 0.0),\n (684, 0.0),\n (685, 0.012041884971657845),\n (686, 0.0),\n (687, 0.0),\n (688, 0.0),\n (689, 0.0),\n (690, 0.013598567810931965),\n (691, 0.0182511734876234),\n (692, 0.018899950181492337),\n (693, 0.0),\n (694, 0.0),\n (695, 0.0),\n (696, 0.0),\n (697, 0.0),\n (698, 0.014436018810192066),\n (699, 0.0),\n (700, 0.0),\n (701, 0.0396310133453861),\n (702, 0.0),\n (703, 0.0),\n (704, 0.0),\n (705, 0.011076416723946858),\n (706, 0.0),\n (707, 0.0),\n (708, 0.016389886115255683),\n (709, 0.02155441411337094),\n (710, 0.0),\n (711, 0.0),\n (712, 0.01826963129234437),\n (713, 0.0),\n (714, 0.0),\n (715, 0.0),\n (716, 0.009896340045642252),\n (717, 0.0),\n (718, 0.0),\n (719, 0.0),\n (720, 0.0),\n (721, 0.020484955025642865),\n (722, 0.0),\n (723, 0.0),\n (724, 0.017672069219876786),\n (725, 0.0),\n (726, 0.0),\n (727, 0.03263130940744009),\n (728, 0.0),\n (729, 0.0),\n (730, 0.019372229213897463),\n (731, 0.0),\n (732, 0.0),\n (733, 0.0),\n (734, 0.014599019819828089),\n (735, 0.008141301830605987),\n (736, 0.016345135533970462),\n (737, 0.0),\n (738, 0.0),\n (739, 0.0),\n (740, 0.03816961827120469),\n (741, 0.023364884516071202),\n (742, 0.0),\n (743, 0.0),\n (744, 0.016804567232975843),\n (745, 0.01857939291484989),\n (746, 0.023121741753731516),\n (747, 0.007572590104457831),\n (748, 0.035298375192569606),\n (749, 0.0),\n (750, 0.0),\n (751, 0.0),\n (752, 0.012892593730143747),\n (753, 0.0),\n (754, 0.05284565189651368),\n (755, 0.02366982644036675),\n (756, 0.0),\n (757, 0.010761494941939474),\n (758, 0.0),\n (759, 0.0),\n (760, 0.0),\n (761, 0.0),\n (762, 0.0),\n (763, 0.0),\n (764, 0.0),\n (765, 0.0),\n (766, 0.0),\n (767, 0.0),\n (768, 0.0),\n (769, 0.0),\n (770, 0.0),\n (771, 0.0),\n (772, 0.0),\n (773, 0.0),\n (774, 0.0),\n (775, 0.0),\n (776, 0.0),\n (777, 0.0),\n (778, 0.04504921103458624),\n (779, 0.0),\n (780, 0.0),\n (781, 0.0),\n (782, 0.018977321530493838),\n (783, 0.0),\n (784, 0.0),\n (785, 0.014787206932764713),\n (786, 0.0),\n (787, 0.0),\n (788, 0.0),\n (789, 0.01513034578239115),\n (790, 0.0),\n (791, 0.0),\n (792, 0.0),\n (793, 0.008642512474333577),\n (794, 0.0),\n (795, 0.0),\n (796, 0.027166944811235313),\n (797, 0.041421146636872956),\n (798, 0.0),\n (799, 0.015898865906763066),\n (800, 0.0),\n (801, 0.0),\n (802, 0.0),\n (803, 0.022307243138894067),\n (804, 0.0),\n (805, 0.0),\n (806, 0.0),\n (807, 0.0),\n (808, 0.0),\n (809, 0.029601807188658732),\n (810, 0.0),\n (811, 0.0),\n (812, 0.052773181634121896),\n (813, 0.018814290370490455),\n (814, 0.0),\n (815, 0.0),\n (816, 0.0),\n (817, 0.022049585362312288),\n (818, 0.0),\n (819, 0.0),\n (820, 0.006592000864145714),\n (821, 0.0),\n (822, 0.0),\n (823, 0.0),\n (824, 0.0),\n (825, 0.0),\n (826, 0.0),\n (827, 0.01451954118141957),\n (828, 0.0),\n (829, 0.018820875612426947),\n (830, 0.0),\n (831, 0.0),\n (832, 0.013837981987907037),\n (833, 0.013117143212529974),\n (834, 0.011866822112058015),\n (835, 0.05248215217058065),\n (836, 0.0),\n (837, 0.0),\n (838, 0.03700649548130129),\n (839, 0.0),\n (840, 0.01091634490324056),\n (841, 0.0),\n (842, 0.013285812425405096),\n (843, 0.0),\n (844, 0.0),\n (845, 0.016710635531292956),\n (846, 0.0),\n (847, 0.008730583498456363),\n (848, 0.03669542940718336),\n (849, 0.0),\n (850, 0.0),\n (851, 0.012144035203871398),\n (852, 0.011830632730693498),\n (853, 0.0),\n (854, 0.0),\n (855, 0.0),\n (856, 0.0),\n (857, 0.023216558696087543),\n (858, 0.0),\n (859, 0.009332184633453837),\n (860, 0.008319378485664277),\n (861, 0.033911170940535626),\n (862, 0.011917597527342293),\n (863, 0.0),\n (864, 0.0),\n (865, 0.0),\n (866, 0.0),\n (867, 0.0),\n (868, 0.010013510221584846),\n (869, 0.0),\n (870, 0.0564046962734288),\n (871, 0.03645552725454901),\n (872, 0.02855933447031435),\n (873, 0.0),\n (874, 0.01246083646884558),\n (875, 0.0),\n (876, 0.0),\n (877, 0.0),\n (878, 0.0),\n (879, 0.0),\n (880, 0.0),\n (881, 0.016670437013170274),\n (882, 0.0),\n (883, 0.0),\n (884, 0.0),\n (885, 0.0),\n (886, 0.0),\n (887, 0.0),\n (888, 0.0),\n (889, 0.02849998901167584),\n (890, 0.0),\n (891, 0.0),\n (892, 0.0),\n (893, 0.009529093760123996),\n (894, 0.023365134750828794),\n (895, 0.0),\n (896, 0.021620235481662885),\n (897, 0.0),\n (898, 0.0),\n (899, 0.0),\n (900, 0.02723315428781568),\n (901, 0.0),\n (902, 0.0),\n (903, 0.0),\n (904, 0.0),\n (905, 0.0),\n (906, 0.0),\n (907, 0.0),\n (908, 0.021679476082988338),\n (909, 0.011653966377860793),\n (910, 0.023862756229088553),\n (911, 0.008116463520343549),\n (912, 0.03559583509911293),\n (913, 0.014656555080175339),\n (914, 0.0),\n (915, 0.0),\n (916, 0.0),\n (917, 0.0),\n (918, 0.0),\n (919, 0.0),\n (920, 0.0),\n (921, 0.010450825792666735),\n (922, 0.0),\n (923, 0.0),\n (924, 0.0),\n (925, 0.0),\n (926, 0.0),\n (927, 0.0),\n (928, 0.0),\n (929, 0.02823188984786154),\n (930, 0.0),\n (931, 0.0),\n (932, 0.0),\n (933, 0.013212772525440496),\n (934, 0.019686334475017567),\n (935, 0.0),\n (936, 0.0),\n (937, 0.024619324139065736),\n (938, 0.012151728582723465),\n (939, 0.03024653010981438),\n (940, 0.0),\n (941, 0.0),\n (942, 0.021254245546696075),\n (943, 0.012369938398287119),\n (944, 0.0),\n (945, 0.0),\n (946, 0.022770706008300175),\n (947, 0.007678454786803712),\n (948, 0.0),\n (949, 0.0),\n (950, 0.0),\n (951, 0.03125799810246785),\n (952, 0.01240171836346987),\n (953, 0.010426891566070472),\n (954, 0.0),\n (955, 0.0),\n (956, 0.0),\n (957, 0.0),\n (958, 0.0),\n (959, 0.0),\n (960, 0.018759442037607845),\n (961, 0.0),\n (962, 0.0),\n (963, 0.0),\n (964, 0.0),\n (965, 0.0),\n (966, 0.0),\n (967, 0.0),\n (968, 0.0),\n (969, 0.008430168386869663),\n (970, 0.0),\n (971, 0.0),\n (972, 0.017678578948681772),\n (973, 0.040061084559339516),\n (974, 0.0),\n (975, 0.0),\n (976, 0.0),\n (977, 0.0),\n (978, 0.016323503541165234),\n (979, 0.007993932874319924),\n (980, 0.0),\n (981, 0.0),\n (982, 0.01008603652125256),\n (983, 0.0),\n (984, 0.017945720656273666),\n (985, 0.0),\n (986, 0.0),\n (987, 0.0),\n (988, 0.02223799786468315),\n (989, 0.0),\n (990, 0.0),\n (991, 0.0),\n (992, 0.0),\n (993, 0.03869477719938543),\n (994, 0.018959031080240118),\n (995, 0.02068748993128327),\n (996, 0.0),\n (997, 0.0),\n (998, 0.0),\n (999, 0.04366665427525978),\n ...]"
          },
          "metadata": {}
        }
      ],
      "execution_count": null
    },
    {
      "cell_type": "code",
      "source": "scores = sorted(scores, key=lambda x:x[1], reverse=True)\nscores",
      "metadata": {
        "source_hash": null,
        "execution_start": 1688208635869,
        "execution_millis": 329,
        "deepnote_to_be_reexecuted": false,
        "cell_id": "1a6c1657708c437993fef400c40f9e8d",
        "deepnote_cell_type": "code"
      },
      "outputs": [
        {
          "output_type": "execute_result",
          "execution_count": 12,
          "data": {
            "text/plain": "[(7, 1.0000000000000002),\n (16, 0.14637433182569917),\n (79, 0.1315725085742952),\n (68, 0.12607342868374588),\n (26, 0.12116153537372129),\n (227, 0.1046126962882957),\n (31, 0.10118475483965844),\n (1868, 0.09084567364812296),\n (344, 0.08859633407406252),\n (1922, 0.0834546277700447),\n (531, 0.08201436803230883),\n (570, 0.0810110595160813),\n (85, 0.07644336670199778),\n (487, 0.07542867881327013),\n (127, 0.07517031558751251),\n (41, 0.0746524461017251),\n (2044, 0.07414517801233737),\n (162, 0.07319918925945093),\n (2865, 0.06941441948058832),\n (233, 0.06866414079035489),\n (3155, 0.06721954159848786),\n (1963, 0.0666625266808502),\n (3855, 0.06604297919883403),\n (4181, 0.06599978767667637),\n (2037, 0.06462077039500268),\n (2021, 0.06427335199860991),\n (179, 0.06425351921143238),\n (91, 0.06420003367534349),\n (46, 0.06360351038213703),\n (1976, 0.06343121431683893),\n (2915, 0.062234603991333425),\n (2299, 0.06148184482247957),\n (1419, 0.06134875486198914),\n (2433, 0.06116714606733702),\n (18, 0.06105143604289205),\n (4331, 0.06098136809130522),\n (1375, 0.060802442827265116),\n (1704, 0.059887475103038455),\n (3032, 0.0595371101453541),\n (2900, 0.059509198226373114),\n (1951, 0.058891248157516785),\n (643, 0.05828142421610477),\n (2192, 0.05775924145247143),\n (4004, 0.05718449090292935),\n (870, 0.0564046962734288),\n (4309, 0.05484935472890477),\n (1286, 0.05463167916100817),\n (1415, 0.0542087818358639),\n (2048, 0.054137610300125386),\n (3743, 0.05402482164275706),\n (1234, 0.05339467748450448),\n (754, 0.05284565189651368),\n (812, 0.052773181634121896),\n (835, 0.05248215217058065),\n (1934, 0.052432797157290226),\n (4747, 0.05231015639172829),\n (2406, 0.05212906435785715),\n (1643, 0.05175785256833319),\n (4763, 0.051655481328989054),\n (1015, 0.05128528779142555),\n (3334, 0.051265058918578896),\n (1850, 0.05122046328293953),\n (3610, 0.05071461838957378),\n (1709, 0.050630750371524966),\n (3016, 0.05025000720458479),\n (4781, 0.0500449957026347),\n (70, 0.04935297649016792),\n (454, 0.04910821552903051),\n (4200, 0.04907511477927402),\n (3626, 0.04905318544005627),\n (1152, 0.04896957055820113),\n (1959, 0.04876068541610569),\n (4796, 0.04847464921560975),\n (150, 0.04844663255039244),\n (3121, 0.04817478629627882),\n (2410, 0.047919502955863294),\n (4409, 0.04776205674463677),\n (368, 0.04736471000290841),\n (1967, 0.047085750129289936),\n (603, 0.04706787076323533),\n (4608, 0.04699480597830165),\n (3986, 0.04684876958183698),\n (1091, 0.04674775036532544),\n (1723, 0.046366999942275985),\n (412, 0.04631089348355727),\n (2247, 0.04578846106920027),\n (4469, 0.04547480310392098),\n (666, 0.04543514048703334),\n (778, 0.04504921103458624),\n (1690, 0.04497816891378488),\n (2195, 0.04481191071880537),\n (389, 0.044752528586372624),\n (581, 0.04464319671821456),\n (3457, 0.044626621858771615),\n (653, 0.04446597372196053),\n (2760, 0.04433526104277959),\n (471, 0.044280869651451546),\n (286, 0.044256685654892415),\n (3917, 0.04413749737603936),\n (1191, 0.04413398135140485),\n (2194, 0.04389051021804012),\n (2657, 0.04384441095765383),\n (4387, 0.043831517238455506),\n (1773, 0.04380872650256762),\n (133, 0.043798922859145044),\n (2562, 0.043707325107449964),\n (1417, 0.04366893211481558),\n (999, 0.04366665427525978),\n (2016, 0.04336256750056771),\n (110, 0.043333031250787135),\n (10, 0.0429550431317994),\n (1657, 0.0429321235027879),\n (3985, 0.04265595101515251),\n (2100, 0.0424437016946303),\n (2482, 0.042273792259461346),\n (373, 0.0419755244640509),\n (4251, 0.04182874593516201),\n (3902, 0.04172199023047349),\n (3033, 0.041715502105766494),\n (3158, 0.04147812960746887),\n (797, 0.041421146636872956),\n (107, 0.041331081150517375),\n (1241, 0.04132548592650508),\n (270, 0.04120835142592522),\n (2312, 0.0411485893215406),\n (1306, 0.04111052965260266),\n (4528, 0.04107845103818131),\n (541, 0.04096341375426765),\n (3291, 0.040943789221743486),\n (614, 0.040906934030765216),\n (3463, 0.040869731860503376),\n (2430, 0.04068936447326768),\n (1125, 0.04063248154949523),\n (3859, 0.040464921347511326),\n (1404, 0.04046138159756541),\n (4768, 0.04043336341961918),\n (4554, 0.040382740935739),\n (3769, 0.04037940498744475),\n (1090, 0.04028860558277323),\n (122, 0.040113907655283824),\n (4124, 0.04009182599053515),\n (1700, 0.04006493515358641),\n (973, 0.040061084559339516),\n (363, 0.03999089814459306),\n (39, 0.03996667681811636),\n (2924, 0.03974525886888597),\n (2028, 0.039649650034116836),\n (2874, 0.039641523533612),\n (701, 0.0396310133453861),\n (1319, 0.039626317084381496),\n (2183, 0.039581856823930735),\n (3297, 0.0395605177744575),\n (3302, 0.039511111017366554),\n (222, 0.03939973219257696),\n (240, 0.039387886201425526),\n (2743, 0.03936437891239107),\n (672, 0.039202796177825544),\n (3068, 0.0391862837292181),\n (47, 0.03912666507925262),\n (264, 0.038911980878842185),\n (2696, 0.03886296523765943),\n (38, 0.03877238062794898),\n (54, 0.03872557664031962),\n (993, 0.03869477719938543),\n (138, 0.038557062453933144),\n (1126, 0.038248949987374097),\n (116, 0.0382430961685088),\n (1843, 0.038237484470350316),\n (740, 0.03816961827120469),\n (3668, 0.038047720079330515),\n (75, 0.038041325428916),\n (3355, 0.03799870968735327),\n (4350, 0.03791113914628558),\n (3431, 0.037865969900451005),\n (2755, 0.037835028912973),\n (0, 0.03758069690343087),\n (4, 0.037407042075763064),\n (1995, 0.03737740643128559),\n (1068, 0.03734000857493669),\n (2860, 0.03733584529959913),\n (2427, 0.037278981374096055),\n (2651, 0.037074425849616226),\n (838, 0.03700649548130129),\n (1871, 0.03697432876583956),\n (337, 0.03686466262656124),\n (1462, 0.036860893050656506),\n (4723, 0.03683963220705255),\n (1341, 0.03680120463719269),\n (848, 0.03669542940718336),\n (3605, 0.03657566050864659),\n (871, 0.03645552725454901),\n (1086, 0.03645412498320788),\n (2417, 0.036439404663107994),\n (1839, 0.036181617276039024),\n (1711, 0.03595065554779253),\n (4002, 0.035943319834484816),\n (4042, 0.0358003342501594),\n (3642, 0.03568496029096618),\n (17, 0.03566279085158555),\n (912, 0.03559583509911293),\n (124, 0.035566266113421965),\n (4506, 0.03549403039696589),\n (3135, 0.03544546498628508),\n (403, 0.035360777701986805),\n (1367, 0.03530799259949459),\n (748, 0.035298375192569606),\n (3993, 0.035209430158251065),\n (3403, 0.035180448075862104),\n (1851, 0.03517720556970269),\n (633, 0.034978459717247744),\n (1650, 0.03494239633412522),\n (59, 0.03490010653383411),\n (542, 0.03477683459123843),\n (1669, 0.034775100619850494),\n (1466, 0.03474997231565864),\n (281, 0.03473906474466),\n (1229, 0.03468572421649556),\n (433, 0.03465763027259046),\n (1628, 0.034603727180805045),\n (232, 0.034597726949144376),\n (1772, 0.03451862166370039),\n (2498, 0.03443821889526464),\n (626, 0.03441205086475506),\n (1771, 0.034306046864559014),\n (663, 0.034142703086883996),\n (4494, 0.03402938766291191),\n (342, 0.03393284175598431),\n (1697, 0.03392127337752507),\n (861, 0.033911170940535626),\n (1547, 0.03388567386037116),\n (1564, 0.03374173884836302),\n (149, 0.03364191319302674),\n (1458, 0.03361199977915196),\n (2708, 0.03358249437589375),\n (1759, 0.03355030565256434),\n (1825, 0.033534631802283735),\n (2064, 0.0334201790738303),\n (2329, 0.03340746340262962),\n (3982, 0.0333899361561404),\n (2155, 0.03337294701062701),\n (2176, 0.03323592528208322),\n (527, 0.03322829775921958),\n (56, 0.03313585430379356),\n (88, 0.03313427866007192),\n (2403, 0.03311471319190089),\n (2738, 0.033028834719731406),\n (1589, 0.03300230394667809),\n (3131, 0.03295504693120285),\n (2486, 0.03277350962719464),\n (1139, 0.03273229173123099),\n (1251, 0.032712714292806026),\n (2934, 0.032668393329201684),\n (3073, 0.03265367951390318),\n (727, 0.03263130940744009),\n (3388, 0.03257040453358799),\n (4365, 0.03247834788670422),\n (1199, 0.03246765899605136),\n (1333, 0.032437711479668035),\n (480, 0.032419547438939864),\n (2503, 0.032414952958646465),\n (492, 0.03240931309952664),\n (422, 0.03238360747658818),\n (4065, 0.03234232848733105),\n (3353, 0.03231383276544687),\n (4112, 0.03229920054794465),\n (219, 0.03225849442426929),\n (4617, 0.03222459468029707),\n (1981, 0.03203675480058234),\n (327, 0.031989993785798004),\n (2734, 0.03196095749063602),\n (2741, 0.03193021328970088),\n (4174, 0.031884356578441145),\n (1611, 0.03186640462628354),\n (1460, 0.03182090495646055),\n (461, 0.03181653384625899),\n (83, 0.03179633357004834),\n (3492, 0.03176729132036492),\n (152, 0.031705771795185377),\n (4650, 0.03170015451434972),\n (420, 0.03166398261046649),\n (1201, 0.03165487590596809),\n (168, 0.03163717144056933),\n (158, 0.03161571325681926),\n (228, 0.03155352063839063),\n (2591, 0.03154049693330917),\n (1892, 0.031437073780719166),\n (2367, 0.031359684207661824),\n (1256, 0.03133205347806793),\n (951, 0.03125799810246785),\n (1434, 0.0311592214469283),\n (2342, 0.031093295425687572),\n (1247, 0.031091633081580302),\n (369, 0.030987004484007725),\n (2, 0.030949092660101093),\n (3448, 0.030879396478666617),\n (425, 0.030725823398610103),\n (4045, 0.030709868848162222),\n (1089, 0.03063180247272441),\n (3942, 0.030610253431094227),\n (97, 0.03061016441874209),\n (2485, 0.030595349791145296),\n (3903, 0.03058467895729019),\n (2713, 0.030576560953886226),\n (2643, 0.03054593562919502),\n (432, 0.030526063735571592),\n (3230, 0.030508077438489337),\n (3671, 0.030478133209022384),\n (404, 0.03047564634153943),\n (3494, 0.030396056336462737),\n (4633, 0.03035645893571723),\n (2278, 0.030335948840505778),\n (2541, 0.030282333899793852),\n (1728, 0.030268586321428825),\n (939, 0.03024653010981438),\n (2268, 0.03016744488671384),\n (313, 0.03016286256914524),\n (290, 0.03015776141895954),\n (676, 0.0301283151542224),\n (2529, 0.030124242860745352),\n (2904, 0.030015347972418466),\n (503, 0.030012274544271134),\n (210, 0.029947302762167415),\n (1438, 0.029944666698944657),\n (156, 0.02985694821876931),\n (3933, 0.029788328233197665),\n (131, 0.029732308842128213),\n (2943, 0.029626127417704515),\n (413, 0.029606743108073555),\n (809, 0.029601807188658732),\n (3716, 0.02959905285333064),\n (1320, 0.02937456995272926),\n (3601, 0.029339872464719),\n (4129, 0.02933955714224317),\n (1430, 0.029211933373620973),\n (2076, 0.029131581003873426),\n (3310, 0.028931896462561307),\n (1856, 0.02890723886722732),\n (1795, 0.02887834159344889),\n (1482, 0.02885743650147299),\n (36, 0.028703008496637886),\n (3655, 0.028697330633150622),\n (1171, 0.02867622100830985),\n (872, 0.02855933447031435),\n (4176, 0.028533127457072257),\n (889, 0.02849998901167584),\n (4330, 0.028478225705509126),\n (3615, 0.028436059352008276),\n (4522, 0.028315450124126985),\n (245, 0.02830010738753742),\n (2071, 0.02827672096690319),\n (929, 0.02823188984786154),\n (3817, 0.02822548279396808),\n (4512, 0.028059326013422377),\n (2060, 0.0280506968671793),\n (3899, 0.02803820998245873),\n (4489, 0.02803055816725936),\n (1666, 0.027994213211936753),\n (278, 0.027932244030620054),\n (1518, 0.027857367300470393),\n (1198, 0.027832694627255596),\n (1703, 0.0277187411452053),\n (1405, 0.027702323921316833),\n (3776, 0.02769064305094273),\n (348, 0.027685147941048326),\n (4032, 0.0276258743569913),\n (1784, 0.027552334554905807),\n (2590, 0.027547783013917092),\n (3572, 0.027533211346596753),\n (2308, 0.027510880179160674),\n (1983, 0.027476369902679088),\n (3405, 0.027408789913255432),\n (1020, 0.027352786513888883),\n (900, 0.02723315428781568),\n (2467, 0.02723101408257903),\n (2341, 0.027227090870409552),\n (418, 0.027220930039326796),\n (3592, 0.027168417564372428),\n (796, 0.027166944811235313),\n (271, 0.02710209865128175),\n (1352, 0.027099860832168213),\n (367, 0.027083859326079814),\n (1074, 0.027058648581903044),\n (383, 0.027049094052127947),\n (3, 0.026954270578912674),\n (173, 0.026874323913667383),\n (1964, 0.026874075954748628),\n (3183, 0.02687377452631799),\n (1329, 0.026832355291059505),\n (2870, 0.026783640743611538),\n (4039, 0.02672528020455718),\n (144, 0.02667049682676802),\n (4708, 0.026554776701393754),\n (4456, 0.02652493871929444),\n (384, 0.026469243165431474),\n (2520, 0.02645988927072726),\n (4422, 0.026435521972374927),\n (163, 0.02641404515764606),\n (1725, 0.026378108987228928),\n (610, 0.026373130044074558),\n (170, 0.026364874197126832),\n (2969, 0.026332915915960993),\n (2382, 0.02631789073999698),\n (4184, 0.026317867957545163),\n (84, 0.026281610347571212),\n (1651, 0.026248001019933003),\n (1803, 0.02618230413334305),\n (2813, 0.026099850197092534),\n (2007, 0.02606681794132111),\n (2351, 0.026046583087210914),\n (137, 0.02604300231694762),\n (1436, 0.026019088026131208),\n (4381, 0.025968004584707004),\n (32, 0.025950623484245632),\n (2026, 0.02589052702124489),\n (253, 0.025878556387570653),\n (263, 0.025845191940789172),\n (3187, 0.025821578571494745),\n (1177, 0.02581458536145958),\n (4348, 0.025759557204758858),\n (3574, 0.025707531537366074),\n (3396, 0.025704007536130207),\n (129, 0.02564191528917584),\n (1273, 0.02562794107931312),\n (2015, 0.025563203255355924),\n (3428, 0.025518616505893724),\n (1270, 0.025507160060686995),\n (4339, 0.025506810709739237),\n (167, 0.025497722645138096),\n (4089, 0.025462673541023793),\n (1208, 0.025460668311295613),\n (3752, 0.0254550567143314),\n (3904, 0.025430700328397022),\n (3524, 0.02539259592431616),\n (1952, 0.025369501627442375),\n (682, 0.025285363813353952),\n (1161, 0.025284541784309958),\n (184, 0.025238196958757148),\n (349, 0.02522947845107736),\n (3354, 0.025180687864254515),\n (2363, 0.025081082686900454),\n (3704, 0.02508099136272826),\n (3436, 0.02507670575016474),\n (2381, 0.024994805805675303),\n (1300, 0.024973137630976656),\n (4332, 0.02487466365258461),\n (3947, 0.02487129657523485),\n (2878, 0.02484074433008648),\n (1483, 0.024813213251516107),\n (1106, 0.024808560214978122),\n (48, 0.02476306968378699),\n (3290, 0.02470286702450979),\n (4561, 0.024685620957087966),\n (1236, 0.024673057862565535),\n (3883, 0.024669301725950027),\n (4710, 0.024658307026781227),\n (937, 0.024619324139065736),\n (98, 0.024613106463692545),\n (3680, 0.024595670795729108),\n (1044, 0.024594365433233994),\n (3622, 0.024464871172980608),\n (657, 0.02445824133771425),\n (2068, 0.024412760720830408),\n (1484, 0.02440773260354204),\n (4791, 0.02438918144744479),\n (1118, 0.024272532784895558),\n (1245, 0.024249718513005645),\n (618, 0.024246032149834576),\n (2678, 0.024226905574404933),\n (491, 0.024203299494538987),\n (121, 0.02418158283386027),\n (3541, 0.02418067727746588),\n (535, 0.02416629753678449),\n (2840, 0.024135521525936728),\n (2828, 0.02413492330206306),\n (507, 0.024054072373105716),\n (4000, 0.024033491651118972),\n (1048, 0.024000593151619003),\n (143, 0.02391052624149203),\n (3794, 0.02389014440117681),\n (910, 0.023862756229088553),\n (3208, 0.02380967780521758),\n (494, 0.023739208263378872),\n (206, 0.02373564598300942),\n (2223, 0.023684123645700432),\n (755, 0.02366982644036675),\n (4637, 0.023664213907811628),\n (1224, 0.02366382191735253),\n (3004, 0.023638272138376392),\n (1654, 0.023635761126985448),\n (1996, 0.023619539432039233),\n (2993, 0.023616730322821813),\n (2317, 0.023615433997557347),\n (3116, 0.023597089062801335),\n (2787, 0.02356091222571804),\n (1522, 0.023468666877328632),\n (1027, 0.02345095583762671),\n (894, 0.023365134750828794),\n (741, 0.023364884516071202),\n (4531, 0.023318342378376006),\n (857, 0.023216558696087543),\n (2274, 0.023144958170051442),\n (746, 0.023121741753731516),\n (1919, 0.023118843034890157),\n (1129, 0.023115195431589217),\n (4700, 0.023031222335901033),\n (2996, 0.023012814263587346),\n (1559, 0.022968542777661763),\n (604, 0.02293492853944773),\n (2527, 0.022877777998639975),\n (195, 0.022848318752643728),\n (1079, 0.022827521261596668),\n (946, 0.022770706008300175),\n (285, 0.02275314778921411),\n (393, 0.02273226283113589),\n (1, 0.02267550177141283),\n (3378, 0.02263525016262674),\n (2017, 0.022622849576121075),\n (2746, 0.022600957059429383),\n (3873, 0.022580442208015097),\n (4778, 0.02257702536053206),\n (1506, 0.022550252438983252),\n (1861, 0.02248259909946851),\n (4123, 0.02244211398170843),\n (325, 0.022423071992588393),\n (462, 0.022416285584705),\n (4481, 0.02235449386855938),\n (3887, 0.02235303710754581),\n (1794, 0.02232367330269599),\n (803, 0.022307243138894067),\n (376, 0.02229865681478869),\n (4224, 0.022292624974645014),\n (3115, 0.022246130405603196),\n (988, 0.02223799786468315),\n (2129, 0.02220306848744566),\n (66, 0.022184962099733686),\n (3966, 0.022180361557098505),\n (1285, 0.02217343943257656),\n (272, 0.022159257993006026),\n (4666, 0.022133340602355955),\n (3619, 0.022121408844594747),\n (817, 0.022049585362312288),\n (105, 0.022031912415593612),\n (472, 0.02201818530827793),\n (2075, 0.022010215594728925),\n (1360, 0.022007216167261392),\n (4023, 0.02200626484271714),\n (588, 0.021925177156797208),\n (1638, 0.021897566557126952),\n (1782, 0.02184809023783659),\n (4748, 0.021794608420898982),\n (1277, 0.021737210150114906),\n (1065, 0.021715258045924706),\n (908, 0.021679476082988338),\n (3532, 0.021657659110076274),\n (2061, 0.021649177421412796),\n (2797, 0.02164173909482059),\n (2967, 0.021631174558834575),\n (4724, 0.02162368679480826),\n (3698, 0.021621304603438023),\n (896, 0.021620235481662885),\n (668, 0.021613360645583002),\n (4587, 0.0216100646682112),\n (2821, 0.021585109742011863),\n (709, 0.02155441411337094),\n (220, 0.021528341201392697),\n (14, 0.021487381174343786),\n (3547, 0.02142419568690788),\n (410, 0.021386692895323335),\n (3792, 0.021352304390027017),\n (3580, 0.021303509381869767),\n (2229, 0.021283255337085798),\n (3877, 0.02127855491570817),\n (942, 0.021254245546696075),\n (2083, 0.021242816686852375),\n (2348, 0.02123295980866805),\n (4229, 0.021200302796591654),\n (3539, 0.021194792983334425),\n (615, 0.021130981882773587),\n (198, 0.021108730700249826),\n (609, 0.02106752275906034),\n (1163, 0.021055817354911997),\n (4191, 0.021052305920596356),\n (4551, 0.021044442982354736),\n (2437, 0.02102560686834232),\n (1257, 0.021023210830596602),\n (4286, 0.02100886722477507),\n (2160, 0.02100338097539377),\n (4133, 0.020998090913573894),\n (1797, 0.020978253412180414),\n (4026, 0.02095048260770902),\n (498, 0.02094210777077116),\n (3072, 0.020940467668036117),\n (3123, 0.020888167045822095),\n (3023, 0.02087581627281586),\n (4391, 0.020865263723673453),\n (562, 0.02084352733931906),\n (3262, 0.020800605636573953),\n (2088, 0.020743003289567158),\n (1358, 0.020712123358312372),\n (995, 0.02068748993128327),\n (658, 0.020639443626357907),\n (2545, 0.020615419775416133),\n (2790, 0.020608475577816917),\n (153, 0.020594779181826776),\n (2245, 0.020586293133340507),\n (3845, 0.020582421775200786),\n (634, 0.020553177209455667),\n (3822, 0.020517313578977136),\n (721, 0.020484955025642865),\n (4055, 0.020431045889867754),\n (1258, 0.020417263300387838),\n (2187, 0.02040125174032654),\n (1886, 0.020383097415237483),\n (1831, 0.02036379927263583),\n (4245, 0.020286043963308607),\n (3051, 0.02022875257755191),\n (4445, 0.02021574672580102),\n (282, 0.020203204751135333),\n (3715, 0.020169370946625614),\n (260, 0.020159876972754724),\n (3513, 0.020146470384181412),\n (4360, 0.020135397199745393),\n (1326, 0.020134997299976025),\n (2185, 0.020133823093993957),\n (238, 0.02011695071294867),\n (4173, 0.020089128579097754),\n (2493, 0.02007492519156462),\n (3129, 0.020062578220969775),\n (1608, 0.0200497853481867),\n (2295, 0.020046058091569154),\n (3343, 0.0200425283686017),\n (2434, 0.02003958115821157),\n (4187, 0.020032093587165112),\n (3629, 0.019927914600599648),\n (3108, 0.019926298917616492),\n (345, 0.01990900192112649),\n (3392, 0.019880843109360412),\n (4337, 0.019864477879875563),\n (4351, 0.019824064822926233),\n (1735, 0.019781335743034742),\n (139, 0.0197711567993215),\n (3055, 0.019751551925327918),\n (2050, 0.01971118129748526),\n (1774, 0.019707538611257),\n (1197, 0.01969361974660119),\n (934, 0.019686334475017567),\n (1501, 0.019675696352800053),\n (82, 0.019628021096962846),\n (2550, 0.01954385070703295),\n (2013, 0.019533413740636593),\n (174, 0.01949557055791966),\n (1407, 0.019455285734762743),\n (23, 0.019444062784467437),\n (2356, 0.01942365415922339),\n (730, 0.019372229213897463),\n (4096, 0.019269714069670922),\n (2994, 0.01926208834179578),\n (1294, 0.019237681361121275),\n (118, 0.01922571294369174),\n (473, 0.01922345067305303),\n (3746, 0.019178908864878934),\n (2698, 0.019168767661767068),\n (2331, 0.019160136570783196),\n (60, 0.019137201426212884),\n (1382, 0.01913023468467649),\n (359, 0.01911717557427735),\n (3358, 0.01910292957576113),\n (4517, 0.01909383327031714),\n (4334, 0.019086964309271214),\n (4669, 0.019074539848701777),\n (1972, 0.01904413264475858),\n (4321, 0.01902999960807423),\n (4070, 0.01900024261534235),\n (2946, 0.018987687441052004),\n (2252, 0.018977913108186684),\n (782, 0.018977321530493838),\n (994, 0.018959031080240118),\n (1502, 0.018938918155536878),\n (607, 0.01893837638729347),\n (61, 0.018906677661093347),\n (2296, 0.01890565742825424),\n (692, 0.018899950181492337),\n (4639, 0.018887182678732635),\n (3915, 0.01885789990317876),\n (175, 0.018846268498468537),\n (2621, 0.01884559582040724),\n (829, 0.018820875612426947),\n (813, 0.018814290370490455),\n (215, 0.01880921354924061),\n (94, 0.018804388533674478),\n (2288, 0.0187965150555871),\n (1648, 0.018787351423799763),\n (52, 0.018781371942913922),\n (2798, 0.0187800290462538),\n (960, 0.018759442037607845),\n (437, 0.018755068843357793),\n (147, 0.01869760549987292),\n (543, 0.018691725604409085),\n (3948, 0.018688761855624115),\n (4515, 0.018688096257785655),\n (2142, 0.018657746628129652),\n (323, 0.01864175327272332),\n (3854, 0.01863641438022805),\n (745, 0.01857939291484989),\n (4688, 0.018578938819347676),\n (2817, 0.01854085750548733),\n (2799, 0.018531951939681),\n (3757, 0.018516040868651912),\n (3206, 0.0185075055281703),\n (1698, 0.018475176502506664),\n (3475, 0.01838354425689231),\n (2343, 0.01838211722851187),\n (1100, 0.01836681190090048),\n (1485, 0.01836018125174807),\n (1220, 0.018318534730743293),\n (1296, 0.018317404226460568),\n (712, 0.01826963129234437),\n (691, 0.0182511734876234),\n (1215, 0.01820934494208324),\n (1230, 0.01819688853618114),\n (4428, 0.018167338452537884),\n (3375, 0.018156384622635652),\n (4157, 0.018120006779586525),\n (1108, 0.018119345352008213),\n (1766, 0.01807496374156231),\n (2827, 0.017982336335820165),\n (2863, 0.0179749243452404),\n (4113, 0.01796942513676132),\n (984, 0.017945720656273666),\n (2086, 0.017932403171137187),\n (3894, 0.01791768194211138),\n (1193, 0.0179089815842116),\n (4304, 0.017906124290078887),\n (4516, 0.017900138496608008),\n (2359, 0.01789262777434737),\n (1629, 0.01789192729501012),\n (1786, 0.017872158269325082),\n (3220, 0.017829206949193797),\n (1164, 0.0178251561160056),\n (265, 0.01781698262786339),\n (3624, 0.017800627113513916),\n (3957, 0.01777469688533935),\n (2728, 0.0177729271104536),\n (1471, 0.017740841762524856),\n (40, 0.017740228422140375),\n (125, 0.017739100031274768),\n (193, 0.017733166512683574),\n (374, 0.01773030610012559),\n (1617, 0.01771312448192957),\n (460, 0.017690099685239224),\n (4223, 0.01768604065226222),\n (972, 0.017678578948681772),\n (724, 0.017672069219876786),\n (595, 0.017621983398860314),\n (4770, 0.01761395598271041),\n (4287, 0.01757742694397866),\n (3774, 0.017571476185143733),\n (242, 0.01756380945771353),\n (4117, 0.017562710927549265),\n (3101, 0.017533110603938494),\n (234, 0.017477412236033565),\n (1042, 0.01745510928400451),\n (578, 0.017450596019528475),\n (1255, 0.01743935313918762),\n (3024, 0.017423739059277393),\n (261, 0.017401562665215094),\n (2819, 0.017279116835939745),\n (3048, 0.01722929122016149),\n (239, 0.01720708141666695),\n (4741, 0.017203840540775745),\n (640, 0.017201526954621002),\n (2681, 0.017195336193003213),\n (1678, 0.01717739189484647),\n (3515, 0.017176203248573357),\n (1272, 0.017139140035518956),\n (2010, 0.017134835082311537),\n (4425, 0.017116129072429057),\n (3510, 0.01706218748199188),\n (3164, 0.01706056619648718),\n (4395, 0.017050611164635188),\n (1271, 0.017048883012651467),\n (2105, 0.017046819729821163),\n (4125, 0.016989535111055106),\n (3808, 0.016988306895253196),\n (3189, 0.01698784859581922),\n (187, 0.016957200662935136),\n (2675, 0.01695150711007011),\n (3830, 0.016922138274796782),\n (1040, 0.016870156636600356),\n (4145, 0.016861168191087877),\n (744, 0.016804567232975843),\n (4703, 0.016745473746610923),\n (3718, 0.01672862042430784),\n (3631, 0.016716649876300414),\n (845, 0.016710635531292956),\n (881, 0.016670437013170274),\n (427, 0.016645480804044762),\n (1174, 0.016636748496290345),\n (3606, 0.01661928600977283),\n (3861, 0.016606359775750597),\n (2012, 0.01658995188819573),\n (1147, 0.01655703860617086),\n (1288, 0.016545161789019807),\n (246, 0.01653539591607922),\n (3627, 0.01653358612761019),\n (1947, 0.016523939174180078),\n (1618, 0.016487256680747794),\n (1729, 0.016481828151204036),\n (1206, 0.01646992927325383),\n (582, 0.01646236071310366),\n (1990, 0.01646160112213927),\n (2749, 0.016414252710186556),\n (708, 0.016389886115255683),\n (736, 0.016345135533970462),\n (1789, 0.016344867582375123),\n (978, 0.016323503541165234),\n (3200, 0.0163113379166879),\n (2566, 0.016303729665109137),\n (1185, 0.016270202513377196),\n (101, 0.016262917844367442),\n (449, 0.016260411266946537),\n (1857, 0.016259280364444996),\n (1536, 0.016251292197704256),\n (1872, 0.016227449681653322),\n (77, 0.016222172746722524),\n (2518, 0.016208942903969743),\n (1275, 0.016201168480309294),\n (3351, 0.016119523922279524),\n (1116, 0.01608479299394118),\n (597, 0.01604702812316254),\n (3960, 0.01602340306661611),\n (1625, 0.015972174153208375),\n (4625, 0.015938809903286413),\n (2823, 0.01591594801599323),\n (1671, 0.01590270008793437),\n (799, 0.015898865906763066),\n (4018, 0.015854106547794868),\n (3356, 0.01582886826461827),\n (3663, 0.015817645485850126),\n (1451, 0.01578902414711663),\n (3468, 0.015782227847141637),\n (128, 0.01576813310090271),\n (1361, 0.015761818806326933),\n (3723, 0.015733200419636627),\n (1999, 0.01565265753163013),\n (58, 0.015644506700878472),\n (237, 0.015642399180679903),\n (1566, 0.015608566190576344),\n (1446, 0.015606721601971794),\n (4353, 0.015589620905072451),\n (3235, 0.015588634086970919),\n (3491, 0.015587961380910429),\n (1890, 0.015542554536414704),\n (671, 0.015511335681801927),\n (4301, 0.015486532435478711),\n (4149, 0.01547800340265915),\n (346, 0.015465415650962488),\n (67, 0.015456343195281582),\n (557, 0.01539785365462941),\n (148, 0.01538843756488169),\n (2961, 0.015383272976447385),\n (2136, 0.015347113785658771),\n (673, 0.015333945515613734),\n (248, 0.015326601276670638),\n (3978, 0.015321955581315817),\n (1594, 0.015310547708485124),\n (2572, 0.015289851614170524),\n (2543, 0.015270051662415686),\n (2442, 0.015230832665895715),\n (1957, 0.01521156819471252),\n (4497, 0.015185086807006509),\n (2346, 0.015134648861057035),\n (789, 0.01513034578239115),\n (12, 0.015118367234755849),\n (111, 0.015091615003094855),\n (1813, 0.01503922806565541),\n (2913, 0.015031718513204203),\n (4284, 0.014999000930475737),\n (2398, 0.014989674032880056),\n (4472, 0.014977020297824769),\n (2765, 0.014963102111887804),\n (355, 0.014959245243572039),\n (2754, 0.0148684668844058),\n (3049, 0.014860084194767186),\n (2519, 0.014855320436165546),\n (1279, 0.014847214426276274),\n (51, 0.014843566741493145),\n (160, 0.014832834813022111),\n (3670, 0.014831723435568154),\n (4199, 0.014791546711059318),\n (785, 0.014787206932764713),\n (3800, 0.014777000443297689),\n (4711, 0.014763534844866697),\n (4254, 0.014754775086764255),\n (1726, 0.014741826548511468),\n (3424, 0.01472952492305977),\n (4523, 0.014725780028905747),\n (596, 0.014716009104516141),\n (229, 0.014708979434336246),\n (2525, 0.014700882230300917),\n (1303, 0.0146761537185139),\n (913, 0.014656555080175339),\n (1069, 0.014649194124509662),\n (3252, 0.014645614063513461),\n (2014, 0.014644010108654541),\n (185, 0.014629115673851032),\n (734, 0.014599019819828089),\n (4775, 0.014583860037676874),\n (509, 0.01458212101074831),\n (1276, 0.014580524893979211),\n (586, 0.014569459328994493),\n (4605, 0.014557778610031637),\n (2897, 0.014557619088816278),\n (827, 0.01451954118141957),\n (1246, 0.0145047679896499),\n (4398, 0.014494827760809074),\n (3874, 0.014491885909432513),\n (514, 0.014490610839243644),\n (1714, 0.014473070273831592),\n (2127, 0.01446573357277857),\n (1006, 0.014451277692448325),\n (698, 0.014436018810192066),\n (43, 0.014420795250255525),\n (4485, 0.014393269118195098),\n (1568, 0.01438965195324251),\n (3367, 0.014375840857975643),\n (4041, 0.014365608375333275),\n (3699, 0.014341921796984397),\n (1465, 0.014304867231755239),\n (1192, 0.014297188335362471),\n (3184, 0.014295892374233963),\n (202, 0.014256908593908778),\n (2645, 0.014231803053439766),\n (1549, 0.014229634778648026),\n (1210, 0.014229272071117866),\n (4016, 0.014227960286336975),\n (1351, 0.014217391472707633),\n (2321, 0.014214753974809346),\n (1412, 0.014205927837884264),\n (3796, 0.014198680397185805),\n (4566, 0.014175827536420226),\n (4228, 0.014171332272745411),\n (2517, 0.014133386695790662),\n (142, 0.014132826447105321),\n (3778, 0.014070456577746158),\n (4161, 0.01402643113527718),\n (4690, 0.014022422417773704),\n (1238, 0.014009197665088617),\n (214, 0.01396221354949621),\n (2771, 0.013938166211476425),\n (4447, 0.013932042076099644),\n (1686, 0.013918461807202265),\n (1879, 0.013875844651896327),\n (3498, 0.01387078396063005),\n (27, 0.013869593920027644),\n (1034, 0.013845807132867769),\n (419, 0.013845415956213039),\n (832, 0.013837981987907037),\n (2324, 0.013829227411249551),\n (4627, 0.013809538638290396),\n (3397, 0.01377849760446254),\n (3214, 0.013689898649928374),\n (3031, 0.01367842960081199),\n (3422, 0.013666717290922354),\n (690, 0.013598567810931965),\n (2556, 0.01358872258895686),\n (1200, 0.01358500869472585),\n (1769, 0.013566983955134558),\n (1508, 0.013548590387499532),\n (1673, 0.013487454623878908),\n (1312, 0.013476730170223468),\n (1056, 0.013465186315183451),\n (508, 0.013458624505187833),\n (3657, 0.01342850868477661),\n (438, 0.013421270894944104),\n (1464, 0.013417126295053285),\n (635, 0.013407411079069035),\n (1235, 0.013391530779697491),\n (4752, 0.013365149618171581),\n (2989, 0.013357326256027369),\n (4378, 0.013345951801118843),\n (301, 0.013333472354818895),\n (2521, 0.013327250921188371),\n (3734, 0.013325601480492963),\n (2721, 0.01332549185351136),\n (1807, 0.013308099204251175),\n (842, 0.013285812425405096),\n (632, 0.013283769491308375),\n (212, 0.013244856706195794),\n (3281, 0.01321517472532741),\n (933, 0.013212772525440496),\n (3508, 0.013181032461611073),\n (2577, 0.013164565486322192),\n (1207, 0.013152910346088016),\n (1753, 0.013138311727572563),\n (833, 0.013117143212529974),\n (2376, 0.013098001107219027),\n (3725, 0.01309383509495367),\n (2471, 0.013091433169237254),\n (2535, 0.0130652530098288),\n ...]"
          },
          "metadata": {}
        }
      ],
      "execution_count": null
    },
    {
      "cell_type": "code",
      "source": "movie_indices = [i[0] for i in scores[1:10]]\nmovie_indices",
      "metadata": {
        "source_hash": null,
        "execution_start": 1688208635911,
        "execution_millis": 114,
        "deepnote_to_be_reexecuted": false,
        "cell_id": "dc2b5fe34a734a14882fd8632c51855a",
        "deepnote_cell_type": "code"
      },
      "outputs": [
        {
          "output_type": "execute_result",
          "execution_count": 13,
          "data": {
            "text/plain": "[16, 79, 68, 26, 227, 31, 1868, 344, 1922]"
          },
          "metadata": {}
        }
      ],
      "execution_count": null
    },
    {
      "cell_type": "code",
      "source": "similar_titles = list(movies['title'].iloc[movie_indices])\nsimilar_titles",
      "metadata": {
        "source_hash": null,
        "execution_start": 1688208635927,
        "execution_millis": 16,
        "deepnote_to_be_reexecuted": false,
        "cell_id": "9401ddf1be4347dfba9085cb835b6eec",
        "deepnote_cell_type": "code"
      },
      "outputs": [
        {
          "output_type": "execute_result",
          "execution_count": 14,
          "data": {
            "text/plain": "['The Avengers',\n 'Iron Man 2',\n 'Iron Man',\n 'Captain America: Civil War',\n 'Knight and Day',\n 'Iron Man 3',\n 'Cradle 2 the Grave',\n 'Unstoppable',\n 'Gettysburg']"
          },
          "metadata": {}
        }
      ],
      "execution_count": null
    },
    {
      "cell_type": "code",
      "source": "def similar_movies(movie_title, nr_movie):\n    idx = movies.loc[movies['title']==movie_title].index[0]\n    scores = list(enumerate(similarity_metrix[idx]))\n    scores = sorted(scores, key=lambda x:x[1], reverse=True)\n    movie_indices = [i[0] for i in scores[1:nr_movie+1]]\n    similar_titles = list(movies['title'].iloc[movie_indices])\n    return similar_titles\n",
      "metadata": {
        "source_hash": null,
        "execution_start": 1688208635942,
        "execution_millis": 19,
        "deepnote_to_be_reexecuted": false,
        "cell_id": "a57a2b303f8b4f3c8bf853e58b7c4485",
        "deepnote_cell_type": "code"
      },
      "outputs": [],
      "execution_count": null
    },
    {
      "cell_type": "code",
      "source": "similar_movies('Avengers: Age of Ultron' ,10)",
      "metadata": {
        "source_hash": null,
        "execution_start": 1688208635957,
        "execution_millis": 11,
        "deepnote_to_be_reexecuted": false,
        "cell_id": "56f539c96718492fad4ba9f00a999c14",
        "deepnote_cell_type": "code"
      },
      "outputs": [
        {
          "output_type": "execute_result",
          "execution_count": 16,
          "data": {
            "text/plain": "['The Avengers',\n 'Iron Man 2',\n 'Iron Man',\n 'Captain America: Civil War',\n 'Knight and Day',\n 'Iron Man 3',\n 'Cradle 2 the Grave',\n 'Unstoppable',\n 'Gettysburg',\n 'The Man from U.N.C.L.E.']"
          },
          "metadata": {}
        }
      ],
      "execution_count": null
    },
    {
      "cell_type": "markdown",
      "source": "### Filtering more columns ",
      "metadata": {
        "formattedRanges": [],
        "cell_id": "22312b0b32584c01bfef298b9d1f4f18",
        "deepnote_cell_type": "text-cell-h3"
      }
    },
    {
      "cell_type": "markdown",
      "source": "For more accurate result will filter more than the overview column",
      "metadata": {
        "formattedRanges": [],
        "cell_id": "748d54a2611c4b7ca72b0a0ee98e9070",
        "deepnote_cell_type": "text-cell-p"
      }
    },
    {
      "cell_type": "markdown",
      "source": "select the columns to process. ",
      "metadata": {
        "formattedRanges": [],
        "cell_id": "7cfc4e0ffbf44446bd9efd7e7d338844",
        "deepnote_cell_type": "text-cell-p"
      }
    },
    {
      "cell_type": "code",
      "source": "columns_to_process = ['overview', 'genres', 'keywords']\nmovies[columns_to_process].head()",
      "metadata": {
        "source_hash": null,
        "execution_start": 1688208635972,
        "execution_millis": 461,
        "deepnote_to_be_reexecuted": false,
        "cell_id": "265c32bfd5e641b7a466410908f01b12",
        "deepnote_cell_type": "code"
      },
      "outputs": [
        {
          "output_type": "execute_result",
          "execution_count": 17,
          "data": {
            "application/vnd.deepnote.dataframe.v3+json": {
              "column_count": 3,
              "row_count": 5,
              "columns": [
                {
                  "name": "overview",
                  "dtype": "object",
                  "stats": {
                    "unique_count": 5,
                    "nan_count": 0,
                    "categories": [
                      {
                        "name": "In the 22nd century, a paraplegic Marine is dispatched to the moon Pandora on a unique mission, but becomes torn between following orders and protecting an alien civilization.",
                        "count": 1
                      },
                      {
                        "name": "Captain Barbossa, long believed to be dead, has come back to life and is headed to the edge of the Earth with Will Turner and Elizabeth Swann. But nothing is quite as it seems.",
                        "count": 1
                      },
                      {
                        "name": "3 others",
                        "count": 3
                      }
                    ]
                  }
                },
                {
                  "name": "genres",
                  "dtype": "object",
                  "stats": {
                    "unique_count": 5,
                    "nan_count": 0,
                    "categories": [
                      {
                        "name": "[{\"id\": 28, \"name\": \"Action\"}, {\"id\": 12, \"name\": \"Adventure\"}, {\"id\": 14, \"name\": \"Fantasy\"}, {\"id\": 878, \"name\": \"Science Fiction\"}]",
                        "count": 1
                      },
                      {
                        "name": "[{\"id\": 12, \"name\": \"Adventure\"}, {\"id\": 14, \"name\": \"Fantasy\"}, {\"id\": 28, \"name\": \"Action\"}]",
                        "count": 1
                      },
                      {
                        "name": "3 others",
                        "count": 3
                      }
                    ]
                  }
                },
                {
                  "name": "keywords",
                  "dtype": "object",
                  "stats": {
                    "unique_count": 5,
                    "nan_count": 0,
                    "categories": [
                      {
                        "name": "[{\"id\": 1463, \"name\": \"culture clash\"}, {\"id\": 2964, \"name\": \"future\"}, {\"id\": 3386, \"name\": \"space war\"}, {\"id\": 3388, \"name\": \"space colony\"}, {\"id\": 3679, \"name\": \"society\"}, {\"id\": 3801, \"name\": \"space travel\"}, {\"id\": 9685, \"name\": \"futuristic\"}, {\"id\": 9840, \"name\": \"romance\"}, {\"id\": 9882, \"name\": \"space\"}, {\"id\": 9951, \"name\": \"alien\"}, {\"id\": 10148, \"name\": \"tribe\"}, {\"id\": 10158, \"name\": \"alien planet\"}, {\"id\": 10987, \"name\": \"cgi\"}, {\"id\": 11399, \"name\": \"marine\"}, {\"id\": 13065, \"name\": \"soldier\"}, {\"id\": 14643, \"name\": \"battle\"}, {\"id\": 14720, \"name\": \"love affair\"}, {\"id\": 165431, \"name\": \"anti war\"}, {\"id\": 193554, \"name\": \"power relations\"}, {\"id\": 206690, \"name\": \"mind and soul\"}, {\"id\": 209714, \"name\": \"3d\"}]",
                        "count": 1
                      },
                      {
                        "name": "[{\"id\": 270, \"name\": \"ocean\"}, {\"id\": 726, \"name\": \"drug abuse\"}, {\"id\": 911, \"name\": \"exotic island\"}, {\"id\": 1319, \"name\": \"east india trading company\"}, {\"id\": 2038, \"name\": \"love of one's life\"}, {\"id\": 2052, \"name\": \"traitor\"}, {\"id\": 2580, \"name\": \"shipwreck\"}, {\"id\": 2660, \"name\": \"strong woman\"}, {\"id\": 3799, \"name\": \"ship\"}, {\"id\": 5740, \"name\": \"alliance\"}, {\"id\": 5941, \"name\": \"calypso\"}, {\"id\": 6155, \"name\": \"afterlife\"}, {\"id\": 6211, \"name\": \"fighter\"}, {\"id\": 12988, \"name\": \"pirate\"}, {\"id\": 157186, \"name\": \"swashbuckler\"}, {\"id\": 179430, \"name\": \"aftercreditsstinger\"}]",
                        "count": 1
                      },
                      {
                        "name": "3 others",
                        "count": 3
                      }
                    ]
                  }
                },
                {
                  "name": "_deepnote_index_column",
                  "dtype": "int64"
                }
              ],
              "rows": [
                {
                  "overview": "In the 22nd century, a paraplegic Marine is dispatched to the moon Pandora on a unique mission, but becomes torn between following orders and protecting an alien civilization.",
                  "genres": "[{\"id\": 28, \"name\": \"Action\"}, {\"id\": 12, \"name\": \"Adventure\"}, {\"id\": 14, \"name\": \"Fantasy\"}, {\"id\": 878, \"name\": \"Science Fiction\"}]",
                  "keywords": "[{\"id\": 1463, \"name\": \"culture clash\"}, {\"id\": 2964, \"name\": \"future\"}, {\"id\": 3386, \"name\": \"space war\"}, {\"id\": 3388, \"name\": \"space colony\"}, {\"id\": 3679, \"name\": \"society\"}, {\"id\": 3801, \"name\": \"space travel\"}, {\"id\": 9685, \"name\": \"futuristic\"}, {\"id\": 9840, \"name\": \"romance\"}, {\"id\": 9882, \"name\": \"space\"}, {\"id\": 9951, \"name\": \"alien\"}, {\"id\": 10148, \"name\": \"tribe\"}, {\"id\": 10158, \"name\": \"alien planet\"}, {\"id\": 10987, \"name\": \"cgi\"}, {\"id\": 11399, \"name\": \"marine\"}, {\"id\": 13065, \"name\": \"soldier\"}, {\"id\": 14643, \"name\": \"battle\"}, {\"id\": 14720, \"name\": \"love affair\"}, {\"id\": 165431, \"name\": \"anti war\"}, {\"id\": 193554, \"name\": \"power relations\"}, {\"id\": 206690, \"name\": \"mind and soul\"}, {\"id\": 209714, \"name\": \"3d\"}]",
                  "_deepnote_index_column": 0
                },
                {
                  "overview": "Captain Barbossa, long believed to be dead, has come back to life and is headed to the edge of the Earth with Will Turner and Elizabeth Swann. But nothing is quite as it seems.",
                  "genres": "[{\"id\": 12, \"name\": \"Adventure\"}, {\"id\": 14, \"name\": \"Fantasy\"}, {\"id\": 28, \"name\": \"Action\"}]",
                  "keywords": "[{\"id\": 270, \"name\": \"ocean\"}, {\"id\": 726, \"name\": \"drug abuse\"}, {\"id\": 911, \"name\": \"exotic island\"}, {\"id\": 1319, \"name\": \"east india trading company\"}, {\"id\": 2038, \"name\": \"love of one's life\"}, {\"id\": 2052, \"name\": \"traitor\"}, {\"id\": 2580, \"name\": \"shipwreck\"}, {\"id\": 2660, \"name\": \"strong woman\"}, {\"id\": 3799, \"name\": \"ship\"}, {\"id\": 5740, \"name\": \"alliance\"}, {\"id\": 5941, \"name\": \"calypso\"}, {\"id\": 6155, \"name\": \"afterlife\"}, {\"id\": 6211, \"name\": \"fighter\"}, {\"id\": 12988, \"name\": \"pirate\"}, {\"id\": 157186, \"name\": \"swashbuckler\"}, {\"id\": 179430, \"name\": \"aftercreditsstinger\"}]",
                  "_deepnote_index_column": 1
                },
                {
                  "overview": "A cryptic message from Bond’s past sends him on a trail to uncover a sinister organization. While M battles political forces to keep the secret service alive, Bond peels back the layers of deceit to reveal the terrible truth behind SPECTRE.",
                  "genres": "[{\"id\": 28, \"name\": \"Action\"}, {\"id\": 12, \"name\": \"Adventure\"}, {\"id\": 80, \"name\": \"Crime\"}]",
                  "keywords": "[{\"id\": 470, \"name\": \"spy\"}, {\"id\": 818, \"name\": \"based on novel\"}, {\"id\": 4289, \"name\": \"secret agent\"}, {\"id\": 9663, \"name\": \"sequel\"}, {\"id\": 14555, \"name\": \"mi6\"}, {\"id\": 156095, \"name\": \"british secret service\"}, {\"id\": 158431, \"name\": \"united kingdom\"}]",
                  "_deepnote_index_column": 2
                },
                {
                  "overview": "Following the death of District Attorney Harvey Dent, Batman assumes responsibility for Dent's crimes to protect the late attorney's reputation and is subsequently hunted by the Gotham City Police Department. Eight years later, Batman encounters the mysterious Selina Kyle and the villainous Bane, a new terrorist leader who overwhelms Gotham's finest. The Dark Knight resurfaces to protect a city that has branded him an enemy.",
                  "genres": "[{\"id\": 28, \"name\": \"Action\"}, {\"id\": 80, \"name\": \"Crime\"}, {\"id\": 18, \"name\": \"Drama\"}, {\"id\": 53, \"name\": \"Thriller\"}]",
                  "keywords": "[{\"id\": 849, \"name\": \"dc comics\"}, {\"id\": 853, \"name\": \"crime fighter\"}, {\"id\": 949, \"name\": \"terrorist\"}, {\"id\": 1308, \"name\": \"secret identity\"}, {\"id\": 1437, \"name\": \"burglar\"}, {\"id\": 3051, \"name\": \"hostage drama\"}, {\"id\": 3562, \"name\": \"time bomb\"}, {\"id\": 6969, \"name\": \"gotham city\"}, {\"id\": 7002, \"name\": \"vigilante\"}, {\"id\": 9665, \"name\": \"cover-up\"}, {\"id\": 9715, \"name\": \"superhero\"}, {\"id\": 9990, \"name\": \"villainess\"}, {\"id\": 10044, \"name\": \"tragic hero\"}, {\"id\": 13015, \"name\": \"terrorism\"}, {\"id\": 14796, \"name\": \"destruction\"}, {\"id\": 18933, \"name\": \"catwoman\"}, {\"id\": 156082, \"name\": \"cat burglar\"}, {\"id\": 156395, \"name\": \"imax\"}, {\"id\": 173272, \"name\": \"flood\"}, {\"id\": 179093, \"name\": \"criminal underworld\"}, {\"id\": 230775, \"name\": \"batman\"}]",
                  "_deepnote_index_column": 3
                },
                {
                  "overview": "John Carter is a war-weary, former military captain who's inexplicably transported to the mysterious and exotic planet of Barsoom (Mars) and reluctantly becomes embroiled in an epic conflict. It's a world on the brink of collapse, and Carter rediscovers his humanity when he realizes the survival of Barsoom and its people rests in his hands.",
                  "genres": "[{\"id\": 28, \"name\": \"Action\"}, {\"id\": 12, \"name\": \"Adventure\"}, {\"id\": 878, \"name\": \"Science Fiction\"}]",
                  "keywords": "[{\"id\": 818, \"name\": \"based on novel\"}, {\"id\": 839, \"name\": \"mars\"}, {\"id\": 1456, \"name\": \"medallion\"}, {\"id\": 3801, \"name\": \"space travel\"}, {\"id\": 7376, \"name\": \"princess\"}, {\"id\": 9951, \"name\": \"alien\"}, {\"id\": 10028, \"name\": \"steampunk\"}, {\"id\": 10539, \"name\": \"martian\"}, {\"id\": 10685, \"name\": \"escape\"}, {\"id\": 161511, \"name\": \"edgar rice burroughs\"}, {\"id\": 163252, \"name\": \"alien race\"}, {\"id\": 179102, \"name\": \"superhuman strength\"}, {\"id\": 190320, \"name\": \"mars civilization\"}, {\"id\": 195446, \"name\": \"sword and planet\"}, {\"id\": 207928, \"name\": \"19th century\"}, {\"id\": 209714, \"name\": \"3d\"}]",
                  "_deepnote_index_column": 4
                }
              ]
            },
            "text/plain": "                                            overview  \\\n0  In the 22nd century, a paraplegic Marine is di...   \n1  Captain Barbossa, long believed to be dead, ha...   \n2  A cryptic message from Bond’s past sends him o...   \n3  Following the death of District Attorney Harve...   \n4  John Carter is a war-weary, former military ca...   \n\n                                              genres  \\\n0  [{\"id\": 28, \"name\": \"Action\"}, {\"id\": 12, \"nam...   \n1  [{\"id\": 12, \"name\": \"Adventure\"}, {\"id\": 14, \"...   \n2  [{\"id\": 28, \"name\": \"Action\"}, {\"id\": 12, \"nam...   \n3  [{\"id\": 28, \"name\": \"Action\"}, {\"id\": 80, \"nam...   \n4  [{\"id\": 28, \"name\": \"Action\"}, {\"id\": 12, \"nam...   \n\n                                            keywords  \n0  [{\"id\": 1463, \"name\": \"culture clash\"}, {\"id\":...  \n1  [{\"id\": 270, \"name\": \"ocean\"}, {\"id\": 726, \"na...  \n2  [{\"id\": 470, \"name\": \"spy\"}, {\"id\": 818, \"name...  \n3  [{\"id\": 849, \"name\": \"dc comics\"}, {\"id\": 853,...  \n4  [{\"id\": 818, \"name\": \"based on novel\"}, {\"id\":...  ",
            "text/html": "<div>\n<style scoped>\n    .dataframe tbody tr th:only-of-type {\n        vertical-align: middle;\n    }\n\n    .dataframe tbody tr th {\n        vertical-align: top;\n    }\n\n    .dataframe thead th {\n        text-align: right;\n    }\n</style>\n<table border=\"1\" class=\"dataframe\">\n  <thead>\n    <tr style=\"text-align: right;\">\n      <th></th>\n      <th>overview</th>\n      <th>genres</th>\n      <th>keywords</th>\n    </tr>\n  </thead>\n  <tbody>\n    <tr>\n      <th>0</th>\n      <td>In the 22nd century, a paraplegic Marine is di...</td>\n      <td>[{\"id\": 28, \"name\": \"Action\"}, {\"id\": 12, \"nam...</td>\n      <td>[{\"id\": 1463, \"name\": \"culture clash\"}, {\"id\":...</td>\n    </tr>\n    <tr>\n      <th>1</th>\n      <td>Captain Barbossa, long believed to be dead, ha...</td>\n      <td>[{\"id\": 12, \"name\": \"Adventure\"}, {\"id\": 14, \"...</td>\n      <td>[{\"id\": 270, \"name\": \"ocean\"}, {\"id\": 726, \"na...</td>\n    </tr>\n    <tr>\n      <th>2</th>\n      <td>A cryptic message from Bond’s past sends him o...</td>\n      <td>[{\"id\": 28, \"name\": \"Action\"}, {\"id\": 12, \"nam...</td>\n      <td>[{\"id\": 470, \"name\": \"spy\"}, {\"id\": 818, \"name...</td>\n    </tr>\n    <tr>\n      <th>3</th>\n      <td>Following the death of District Attorney Harve...</td>\n      <td>[{\"id\": 28, \"name\": \"Action\"}, {\"id\": 80, \"nam...</td>\n      <td>[{\"id\": 849, \"name\": \"dc comics\"}, {\"id\": 853,...</td>\n    </tr>\n    <tr>\n      <th>4</th>\n      <td>John Carter is a war-weary, former military ca...</td>\n      <td>[{\"id\": 28, \"name\": \"Action\"}, {\"id\": 12, \"nam...</td>\n      <td>[{\"id\": 818, \"name\": \"based on novel\"}, {\"id\":...</td>\n    </tr>\n  </tbody>\n</table>\n</div>"
          },
          "metadata": {}
        }
      ],
      "execution_count": null
    },
    {
      "cell_type": "markdown",
      "source": "Iterate over the columns and process each one and fill missing values with an empty string",
      "metadata": {
        "formattedRanges": [],
        "cell_id": "9fe05694b74545abbe9992cf89899305",
        "deepnote_cell_type": "text-cell-p"
      }
    },
    {
      "cell_type": "code",
      "source": "for column in columns_to_process:\n    movies[column] = movies[column].fillna('')",
      "metadata": {
        "source_hash": null,
        "execution_start": 1688208636022,
        "execution_millis": 104,
        "deepnote_to_be_reexecuted": false,
        "cell_id": "12540dfaedfb407ba7d65b23db992b3d",
        "deepnote_cell_type": "code"
      },
      "outputs": [],
      "execution_count": null
    },
    {
      "cell_type": "markdown",
      "source": " Apply the TfidfVectorizer to the column",
      "metadata": {
        "formattedRanges": [],
        "cell_id": "d05c4a457f5a484fbfe419507a413d44",
        "deepnote_cell_type": "text-cell-p"
      }
    },
    {
      "cell_type": "code",
      "source": "tfidf_matrix1 = tfidf.fit_transform(movies[column])\npd.DataFrame(tfidf_matrix1.toarray(), columns=tfidf.get_feature_names())",
      "metadata": {
        "source_hash": null,
        "execution_start": 1688208636048,
        "execution_millis": 3563,
        "deepnote_to_be_reexecuted": false,
        "cell_id": "76f8ec725ee448a690ae4da09c95588b",
        "deepnote_cell_type": "code"
      },
      "outputs": [
        {
          "name": "stderr",
          "text": "/shared-libs/python3.9/py/lib/python3.9/site-packages/sklearn/utils/deprecation.py:87: FutureWarning: Function get_feature_names is deprecated; get_feature_names is deprecated in 1.0 and will be removed in 1.2. Please use get_feature_names_out instead.\n  warnings.warn(msg, category=FutureWarning)\n",
          "output_type": "stream"
        },
        {
          "output_type": "execute_result",
          "execution_count": 19,
          "data": {
            "application/vnd.deepnote.dataframe.v3+json": {
              "column_count": 16909,
              "row_count": 4803,
              "columns": [
                {
                  "name": "100",
                  "dtype": "float64",
                  "stats": {
                    "unique_count": 6,
                    "nan_count": 0,
                    "min": "0.0",
                    "max": "0.2924608158595384",
                    "histogram": [
                      {
                        "bin_start": 0,
                        "bin_end": 0.02924608158595384,
                        "count": 4798
                      },
                      {
                        "bin_start": 0.02924608158595384,
                        "bin_end": 0.05849216317190768,
                        "count": 0
                      },
                      {
                        "bin_start": 0.05849216317190768,
                        "bin_end": 0.08773824475786152,
                        "count": 0
                      },
                      {
                        "bin_start": 0.08773824475786152,
                        "bin_end": 0.11698432634381536,
                        "count": 0
                      },
                      {
                        "bin_start": 0.11698432634381536,
                        "bin_end": 0.1462304079297692,
                        "count": 2
                      },
                      {
                        "bin_start": 0.1462304079297692,
                        "bin_end": 0.17547648951572303,
                        "count": 0
                      },
                      {
                        "bin_start": 0.17547648951572303,
                        "bin_end": 0.20472257110167688,
                        "count": 1
                      },
                      {
                        "bin_start": 0.20472257110167688,
                        "bin_end": 0.23396865268763073,
                        "count": 1
                      },
                      {
                        "bin_start": 0.23396865268763073,
                        "bin_end": 0.26321473427358455,
                        "count": 0
                      },
                      {
                        "bin_start": 0.26321473427358455,
                        "bin_end": 0.2924608158595384,
                        "count": 1
                      }
                    ]
                  }
                },
                {
                  "name": "10005",
                  "dtype": "float64",
                  "stats": {
                    "unique_count": 3,
                    "nan_count": 0,
                    "min": "0.0",
                    "max": "0.17124502783393822",
                    "histogram": [
                      {
                        "bin_start": 0,
                        "bin_end": 0.017124502783393822,
                        "count": 4801
                      },
                      {
                        "bin_start": 0.017124502783393822,
                        "bin_end": 0.034249005566787644,
                        "count": 0
                      },
                      {
                        "bin_start": 0.034249005566787644,
                        "bin_end": 0.051373508350181465,
                        "count": 0
                      },
                      {
                        "bin_start": 0.051373508350181465,
                        "bin_end": 0.06849801113357529,
                        "count": 0
                      },
                      {
                        "bin_start": 0.06849801113357529,
                        "bin_end": 0.08562251391696911,
                        "count": 0
                      },
                      {
                        "bin_start": 0.08562251391696911,
                        "bin_end": 0.10274701670036293,
                        "count": 0
                      },
                      {
                        "bin_start": 0.10274701670036293,
                        "bin_end": 0.11987151948375675,
                        "count": 0
                      },
                      {
                        "bin_start": 0.11987151948375675,
                        "bin_end": 0.13699602226715057,
                        "count": 0
                      },
                      {
                        "bin_start": 0.13699602226715057,
                        "bin_end": 0.1541205250505444,
                        "count": 0
                      },
                      {
                        "bin_start": 0.1541205250505444,
                        "bin_end": 0.17124502783393822,
                        "count": 2
                      }
                    ]
                  }
                },
                {
                  "name": "10006",
                  "dtype": "float64",
                  "stats": {
                    "unique_count": 2,
                    "nan_count": 0,
                    "min": "0.0",
                    "max": "0.17157258319437588",
                    "histogram": [
                      {
                        "bin_start": 0,
                        "bin_end": 0.01715725831943759,
                        "count": 4802
                      },
                      {
                        "bin_start": 0.01715725831943759,
                        "bin_end": 0.03431451663887518,
                        "count": 0
                      },
                      {
                        "bin_start": 0.03431451663887518,
                        "bin_end": 0.05147177495831277,
                        "count": 0
                      },
                      {
                        "bin_start": 0.05147177495831277,
                        "bin_end": 0.06862903327775036,
                        "count": 0
                      },
                      {
                        "bin_start": 0.06862903327775036,
                        "bin_end": 0.08578629159718795,
                        "count": 0
                      },
                      {
                        "bin_start": 0.08578629159718795,
                        "bin_end": 0.10294354991662553,
                        "count": 0
                      },
                      {
                        "bin_start": 0.10294354991662553,
                        "bin_end": 0.12010080823606312,
                        "count": 0
                      },
                      {
                        "bin_start": 0.12010080823606312,
                        "bin_end": 0.1372580665555007,
                        "count": 0
                      },
                      {
                        "bin_start": 0.1372580665555007,
                        "bin_end": 0.1544153248749383,
                        "count": 0
                      },
                      {
                        "bin_start": 0.1544153248749383,
                        "bin_end": 0.17157258319437588,
                        "count": 1
                      }
                    ]
                  }
                },
                {
                  "name": "1001",
                  "dtype": "float64",
                  "stats": {
                    "unique_count": 5,
                    "nan_count": 0,
                    "min": "0.0",
                    "max": "0.2576968537271779",
                    "histogram": [
                      {
                        "bin_start": 0,
                        "bin_end": 0.025769685372717788,
                        "count": 4799
                      },
                      {
                        "bin_start": 0.025769685372717788,
                        "bin_end": 0.051539370745435575,
                        "count": 0
                      },
                      {
                        "bin_start": 0.051539370745435575,
                        "bin_end": 0.07730905611815336,
                        "count": 0
                      },
                      {
                        "bin_start": 0.07730905611815336,
                        "bin_end": 0.10307874149087115,
                        "count": 1
                      },
                      {
                        "bin_start": 0.10307874149087115,
                        "bin_end": 0.12884842686358894,
                        "count": 0
                      },
                      {
                        "bin_start": 0.12884842686358894,
                        "bin_end": 0.15461811223630673,
                        "count": 2
                      },
                      {
                        "bin_start": 0.15461811223630673,
                        "bin_end": 0.18038779760902451,
                        "count": 0
                      },
                      {
                        "bin_start": 0.18038779760902451,
                        "bin_end": 0.2061574829817423,
                        "count": 0
                      },
                      {
                        "bin_start": 0.2061574829817423,
                        "bin_end": 0.2319271683544601,
                        "count": 0
                      },
                      {
                        "bin_start": 0.2319271683544601,
                        "bin_end": 0.2576968537271779,
                        "count": 1
                      }
                    ]
                  }
                },
                {
                  "name": "10012",
                  "dtype": "float64",
                  "stats": {
                    "unique_count": 2,
                    "nan_count": 0,
                    "min": "0.0",
                    "max": "0.15074161217256174",
                    "histogram": [
                      {
                        "bin_start": 0,
                        "bin_end": 0.015074161217256174,
                        "count": 4802
                      },
                      {
                        "bin_start": 0.015074161217256174,
                        "bin_end": 0.030148322434512348,
                        "count": 0
                      },
                      {
                        "bin_start": 0.030148322434512348,
                        "bin_end": 0.04522248365176852,
                        "count": 0
                      },
                      {
                        "bin_start": 0.04522248365176852,
                        "bin_end": 0.060296644869024696,
                        "count": 0
                      },
                      {
                        "bin_start": 0.060296644869024696,
                        "bin_end": 0.07537080608628087,
                        "count": 0
                      },
                      {
                        "bin_start": 0.07537080608628087,
                        "bin_end": 0.09044496730353704,
                        "count": 0
                      },
                      {
                        "bin_start": 0.09044496730353704,
                        "bin_end": 0.10551912852079322,
                        "count": 0
                      },
                      {
                        "bin_start": 0.10551912852079322,
                        "bin_end": 0.12059328973804939,
                        "count": 0
                      },
                      {
                        "bin_start": 0.12059328973804939,
                        "bin_end": 0.13566745095530558,
                        "count": 0
                      },
                      {
                        "bin_start": 0.13566745095530558,
                        "bin_end": 0.15074161217256174,
                        "count": 1
                      }
                    ]
                  }
                },
                {
                  "name": "10013",
                  "dtype": "float64",
                  "stats": {
                    "unique_count": 5,
                    "nan_count": 0,
                    "min": "0.0",
                    "max": "0.20057753492898783",
                    "histogram": [
                      {
                        "bin_start": 0,
                        "bin_end": 0.020057753492898782,
                        "count": 4799
                      },
                      {
                        "bin_start": 0.020057753492898782,
                        "bin_end": 0.040115506985797564,
                        "count": 0
                      },
                      {
                        "bin_start": 0.040115506985797564,
                        "bin_end": 0.060173260478696346,
                        "count": 0
                      },
                      {
                        "bin_start": 0.060173260478696346,
                        "bin_end": 0.08023101397159513,
                        "count": 0
                      },
                      {
                        "bin_start": 0.08023101397159513,
                        "bin_end": 0.10028876746449392,
                        "count": 0
                      },
                      {
                        "bin_start": 0.10028876746449392,
                        "bin_end": 0.12034652095739269,
                        "count": 0
                      },
                      {
                        "bin_start": 0.12034652095739269,
                        "bin_end": 0.14040427445029147,
                        "count": 0
                      },
                      {
                        "bin_start": 0.14040427445029147,
                        "bin_end": 0.16046202794319026,
                        "count": 0
                      },
                      {
                        "bin_start": 0.16046202794319026,
                        "bin_end": 0.18051978143608904,
                        "count": 2
                      },
                      {
                        "bin_start": 0.18051978143608904,
                        "bin_end": 0.20057753492898783,
                        "count": 2
                      }
                    ]
                  }
                },
                {
                  "name": "10014",
                  "dtype": "float64",
                  "stats": {
                    "unique_count": 2,
                    "nan_count": 0,
                    "min": "0.0",
                    "max": "0.22182674201512553",
                    "histogram": [
                      {
                        "bin_start": 0,
                        "bin_end": 0.022182674201512553,
                        "count": 4802
                      },
                      {
                        "bin_start": 0.022182674201512553,
                        "bin_end": 0.044365348403025105,
                        "count": 0
                      },
                      {
                        "bin_start": 0.044365348403025105,
                        "bin_end": 0.06654802260453765,
                        "count": 0
                      },
                      {
                        "bin_start": 0.06654802260453765,
                        "bin_end": 0.08873069680605021,
                        "count": 0
                      },
                      {
                        "bin_start": 0.08873069680605021,
                        "bin_end": 0.11091337100756277,
                        "count": 0
                      },
                      {
                        "bin_start": 0.11091337100756277,
                        "bin_end": 0.1330960452090753,
                        "count": 0
                      },
                      {
                        "bin_start": 0.1330960452090753,
                        "bin_end": 0.15527871941058788,
                        "count": 0
                      },
                      {
                        "bin_start": 0.15527871941058788,
                        "bin_end": 0.17746139361210042,
                        "count": 0
                      },
                      {
                        "bin_start": 0.17746139361210042,
                        "bin_end": 0.19964406781361296,
                        "count": 0
                      },
                      {
                        "bin_start": 0.19964406781361296,
                        "bin_end": 0.22182674201512553,
                        "count": 1
                      }
                    ]
                  }
                },
                {
                  "name": "10015",
                  "dtype": "float64",
                  "stats": {
                    "unique_count": 2,
                    "nan_count": 0,
                    "min": "0.0",
                    "max": "0.22182674201512553",
                    "histogram": [
                      {
                        "bin_start": 0,
                        "bin_end": 0.022182674201512553,
                        "count": 4802
                      },
                      {
                        "bin_start": 0.022182674201512553,
                        "bin_end": 0.044365348403025105,
                        "count": 0
                      },
                      {
                        "bin_start": 0.044365348403025105,
                        "bin_end": 0.06654802260453765,
                        "count": 0
                      },
                      {
                        "bin_start": 0.06654802260453765,
                        "bin_end": 0.08873069680605021,
                        "count": 0
                      },
                      {
                        "bin_start": 0.08873069680605021,
                        "bin_end": 0.11091337100756277,
                        "count": 0
                      },
                      {
                        "bin_start": 0.11091337100756277,
                        "bin_end": 0.1330960452090753,
                        "count": 0
                      },
                      {
                        "bin_start": 0.1330960452090753,
                        "bin_end": 0.15527871941058788,
                        "count": 0
                      },
                      {
                        "bin_start": 0.15527871941058788,
                        "bin_end": 0.17746139361210042,
                        "count": 0
                      },
                      {
                        "bin_start": 0.17746139361210042,
                        "bin_end": 0.19964406781361296,
                        "count": 0
                      },
                      {
                        "bin_start": 0.19964406781361296,
                        "bin_end": 0.22182674201512553,
                        "count": 1
                      }
                    ]
                  }
                },
                {
                  "name": "10016",
                  "dtype": "float64",
                  "stats": {
                    "unique_count": 4,
                    "nan_count": 0,
                    "min": "0.0",
                    "max": "0.22117808643268946",
                    "histogram": [
                      {
                        "bin_start": 0,
                        "bin_end": 0.022117808643268948,
                        "count": 4800
                      },
                      {
                        "bin_start": 0.022117808643268948,
                        "bin_end": 0.044235617286537895,
                        "count": 0
                      },
                      {
                        "bin_start": 0.044235617286537895,
                        "bin_end": 0.06635342592980684,
                        "count": 0
                      },
                      {
                        "bin_start": 0.06635342592980684,
                        "bin_end": 0.08847123457307579,
                        "count": 0
                      },
                      {
                        "bin_start": 0.08847123457307579,
                        "bin_end": 0.11058904321634475,
                        "count": 0
                      },
                      {
                        "bin_start": 0.11058904321634475,
                        "bin_end": 0.13270685185961367,
                        "count": 0
                      },
                      {
                        "bin_start": 0.13270685185961367,
                        "bin_end": 0.15482466050288263,
                        "count": 1
                      },
                      {
                        "bin_start": 0.15482466050288263,
                        "bin_end": 0.17694246914615158,
                        "count": 1
                      },
                      {
                        "bin_start": 0.17694246914615158,
                        "bin_end": 0.19906027778942054,
                        "count": 0
                      },
                      {
                        "bin_start": 0.19906027778942054,
                        "bin_end": 0.22117808643268946,
                        "count": 1
                      }
                    ]
                  }
                },
                {
                  "name": "1002",
                  "dtype": "float64",
                  "stats": {
                    "unique_count": 3,
                    "nan_count": 0,
                    "min": "0.0",
                    "max": "0.29555812172397194",
                    "histogram": [
                      {
                        "bin_start": 0,
                        "bin_end": 0.029555812172397194,
                        "count": 4801
                      },
                      {
                        "bin_start": 0.029555812172397194,
                        "bin_end": 0.05911162434479439,
                        "count": 0
                      },
                      {
                        "bin_start": 0.05911162434479439,
                        "bin_end": 0.08866743651719158,
                        "count": 0
                      },
                      {
                        "bin_start": 0.08866743651719158,
                        "bin_end": 0.11822324868958878,
                        "count": 0
                      },
                      {
                        "bin_start": 0.11822324868958878,
                        "bin_end": 0.14777906086198597,
                        "count": 0
                      },
                      {
                        "bin_start": 0.14777906086198597,
                        "bin_end": 0.17733487303438317,
                        "count": 0
                      },
                      {
                        "bin_start": 0.17733487303438317,
                        "bin_end": 0.20689068520678036,
                        "count": 0
                      },
                      {
                        "bin_start": 0.20689068520678036,
                        "bin_end": 0.23644649737917756,
                        "count": 0
                      },
                      {
                        "bin_start": 0.23644649737917756,
                        "bin_end": 0.2660023095515748,
                        "count": 0
                      },
                      {
                        "bin_start": 0.2660023095515748,
                        "bin_end": 0.29555812172397194,
                        "count": 2
                      }
                    ]
                  }
                },
                {
                  "name": "10022",
                  "dtype": "float64",
                  "stats": {
                    "unique_count": 5,
                    "nan_count": 0,
                    "min": "0.0",
                    "max": "0.3982205591207191",
                    "histogram": [
                      {
                        "bin_start": 0,
                        "bin_end": 0.039822055912071906,
                        "count": 4799
                      },
                      {
                        "bin_start": 0.039822055912071906,
                        "bin_end": 0.07964411182414381,
                        "count": 0
                      },
                      {
                        "bin_start": 0.07964411182414381,
                        "bin_end": 0.11946616773621571,
                        "count": 1
                      },
                      {
                        "bin_start": 0.11946616773621571,
                        "bin_end": 0.15928822364828762,
                        "count": 1
                      },
                      {
                        "bin_start": 0.15928822364828762,
                        "bin_end": 0.19911027956035954,
                        "count": 1
                      },
                      {
                        "bin_start": 0.19911027956035954,
                        "bin_end": 0.23893233547243142,
                        "count": 0
                      },
                      {
                        "bin_start": 0.23893233547243142,
                        "bin_end": 0.27875439138450336,
                        "count": 0
                      },
                      {
                        "bin_start": 0.27875439138450336,
                        "bin_end": 0.31857644729657525,
                        "count": 0
                      },
                      {
                        "bin_start": 0.31857644729657525,
                        "bin_end": 0.35839850320864713,
                        "count": 0
                      },
                      {
                        "bin_start": 0.35839850320864713,
                        "bin_end": 0.3982205591207191,
                        "count": 1
                      }
                    ]
                  }
                },
                {
                  "name": "10024",
                  "dtype": "float64",
                  "stats": {
                    "unique_count": 5,
                    "nan_count": 0,
                    "min": "0.0",
                    "max": "0.41488499619378033",
                    "histogram": [
                      {
                        "bin_start": 0,
                        "bin_end": 0.04148849961937803,
                        "count": 4799
                      },
                      {
                        "bin_start": 0.04148849961937803,
                        "bin_end": 0.08297699923875607,
                        "count": 0
                      },
                      {
                        "bin_start": 0.08297699923875607,
                        "bin_end": 0.1244654988581341,
                        "count": 1
                      },
                      {
                        "bin_start": 0.1244654988581341,
                        "bin_end": 0.16595399847751213,
                        "count": 1
                      },
                      {
                        "bin_start": 0.16595399847751213,
                        "bin_end": 0.20744249809689017,
                        "count": 1
                      },
                      {
                        "bin_start": 0.20744249809689017,
                        "bin_end": 0.2489309977162682,
                        "count": 0
                      },
                      {
                        "bin_start": 0.2489309977162682,
                        "bin_end": 0.2904194973356462,
                        "count": 0
                      },
                      {
                        "bin_start": 0.2904194973356462,
                        "bin_end": 0.33190799695502426,
                        "count": 0
                      },
                      {
                        "bin_start": 0.33190799695502426,
                        "bin_end": 0.3733964965744023,
                        "count": 0
                      },
                      {
                        "bin_start": 0.3733964965744023,
                        "bin_end": 0.41488499619378033,
                        "count": 1
                      }
                    ]
                  }
                },
                {
                  "name": "10026",
                  "dtype": "float64",
                  "stats": {
                    "unique_count": 2,
                    "nan_count": 0,
                    "min": "0.0",
                    "max": "0.19922200358633857",
                    "histogram": [
                      {
                        "bin_start": 0,
                        "bin_end": 0.019922200358633856,
                        "count": 4802
                      },
                      {
                        "bin_start": 0.019922200358633856,
                        "bin_end": 0.03984440071726771,
                        "count": 0
                      },
                      {
                        "bin_start": 0.03984440071726771,
                        "bin_end": 0.059766601075901565,
                        "count": 0
                      },
                      {
                        "bin_start": 0.059766601075901565,
                        "bin_end": 0.07968880143453543,
                        "count": 0
                      },
                      {
                        "bin_start": 0.07968880143453543,
                        "bin_end": 0.09961100179316928,
                        "count": 0
                      },
                      {
                        "bin_start": 0.09961100179316928,
                        "bin_end": 0.11953320215180313,
                        "count": 0
                      },
                      {
                        "bin_start": 0.11953320215180313,
                        "bin_end": 0.139455402510437,
                        "count": 0
                      },
                      {
                        "bin_start": 0.139455402510437,
                        "bin_end": 0.15937760286907085,
                        "count": 0
                      },
                      {
                        "bin_start": 0.15937760286907085,
                        "bin_end": 0.1792998032277047,
                        "count": 0
                      },
                      {
                        "bin_start": 0.1792998032277047,
                        "bin_end": 0.19922200358633857,
                        "count": 1
                      }
                    ]
                  }
                },
                {
                  "name": "10028",
                  "dtype": "float64",
                  "stats": {
                    "unique_count": 10,
                    "nan_count": 0,
                    "min": "0.0",
                    "max": "0.3425409651013676",
                    "histogram": [
                      {
                        "bin_start": 0,
                        "bin_end": 0.034254096510136764,
                        "count": 4794
                      },
                      {
                        "bin_start": 0.034254096510136764,
                        "bin_end": 0.06850819302027353,
                        "count": 0
                      },
                      {
                        "bin_start": 0.06850819302027353,
                        "bin_end": 0.10276228953041029,
                        "count": 0
                      },
                      {
                        "bin_start": 0.10276228953041029,
                        "bin_end": 0.13701638604054706,
                        "count": 0
                      },
                      {
                        "bin_start": 0.13701638604054706,
                        "bin_end": 0.17127048255068383,
                        "count": 2
                      },
                      {
                        "bin_start": 0.17127048255068383,
                        "bin_end": 0.20552457906082058,
                        "count": 3
                      },
                      {
                        "bin_start": 0.20552457906082058,
                        "bin_end": 0.23977867557095733,
                        "count": 1
                      },
                      {
                        "bin_start": 0.23977867557095733,
                        "bin_end": 0.2740327720810941,
                        "count": 0
                      },
                      {
                        "bin_start": 0.2740327720810941,
                        "bin_end": 0.3082868685912309,
                        "count": 0
                      },
                      {
                        "bin_start": 0.3082868685912309,
                        "bin_end": 0.3425409651013676,
                        "count": 3
                      }
                    ]
                  }
                },
                {
                  "name": "1003",
                  "dtype": "float64",
                  "stats": {
                    "unique_count": 14,
                    "nan_count": 0,
                    "min": "0.0",
                    "max": "0.26440899230148235",
                    "histogram": [
                      {
                        "bin_start": 0,
                        "bin_end": 0.026440899230148234,
                        "count": 4790
                      },
                      {
                        "bin_start": 0.026440899230148234,
                        "bin_end": 0.05288179846029647,
                        "count": 0
                      },
                      {
                        "bin_start": 0.05288179846029647,
                        "bin_end": 0.0793226976904447,
                        "count": 0
                      },
                      {
                        "bin_start": 0.0793226976904447,
                        "bin_end": 0.10576359692059294,
                        "count": 1
                      },
                      {
                        "bin_start": 0.10576359692059294,
                        "bin_end": 0.13220449615074117,
                        "count": 0
                      },
                      {
                        "bin_start": 0.13220449615074117,
                        "bin_end": 0.1586453953808894,
                        "count": 3
                      },
                      {
                        "bin_start": 0.1586453953808894,
                        "bin_end": 0.18508629461103765,
                        "count": 2
                      },
                      {
                        "bin_start": 0.18508629461103765,
                        "bin_end": 0.21152719384118587,
                        "count": 5
                      },
                      {
                        "bin_start": 0.21152719384118587,
                        "bin_end": 0.2379680930713341,
                        "count": 1
                      },
                      {
                        "bin_start": 0.2379680930713341,
                        "bin_end": 0.26440899230148235,
                        "count": 1
                      }
                    ]
                  }
                },
                {
                  "name": "10031",
                  "dtype": "float64",
                  "stats": {
                    "unique_count": 3,
                    "nan_count": 0,
                    "min": "0.0",
                    "max": "0.3217756374338987",
                    "histogram": [
                      {
                        "bin_start": 0,
                        "bin_end": 0.03217756374338987,
                        "count": 4801
                      },
                      {
                        "bin_start": 0.03217756374338987,
                        "bin_end": 0.06435512748677974,
                        "count": 0
                      },
                      {
                        "bin_start": 0.06435512748677974,
                        "bin_end": 0.09653269123016961,
                        "count": 0
                      },
                      {
                        "bin_start": 0.09653269123016961,
                        "bin_end": 0.12871025497355948,
                        "count": 0
                      },
                      {
                        "bin_start": 0.12871025497355948,
                        "bin_end": 0.16088781871694935,
                        "count": 0
                      },
                      {
                        "bin_start": 0.16088781871694935,
                        "bin_end": 0.19306538246033922,
                        "count": 0
                      },
                      {
                        "bin_start": 0.19306538246033922,
                        "bin_end": 0.2252429462037291,
                        "count": 0
                      },
                      {
                        "bin_start": 0.2252429462037291,
                        "bin_end": 0.25742050994711896,
                        "count": 1
                      },
                      {
                        "bin_start": 0.25742050994711896,
                        "bin_end": 0.28959807369050883,
                        "count": 0
                      },
                      {
                        "bin_start": 0.28959807369050883,
                        "bin_end": 0.3217756374338987,
                        "count": 1
                      }
                    ]
                  }
                },
                {
                  "name": "10033",
                  "dtype": "float64",
                  "stats": {
                    "unique_count": 2,
                    "nan_count": 0,
                    "min": "0.0",
                    "max": "0.14041795641373978",
                    "histogram": [
                      {
                        "bin_start": 0,
                        "bin_end": 0.014041795641373978,
                        "count": 4802
                      },
                      {
                        "bin_start": 0.014041795641373978,
                        "bin_end": 0.028083591282747955,
                        "count": 0
                      },
                      {
                        "bin_start": 0.028083591282747955,
                        "bin_end": 0.04212538692412193,
                        "count": 0
                      },
                      {
                        "bin_start": 0.04212538692412193,
                        "bin_end": 0.05616718256549591,
                        "count": 0
                      },
                      {
                        "bin_start": 0.05616718256549591,
                        "bin_end": 0.07020897820686989,
                        "count": 0
                      },
                      {
                        "bin_start": 0.07020897820686989,
                        "bin_end": 0.08425077384824387,
                        "count": 0
                      },
                      {
                        "bin_start": 0.08425077384824387,
                        "bin_end": 0.09829256948961784,
                        "count": 0
                      },
                      {
                        "bin_start": 0.09829256948961784,
                        "bin_end": 0.11233436513099182,
                        "count": 0
                      },
                      {
                        "bin_start": 0.11233436513099182,
                        "bin_end": 0.1263761607723658,
                        "count": 0
                      },
                      {
                        "bin_start": 0.1263761607723658,
                        "bin_end": 0.14041795641373978,
                        "count": 1
                      }
                    ]
                  }
                },
                {
                  "name": "10038",
                  "dtype": "float64",
                  "stats": {
                    "unique_count": 2,
                    "nan_count": 0,
                    "min": "0.0",
                    "max": "0.1850405487116685",
                    "histogram": [
                      {
                        "bin_start": 0,
                        "bin_end": 0.01850405487116685,
                        "count": 4802
                      },
                      {
                        "bin_start": 0.01850405487116685,
                        "bin_end": 0.0370081097423337,
                        "count": 0
                      },
                      {
                        "bin_start": 0.0370081097423337,
                        "bin_end": 0.055512164613500545,
                        "count": 0
                      },
                      {
                        "bin_start": 0.055512164613500545,
                        "bin_end": 0.0740162194846674,
                        "count": 0
                      },
                      {
                        "bin_start": 0.0740162194846674,
                        "bin_end": 0.09252027435583425,
                        "count": 0
                      },
                      {
                        "bin_start": 0.09252027435583425,
                        "bin_end": 0.11102432922700109,
                        "count": 0
                      },
                      {
                        "bin_start": 0.11102432922700109,
                        "bin_end": 0.12952838409816794,
                        "count": 0
                      },
                      {
                        "bin_start": 0.12952838409816794,
                        "bin_end": 0.1480324389693348,
                        "count": 0
                      },
                      {
                        "bin_start": 0.1480324389693348,
                        "bin_end": 0.16653649384050165,
                        "count": 0
                      },
                      {
                        "bin_start": 0.16653649384050165,
                        "bin_end": 0.1850405487116685,
                        "count": 1
                      }
                    ]
                  }
                },
                {
                  "name": "10039",
                  "dtype": "float64",
                  "stats": {
                    "unique_count": 2,
                    "nan_count": 0,
                    "min": "0.0",
                    "max": "0.1620114755156023",
                    "histogram": [
                      {
                        "bin_start": 0,
                        "bin_end": 0.01620114755156023,
                        "count": 4802
                      },
                      {
                        "bin_start": 0.01620114755156023,
                        "bin_end": 0.03240229510312046,
                        "count": 0
                      },
                      {
                        "bin_start": 0.03240229510312046,
                        "bin_end": 0.048603442654680695,
                        "count": 0
                      },
                      {
                        "bin_start": 0.048603442654680695,
                        "bin_end": 0.06480459020624092,
                        "count": 0
                      },
                      {
                        "bin_start": 0.06480459020624092,
                        "bin_end": 0.08100573775780115,
                        "count": 0
                      },
                      {
                        "bin_start": 0.08100573775780115,
                        "bin_end": 0.09720688530936139,
                        "count": 0
                      },
                      {
                        "bin_start": 0.09720688530936139,
                        "bin_end": 0.11340803286092162,
                        "count": 0
                      },
                      {
                        "bin_start": 0.11340803286092162,
                        "bin_end": 0.12960918041248184,
                        "count": 0
                      },
                      {
                        "bin_start": 0.12960918041248184,
                        "bin_end": 0.14581032796404209,
                        "count": 0
                      },
                      {
                        "bin_start": 0.14581032796404209,
                        "bin_end": 0.1620114755156023,
                        "count": 1
                      }
                    ]
                  }
                },
                {
                  "name": "1004",
                  "dtype": "float64",
                  "stats": {
                    "unique_count": 7,
                    "nan_count": 0,
                    "min": "0.0",
                    "max": "0.22478591481324045",
                    "histogram": [
                      {
                        "bin_start": 0,
                        "bin_end": 0.022478591481324046,
                        "count": 4797
                      },
                      {
                        "bin_start": 0.022478591481324046,
                        "bin_end": 0.04495718296264809,
                        "count": 0
                      },
                      {
                        "bin_start": 0.04495718296264809,
                        "bin_end": 0.06743577444397214,
                        "count": 0
                      },
                      {
                        "bin_start": 0.06743577444397214,
                        "bin_end": 0.08991436592529618,
                        "count": 0
                      },
                      {
                        "bin_start": 0.08991436592529618,
                        "bin_end": 0.11239295740662023,
                        "count": 0
                      },
                      {
                        "bin_start": 0.11239295740662023,
                        "bin_end": 0.13487154888794428,
                        "count": 0
                      },
                      {
                        "bin_start": 0.13487154888794428,
                        "bin_end": 0.1573501403692683,
                        "count": 0
                      },
                      {
                        "bin_start": 0.1573501403692683,
                        "bin_end": 0.17982873185059237,
                        "count": 0
                      },
                      {
                        "bin_start": 0.17982873185059237,
                        "bin_end": 0.20230732333191642,
                        "count": 1
                      },
                      {
                        "bin_start": 0.20230732333191642,
                        "bin_end": 0.22478591481324045,
                        "count": 5
                      }
                    ]
                  }
                },
                {
                  "name": "10041",
                  "dtype": "float64"
                },
                {
                  "name": "10043",
                  "dtype": "float64"
                },
                {
                  "name": "10044",
                  "dtype": "float64"
                },
                {
                  "name": "10045",
                  "dtype": "float64"
                },
                {
                  "name": "10048",
                  "dtype": "float64"
                },
                {
                  "name": "10049",
                  "dtype": "float64"
                },
                {
                  "name": "1005",
                  "dtype": "float64"
                },
                {
                  "name": "10050",
                  "dtype": "float64"
                },
                {
                  "name": "10051",
                  "dtype": "float64"
                },
                {
                  "name": "10058",
                  "dtype": "float64"
                },
                {
                  "name": "10059",
                  "dtype": "float64"
                },
                {
                  "name": "10060",
                  "dtype": "float64"
                },
                {
                  "name": "10061",
                  "dtype": "float64"
                },
                {
                  "name": "10062",
                  "dtype": "float64"
                },
                {
                  "name": "10063",
                  "dtype": "float64"
                },
                {
                  "name": "10064",
                  "dtype": "float64"
                },
                {
                  "name": "1007",
                  "dtype": "float64"
                },
                {
                  "name": "10073",
                  "dtype": "float64"
                },
                {
                  "name": "10076",
                  "dtype": "float64"
                },
                {
                  "name": "10079",
                  "dtype": "float64"
                },
                {
                  "name": "1008",
                  "dtype": "float64"
                },
                {
                  "name": "10081",
                  "dtype": "float64"
                },
                {
                  "name": "10084",
                  "dtype": "float64"
                },
                {
                  "name": "10085",
                  "dtype": "float64"
                },
                {
                  "name": "10089",
                  "dtype": "float64"
                },
                {
                  "name": "1009",
                  "dtype": "float64"
                },
                {
                  "name": "10092",
                  "dtype": "float64"
                },
                {
                  "name": "10093",
                  "dtype": "float64"
                },
                {
                  "name": "1010",
                  "dtype": "float64"
                },
                {
                  "name": "10103",
                  "dtype": "float64"
                },
                {
                  "name": "10104",
                  "dtype": "float64"
                },
                {
                  "name": "10106",
                  "dtype": "float64"
                },
                {
                  "name": "10111",
                  "dtype": "float64"
                },
                {
                  "name": "10112",
                  "dtype": "float64"
                },
                {
                  "name": "10114",
                  "dtype": "float64"
                },
                {
                  "name": "10115",
                  "dtype": "float64"
                },
                {
                  "name": "10121",
                  "dtype": "float64"
                },
                {
                  "name": "10123",
                  "dtype": "float64"
                },
                {
                  "name": "10124",
                  "dtype": "float64"
                },
                {
                  "name": "10125",
                  "dtype": "float64"
                },
                {
                  "name": "10128",
                  "dtype": "float64"
                },
                {
                  "name": "1013",
                  "dtype": "float64"
                },
                {
                  "name": "10131",
                  "dtype": "float64"
                },
                {
                  "name": "10132",
                  "dtype": "float64"
                },
                {
                  "name": "10135",
                  "dtype": "float64"
                },
                {
                  "name": "10138",
                  "dtype": "float64"
                },
                {
                  "name": "1014",
                  "dtype": "float64"
                },
                {
                  "name": "10141",
                  "dtype": "float64"
                },
                {
                  "name": "10143",
                  "dtype": "float64"
                },
                {
                  "name": "10144",
                  "dtype": "float64"
                },
                {
                  "name": "10148",
                  "dtype": "float64"
                },
                {
                  "name": "10150",
                  "dtype": "float64"
                },
                {
                  "name": "10154",
                  "dtype": "float64"
                },
                {
                  "name": "10155",
                  "dtype": "float64"
                },
                {
                  "name": "10158",
                  "dtype": "float64"
                },
                {
                  "name": "10159",
                  "dtype": "float64"
                },
                {
                  "name": "1016",
                  "dtype": "float64"
                },
                {
                  "name": "10160",
                  "dtype": "float64"
                },
                {
                  "name": "10163",
                  "dtype": "float64"
                },
                {
                  "name": "10164",
                  "dtype": "float64"
                },
                {
                  "name": "10166",
                  "dtype": "float64"
                },
                {
                  "name": "10168",
                  "dtype": "float64"
                },
                {
                  "name": "10170",
                  "dtype": "float64"
                },
                {
                  "name": "10174",
                  "dtype": "float64"
                },
                {
                  "name": "10175",
                  "dtype": "float64"
                },
                {
                  "name": "10176",
                  "dtype": "float64"
                },
                {
                  "name": "10177",
                  "dtype": "float64"
                },
                {
                  "name": "10180",
                  "dtype": "float64"
                },
                {
                  "name": "10181",
                  "dtype": "float64"
                },
                {
                  "name": "10183",
                  "dtype": "float64"
                },
                {
                  "name": "10185",
                  "dtype": "float64"
                },
                {
                  "name": "10188",
                  "dtype": "float64"
                },
                {
                  "name": "1019",
                  "dtype": "float64"
                },
                {
                  "name": "10198",
                  "dtype": "float64"
                },
                {
                  "name": "10199",
                  "dtype": "float64"
                },
                {
                  "name": "10200",
                  "dtype": "float64"
                },
                {
                  "name": "10201",
                  "dtype": "float64"
                },
                {
                  "name": "10202",
                  "dtype": "float64"
                },
                {
                  "name": "10211",
                  "dtype": "float64"
                },
                {
                  "name": "10216",
                  "dtype": "float64"
                },
                {
                  "name": "10217",
                  "dtype": "float64"
                },
                {
                  "name": "1022",
                  "dtype": "float64"
                },
                {
                  "name": "10221",
                  "dtype": "float64"
                },
                {
                  "name": "10222",
                  "dtype": "float64"
                },
                {
                  "name": "10223",
                  "dtype": "float64"
                },
                {
                  "name": "10224",
                  "dtype": "float64"
                },
                {
                  "name": "10225",
                  "dtype": "float64"
                },
                {
                  "name": "10226",
                  "dtype": "float64"
                },
                {
                  "name": "10228",
                  "dtype": "float64"
                },
                {
                  "name": "10229",
                  "dtype": "float64"
                },
                {
                  "name": "1023",
                  "dtype": "float64"
                },
                {
                  "name": "10230",
                  "dtype": "float64"
                },
                {
                  "name": "10232",
                  "dtype": "float64"
                },
                {
                  "name": "10235",
                  "dtype": "float64"
                },
                {
                  "name": "10237",
                  "dtype": "float64"
                },
                {
                  "name": "10241",
                  "dtype": "float64"
                },
                {
                  "name": "10244",
                  "dtype": "float64"
                },
                {
                  "name": "10249",
                  "dtype": "float64"
                },
                {
                  "name": "1025",
                  "dtype": "float64"
                },
                {
                  "name": "10250",
                  "dtype": "float64"
                },
                {
                  "name": "10254",
                  "dtype": "float64"
                },
                {
                  "name": "10260",
                  "dtype": "float64"
                },
                {
                  "name": "10261",
                  "dtype": "float64"
                },
                {
                  "name": "10266",
                  "dtype": "float64"
                },
                {
                  "name": "10267",
                  "dtype": "float64"
                },
                {
                  "name": "10275",
                  "dtype": "float64"
                },
                {
                  "name": "10278",
                  "dtype": "float64"
                },
                {
                  "name": "10284",
                  "dtype": "float64"
                },
                {
                  "name": "10291",
                  "dtype": "float64"
                },
                {
                  "name": "10292",
                  "dtype": "float64"
                },
                {
                  "name": "10294",
                  "dtype": "float64"
                },
                {
                  "name": "10303",
                  "dtype": "float64"
                },
                {
                  "name": "10308",
                  "dtype": "float64"
                },
                {
                  "name": "10309",
                  "dtype": "float64"
                },
                {
                  "name": "10322",
                  "dtype": "float64"
                },
                {
                  "name": "10323",
                  "dtype": "float64"
                },
                {
                  "name": "10324",
                  "dtype": "float64"
                },
                {
                  "name": "10325",
                  "dtype": "float64"
                },
                {
                  "name": "10326",
                  "dtype": "float64"
                },
                {
                  "name": "10327",
                  "dtype": "float64"
                },
                {
                  "name": "10328",
                  "dtype": "float64"
                },
                {
                  "name": "10329",
                  "dtype": "float64"
                },
                {
                  "name": "10332",
                  "dtype": "float64"
                },
                {
                  "name": "10333",
                  "dtype": "float64"
                },
                {
                  "name": "10336",
                  "dtype": "float64"
                },
                {
                  "name": "10337",
                  "dtype": "float64"
                },
                {
                  "name": "10338",
                  "dtype": "float64"
                },
                {
                  "name": "10345",
                  "dtype": "float64"
                },
                {
                  "name": "10349",
                  "dtype": "float64"
                },
                {
                  "name": "10350",
                  "dtype": "float64"
                },
                {
                  "name": "10352",
                  "dtype": "float64"
                },
                {
                  "name": "10360",
                  "dtype": "float64"
                },
                {
                  "name": "10364",
                  "dtype": "float64"
                },
                {
                  "name": "10371",
                  "dtype": "float64"
                },
                {
                  "name": "10372",
                  "dtype": "float64"
                },
                {
                  "name": "10374",
                  "dtype": "float64"
                },
                {
                  "name": "10375",
                  "dtype": "float64"
                },
                {
                  "name": "10385",
                  "dtype": "float64"
                },
                {
                  "name": "10391",
                  "dtype": "float64"
                },
                {
                  "name": "10397",
                  "dtype": "float64"
                },
                {
                  "name": "10398",
                  "dtype": "float64"
                },
                {
                  "name": "10399",
                  "dtype": "float64"
                },
                {
                  "name": "10400",
                  "dtype": "float64"
                },
                {
                  "name": "10403",
                  "dtype": "float64"
                },
                {
                  "name": "10406",
                  "dtype": "float64"
                },
                {
                  "name": "10410",
                  "dtype": "float64"
                },
                {
                  "name": "10414",
                  "dtype": "float64"
                },
                {
                  "name": "10423",
                  "dtype": "float64"
                },
                {
                  "name": "10424",
                  "dtype": "float64"
                },
                {
                  "name": "10425",
                  "dtype": "float64"
                },
                {
                  "name": "10427",
                  "dtype": "float64"
                },
                {
                  "name": "10428",
                  "dtype": "float64"
                },
                {
                  "name": "10437",
                  "dtype": "float64"
                },
                {
                  "name": "10448",
                  "dtype": "float64"
                },
                {
                  "name": "10449",
                  "dtype": "float64"
                },
                {
                  "name": "10452",
                  "dtype": "float64"
                },
                {
                  "name": "10453",
                  "dtype": "float64"
                },
                {
                  "name": "10456",
                  "dtype": "float64"
                },
                {
                  "name": "10459",
                  "dtype": "float64"
                },
                {
                  "name": "10466",
                  "dtype": "float64"
                },
                {
                  "name": "10468",
                  "dtype": "float64"
                },
                {
                  "name": "10471",
                  "dtype": "float64"
                },
                {
                  "name": "10476",
                  "dtype": "float64"
                },
                {
                  "name": "10478",
                  "dtype": "float64"
                },
                {
                  "name": "10481",
                  "dtype": "float64"
                },
                {
                  "name": "10482",
                  "dtype": "float64"
                },
                {
                  "name": "10483",
                  "dtype": "float64"
                },
                {
                  "name": "10486",
                  "dtype": "float64"
                },
                {
                  "name": "10489",
                  "dtype": "float64"
                },
                {
                  "name": "10491",
                  "dtype": "float64"
                },
                {
                  "name": "10494",
                  "dtype": "float64"
                },
                {
                  "name": "10498",
                  "dtype": "float64"
                },
                {
                  "name": "10499",
                  "dtype": "float64"
                },
                {
                  "name": "10503",
                  "dtype": "float64"
                },
                {
                  "name": "10505",
                  "dtype": "float64"
                },
                {
                  "name": "10506",
                  "dtype": "float64"
                },
                {
                  "name": "10508",
                  "dtype": "float64"
                },
                {
                  "name": "10511",
                  "dtype": "float64"
                },
                {
                  "name": "10514",
                  "dtype": "float64"
                },
                {
                  "name": "10519",
                  "dtype": "float64"
                },
                {
                  "name": "10525",
                  "dtype": "float64"
                },
                {
                  "name": "10527",
                  "dtype": "float64"
                },
                {
                  "name": "10530",
                  "dtype": "float64"
                },
                {
                  "name": "10532",
                  "dtype": "float64"
                },
                {
                  "name": "10535",
                  "dtype": "float64"
                },
                {
                  "name": "10539",
                  "dtype": "float64"
                },
                {
                  "name": "10540",
                  "dtype": "float64"
                },
                {
                  "name": "10541",
                  "dtype": "float64"
                },
                {
                  "name": "10542",
                  "dtype": "float64"
                },
                {
                  "name": "10547",
                  "dtype": "float64"
                },
                {
                  "name": "10551",
                  "dtype": "float64"
                },
                {
                  "name": "10556",
                  "dtype": "float64"
                },
                {
                  "name": "10558",
                  "dtype": "float64"
                },
                {
                  "name": "10561",
                  "dtype": "float64"
                },
                {
                  "name": "10562",
                  "dtype": "float64"
                },
                {
                  "name": "10563",
                  "dtype": "float64"
                },
                {
                  "name": "10568",
                  "dtype": "float64"
                },
                {
                  "name": "10572",
                  "dtype": "float64"
                },
                {
                  "name": "10582",
                  "dtype": "float64"
                },
                {
                  "name": "10586",
                  "dtype": "float64"
                },
                {
                  "name": "10587",
                  "dtype": "float64"
                },
                {
                  "name": "10590",
                  "dtype": "float64"
                },
                {
                  "name": "10591",
                  "dtype": "float64"
                },
                {
                  "name": "10594",
                  "dtype": "float64"
                },
                {
                  "name": "10596",
                  "dtype": "float64"
                },
                {
                  "name": "10597",
                  "dtype": "float64"
                },
                {
                  "name": "10601",
                  "dtype": "float64"
                },
                {
                  "name": "10603",
                  "dtype": "float64"
                },
                {
                  "name": "10604",
                  "dtype": "float64"
                },
                {
                  "name": "10607",
                  "dtype": "float64"
                },
                {
                  "name": "10609",
                  "dtype": "float64"
                },
                {
                  "name": "10614",
                  "dtype": "float64"
                },
                {
                  "name": "10616",
                  "dtype": "float64"
                },
                {
                  "name": "10617",
                  "dtype": "float64"
                },
                {
                  "name": "10623",
                  "dtype": "float64"
                },
                {
                  "name": "10624",
                  "dtype": "float64"
                },
                {
                  "name": "10629",
                  "dtype": "float64"
                },
                {
                  "name": "10631",
                  "dtype": "float64"
                },
                {
                  "name": "10637",
                  "dtype": "float64"
                },
                {
                  "name": "10641",
                  "dtype": "float64"
                },
                {
                  "name": "10644",
                  "dtype": "float64"
                },
                {
                  "name": "10650",
                  "dtype": "float64"
                },
                {
                  "name": "10652",
                  "dtype": "float64"
                },
                {
                  "name": "10655",
                  "dtype": "float64"
                },
                {
                  "name": "10656",
                  "dtype": "float64"
                },
                {
                  "name": "10657",
                  "dtype": "float64"
                },
                {
                  "name": "10663",
                  "dtype": "float64"
                },
                {
                  "name": "10664",
                  "dtype": "float64"
                },
                {
                  "name": "10666",
                  "dtype": "float64"
                },
                {
                  "name": "10668",
                  "dtype": "float64"
                },
                {
                  "name": "10669",
                  "dtype": "float64"
                },
                {
                  "name": "10671",
                  "dtype": "float64"
                },
                {
                  "name": "10683",
                  "dtype": "float64"
                },
                {
                  "name": "10685",
                  "dtype": "float64"
                },
                {
                  "name": "10686",
                  "dtype": "float64"
                },
                {
                  "name": "10688",
                  "dtype": "float64"
                },
                {
                  "name": "10689",
                  "dtype": "float64"
                },
                {
                  "name": "107",
                  "dtype": "float64"
                },
                {
                  "name": "10700",
                  "dtype": "float64"
                },
                {
                  "name": "10703",
                  "dtype": "float64"
                },
                {
                  "name": "10704",
                  "dtype": "float64"
                },
                {
                  "name": "10706",
                  "dtype": "float64"
                },
                {
                  "name": "10707",
                  "dtype": "float64"
                },
                {
                  "name": "10712",
                  "dtype": "float64"
                },
                {
                  "name": "10714",
                  "dtype": "float64"
                },
                {
                  "name": "10715",
                  "dtype": "float64"
                },
                {
                  "name": "10717",
                  "dtype": "float64"
                },
                {
                  "name": "10718",
                  "dtype": "float64"
                },
                {
                  "name": "10721",
                  "dtype": "float64"
                },
                {
                  "name": "10726",
                  "dtype": "float64"
                },
                {
                  "name": "10732",
                  "dtype": "float64"
                },
                {
                  "name": "10733",
                  "dtype": "float64"
                },
                {
                  "name": "10738",
                  "dtype": "float64"
                },
                {
                  "name": "10756",
                  "dtype": "float64"
                },
                {
                  "name": "10761",
                  "dtype": "float64"
                },
                {
                  "name": "10766",
                  "dtype": "float64"
                },
                {
                  "name": "10768",
                  "dtype": "float64"
                },
                {
                  "name": "10770",
                  "dtype": "float64"
                },
                {
                  "name": "10771",
                  "dtype": "float64"
                },
                {
                  "name": "10772",
                  "dtype": "float64"
                },
                {
                  "name": "10776",
                  "dtype": "float64"
                },
                {
                  "name": "10786",
                  "dtype": "float64"
                },
                {
                  "name": "10787",
                  "dtype": "float64"
                },
                {
                  "name": "10789",
                  "dtype": "float64"
                },
                {
                  "name": "10791",
                  "dtype": "float64"
                },
                {
                  "name": "10792",
                  "dtype": "float64"
                },
                {
                  "name": "10793",
                  "dtype": "float64"
                },
                {
                  "name": "10794",
                  "dtype": "float64"
                },
                {
                  "name": "10798",
                  "dtype": "float64"
                },
                {
                  "name": "108",
                  "dtype": "float64"
                },
                {
                  "name": "10807",
                  "dtype": "float64"
                },
                {
                  "name": "10808",
                  "dtype": "float64"
                },
                {
                  "name": "10809",
                  "dtype": "float64"
                },
                {
                  "name": "10812",
                  "dtype": "float64"
                },
                {
                  "name": "10814",
                  "dtype": "float64"
                },
                {
                  "name": "10818",
                  "dtype": "float64"
                },
                {
                  "name": "10821",
                  "dtype": "float64"
                },
                {
                  "name": "10827",
                  "dtype": "float64"
                },
                {
                  "name": "10833",
                  "dtype": "float64"
                },
                {
                  "name": "10834",
                  "dtype": "float64"
                },
                {
                  "name": "10842",
                  "dtype": "float64"
                },
                {
                  "name": "10843",
                  "dtype": "float64"
                },
                {
                  "name": "10847",
                  "dtype": "float64"
                },
                {
                  "name": "10850",
                  "dtype": "float64"
                },
                {
                  "name": "10851",
                  "dtype": "float64"
                },
                {
                  "name": "10854",
                  "dtype": "float64"
                },
                {
                  "name": "10855",
                  "dtype": "float64"
                },
                {
                  "name": "10856",
                  "dtype": "float64"
                },
                {
                  "name": "10859",
                  "dtype": "float64"
                },
                {
                  "name": "10863",
                  "dtype": "float64"
                },
                {
                  "name": "10864",
                  "dtype": "float64"
                },
                {
                  "name": "10867",
                  "dtype": "float64"
                },
                {
                  "name": "10870",
                  "dtype": "float64"
                },
                {
                  "name": "10873",
                  "dtype": "float64"
                },
                {
                  "name": "10875",
                  "dtype": "float64"
                },
                {
                  "name": "10877",
                  "dtype": "float64"
                },
                {
                  "name": "10878",
                  "dtype": "float64"
                },
                {
                  "name": "10882",
                  "dtype": "float64"
                },
                {
                  "name": "10883",
                  "dtype": "float64"
                },
                {
                  "name": "10886",
                  "dtype": "float64"
                },
                {
                  "name": "10887",
                  "dtype": "float64"
                },
                {
                  "name": "10889",
                  "dtype": "float64"
                },
                {
                  "name": "10891",
                  "dtype": "float64"
                },
                {
                  "name": "10893",
                  "dtype": "float64"
                },
                {
                  "name": "10897",
                  "dtype": "float64"
                },
                {
                  "name": "10902",
                  "dtype": "float64"
                },
                {
                  "name": "10904",
                  "dtype": "float64"
                },
                {
                  "name": "10905",
                  "dtype": "float64"
                },
                {
                  "name": "10906",
                  "dtype": "float64"
                },
                {
                  "name": "10907",
                  "dtype": "float64"
                },
                {
                  "name": "10909",
                  "dtype": "float64"
                },
                {
                  "name": "10910",
                  "dtype": "float64"
                },
                {
                  "name": "10911",
                  "dtype": "float64"
                },
                {
                  "name": "10915",
                  "dtype": "float64"
                },
                {
                  "name": "10931",
                  "dtype": "float64"
                },
                {
                  "name": "10937",
                  "dtype": "float64"
                },
                {
                  "name": "10938",
                  "dtype": "float64"
                },
                {
                  "name": "10941",
                  "dtype": "float64"
                },
                {
                  "name": "10945",
                  "dtype": "float64"
                },
                {
                  "name": "10947",
                  "dtype": "float64"
                },
                {
                  "name": "10950",
                  "dtype": "float64"
                },
                {
                  "name": "10954",
                  "dtype": "float64"
                },
                {
                  "name": "10955",
                  "dtype": "float64"
                },
                {
                  "name": "10958",
                  "dtype": "float64"
                },
                {
                  "name": "10965",
                  "dtype": "float64"
                },
                {
                  "name": "10968",
                  "dtype": "float64"
                },
                {
                  "name": "10978",
                  "dtype": "float64"
                },
                {
                  "name": "10982",
                  "dtype": "float64"
                },
                {
                  "name": "10983",
                  "dtype": "float64"
                },
                {
                  "name": "10984",
                  "dtype": "float64"
                },
                {
                  "name": "10985",
                  "dtype": "float64"
                },
                {
                  "name": "10986",
                  "dtype": "float64"
                },
                {
                  "name": "10987",
                  "dtype": "float64"
                },
                {
                  "name": "10988",
                  "dtype": "float64"
                },
                {
                  "name": "10991",
                  "dtype": "float64"
                },
                {
                  "name": "11",
                  "dtype": "float64"
                },
                {
                  "name": "110",
                  "dtype": "float64"
                },
                {
                  "name": "11001",
                  "dtype": "float64"
                },
                {
                  "name": "11004",
                  "dtype": "float64"
                },
                {
                  "name": "11005",
                  "dtype": "float64"
                },
                {
                  "name": "11007",
                  "dtype": "float64"
                },
                {
                  "name": "11011",
                  "dtype": "float64"
                },
                {
                  "name": "11014",
                  "dtype": "float64"
                },
                {
                  "name": "11016",
                  "dtype": "float64"
                },
                {
                  "name": "11017",
                  "dtype": "float64"
                },
                {
                  "name": "11018",
                  "dtype": "float64"
                },
                {
                  "name": "11020",
                  "dtype": "float64"
                },
                {
                  "name": "11031",
                  "dtype": "float64"
                },
                {
                  "name": "11032",
                  "dtype": "float64"
                },
                {
                  "name": "11034",
                  "dtype": "float64"
                },
                {
                  "name": "11038",
                  "dtype": "float64"
                },
                {
                  "name": "11040",
                  "dtype": "float64"
                },
                {
                  "name": "11053",
                  "dtype": "float64"
                },
                {
                  "name": "11058",
                  "dtype": "float64"
                },
                {
                  "name": "11060",
                  "dtype": "float64"
                },
                {
                  "name": "11061",
                  "dtype": "float64"
                },
                {
                  "name": "11064",
                  "dtype": "float64"
                },
                {
                  "name": "11065",
                  "dtype": "float64"
                },
                {
                  "name": "11068",
                  "dtype": "float64"
                },
                {
                  "name": "11071",
                  "dtype": "float64"
                },
                {
                  "name": "11083",
                  "dtype": "float64"
                },
                {
                  "name": "11086",
                  "dtype": "float64"
                },
                {
                  "name": "11087",
                  "dtype": "float64"
                },
                {
                  "name": "11088",
                  "dtype": "float64"
                },
                {
                  "name": "11093",
                  "dtype": "float64"
                },
                {
                  "name": "11095",
                  "dtype": "float64"
                },
                {
                  "name": "11100",
                  "dtype": "float64"
                },
                {
                  "name": "11102",
                  "dtype": "float64"
                },
                {
                  "name": "11105",
                  "dtype": "float64"
                },
                {
                  "name": "11106",
                  "dtype": "float64"
                },
                {
                  "name": "11107",
                  "dtype": "float64"
                },
                {
                  "name": "11108",
                  "dtype": "float64"
                },
                {
                  "name": "11109",
                  "dtype": "float64"
                },
                {
                  "name": "11110",
                  "dtype": "float64"
                },
                {
                  "name": "11111",
                  "dtype": "float64"
                },
                {
                  "name": "11112",
                  "dtype": "float64"
                },
                {
                  "name": "11113",
                  "dtype": "float64"
                },
                {
                  "name": "11115",
                  "dtype": "float64"
                },
                {
                  "name": "11116",
                  "dtype": "float64"
                },
                {
                  "name": "11117",
                  "dtype": "float64"
                },
                {
                  "name": "11121",
                  "dtype": "float64"
                },
                {
                  "name": "11122",
                  "dtype": "float64"
                },
                {
                  "name": "11123",
                  "dtype": "float64"
                },
                {
                  "name": "11124",
                  "dtype": "float64"
                },
                {
                  "name": "11128",
                  "dtype": "float64"
                },
                {
                  "name": "11130",
                  "dtype": "float64"
                },
                {
                  "name": "11131",
                  "dtype": "float64"
                },
                {
                  "name": "11134",
                  "dtype": "float64"
                },
                {
                  "name": "11138",
                  "dtype": "float64"
                },
                {
                  "name": "11139",
                  "dtype": "float64"
                },
                {
                  "name": "11145",
                  "dtype": "float64"
                },
                {
                  "name": "11146",
                  "dtype": "float64"
                },
                {
                  "name": "11148",
                  "dtype": "float64"
                },
                {
                  "name": "11155",
                  "dtype": "float64"
                },
                {
                  "name": "11156",
                  "dtype": "float64"
                },
                {
                  "name": "11157",
                  "dtype": "float64"
                },
                {
                  "name": "11159",
                  "dtype": "float64"
                },
                {
                  "name": "11162",
                  "dtype": "float64"
                },
                {
                  "name": "11168",
                  "dtype": "float64"
                },
                {
                  "name": "11169",
                  "dtype": "float64"
                },
                {
                  "name": "11173",
                  "dtype": "float64"
                },
                {
                  "name": "11181",
                  "dtype": "float64"
                },
                {
                  "name": "11183",
                  "dtype": "float64"
                },
                {
                  "name": "11184",
                  "dtype": "float64"
                },
                {
                  "name": "11187",
                  "dtype": "float64"
                },
                {
                  "name": "11190",
                  "dtype": "float64"
                },
                {
                  "name": "11192",
                  "dtype": "float64"
                },
                {
                  "name": "11195",
                  "dtype": "float64"
                },
                {
                  "name": "11196",
                  "dtype": "float64"
                },
                {
                  "name": "11199",
                  "dtype": "float64"
                },
                {
                  "name": "11200",
                  "dtype": "float64"
                },
                {
                  "name": "11204",
                  "dtype": "float64"
                },
                {
                  "name": "11207",
                  "dtype": "float64"
                },
                {
                  "name": "11208",
                  "dtype": "float64"
                },
                {
                  "name": "11209",
                  "dtype": "float64"
                },
                {
                  "name": "11214",
                  "dtype": "float64"
                },
                {
                  "name": "11217",
                  "dtype": "float64"
                },
                {
                  "name": "11219",
                  "dtype": "float64"
                },
                {
                  "name": "11221",
                  "dtype": "float64"
                },
                {
                  "name": "11222",
                  "dtype": "float64"
                },
                {
                  "name": "11223",
                  "dtype": "float64"
                },
                {
                  "name": "11239",
                  "dtype": "float64"
                },
                {
                  "name": "11240",
                  "dtype": "float64"
                },
                {
                  "name": "11242",
                  "dtype": "float64"
                },
                {
                  "name": "11243",
                  "dtype": "float64"
                },
                {
                  "name": "11246",
                  "dtype": "float64"
                },
                {
                  "name": "11249",
                  "dtype": "float64"
                },
                {
                  "name": "11254",
                  "dtype": "float64"
                },
                {
                  "name": "11258",
                  "dtype": "float64"
                },
                {
                  "name": "11259",
                  "dtype": "float64"
                },
                {
                  "name": "11260",
                  "dtype": "float64"
                },
                {
                  "name": "11263",
                  "dtype": "float64"
                },
                {
                  "name": "11265",
                  "dtype": "float64"
                },
                {
                  "name": "11267",
                  "dtype": "float64"
                },
                {
                  "name": "11268",
                  "dtype": "float64"
                },
                {
                  "name": "11280",
                  "dtype": "float64"
                },
                {
                  "name": "11282",
                  "dtype": "float64"
                },
                {
                  "name": "11289",
                  "dtype": "float64"
                },
                {
                  "name": "11290",
                  "dtype": "float64"
                },
                {
                  "name": "11297",
                  "dtype": "float64"
                },
                {
                  "name": "113",
                  "dtype": "float64"
                },
                {
                  "name": "11313",
                  "dtype": "float64"
                },
                {
                  "name": "11314",
                  "dtype": "float64"
                },
                {
                  "name": "11316",
                  "dtype": "float64"
                },
                {
                  "name": "11317",
                  "dtype": "float64"
                },
                {
                  "name": "11318",
                  "dtype": "float64"
                },
                {
                  "name": "11321",
                  "dtype": "float64"
                },
                {
                  "name": "11322",
                  "dtype": "float64"
                },
                {
                  "name": "11324",
                  "dtype": "float64"
                },
                {
                  "name": "11325",
                  "dtype": "float64"
                },
                {
                  "name": "11326",
                  "dtype": "float64"
                },
                {
                  "name": "11327",
                  "dtype": "float64"
                },
                {
                  "name": "11330",
                  "dtype": "float64"
                },
                {
                  "name": "11331",
                  "dtype": "float64"
                },
                {
                  "name": "11332",
                  "dtype": "float64"
                },
                {
                  "name": "11333",
                  "dtype": "float64"
                },
                {
                  "name": "11335",
                  "dtype": "float64"
                },
                {
                  "name": "11336",
                  "dtype": "float64"
                },
                {
                  "name": "11337",
                  "dtype": "float64"
                },
                {
                  "name": "11338",
                  "dtype": "float64"
                },
                {
                  "name": "11341",
                  "dtype": "float64"
                },
                {
                  "name": "11343",
                  "dtype": "float64"
                },
                {
                  "name": "11362",
                  "dtype": "float64"
                },
                {
                  "name": "11363",
                  "dtype": "float64"
                },
                {
                  "name": "11371",
                  "dtype": "float64"
                },
                {
                  "name": "11372",
                  "dtype": "float64"
                },
                {
                  "name": "11390",
                  "dtype": "float64"
                },
                {
                  "name": "11399",
                  "dtype": "float64"
                },
                {
                  "name": "11400",
                  "dtype": "float64"
                },
                {
                  "name": "11408",
                  "dtype": "float64"
                },
                {
                  "name": "11409",
                  "dtype": "float64"
                },
                {
                  "name": "11411",
                  "dtype": "float64"
                },
                {
                  "name": "11412",
                  "dtype": "float64"
                },
                {
                  "name": "11422",
                  "dtype": "float64"
                },
                {
                  "name": "11423",
                  "dtype": "float64"
                },
                {
                  "name": "11426",
                  "dtype": "float64"
                },
                {
                  "name": "11427",
                  "dtype": "float64"
                },
                {
                  "name": "11428",
                  "dtype": "float64"
                },
                {
                  "name": "11429",
                  "dtype": "float64"
                },
                {
                  "name": "11430",
                  "dtype": "float64"
                },
                {
                  "name": "_deepnote_index_column",
                  "dtype": "int64"
                }
              ],
              "rows": [
                {
                  "11": 0,
                  "100": 0,
                  "107": 0,
                  "108": 0,
                  "110": 0,
                  "113": 0,
                  "1001": 0,
                  "1002": 0,
                  "1003": 0,
                  "1004": 0,
                  "1005": 0,
                  "1007": 0,
                  "1008": 0,
                  "1009": 0,
                  "1010": 0,
                  "1013": 0,
                  "1014": 0,
                  "1016": 0,
                  "1019": 0,
                  "1022": 0,
                  "1023": 0,
                  "1025": 0,
                  "10005": 0,
                  "10006": 0,
                  "10012": 0,
                  "10013": 0,
                  "10014": 0,
                  "10015": 0,
                  "10016": 0,
                  "10022": 0,
                  "10024": 0,
                  "10026": 0,
                  "10028": 0,
                  "10031": 0,
                  "10033": 0,
                  "10038": 0,
                  "10039": 0,
                  "10041": 0,
                  "10043": 0,
                  "10044": 0,
                  "10045": 0,
                  "10048": 0,
                  "10049": 0,
                  "10050": 0,
                  "10051": 0,
                  "10058": 0,
                  "10059": 0,
                  "10060": 0,
                  "10061": 0,
                  "10062": 0,
                  "10063": 0,
                  "10064": 0,
                  "10073": 0,
                  "10076": 0,
                  "10079": 0,
                  "10081": 0,
                  "10084": 0,
                  "10085": 0,
                  "10089": 0,
                  "10092": 0,
                  "10093": 0,
                  "10103": 0,
                  "10104": 0,
                  "10106": 0,
                  "10111": 0,
                  "10112": 0,
                  "10114": 0,
                  "10115": 0,
                  "10121": 0,
                  "10123": 0,
                  "10124": 0,
                  "10125": 0,
                  "10128": 0,
                  "10131": 0,
                  "10132": 0,
                  "10135": 0,
                  "10138": 0,
                  "10141": 0,
                  "10143": 0,
                  "10144": 0,
                  "10148": 0.14489479334625524,
                  "10150": 0,
                  "10154": 0,
                  "10155": 0,
                  "10158": 0.13623908645463167,
                  "10159": 0,
                  "10160": 0,
                  "10163": 0,
                  "10164": 0,
                  "10166": 0,
                  "10168": 0,
                  "10170": 0,
                  "10174": 0,
                  "10175": 0,
                  "10176": 0,
                  "10177": 0,
                  "10180": 0,
                  "10181": 0,
                  "10183": 0,
                  "10185": 0,
                  "10188": 0,
                  "10198": 0,
                  "10199": 0,
                  "10200": 0,
                  "10201": 0,
                  "10202": 0,
                  "10211": 0,
                  "10216": 0,
                  "10217": 0,
                  "10221": 0,
                  "10222": 0,
                  "10223": 0,
                  "10224": 0,
                  "10225": 0,
                  "10226": 0,
                  "10228": 0,
                  "10229": 0,
                  "10230": 0,
                  "10232": 0,
                  "10235": 0,
                  "10237": 0,
                  "10241": 0,
                  "10244": 0,
                  "10249": 0,
                  "10250": 0,
                  "10254": 0,
                  "10260": 0,
                  "10261": 0,
                  "10266": 0,
                  "10267": 0,
                  "10275": 0,
                  "10278": 0,
                  "10284": 0,
                  "10291": 0,
                  "10292": 0,
                  "10294": 0,
                  "10303": 0,
                  "10308": 0,
                  "10309": 0,
                  "10322": 0,
                  "10323": 0,
                  "10324": 0,
                  "10325": 0,
                  "10326": 0,
                  "10327": 0,
                  "10328": 0,
                  "10329": 0,
                  "10332": 0,
                  "10333": 0,
                  "10336": 0,
                  "10337": 0,
                  "10338": 0,
                  "10345": 0,
                  "10349": 0,
                  "10350": 0,
                  "10352": 0,
                  "10360": 0,
                  "10364": 0,
                  "10371": 0,
                  "10372": 0,
                  "10374": 0,
                  "10375": 0,
                  "10385": 0,
                  "10391": 0,
                  "10397": 0,
                  "10398": 0,
                  "10399": 0,
                  "10400": 0,
                  "10403": 0,
                  "10406": 0,
                  "10410": 0,
                  "10414": 0,
                  "10423": 0,
                  "10424": 0,
                  "10425": 0,
                  "10427": 0,
                  "10428": 0,
                  "10437": 0,
                  "10448": 0,
                  "10449": 0,
                  "10452": 0,
                  "10453": 0,
                  "10456": 0,
                  "10459": 0,
                  "10466": 0,
                  "10468": 0,
                  "10471": 0,
                  "10476": 0,
                  "10478": 0,
                  "10481": 0,
                  "10482": 0,
                  "10483": 0,
                  "10486": 0,
                  "10489": 0,
                  "10491": 0,
                  "10494": 0,
                  "10498": 0,
                  "10499": 0,
                  "10503": 0,
                  "10505": 0,
                  "10506": 0,
                  "10508": 0,
                  "10511": 0,
                  "10514": 0,
                  "10519": 0,
                  "10525": 0,
                  "10527": 0,
                  "10530": 0,
                  "10532": 0,
                  "10535": 0,
                  "10539": 0,
                  "10540": 0,
                  "10541": 0,
                  "10542": 0,
                  "10547": 0,
                  "10551": 0,
                  "10556": 0,
                  "10558": 0,
                  "10561": 0,
                  "10562": 0,
                  "10563": 0,
                  "10568": 0,
                  "10572": 0,
                  "10582": 0,
                  "10586": 0,
                  "10587": 0,
                  "10590": 0,
                  "10591": 0,
                  "10594": 0,
                  "10596": 0,
                  "10597": 0,
                  "10601": 0,
                  "10603": 0,
                  "10604": 0,
                  "10607": 0,
                  "10609": 0,
                  "10614": 0,
                  "10616": 0,
                  "10617": 0,
                  "10623": 0,
                  "10624": 0,
                  "10629": 0,
                  "10631": 0,
                  "10637": 0,
                  "10641": 0,
                  "10644": 0,
                  "10650": 0,
                  "10652": 0,
                  "10655": 0,
                  "10656": 0,
                  "10657": 0,
                  "10663": 0,
                  "10664": 0,
                  "10666": 0,
                  "10668": 0,
                  "10669": 0,
                  "10671": 0,
                  "10683": 0,
                  "10685": 0,
                  "10686": 0,
                  "10688": 0,
                  "10689": 0,
                  "10700": 0,
                  "10703": 0,
                  "10704": 0,
                  "10706": 0,
                  "10707": 0,
                  "10712": 0,
                  "10714": 0,
                  "10715": 0,
                  "10717": 0,
                  "10718": 0,
                  "10721": 0,
                  "10726": 0,
                  "10732": 0,
                  "10733": 0,
                  "10738": 0,
                  "10756": 0,
                  "10761": 0,
                  "10766": 0,
                  "10768": 0,
                  "10770": 0,
                  "10771": 0,
                  "10772": 0,
                  "10776": 0,
                  "10786": 0,
                  "10787": 0,
                  "10789": 0,
                  "10791": 0,
                  "10792": 0,
                  "10793": 0,
                  "10794": 0,
                  "10798": 0,
                  "10807": 0,
                  "10808": 0,
                  "10809": 0,
                  "10812": 0,
                  "10814": 0,
                  "10818": 0,
                  "10821": 0,
                  "10827": 0,
                  "10833": 0,
                  "10834": 0,
                  "10842": 0,
                  "10843": 0,
                  "10847": 0,
                  "10850": 0,
                  "10851": 0,
                  "10854": 0,
                  "10855": 0,
                  "10856": 0,
                  "10859": 0,
                  "10863": 0,
                  "10864": 0,
                  "10867": 0,
                  "10870": 0,
                  "10873": 0,
                  "10875": 0,
                  "10877": 0,
                  "10878": 0,
                  "10882": 0,
                  "10883": 0,
                  "10886": 0,
                  "10887": 0,
                  "10889": 0,
                  "10891": 0,
                  "10893": 0,
                  "10897": 0,
                  "10902": 0,
                  "10904": 0,
                  "10905": 0,
                  "10906": 0,
                  "10907": 0,
                  "10909": 0,
                  "10910": 0,
                  "10911": 0,
                  "10915": 0,
                  "10931": 0,
                  "10937": 0,
                  "10938": 0,
                  "10941": 0,
                  "10945": 0,
                  "10947": 0,
                  "10950": 0,
                  "10954": 0,
                  "10955": 0,
                  "10958": 0,
                  "10965": 0,
                  "10968": 0,
                  "10978": 0,
                  "10982": 0,
                  "10983": 0,
                  "10984": 0,
                  "10985": 0,
                  "10986": 0,
                  "10987": 0.1415371129850088,
                  "10988": 0,
                  "10991": 0,
                  "11001": 0,
                  "11004": 0,
                  "11005": 0,
                  "11007": 0,
                  "11011": 0,
                  "11014": 0,
                  "11016": 0,
                  "11017": 0,
                  "11018": 0,
                  "11020": 0,
                  "11031": 0,
                  "11032": 0,
                  "11034": 0,
                  "11038": 0,
                  "11040": 0,
                  "11053": 0,
                  "11058": 0,
                  "11060": 0,
                  "11061": 0,
                  "11064": 0,
                  "11065": 0,
                  "11068": 0,
                  "11071": 0,
                  "11083": 0,
                  "11086": 0,
                  "11087": 0,
                  "11088": 0,
                  "11093": 0,
                  "11095": 0,
                  "11100": 0,
                  "11102": 0,
                  "11105": 0,
                  "11106": 0,
                  "11107": 0,
                  "11108": 0,
                  "11109": 0,
                  "11110": 0,
                  "11111": 0,
                  "11112": 0,
                  "11113": 0,
                  "11115": 0,
                  "11116": 0,
                  "11117": 0,
                  "11121": 0,
                  "11122": 0,
                  "11123": 0,
                  "11124": 0,
                  "11128": 0,
                  "11130": 0,
                  "11131": 0,
                  "11134": 0,
                  "11138": 0,
                  "11139": 0,
                  "11145": 0,
                  "11146": 0,
                  "11148": 0,
                  "11155": 0,
                  "11156": 0,
                  "11157": 0,
                  "11159": 0,
                  "11162": 0,
                  "11168": 0,
                  "11169": 0,
                  "11173": 0,
                  "11181": 0,
                  "11183": 0,
                  "11184": 0,
                  "11187": 0,
                  "11190": 0,
                  "11192": 0,
                  "11195": 0,
                  "11196": 0,
                  "11199": 0,
                  "11200": 0,
                  "11204": 0,
                  "11207": 0,
                  "11208": 0,
                  "11209": 0,
                  "11214": 0,
                  "11217": 0,
                  "11219": 0,
                  "11221": 0,
                  "11222": 0,
                  "11223": 0,
                  "11239": 0,
                  "11240": 0,
                  "11242": 0,
                  "11243": 0,
                  "11246": 0,
                  "11249": 0,
                  "11254": 0,
                  "11258": 0,
                  "11259": 0,
                  "11260": 0,
                  "11263": 0,
                  "11265": 0,
                  "11267": 0,
                  "11268": 0,
                  "11280": 0,
                  "11282": 0,
                  "11289": 0,
                  "11290": 0,
                  "11297": 0,
                  "11313": 0,
                  "11314": 0,
                  "11316": 0,
                  "11317": 0,
                  "11318": 0,
                  "11321": 0,
                  "11322": 0,
                  "11324": 0,
                  "11325": 0,
                  "11326": 0,
                  "11327": 0,
                  "11330": 0,
                  "11331": 0,
                  "11332": 0,
                  "11333": 0,
                  "11335": 0,
                  "11336": 0,
                  "11337": 0,
                  "11338": 0,
                  "11341": 0,
                  "11343": 0,
                  "11362": 0,
                  "11363": 0,
                  "11371": 0,
                  "11372": 0,
                  "11390": 0,
                  "11399": 0.14900426198595784,
                  "11400": 0,
                  "11408": 0,
                  "11409": 0,
                  "11411": 0,
                  "11412": 0,
                  "11422": 0,
                  "11423": 0,
                  "11426": 0,
                  "11427": 0,
                  "11428": 0,
                  "11429": 0,
                  "11430": 0,
                  "_deepnote_index_column": 0
                },
                {
                  "11": 0,
                  "100": 0,
                  "107": 0,
                  "108": 0,
                  "110": 0,
                  "113": 0,
                  "1001": 0,
                  "1002": 0,
                  "1003": 0,
                  "1004": 0,
                  "1005": 0,
                  "1007": 0,
                  "1008": 0,
                  "1009": 0,
                  "1010": 0,
                  "1013": 0,
                  "1014": 0,
                  "1016": 0,
                  "1019": 0,
                  "1022": 0,
                  "1023": 0,
                  "1025": 0,
                  "10005": 0,
                  "10006": 0,
                  "10012": 0,
                  "10013": 0,
                  "10014": 0,
                  "10015": 0,
                  "10016": 0,
                  "10022": 0,
                  "10024": 0,
                  "10026": 0,
                  "10028": 0,
                  "10031": 0,
                  "10033": 0,
                  "10038": 0,
                  "10039": 0,
                  "10041": 0,
                  "10043": 0,
                  "10044": 0,
                  "10045": 0,
                  "10048": 0,
                  "10049": 0,
                  "10050": 0,
                  "10051": 0,
                  "10058": 0,
                  "10059": 0,
                  "10060": 0,
                  "10061": 0,
                  "10062": 0,
                  "10063": 0,
                  "10064": 0,
                  "10073": 0,
                  "10076": 0,
                  "10079": 0,
                  "10081": 0,
                  "10084": 0,
                  "10085": 0,
                  "10089": 0,
                  "10092": 0,
                  "10093": 0,
                  "10103": 0,
                  "10104": 0,
                  "10106": 0,
                  "10111": 0,
                  "10112": 0,
                  "10114": 0,
                  "10115": 0,
                  "10121": 0,
                  "10123": 0,
                  "10124": 0,
                  "10125": 0,
                  "10128": 0,
                  "10131": 0,
                  "10132": 0,
                  "10135": 0,
                  "10138": 0,
                  "10141": 0,
                  "10143": 0,
                  "10144": 0,
                  "10148": 0,
                  "10150": 0,
                  "10154": 0,
                  "10155": 0,
                  "10158": 0,
                  "10159": 0,
                  "10160": 0,
                  "10163": 0,
                  "10164": 0,
                  "10166": 0,
                  "10168": 0,
                  "10170": 0,
                  "10174": 0,
                  "10175": 0,
                  "10176": 0,
                  "10177": 0,
                  "10180": 0,
                  "10181": 0,
                  "10183": 0,
                  "10185": 0,
                  "10188": 0,
                  "10198": 0,
                  "10199": 0,
                  "10200": 0,
                  "10201": 0,
                  "10202": 0,
                  "10211": 0,
                  "10216": 0,
                  "10217": 0,
                  "10221": 0,
                  "10222": 0,
                  "10223": 0,
                  "10224": 0,
                  "10225": 0,
                  "10226": 0,
                  "10228": 0,
                  "10229": 0,
                  "10230": 0,
                  "10232": 0,
                  "10235": 0,
                  "10237": 0,
                  "10241": 0,
                  "10244": 0,
                  "10249": 0,
                  "10250": 0,
                  "10254": 0,
                  "10260": 0,
                  "10261": 0,
                  "10266": 0,
                  "10267": 0,
                  "10275": 0,
                  "10278": 0,
                  "10284": 0,
                  "10291": 0,
                  "10292": 0,
                  "10294": 0,
                  "10303": 0,
                  "10308": 0,
                  "10309": 0,
                  "10322": 0,
                  "10323": 0,
                  "10324": 0,
                  "10325": 0,
                  "10326": 0,
                  "10327": 0,
                  "10328": 0,
                  "10329": 0,
                  "10332": 0,
                  "10333": 0,
                  "10336": 0,
                  "10337": 0,
                  "10338": 0,
                  "10345": 0,
                  "10349": 0,
                  "10350": 0,
                  "10352": 0,
                  "10360": 0,
                  "10364": 0,
                  "10371": 0,
                  "10372": 0,
                  "10374": 0,
                  "10375": 0,
                  "10385": 0,
                  "10391": 0,
                  "10397": 0,
                  "10398": 0,
                  "10399": 0,
                  "10400": 0,
                  "10403": 0,
                  "10406": 0,
                  "10410": 0,
                  "10414": 0,
                  "10423": 0,
                  "10424": 0,
                  "10425": 0,
                  "10427": 0,
                  "10428": 0,
                  "10437": 0,
                  "10448": 0,
                  "10449": 0,
                  "10452": 0,
                  "10453": 0,
                  "10456": 0,
                  "10459": 0,
                  "10466": 0,
                  "10468": 0,
                  "10471": 0,
                  "10476": 0,
                  "10478": 0,
                  "10481": 0,
                  "10482": 0,
                  "10483": 0,
                  "10486": 0,
                  "10489": 0,
                  "10491": 0,
                  "10494": 0,
                  "10498": 0,
                  "10499": 0,
                  "10503": 0,
                  "10505": 0,
                  "10506": 0,
                  "10508": 0,
                  "10511": 0,
                  "10514": 0,
                  "10519": 0,
                  "10525": 0,
                  "10527": 0,
                  "10530": 0,
                  "10532": 0,
                  "10535": 0,
                  "10539": 0,
                  "10540": 0,
                  "10541": 0,
                  "10542": 0,
                  "10547": 0,
                  "10551": 0,
                  "10556": 0,
                  "10558": 0,
                  "10561": 0,
                  "10562": 0,
                  "10563": 0,
                  "10568": 0,
                  "10572": 0,
                  "10582": 0,
                  "10586": 0,
                  "10587": 0,
                  "10590": 0,
                  "10591": 0,
                  "10594": 0,
                  "10596": 0,
                  "10597": 0,
                  "10601": 0,
                  "10603": 0,
                  "10604": 0,
                  "10607": 0,
                  "10609": 0,
                  "10614": 0,
                  "10616": 0,
                  "10617": 0,
                  "10623": 0,
                  "10624": 0,
                  "10629": 0,
                  "10631": 0,
                  "10637": 0,
                  "10641": 0,
                  "10644": 0,
                  "10650": 0,
                  "10652": 0,
                  "10655": 0,
                  "10656": 0,
                  "10657": 0,
                  "10663": 0,
                  "10664": 0,
                  "10666": 0,
                  "10668": 0,
                  "10669": 0,
                  "10671": 0,
                  "10683": 0,
                  "10685": 0,
                  "10686": 0,
                  "10688": 0,
                  "10689": 0,
                  "10700": 0,
                  "10703": 0,
                  "10704": 0,
                  "10706": 0,
                  "10707": 0,
                  "10712": 0,
                  "10714": 0,
                  "10715": 0,
                  "10717": 0,
                  "10718": 0,
                  "10721": 0,
                  "10726": 0,
                  "10732": 0,
                  "10733": 0,
                  "10738": 0,
                  "10756": 0,
                  "10761": 0,
                  "10766": 0,
                  "10768": 0,
                  "10770": 0,
                  "10771": 0,
                  "10772": 0,
                  "10776": 0,
                  "10786": 0,
                  "10787": 0,
                  "10789": 0,
                  "10791": 0,
                  "10792": 0,
                  "10793": 0,
                  "10794": 0,
                  "10798": 0,
                  "10807": 0,
                  "10808": 0,
                  "10809": 0,
                  "10812": 0,
                  "10814": 0,
                  "10818": 0,
                  "10821": 0,
                  "10827": 0,
                  "10833": 0,
                  "10834": 0,
                  "10842": 0,
                  "10843": 0,
                  "10847": 0,
                  "10850": 0,
                  "10851": 0,
                  "10854": 0,
                  "10855": 0,
                  "10856": 0,
                  "10859": 0,
                  "10863": 0,
                  "10864": 0,
                  "10867": 0,
                  "10870": 0,
                  "10873": 0,
                  "10875": 0,
                  "10877": 0,
                  "10878": 0,
                  "10882": 0,
                  "10883": 0,
                  "10886": 0,
                  "10887": 0,
                  "10889": 0,
                  "10891": 0,
                  "10893": 0,
                  "10897": 0,
                  "10902": 0,
                  "10904": 0,
                  "10905": 0,
                  "10906": 0,
                  "10907": 0,
                  "10909": 0,
                  "10910": 0,
                  "10911": 0,
                  "10915": 0,
                  "10931": 0,
                  "10937": 0,
                  "10938": 0,
                  "10941": 0,
                  "10945": 0,
                  "10947": 0,
                  "10950": 0,
                  "10954": 0,
                  "10955": 0,
                  "10958": 0,
                  "10965": 0,
                  "10968": 0,
                  "10978": 0,
                  "10982": 0,
                  "10983": 0,
                  "10984": 0,
                  "10985": 0,
                  "10986": 0,
                  "10987": 0,
                  "10988": 0,
                  "10991": 0,
                  "11001": 0,
                  "11004": 0,
                  "11005": 0,
                  "11007": 0,
                  "11011": 0,
                  "11014": 0,
                  "11016": 0,
                  "11017": 0,
                  "11018": 0,
                  "11020": 0,
                  "11031": 0,
                  "11032": 0,
                  "11034": 0,
                  "11038": 0,
                  "11040": 0,
                  "11053": 0,
                  "11058": 0,
                  "11060": 0,
                  "11061": 0,
                  "11064": 0,
                  "11065": 0,
                  "11068": 0,
                  "11071": 0,
                  "11083": 0,
                  "11086": 0,
                  "11087": 0,
                  "11088": 0,
                  "11093": 0,
                  "11095": 0,
                  "11100": 0,
                  "11102": 0,
                  "11105": 0,
                  "11106": 0,
                  "11107": 0,
                  "11108": 0,
                  "11109": 0,
                  "11110": 0,
                  "11111": 0,
                  "11112": 0,
                  "11113": 0,
                  "11115": 0,
                  "11116": 0,
                  "11117": 0,
                  "11121": 0,
                  "11122": 0,
                  "11123": 0,
                  "11124": 0,
                  "11128": 0,
                  "11130": 0,
                  "11131": 0,
                  "11134": 0,
                  "11138": 0,
                  "11139": 0,
                  "11145": 0,
                  "11146": 0,
                  "11148": 0,
                  "11155": 0,
                  "11156": 0,
                  "11157": 0,
                  "11159": 0,
                  "11162": 0,
                  "11168": 0,
                  "11169": 0,
                  "11173": 0,
                  "11181": 0,
                  "11183": 0,
                  "11184": 0,
                  "11187": 0,
                  "11190": 0,
                  "11192": 0,
                  "11195": 0,
                  "11196": 0,
                  "11199": 0,
                  "11200": 0,
                  "11204": 0,
                  "11207": 0,
                  "11208": 0,
                  "11209": 0,
                  "11214": 0,
                  "11217": 0,
                  "11219": 0,
                  "11221": 0,
                  "11222": 0,
                  "11223": 0,
                  "11239": 0,
                  "11240": 0,
                  "11242": 0,
                  "11243": 0,
                  "11246": 0,
                  "11249": 0,
                  "11254": 0,
                  "11258": 0,
                  "11259": 0,
                  "11260": 0,
                  "11263": 0,
                  "11265": 0,
                  "11267": 0,
                  "11268": 0,
                  "11280": 0,
                  "11282": 0,
                  "11289": 0,
                  "11290": 0,
                  "11297": 0,
                  "11313": 0,
                  "11314": 0,
                  "11316": 0,
                  "11317": 0,
                  "11318": 0,
                  "11321": 0,
                  "11322": 0,
                  "11324": 0,
                  "11325": 0,
                  "11326": 0,
                  "11327": 0,
                  "11330": 0,
                  "11331": 0,
                  "11332": 0,
                  "11333": 0,
                  "11335": 0,
                  "11336": 0,
                  "11337": 0,
                  "11338": 0,
                  "11341": 0,
                  "11343": 0,
                  "11362": 0,
                  "11363": 0,
                  "11371": 0,
                  "11372": 0,
                  "11390": 0,
                  "11399": 0,
                  "11400": 0,
                  "11408": 0,
                  "11409": 0,
                  "11411": 0,
                  "11412": 0,
                  "11422": 0,
                  "11423": 0,
                  "11426": 0,
                  "11427": 0,
                  "11428": 0,
                  "11429": 0,
                  "11430": 0,
                  "_deepnote_index_column": 1
                },
                {
                  "11": 0,
                  "100": 0,
                  "107": 0,
                  "108": 0,
                  "110": 0,
                  "113": 0,
                  "1001": 0,
                  "1002": 0,
                  "1003": 0,
                  "1004": 0,
                  "1005": 0,
                  "1007": 0,
                  "1008": 0,
                  "1009": 0,
                  "1010": 0,
                  "1013": 0,
                  "1014": 0,
                  "1016": 0,
                  "1019": 0,
                  "1022": 0,
                  "1023": 0,
                  "1025": 0,
                  "10005": 0,
                  "10006": 0,
                  "10012": 0,
                  "10013": 0,
                  "10014": 0,
                  "10015": 0,
                  "10016": 0,
                  "10022": 0,
                  "10024": 0,
                  "10026": 0,
                  "10028": 0,
                  "10031": 0,
                  "10033": 0,
                  "10038": 0,
                  "10039": 0,
                  "10041": 0,
                  "10043": 0,
                  "10044": 0,
                  "10045": 0,
                  "10048": 0,
                  "10049": 0,
                  "10050": 0,
                  "10051": 0,
                  "10058": 0,
                  "10059": 0,
                  "10060": 0,
                  "10061": 0,
                  "10062": 0,
                  "10063": 0,
                  "10064": 0,
                  "10073": 0,
                  "10076": 0,
                  "10079": 0,
                  "10081": 0,
                  "10084": 0,
                  "10085": 0,
                  "10089": 0,
                  "10092": 0,
                  "10093": 0,
                  "10103": 0,
                  "10104": 0,
                  "10106": 0,
                  "10111": 0,
                  "10112": 0,
                  "10114": 0,
                  "10115": 0,
                  "10121": 0,
                  "10123": 0,
                  "10124": 0,
                  "10125": 0,
                  "10128": 0,
                  "10131": 0,
                  "10132": 0,
                  "10135": 0,
                  "10138": 0,
                  "10141": 0,
                  "10143": 0,
                  "10144": 0,
                  "10148": 0,
                  "10150": 0,
                  "10154": 0,
                  "10155": 0,
                  "10158": 0,
                  "10159": 0,
                  "10160": 0,
                  "10163": 0,
                  "10164": 0,
                  "10166": 0,
                  "10168": 0,
                  "10170": 0,
                  "10174": 0,
                  "10175": 0,
                  "10176": 0,
                  "10177": 0,
                  "10180": 0,
                  "10181": 0,
                  "10183": 0,
                  "10185": 0,
                  "10188": 0,
                  "10198": 0,
                  "10199": 0,
                  "10200": 0,
                  "10201": 0,
                  "10202": 0,
                  "10211": 0,
                  "10216": 0,
                  "10217": 0,
                  "10221": 0,
                  "10222": 0,
                  "10223": 0,
                  "10224": 0,
                  "10225": 0,
                  "10226": 0,
                  "10228": 0,
                  "10229": 0,
                  "10230": 0,
                  "10232": 0,
                  "10235": 0,
                  "10237": 0,
                  "10241": 0,
                  "10244": 0,
                  "10249": 0,
                  "10250": 0,
                  "10254": 0,
                  "10260": 0,
                  "10261": 0,
                  "10266": 0,
                  "10267": 0,
                  "10275": 0,
                  "10278": 0,
                  "10284": 0,
                  "10291": 0,
                  "10292": 0,
                  "10294": 0,
                  "10303": 0,
                  "10308": 0,
                  "10309": 0,
                  "10322": 0,
                  "10323": 0,
                  "10324": 0,
                  "10325": 0,
                  "10326": 0,
                  "10327": 0,
                  "10328": 0,
                  "10329": 0,
                  "10332": 0,
                  "10333": 0,
                  "10336": 0,
                  "10337": 0,
                  "10338": 0,
                  "10345": 0,
                  "10349": 0,
                  "10350": 0,
                  "10352": 0,
                  "10360": 0,
                  "10364": 0,
                  "10371": 0,
                  "10372": 0,
                  "10374": 0,
                  "10375": 0,
                  "10385": 0,
                  "10391": 0,
                  "10397": 0,
                  "10398": 0,
                  "10399": 0,
                  "10400": 0,
                  "10403": 0,
                  "10406": 0,
                  "10410": 0,
                  "10414": 0,
                  "10423": 0,
                  "10424": 0,
                  "10425": 0,
                  "10427": 0,
                  "10428": 0,
                  "10437": 0,
                  "10448": 0,
                  "10449": 0,
                  "10452": 0,
                  "10453": 0,
                  "10456": 0,
                  "10459": 0,
                  "10466": 0,
                  "10468": 0,
                  "10471": 0,
                  "10476": 0,
                  "10478": 0,
                  "10481": 0,
                  "10482": 0,
                  "10483": 0,
                  "10486": 0,
                  "10489": 0,
                  "10491": 0,
                  "10494": 0,
                  "10498": 0,
                  "10499": 0,
                  "10503": 0,
                  "10505": 0,
                  "10506": 0,
                  "10508": 0,
                  "10511": 0,
                  "10514": 0,
                  "10519": 0,
                  "10525": 0,
                  "10527": 0,
                  "10530": 0,
                  "10532": 0,
                  "10535": 0,
                  "10539": 0,
                  "10540": 0,
                  "10541": 0,
                  "10542": 0,
                  "10547": 0,
                  "10551": 0,
                  "10556": 0,
                  "10558": 0,
                  "10561": 0,
                  "10562": 0,
                  "10563": 0,
                  "10568": 0,
                  "10572": 0,
                  "10582": 0,
                  "10586": 0,
                  "10587": 0,
                  "10590": 0,
                  "10591": 0,
                  "10594": 0,
                  "10596": 0,
                  "10597": 0,
                  "10601": 0,
                  "10603": 0,
                  "10604": 0,
                  "10607": 0,
                  "10609": 0,
                  "10614": 0,
                  "10616": 0,
                  "10617": 0,
                  "10623": 0,
                  "10624": 0,
                  "10629": 0,
                  "10631": 0,
                  "10637": 0,
                  "10641": 0,
                  "10644": 0,
                  "10650": 0,
                  "10652": 0,
                  "10655": 0,
                  "10656": 0,
                  "10657": 0,
                  "10663": 0,
                  "10664": 0,
                  "10666": 0,
                  "10668": 0,
                  "10669": 0,
                  "10671": 0,
                  "10683": 0,
                  "10685": 0,
                  "10686": 0,
                  "10688": 0,
                  "10689": 0,
                  "10700": 0,
                  "10703": 0,
                  "10704": 0,
                  "10706": 0,
                  "10707": 0,
                  "10712": 0,
                  "10714": 0,
                  "10715": 0,
                  "10717": 0,
                  "10718": 0,
                  "10721": 0,
                  "10726": 0,
                  "10732": 0,
                  "10733": 0,
                  "10738": 0,
                  "10756": 0,
                  "10761": 0,
                  "10766": 0,
                  "10768": 0,
                  "10770": 0,
                  "10771": 0,
                  "10772": 0,
                  "10776": 0,
                  "10786": 0,
                  "10787": 0,
                  "10789": 0,
                  "10791": 0,
                  "10792": 0,
                  "10793": 0,
                  "10794": 0,
                  "10798": 0,
                  "10807": 0,
                  "10808": 0,
                  "10809": 0,
                  "10812": 0,
                  "10814": 0,
                  "10818": 0,
                  "10821": 0,
                  "10827": 0,
                  "10833": 0,
                  "10834": 0,
                  "10842": 0,
                  "10843": 0,
                  "10847": 0,
                  "10850": 0,
                  "10851": 0,
                  "10854": 0,
                  "10855": 0,
                  "10856": 0,
                  "10859": 0,
                  "10863": 0,
                  "10864": 0,
                  "10867": 0,
                  "10870": 0,
                  "10873": 0,
                  "10875": 0,
                  "10877": 0,
                  "10878": 0,
                  "10882": 0,
                  "10883": 0,
                  "10886": 0,
                  "10887": 0,
                  "10889": 0,
                  "10891": 0,
                  "10893": 0,
                  "10897": 0,
                  "10902": 0,
                  "10904": 0,
                  "10905": 0,
                  "10906": 0,
                  "10907": 0,
                  "10909": 0,
                  "10910": 0,
                  "10911": 0,
                  "10915": 0,
                  "10931": 0,
                  "10937": 0,
                  "10938": 0,
                  "10941": 0,
                  "10945": 0,
                  "10947": 0,
                  "10950": 0,
                  "10954": 0,
                  "10955": 0,
                  "10958": 0,
                  "10965": 0,
                  "10968": 0,
                  "10978": 0,
                  "10982": 0,
                  "10983": 0,
                  "10984": 0,
                  "10985": 0,
                  "10986": 0,
                  "10987": 0,
                  "10988": 0,
                  "10991": 0,
                  "11001": 0,
                  "11004": 0,
                  "11005": 0,
                  "11007": 0,
                  "11011": 0,
                  "11014": 0,
                  "11016": 0,
                  "11017": 0,
                  "11018": 0,
                  "11020": 0,
                  "11031": 0,
                  "11032": 0,
                  "11034": 0,
                  "11038": 0,
                  "11040": 0,
                  "11053": 0,
                  "11058": 0,
                  "11060": 0,
                  "11061": 0,
                  "11064": 0,
                  "11065": 0,
                  "11068": 0,
                  "11071": 0,
                  "11083": 0,
                  "11086": 0,
                  "11087": 0,
                  "11088": 0,
                  "11093": 0,
                  "11095": 0,
                  "11100": 0,
                  "11102": 0,
                  "11105": 0,
                  "11106": 0,
                  "11107": 0,
                  "11108": 0,
                  "11109": 0,
                  "11110": 0,
                  "11111": 0,
                  "11112": 0,
                  "11113": 0,
                  "11115": 0,
                  "11116": 0,
                  "11117": 0,
                  "11121": 0,
                  "11122": 0,
                  "11123": 0,
                  "11124": 0,
                  "11128": 0,
                  "11130": 0,
                  "11131": 0,
                  "11134": 0,
                  "11138": 0,
                  "11139": 0,
                  "11145": 0,
                  "11146": 0,
                  "11148": 0,
                  "11155": 0,
                  "11156": 0,
                  "11157": 0,
                  "11159": 0,
                  "11162": 0,
                  "11168": 0,
                  "11169": 0,
                  "11173": 0,
                  "11181": 0,
                  "11183": 0,
                  "11184": 0,
                  "11187": 0,
                  "11190": 0,
                  "11192": 0,
                  "11195": 0,
                  "11196": 0,
                  "11199": 0,
                  "11200": 0,
                  "11204": 0,
                  "11207": 0,
                  "11208": 0,
                  "11209": 0,
                  "11214": 0,
                  "11217": 0,
                  "11219": 0,
                  "11221": 0,
                  "11222": 0,
                  "11223": 0,
                  "11239": 0,
                  "11240": 0,
                  "11242": 0,
                  "11243": 0,
                  "11246": 0,
                  "11249": 0,
                  "11254": 0,
                  "11258": 0,
                  "11259": 0,
                  "11260": 0,
                  "11263": 0,
                  "11265": 0,
                  "11267": 0,
                  "11268": 0,
                  "11280": 0,
                  "11282": 0,
                  "11289": 0,
                  "11290": 0,
                  "11297": 0,
                  "11313": 0,
                  "11314": 0,
                  "11316": 0,
                  "11317": 0,
                  "11318": 0,
                  "11321": 0,
                  "11322": 0,
                  "11324": 0,
                  "11325": 0,
                  "11326": 0,
                  "11327": 0,
                  "11330": 0,
                  "11331": 0,
                  "11332": 0,
                  "11333": 0,
                  "11335": 0,
                  "11336": 0,
                  "11337": 0,
                  "11338": 0,
                  "11341": 0,
                  "11343": 0,
                  "11362": 0,
                  "11363": 0,
                  "11371": 0,
                  "11372": 0,
                  "11390": 0,
                  "11399": 0,
                  "11400": 0,
                  "11408": 0,
                  "11409": 0,
                  "11411": 0,
                  "11412": 0,
                  "11422": 0,
                  "11423": 0,
                  "11426": 0,
                  "11427": 0,
                  "11428": 0,
                  "11429": 0,
                  "11430": 0,
                  "_deepnote_index_column": 2
                },
                {
                  "11": 0,
                  "100": 0,
                  "107": 0,
                  "108": 0,
                  "110": 0,
                  "113": 0,
                  "1001": 0,
                  "1002": 0,
                  "1003": 0,
                  "1004": 0,
                  "1005": 0,
                  "1007": 0,
                  "1008": 0,
                  "1009": 0,
                  "1010": 0,
                  "1013": 0,
                  "1014": 0,
                  "1016": 0,
                  "1019": 0,
                  "1022": 0,
                  "1023": 0,
                  "1025": 0,
                  "10005": 0,
                  "10006": 0,
                  "10012": 0,
                  "10013": 0,
                  "10014": 0,
                  "10015": 0,
                  "10016": 0,
                  "10022": 0,
                  "10024": 0,
                  "10026": 0,
                  "10028": 0,
                  "10031": 0,
                  "10033": 0,
                  "10038": 0,
                  "10039": 0,
                  "10041": 0,
                  "10043": 0,
                  "10044": 0.14085723843587752,
                  "10045": 0,
                  "10048": 0,
                  "10049": 0,
                  "10050": 0,
                  "10051": 0,
                  "10058": 0,
                  "10059": 0,
                  "10060": 0,
                  "10061": 0,
                  "10062": 0,
                  "10063": 0,
                  "10064": 0,
                  "10073": 0,
                  "10076": 0,
                  "10079": 0,
                  "10081": 0,
                  "10084": 0,
                  "10085": 0,
                  "10089": 0,
                  "10092": 0,
                  "10093": 0,
                  "10103": 0,
                  "10104": 0,
                  "10106": 0,
                  "10111": 0,
                  "10112": 0,
                  "10114": 0,
                  "10115": 0,
                  "10121": 0,
                  "10123": 0,
                  "10124": 0,
                  "10125": 0,
                  "10128": 0,
                  "10131": 0,
                  "10132": 0,
                  "10135": 0,
                  "10138": 0,
                  "10141": 0,
                  "10143": 0,
                  "10144": 0,
                  "10148": 0,
                  "10150": 0,
                  "10154": 0,
                  "10155": 0,
                  "10158": 0,
                  "10159": 0,
                  "10160": 0,
                  "10163": 0,
                  "10164": 0,
                  "10166": 0,
                  "10168": 0,
                  "10170": 0,
                  "10174": 0,
                  "10175": 0,
                  "10176": 0,
                  "10177": 0,
                  "10180": 0,
                  "10181": 0,
                  "10183": 0,
                  "10185": 0,
                  "10188": 0,
                  "10198": 0,
                  "10199": 0,
                  "10200": 0,
                  "10201": 0,
                  "10202": 0,
                  "10211": 0,
                  "10216": 0,
                  "10217": 0,
                  "10221": 0,
                  "10222": 0,
                  "10223": 0,
                  "10224": 0,
                  "10225": 0,
                  "10226": 0,
                  "10228": 0,
                  "10229": 0,
                  "10230": 0,
                  "10232": 0,
                  "10235": 0,
                  "10237": 0,
                  "10241": 0,
                  "10244": 0,
                  "10249": 0,
                  "10250": 0,
                  "10254": 0,
                  "10260": 0,
                  "10261": 0,
                  "10266": 0,
                  "10267": 0,
                  "10275": 0,
                  "10278": 0,
                  "10284": 0,
                  "10291": 0,
                  "10292": 0,
                  "10294": 0,
                  "10303": 0,
                  "10308": 0,
                  "10309": 0,
                  "10322": 0,
                  "10323": 0,
                  "10324": 0,
                  "10325": 0,
                  "10326": 0,
                  "10327": 0,
                  "10328": 0,
                  "10329": 0,
                  "10332": 0,
                  "10333": 0,
                  "10336": 0,
                  "10337": 0,
                  "10338": 0,
                  "10345": 0,
                  "10349": 0,
                  "10350": 0,
                  "10352": 0,
                  "10360": 0,
                  "10364": 0,
                  "10371": 0,
                  "10372": 0,
                  "10374": 0,
                  "10375": 0,
                  "10385": 0,
                  "10391": 0,
                  "10397": 0,
                  "10398": 0,
                  "10399": 0,
                  "10400": 0,
                  "10403": 0,
                  "10406": 0,
                  "10410": 0,
                  "10414": 0,
                  "10423": 0,
                  "10424": 0,
                  "10425": 0,
                  "10427": 0,
                  "10428": 0,
                  "10437": 0,
                  "10448": 0,
                  "10449": 0,
                  "10452": 0,
                  "10453": 0,
                  "10456": 0,
                  "10459": 0,
                  "10466": 0,
                  "10468": 0,
                  "10471": 0,
                  "10476": 0,
                  "10478": 0,
                  "10481": 0,
                  "10482": 0,
                  "10483": 0,
                  "10486": 0,
                  "10489": 0,
                  "10491": 0,
                  "10494": 0,
                  "10498": 0,
                  "10499": 0,
                  "10503": 0,
                  "10505": 0,
                  "10506": 0,
                  "10508": 0,
                  "10511": 0,
                  "10514": 0,
                  "10519": 0,
                  "10525": 0,
                  "10527": 0,
                  "10530": 0,
                  "10532": 0,
                  "10535": 0,
                  "10539": 0,
                  "10540": 0,
                  "10541": 0,
                  "10542": 0,
                  "10547": 0,
                  "10551": 0,
                  "10556": 0,
                  "10558": 0,
                  "10561": 0,
                  "10562": 0,
                  "10563": 0,
                  "10568": 0,
                  "10572": 0,
                  "10582": 0,
                  "10586": 0,
                  "10587": 0,
                  "10590": 0,
                  "10591": 0,
                  "10594": 0,
                  "10596": 0,
                  "10597": 0,
                  "10601": 0,
                  "10603": 0,
                  "10604": 0,
                  "10607": 0,
                  "10609": 0,
                  "10614": 0,
                  "10616": 0,
                  "10617": 0,
                  "10623": 0,
                  "10624": 0,
                  "10629": 0,
                  "10631": 0,
                  "10637": 0,
                  "10641": 0,
                  "10644": 0,
                  "10650": 0,
                  "10652": 0,
                  "10655": 0,
                  "10656": 0,
                  "10657": 0,
                  "10663": 0,
                  "10664": 0,
                  "10666": 0,
                  "10668": 0,
                  "10669": 0,
                  "10671": 0,
                  "10683": 0,
                  "10685": 0,
                  "10686": 0,
                  "10688": 0,
                  "10689": 0,
                  "10700": 0,
                  "10703": 0,
                  "10704": 0,
                  "10706": 0,
                  "10707": 0,
                  "10712": 0,
                  "10714": 0,
                  "10715": 0,
                  "10717": 0,
                  "10718": 0,
                  "10721": 0,
                  "10726": 0,
                  "10732": 0,
                  "10733": 0,
                  "10738": 0,
                  "10756": 0,
                  "10761": 0,
                  "10766": 0,
                  "10768": 0,
                  "10770": 0,
                  "10771": 0,
                  "10772": 0,
                  "10776": 0,
                  "10786": 0,
                  "10787": 0,
                  "10789": 0,
                  "10791": 0,
                  "10792": 0,
                  "10793": 0,
                  "10794": 0,
                  "10798": 0,
                  "10807": 0,
                  "10808": 0,
                  "10809": 0,
                  "10812": 0,
                  "10814": 0,
                  "10818": 0,
                  "10821": 0,
                  "10827": 0,
                  "10833": 0,
                  "10834": 0,
                  "10842": 0,
                  "10843": 0,
                  "10847": 0,
                  "10850": 0,
                  "10851": 0,
                  "10854": 0,
                  "10855": 0,
                  "10856": 0,
                  "10859": 0,
                  "10863": 0,
                  "10864": 0,
                  "10867": 0,
                  "10870": 0,
                  "10873": 0,
                  "10875": 0,
                  "10877": 0,
                  "10878": 0,
                  "10882": 0,
                  "10883": 0,
                  "10886": 0,
                  "10887": 0,
                  "10889": 0,
                  "10891": 0,
                  "10893": 0,
                  "10897": 0,
                  "10902": 0,
                  "10904": 0,
                  "10905": 0,
                  "10906": 0,
                  "10907": 0,
                  "10909": 0,
                  "10910": 0,
                  "10911": 0,
                  "10915": 0,
                  "10931": 0,
                  "10937": 0,
                  "10938": 0,
                  "10941": 0,
                  "10945": 0,
                  "10947": 0,
                  "10950": 0,
                  "10954": 0,
                  "10955": 0,
                  "10958": 0,
                  "10965": 0,
                  "10968": 0,
                  "10978": 0,
                  "10982": 0,
                  "10983": 0,
                  "10984": 0,
                  "10985": 0,
                  "10986": 0,
                  "10987": 0,
                  "10988": 0,
                  "10991": 0,
                  "11001": 0,
                  "11004": 0,
                  "11005": 0,
                  "11007": 0,
                  "11011": 0,
                  "11014": 0,
                  "11016": 0,
                  "11017": 0,
                  "11018": 0,
                  "11020": 0,
                  "11031": 0,
                  "11032": 0,
                  "11034": 0,
                  "11038": 0,
                  "11040": 0,
                  "11053": 0,
                  "11058": 0,
                  "11060": 0,
                  "11061": 0,
                  "11064": 0,
                  "11065": 0,
                  "11068": 0,
                  "11071": 0,
                  "11083": 0,
                  "11086": 0,
                  "11087": 0,
                  "11088": 0,
                  "11093": 0,
                  "11095": 0,
                  "11100": 0,
                  "11102": 0,
                  "11105": 0,
                  "11106": 0,
                  "11107": 0,
                  "11108": 0,
                  "11109": 0,
                  "11110": 0,
                  "11111": 0,
                  "11112": 0,
                  "11113": 0,
                  "11115": 0,
                  "11116": 0,
                  "11117": 0,
                  "11121": 0,
                  "11122": 0,
                  "11123": 0,
                  "11124": 0,
                  "11128": 0,
                  "11130": 0,
                  "11131": 0,
                  "11134": 0,
                  "11138": 0,
                  "11139": 0,
                  "11145": 0,
                  "11146": 0,
                  "11148": 0,
                  "11155": 0,
                  "11156": 0,
                  "11157": 0,
                  "11159": 0,
                  "11162": 0,
                  "11168": 0,
                  "11169": 0,
                  "11173": 0,
                  "11181": 0,
                  "11183": 0,
                  "11184": 0,
                  "11187": 0,
                  "11190": 0,
                  "11192": 0,
                  "11195": 0,
                  "11196": 0,
                  "11199": 0,
                  "11200": 0,
                  "11204": 0,
                  "11207": 0,
                  "11208": 0,
                  "11209": 0,
                  "11214": 0,
                  "11217": 0,
                  "11219": 0,
                  "11221": 0,
                  "11222": 0,
                  "11223": 0,
                  "11239": 0,
                  "11240": 0,
                  "11242": 0,
                  "11243": 0,
                  "11246": 0,
                  "11249": 0,
                  "11254": 0,
                  "11258": 0,
                  "11259": 0,
                  "11260": 0,
                  "11263": 0,
                  "11265": 0,
                  "11267": 0,
                  "11268": 0,
                  "11280": 0,
                  "11282": 0,
                  "11289": 0,
                  "11290": 0,
                  "11297": 0,
                  "11313": 0,
                  "11314": 0,
                  "11316": 0,
                  "11317": 0,
                  "11318": 0,
                  "11321": 0,
                  "11322": 0,
                  "11324": 0,
                  "11325": 0,
                  "11326": 0,
                  "11327": 0,
                  "11330": 0,
                  "11331": 0,
                  "11332": 0,
                  "11333": 0,
                  "11335": 0,
                  "11336": 0,
                  "11337": 0,
                  "11338": 0,
                  "11341": 0,
                  "11343": 0,
                  "11362": 0,
                  "11363": 0,
                  "11371": 0,
                  "11372": 0,
                  "11390": 0,
                  "11399": 0,
                  "11400": 0,
                  "11408": 0,
                  "11409": 0,
                  "11411": 0,
                  "11412": 0,
                  "11422": 0,
                  "11423": 0,
                  "11426": 0,
                  "11427": 0,
                  "11428": 0,
                  "11429": 0,
                  "11430": 0,
                  "_deepnote_index_column": 3
                },
                {
                  "11": 0,
                  "100": 0,
                  "107": 0,
                  "108": 0,
                  "110": 0,
                  "113": 0,
                  "1001": 0,
                  "1002": 0,
                  "1003": 0,
                  "1004": 0,
                  "1005": 0,
                  "1007": 0,
                  "1008": 0,
                  "1009": 0,
                  "1010": 0,
                  "1013": 0,
                  "1014": 0,
                  "1016": 0,
                  "1019": 0,
                  "1022": 0,
                  "1023": 0,
                  "1025": 0,
                  "10005": 0,
                  "10006": 0,
                  "10012": 0,
                  "10013": 0,
                  "10014": 0,
                  "10015": 0,
                  "10016": 0,
                  "10022": 0,
                  "10024": 0,
                  "10026": 0,
                  "10028": 0.1506219849488445,
                  "10031": 0,
                  "10033": 0,
                  "10038": 0,
                  "10039": 0,
                  "10041": 0,
                  "10043": 0,
                  "10044": 0,
                  "10045": 0,
                  "10048": 0,
                  "10049": 0,
                  "10050": 0,
                  "10051": 0,
                  "10058": 0,
                  "10059": 0,
                  "10060": 0,
                  "10061": 0,
                  "10062": 0,
                  "10063": 0,
                  "10064": 0,
                  "10073": 0,
                  "10076": 0,
                  "10079": 0,
                  "10081": 0,
                  "10084": 0,
                  "10085": 0,
                  "10089": 0,
                  "10092": 0,
                  "10093": 0,
                  "10103": 0,
                  "10104": 0,
                  "10106": 0,
                  "10111": 0,
                  "10112": 0,
                  "10114": 0,
                  "10115": 0,
                  "10121": 0,
                  "10123": 0,
                  "10124": 0,
                  "10125": 0,
                  "10128": 0,
                  "10131": 0,
                  "10132": 0,
                  "10135": 0,
                  "10138": 0,
                  "10141": 0,
                  "10143": 0,
                  "10144": 0,
                  "10148": 0,
                  "10150": 0,
                  "10154": 0,
                  "10155": 0,
                  "10158": 0,
                  "10159": 0,
                  "10160": 0,
                  "10163": 0,
                  "10164": 0,
                  "10166": 0,
                  "10168": 0,
                  "10170": 0,
                  "10174": 0,
                  "10175": 0,
                  "10176": 0,
                  "10177": 0,
                  "10180": 0,
                  "10181": 0,
                  "10183": 0,
                  "10185": 0,
                  "10188": 0,
                  "10198": 0,
                  "10199": 0,
                  "10200": 0,
                  "10201": 0,
                  "10202": 0,
                  "10211": 0,
                  "10216": 0,
                  "10217": 0,
                  "10221": 0,
                  "10222": 0,
                  "10223": 0,
                  "10224": 0,
                  "10225": 0,
                  "10226": 0,
                  "10228": 0,
                  "10229": 0,
                  "10230": 0,
                  "10232": 0,
                  "10235": 0,
                  "10237": 0,
                  "10241": 0,
                  "10244": 0,
                  "10249": 0,
                  "10250": 0,
                  "10254": 0,
                  "10260": 0,
                  "10261": 0,
                  "10266": 0,
                  "10267": 0,
                  "10275": 0,
                  "10278": 0,
                  "10284": 0,
                  "10291": 0,
                  "10292": 0,
                  "10294": 0,
                  "10303": 0,
                  "10308": 0,
                  "10309": 0,
                  "10322": 0,
                  "10323": 0,
                  "10324": 0,
                  "10325": 0,
                  "10326": 0,
                  "10327": 0,
                  "10328": 0,
                  "10329": 0,
                  "10332": 0,
                  "10333": 0,
                  "10336": 0,
                  "10337": 0,
                  "10338": 0,
                  "10345": 0,
                  "10349": 0,
                  "10350": 0,
                  "10352": 0,
                  "10360": 0,
                  "10364": 0,
                  "10371": 0,
                  "10372": 0,
                  "10374": 0,
                  "10375": 0,
                  "10385": 0,
                  "10391": 0,
                  "10397": 0,
                  "10398": 0,
                  "10399": 0,
                  "10400": 0,
                  "10403": 0,
                  "10406": 0,
                  "10410": 0,
                  "10414": 0,
                  "10423": 0,
                  "10424": 0,
                  "10425": 0,
                  "10427": 0,
                  "10428": 0,
                  "10437": 0,
                  "10448": 0,
                  "10449": 0,
                  "10452": 0,
                  "10453": 0,
                  "10456": 0,
                  "10459": 0,
                  "10466": 0,
                  "10468": 0,
                  "10471": 0,
                  "10476": 0,
                  "10478": 0,
                  "10481": 0,
                  "10482": 0,
                  "10483": 0,
                  "10486": 0,
                  "10489": 0,
                  "10491": 0,
                  "10494": 0,
                  "10498": 0,
                  "10499": 0,
                  "10503": 0,
                  "10505": 0,
                  "10506": 0,
                  "10508": 0,
                  "10511": 0,
                  "10514": 0,
                  "10519": 0,
                  "10525": 0,
                  "10527": 0,
                  "10530": 0,
                  "10532": 0,
                  "10535": 0,
                  "10539": 0.1651737267047457,
                  "10540": 0,
                  "10541": 0,
                  "10542": 0,
                  "10547": 0,
                  "10551": 0,
                  "10556": 0,
                  "10558": 0,
                  "10561": 0,
                  "10562": 0,
                  "10563": 0,
                  "10568": 0,
                  "10572": 0,
                  "10582": 0,
                  "10586": 0,
                  "10587": 0,
                  "10590": 0,
                  "10591": 0,
                  "10594": 0,
                  "10596": 0,
                  "10597": 0,
                  "10601": 0,
                  "10603": 0,
                  "10604": 0,
                  "10607": 0,
                  "10609": 0,
                  "10614": 0,
                  "10616": 0,
                  "10617": 0,
                  "10623": 0,
                  "10624": 0,
                  "10629": 0,
                  "10631": 0,
                  "10637": 0,
                  "10641": 0,
                  "10644": 0,
                  "10650": 0,
                  "10652": 0,
                  "10655": 0,
                  "10656": 0,
                  "10657": 0,
                  "10663": 0,
                  "10664": 0,
                  "10666": 0,
                  "10668": 0,
                  "10669": 0,
                  "10671": 0,
                  "10683": 0,
                  "10685": 0.11561060546417033,
                  "10686": 0,
                  "10688": 0,
                  "10689": 0,
                  "10700": 0,
                  "10703": 0,
                  "10704": 0,
                  "10706": 0,
                  "10707": 0,
                  "10712": 0,
                  "10714": 0,
                  "10715": 0,
                  "10717": 0,
                  "10718": 0,
                  "10721": 0,
                  "10726": 0,
                  "10732": 0,
                  "10733": 0,
                  "10738": 0,
                  "10756": 0,
                  "10761": 0,
                  "10766": 0,
                  "10768": 0,
                  "10770": 0,
                  "10771": 0,
                  "10772": 0,
                  "10776": 0,
                  "10786": 0,
                  "10787": 0,
                  "10789": 0,
                  "10791": 0,
                  "10792": 0,
                  "10793": 0,
                  "10794": 0,
                  "10798": 0,
                  "10807": 0,
                  "10808": 0,
                  "10809": 0,
                  "10812": 0,
                  "10814": 0,
                  "10818": 0,
                  "10821": 0,
                  "10827": 0,
                  "10833": 0,
                  "10834": 0,
                  "10842": 0,
                  "10843": 0,
                  "10847": 0,
                  "10850": 0,
                  "10851": 0,
                  "10854": 0,
                  "10855": 0,
                  "10856": 0,
                  "10859": 0,
                  "10863": 0,
                  "10864": 0,
                  "10867": 0,
                  "10870": 0,
                  "10873": 0,
                  "10875": 0,
                  "10877": 0,
                  "10878": 0,
                  "10882": 0,
                  "10883": 0,
                  "10886": 0,
                  "10887": 0,
                  "10889": 0,
                  "10891": 0,
                  "10893": 0,
                  "10897": 0,
                  "10902": 0,
                  "10904": 0,
                  "10905": 0,
                  "10906": 0,
                  "10907": 0,
                  "10909": 0,
                  "10910": 0,
                  "10911": 0,
                  "10915": 0,
                  "10931": 0,
                  "10937": 0,
                  "10938": 0,
                  "10941": 0,
                  "10945": 0,
                  "10947": 0,
                  "10950": 0,
                  "10954": 0,
                  "10955": 0,
                  "10958": 0,
                  "10965": 0,
                  "10968": 0,
                  "10978": 0,
                  "10982": 0,
                  "10983": 0,
                  "10984": 0,
                  "10985": 0,
                  "10986": 0,
                  "10987": 0,
                  "10988": 0,
                  "10991": 0,
                  "11001": 0,
                  "11004": 0,
                  "11005": 0,
                  "11007": 0,
                  "11011": 0,
                  "11014": 0,
                  "11016": 0,
                  "11017": 0,
                  "11018": 0,
                  "11020": 0,
                  "11031": 0,
                  "11032": 0,
                  "11034": 0,
                  "11038": 0,
                  "11040": 0,
                  "11053": 0,
                  "11058": 0,
                  "11060": 0,
                  "11061": 0,
                  "11064": 0,
                  "11065": 0,
                  "11068": 0,
                  "11071": 0,
                  "11083": 0,
                  "11086": 0,
                  "11087": 0,
                  "11088": 0,
                  "11093": 0,
                  "11095": 0,
                  "11100": 0,
                  "11102": 0,
                  "11105": 0,
                  "11106": 0,
                  "11107": 0,
                  "11108": 0,
                  "11109": 0,
                  "11110": 0,
                  "11111": 0,
                  "11112": 0,
                  "11113": 0,
                  "11115": 0,
                  "11116": 0,
                  "11117": 0,
                  "11121": 0,
                  "11122": 0,
                  "11123": 0,
                  "11124": 0,
                  "11128": 0,
                  "11130": 0,
                  "11131": 0,
                  "11134": 0,
                  "11138": 0,
                  "11139": 0,
                  "11145": 0,
                  "11146": 0,
                  "11148": 0,
                  "11155": 0,
                  "11156": 0,
                  "11157": 0,
                  "11159": 0,
                  "11162": 0,
                  "11168": 0,
                  "11169": 0,
                  "11173": 0,
                  "11181": 0,
                  "11183": 0,
                  "11184": 0,
                  "11187": 0,
                  "11190": 0,
                  "11192": 0,
                  "11195": 0,
                  "11196": 0,
                  "11199": 0,
                  "11200": 0,
                  "11204": 0,
                  "11207": 0,
                  "11208": 0,
                  "11209": 0,
                  "11214": 0,
                  "11217": 0,
                  "11219": 0,
                  "11221": 0,
                  "11222": 0,
                  "11223": 0,
                  "11239": 0,
                  "11240": 0,
                  "11242": 0,
                  "11243": 0,
                  "11246": 0,
                  "11249": 0,
                  "11254": 0,
                  "11258": 0,
                  "11259": 0,
                  "11260": 0,
                  "11263": 0,
                  "11265": 0,
                  "11267": 0,
                  "11268": 0,
                  "11280": 0,
                  "11282": 0,
                  "11289": 0,
                  "11290": 0,
                  "11297": 0,
                  "11313": 0,
                  "11314": 0,
                  "11316": 0,
                  "11317": 0,
                  "11318": 0,
                  "11321": 0,
                  "11322": 0,
                  "11324": 0,
                  "11325": 0,
                  "11326": 0,
                  "11327": 0,
                  "11330": 0,
                  "11331": 0,
                  "11332": 0,
                  "11333": 0,
                  "11335": 0,
                  "11336": 0,
                  "11337": 0,
                  "11338": 0,
                  "11341": 0,
                  "11343": 0,
                  "11362": 0,
                  "11363": 0,
                  "11371": 0,
                  "11372": 0,
                  "11390": 0,
                  "11399": 0,
                  "11400": 0,
                  "11408": 0,
                  "11409": 0,
                  "11411": 0,
                  "11412": 0,
                  "11422": 0,
                  "11423": 0,
                  "11426": 0,
                  "11427": 0,
                  "11428": 0,
                  "11429": 0,
                  "11430": 0,
                  "_deepnote_index_column": 4
                },
                {
                  "11": 0,
                  "100": 0,
                  "107": 0,
                  "108": 0,
                  "110": 0,
                  "113": 0,
                  "1001": 0,
                  "1002": 0,
                  "1003": 0,
                  "1004": 0,
                  "1005": 0,
                  "1007": 0,
                  "1008": 0,
                  "1009": 0,
                  "1010": 0,
                  "1013": 0,
                  "1014": 0,
                  "1016": 0,
                  "1019": 0,
                  "1022": 0,
                  "1023": 0,
                  "1025": 0,
                  "10005": 0,
                  "10006": 0,
                  "10012": 0,
                  "10013": 0,
                  "10014": 0,
                  "10015": 0,
                  "10016": 0,
                  "10022": 0,
                  "10024": 0,
                  "10026": 0,
                  "10028": 0,
                  "10031": 0,
                  "10033": 0,
                  "10038": 0,
                  "10039": 0,
                  "10041": 0,
                  "10043": 0,
                  "10044": 0,
                  "10045": 0,
                  "10048": 0,
                  "10049": 0,
                  "10050": 0,
                  "10051": 0,
                  "10058": 0,
                  "10059": 0,
                  "10060": 0,
                  "10061": 0,
                  "10062": 0,
                  "10063": 0,
                  "10064": 0,
                  "10073": 0,
                  "10076": 0,
                  "10079": 0,
                  "10081": 0,
                  "10084": 0,
                  "10085": 0,
                  "10089": 0,
                  "10092": 0,
                  "10093": 0,
                  "10103": 0,
                  "10104": 0,
                  "10106": 0,
                  "10111": 0,
                  "10112": 0,
                  "10114": 0,
                  "10115": 0,
                  "10121": 0,
                  "10123": 0,
                  "10124": 0,
                  "10125": 0,
                  "10128": 0,
                  "10131": 0,
                  "10132": 0,
                  "10135": 0,
                  "10138": 0,
                  "10141": 0,
                  "10143": 0,
                  "10144": 0,
                  "10148": 0,
                  "10150": 0,
                  "10154": 0,
                  "10155": 0,
                  "10158": 0,
                  "10159": 0,
                  "10160": 0,
                  "10163": 0,
                  "10164": 0,
                  "10166": 0,
                  "10168": 0,
                  "10170": 0,
                  "10174": 0,
                  "10175": 0,
                  "10176": 0,
                  "10177": 0,
                  "10180": 0,
                  "10181": 0,
                  "10183": 0,
                  "10185": 0,
                  "10188": 0,
                  "10198": 0,
                  "10199": 0,
                  "10200": 0,
                  "10201": 0,
                  "10202": 0,
                  "10211": 0,
                  "10216": 0,
                  "10217": 0,
                  "10221": 0,
                  "10222": 0,
                  "10223": 0,
                  "10224": 0,
                  "10225": 0,
                  "10226": 0,
                  "10228": 0,
                  "10229": 0,
                  "10230": 0,
                  "10232": 0,
                  "10235": 0,
                  "10237": 0,
                  "10241": 0,
                  "10244": 0,
                  "10249": 0,
                  "10250": 0,
                  "10254": 0,
                  "10260": 0,
                  "10261": 0,
                  "10266": 0,
                  "10267": 0,
                  "10275": 0,
                  "10278": 0,
                  "10284": 0,
                  "10291": 0,
                  "10292": 0,
                  "10294": 0,
                  "10303": 0,
                  "10308": 0,
                  "10309": 0,
                  "10322": 0,
                  "10323": 0,
                  "10324": 0,
                  "10325": 0,
                  "10326": 0,
                  "10327": 0,
                  "10328": 0,
                  "10329": 0,
                  "10332": 0,
                  "10333": 0,
                  "10336": 0,
                  "10337": 0,
                  "10338": 0,
                  "10345": 0,
                  "10349": 0,
                  "10350": 0,
                  "10352": 0,
                  "10360": 0,
                  "10364": 0,
                  "10371": 0,
                  "10372": 0,
                  "10374": 0,
                  "10375": 0,
                  "10385": 0,
                  "10391": 0,
                  "10397": 0,
                  "10398": 0,
                  "10399": 0,
                  "10400": 0,
                  "10403": 0,
                  "10406": 0,
                  "10410": 0,
                  "10414": 0,
                  "10423": 0,
                  "10424": 0,
                  "10425": 0,
                  "10427": 0,
                  "10428": 0,
                  "10437": 0,
                  "10448": 0,
                  "10449": 0,
                  "10452": 0,
                  "10453": 0,
                  "10456": 0,
                  "10459": 0,
                  "10466": 0,
                  "10468": 0,
                  "10471": 0,
                  "10476": 0,
                  "10478": 0,
                  "10481": 0,
                  "10482": 0,
                  "10483": 0,
                  "10486": 0,
                  "10489": 0,
                  "10491": 0,
                  "10494": 0,
                  "10498": 0,
                  "10499": 0,
                  "10503": 0,
                  "10505": 0,
                  "10506": 0,
                  "10508": 0,
                  "10511": 0,
                  "10514": 0,
                  "10519": 0,
                  "10525": 0,
                  "10527": 0,
                  "10530": 0,
                  "10532": 0,
                  "10535": 0,
                  "10539": 0,
                  "10540": 0,
                  "10541": 0,
                  "10542": 0,
                  "10547": 0,
                  "10551": 0,
                  "10556": 0,
                  "10558": 0,
                  "10561": 0,
                  "10562": 0,
                  "10563": 0,
                  "10568": 0,
                  "10572": 0,
                  "10582": 0,
                  "10586": 0,
                  "10587": 0,
                  "10590": 0,
                  "10591": 0,
                  "10594": 0,
                  "10596": 0,
                  "10597": 0,
                  "10601": 0,
                  "10603": 0,
                  "10604": 0,
                  "10607": 0,
                  "10609": 0,
                  "10614": 0,
                  "10616": 0,
                  "10617": 0,
                  "10623": 0,
                  "10624": 0,
                  "10629": 0,
                  "10631": 0,
                  "10637": 0,
                  "10641": 0,
                  "10644": 0,
                  "10650": 0,
                  "10652": 0,
                  "10655": 0,
                  "10656": 0,
                  "10657": 0,
                  "10663": 0,
                  "10664": 0,
                  "10666": 0,
                  "10668": 0,
                  "10669": 0,
                  "10671": 0,
                  "10683": 0,
                  "10685": 0,
                  "10686": 0,
                  "10688": 0,
                  "10689": 0,
                  "10700": 0,
                  "10703": 0,
                  "10704": 0,
                  "10706": 0,
                  "10707": 0,
                  "10712": 0,
                  "10714": 0,
                  "10715": 0,
                  "10717": 0,
                  "10718": 0,
                  "10721": 0,
                  "10726": 0,
                  "10732": 0,
                  "10733": 0,
                  "10738": 0,
                  "10756": 0,
                  "10761": 0,
                  "10766": 0,
                  "10768": 0,
                  "10770": 0,
                  "10771": 0,
                  "10772": 0,
                  "10776": 0,
                  "10786": 0,
                  "10787": 0,
                  "10789": 0,
                  "10791": 0,
                  "10792": 0,
                  "10793": 0,
                  "10794": 0,
                  "10798": 0,
                  "10807": 0,
                  "10808": 0,
                  "10809": 0,
                  "10812": 0,
                  "10814": 0,
                  "10818": 0,
                  "10821": 0,
                  "10827": 0,
                  "10833": 0,
                  "10834": 0,
                  "10842": 0,
                  "10843": 0,
                  "10847": 0,
                  "10850": 0,
                  "10851": 0,
                  "10854": 0,
                  "10855": 0,
                  "10856": 0,
                  "10859": 0,
                  "10863": 0,
                  "10864": 0,
                  "10867": 0,
                  "10870": 0,
                  "10873": 0,
                  "10875": 0,
                  "10877": 0,
                  "10878": 0,
                  "10882": 0,
                  "10883": 0,
                  "10886": 0,
                  "10887": 0,
                  "10889": 0,
                  "10891": 0,
                  "10893": 0,
                  "10897": 0,
                  "10902": 0,
                  "10904": 0,
                  "10905": 0,
                  "10906": 0,
                  "10907": 0,
                  "10909": 0,
                  "10910": 0,
                  "10911": 0,
                  "10915": 0,
                  "10931": 0,
                  "10937": 0,
                  "10938": 0,
                  "10941": 0,
                  "10945": 0,
                  "10947": 0,
                  "10950": 0,
                  "10954": 0,
                  "10955": 0,
                  "10958": 0,
                  "10965": 0,
                  "10968": 0,
                  "10978": 0,
                  "10982": 0,
                  "10983": 0,
                  "10984": 0,
                  "10985": 0,
                  "10986": 0,
                  "10987": 0,
                  "10988": 0,
                  "10991": 0,
                  "11001": 0,
                  "11004": 0,
                  "11005": 0,
                  "11007": 0,
                  "11011": 0,
                  "11014": 0,
                  "11016": 0,
                  "11017": 0,
                  "11018": 0,
                  "11020": 0,
                  "11031": 0,
                  "11032": 0,
                  "11034": 0,
                  "11038": 0,
                  "11040": 0,
                  "11053": 0,
                  "11058": 0,
                  "11060": 0,
                  "11061": 0,
                  "11064": 0,
                  "11065": 0,
                  "11068": 0,
                  "11071": 0,
                  "11083": 0,
                  "11086": 0,
                  "11087": 0,
                  "11088": 0,
                  "11093": 0,
                  "11095": 0,
                  "11100": 0,
                  "11102": 0,
                  "11105": 0,
                  "11106": 0,
                  "11107": 0,
                  "11108": 0,
                  "11109": 0,
                  "11110": 0,
                  "11111": 0,
                  "11112": 0,
                  "11113": 0,
                  "11115": 0,
                  "11116": 0,
                  "11117": 0,
                  "11121": 0,
                  "11122": 0,
                  "11123": 0,
                  "11124": 0,
                  "11128": 0,
                  "11130": 0,
                  "11131": 0,
                  "11134": 0,
                  "11138": 0,
                  "11139": 0,
                  "11145": 0,
                  "11146": 0,
                  "11148": 0,
                  "11155": 0,
                  "11156": 0,
                  "11157": 0,
                  "11159": 0,
                  "11162": 0,
                  "11168": 0,
                  "11169": 0,
                  "11173": 0,
                  "11181": 0,
                  "11183": 0,
                  "11184": 0,
                  "11187": 0,
                  "11190": 0,
                  "11192": 0,
                  "11195": 0,
                  "11196": 0,
                  "11199": 0,
                  "11200": 0,
                  "11204": 0,
                  "11207": 0,
                  "11208": 0,
                  "11209": 0,
                  "11214": 0,
                  "11217": 0,
                  "11219": 0,
                  "11221": 0,
                  "11222": 0,
                  "11223": 0,
                  "11239": 0,
                  "11240": 0,
                  "11242": 0,
                  "11243": 0,
                  "11246": 0,
                  "11249": 0,
                  "11254": 0,
                  "11258": 0,
                  "11259": 0,
                  "11260": 0,
                  "11263": 0,
                  "11265": 0,
                  "11267": 0,
                  "11268": 0,
                  "11280": 0,
                  "11282": 0,
                  "11289": 0,
                  "11290": 0,
                  "11297": 0,
                  "11313": 0,
                  "11314": 0,
                  "11316": 0,
                  "11317": 0,
                  "11318": 0,
                  "11321": 0,
                  "11322": 0,
                  "11324": 0,
                  "11325": 0,
                  "11326": 0,
                  "11327": 0,
                  "11330": 0,
                  "11331": 0,
                  "11332": 0,
                  "11333": 0,
                  "11335": 0,
                  "11336": 0,
                  "11337": 0,
                  "11338": 0,
                  "11341": 0,
                  "11343": 0,
                  "11362": 0,
                  "11363": 0,
                  "11371": 0,
                  "11372": 0,
                  "11390": 0,
                  "11399": 0,
                  "11400": 0,
                  "11408": 0,
                  "11409": 0,
                  "11411": 0,
                  "11412": 0,
                  "11422": 0,
                  "11423": 0,
                  "11426": 0,
                  "11427": 0,
                  "11428": 0,
                  "11429": 0,
                  "11430": 0,
                  "_deepnote_index_column": 5
                },
                {
                  "11": 0,
                  "100": 0,
                  "107": 0,
                  "108": 0,
                  "110": 0,
                  "113": 0,
                  "1001": 0,
                  "1002": 0,
                  "1003": 0,
                  "1004": 0,
                  "1005": 0,
                  "1007": 0,
                  "1008": 0,
                  "1009": 0,
                  "1010": 0,
                  "1013": 0,
                  "1014": 0,
                  "1016": 0,
                  "1019": 0,
                  "1022": 0,
                  "1023": 0,
                  "1025": 0,
                  "10005": 0,
                  "10006": 0,
                  "10012": 0,
                  "10013": 0,
                  "10014": 0,
                  "10015": 0,
                  "10016": 0,
                  "10022": 0,
                  "10024": 0,
                  "10026": 0,
                  "10028": 0,
                  "10031": 0,
                  "10033": 0,
                  "10038": 0,
                  "10039": 0,
                  "10041": 0,
                  "10043": 0,
                  "10044": 0,
                  "10045": 0,
                  "10048": 0,
                  "10049": 0,
                  "10050": 0,
                  "10051": 0,
                  "10058": 0,
                  "10059": 0,
                  "10060": 0,
                  "10061": 0,
                  "10062": 0,
                  "10063": 0,
                  "10064": 0,
                  "10073": 0,
                  "10076": 0,
                  "10079": 0,
                  "10081": 0,
                  "10084": 0,
                  "10085": 0,
                  "10089": 0,
                  "10092": 0,
                  "10093": 0,
                  "10103": 0,
                  "10104": 0,
                  "10106": 0,
                  "10111": 0,
                  "10112": 0,
                  "10114": 0,
                  "10115": 0,
                  "10121": 0,
                  "10123": 0,
                  "10124": 0,
                  "10125": 0,
                  "10128": 0,
                  "10131": 0,
                  "10132": 0,
                  "10135": 0,
                  "10138": 0,
                  "10141": 0,
                  "10143": 0,
                  "10144": 0,
                  "10148": 0,
                  "10150": 0,
                  "10154": 0,
                  "10155": 0,
                  "10158": 0,
                  "10159": 0,
                  "10160": 0,
                  "10163": 0,
                  "10164": 0,
                  "10166": 0,
                  "10168": 0,
                  "10170": 0,
                  "10174": 0,
                  "10175": 0,
                  "10176": 0,
                  "10177": 0,
                  "10180": 0,
                  "10181": 0,
                  "10183": 0,
                  "10185": 0,
                  "10188": 0,
                  "10198": 0,
                  "10199": 0,
                  "10200": 0,
                  "10201": 0,
                  "10202": 0,
                  "10211": 0,
                  "10216": 0,
                  "10217": 0,
                  "10221": 0,
                  "10222": 0,
                  "10223": 0,
                  "10224": 0,
                  "10225": 0,
                  "10226": 0,
                  "10228": 0,
                  "10229": 0,
                  "10230": 0,
                  "10232": 0,
                  "10235": 0,
                  "10237": 0,
                  "10241": 0,
                  "10244": 0,
                  "10249": 0,
                  "10250": 0,
                  "10254": 0,
                  "10260": 0,
                  "10261": 0,
                  "10266": 0,
                  "10267": 0,
                  "10275": 0,
                  "10278": 0,
                  "10284": 0,
                  "10291": 0,
                  "10292": 0,
                  "10294": 0,
                  "10303": 0,
                  "10308": 0,
                  "10309": 0,
                  "10322": 0,
                  "10323": 0,
                  "10324": 0,
                  "10325": 0,
                  "10326": 0,
                  "10327": 0,
                  "10328": 0,
                  "10329": 0,
                  "10332": 0,
                  "10333": 0,
                  "10336": 0.13317830120211208,
                  "10337": 0,
                  "10338": 0,
                  "10345": 0,
                  "10349": 0,
                  "10350": 0,
                  "10352": 0,
                  "10360": 0,
                  "10364": 0,
                  "10371": 0,
                  "10372": 0,
                  "10374": 0,
                  "10375": 0,
                  "10385": 0,
                  "10391": 0,
                  "10397": 0,
                  "10398": 0,
                  "10399": 0,
                  "10400": 0,
                  "10403": 0,
                  "10406": 0,
                  "10410": 0,
                  "10414": 0,
                  "10423": 0,
                  "10424": 0,
                  "10425": 0,
                  "10427": 0,
                  "10428": 0,
                  "10437": 0,
                  "10448": 0,
                  "10449": 0,
                  "10452": 0,
                  "10453": 0,
                  "10456": 0,
                  "10459": 0,
                  "10466": 0,
                  "10468": 0,
                  "10471": 0,
                  "10476": 0,
                  "10478": 0,
                  "10481": 0,
                  "10482": 0,
                  "10483": 0,
                  "10486": 0,
                  "10489": 0,
                  "10491": 0,
                  "10494": 0,
                  "10498": 0,
                  "10499": 0,
                  "10503": 0,
                  "10505": 0,
                  "10506": 0,
                  "10508": 0,
                  "10511": 0,
                  "10514": 0,
                  "10519": 0,
                  "10525": 0,
                  "10527": 0,
                  "10530": 0,
                  "10532": 0,
                  "10535": 0,
                  "10539": 0,
                  "10540": 0,
                  "10541": 0,
                  "10542": 0,
                  "10547": 0,
                  "10551": 0,
                  "10556": 0,
                  "10558": 0,
                  "10561": 0,
                  "10562": 0,
                  "10563": 0,
                  "10568": 0,
                  "10572": 0,
                  "10582": 0,
                  "10586": 0,
                  "10587": 0,
                  "10590": 0,
                  "10591": 0,
                  "10594": 0,
                  "10596": 0,
                  "10597": 0,
                  "10601": 0,
                  "10603": 0,
                  "10604": 0,
                  "10607": 0,
                  "10609": 0,
                  "10614": 0,
                  "10616": 0,
                  "10617": 0,
                  "10623": 0,
                  "10624": 0,
                  "10629": 0,
                  "10631": 0,
                  "10637": 0,
                  "10641": 0,
                  "10644": 0,
                  "10650": 0,
                  "10652": 0,
                  "10655": 0,
                  "10656": 0,
                  "10657": 0,
                  "10663": 0,
                  "10664": 0,
                  "10666": 0,
                  "10668": 0,
                  "10669": 0,
                  "10671": 0,
                  "10683": 0,
                  "10685": 0,
                  "10686": 0,
                  "10688": 0,
                  "10689": 0,
                  "10700": 0,
                  "10703": 0,
                  "10704": 0,
                  "10706": 0,
                  "10707": 0,
                  "10712": 0,
                  "10714": 0,
                  "10715": 0,
                  "10717": 0,
                  "10718": 0,
                  "10721": 0,
                  "10726": 0,
                  "10732": 0,
                  "10733": 0,
                  "10738": 0,
                  "10756": 0,
                  "10761": 0,
                  "10766": 0,
                  "10768": 0,
                  "10770": 0,
                  "10771": 0,
                  "10772": 0,
                  "10776": 0,
                  "10786": 0,
                  "10787": 0,
                  "10789": 0,
                  "10791": 0,
                  "10792": 0,
                  "10793": 0,
                  "10794": 0,
                  "10798": 0,
                  "10807": 0,
                  "10808": 0,
                  "10809": 0,
                  "10812": 0,
                  "10814": 0,
                  "10818": 0,
                  "10821": 0,
                  "10827": 0,
                  "10833": 0,
                  "10834": 0,
                  "10842": 0,
                  "10843": 0,
                  "10847": 0,
                  "10850": 0,
                  "10851": 0,
                  "10854": 0,
                  "10855": 0,
                  "10856": 0,
                  "10859": 0,
                  "10863": 0,
                  "10864": 0,
                  "10867": 0,
                  "10870": 0,
                  "10873": 0,
                  "10875": 0,
                  "10877": 0,
                  "10878": 0,
                  "10882": 0,
                  "10883": 0,
                  "10886": 0,
                  "10887": 0,
                  "10889": 0,
                  "10891": 0,
                  "10893": 0,
                  "10897": 0,
                  "10902": 0,
                  "10904": 0,
                  "10905": 0,
                  "10906": 0,
                  "10907": 0,
                  "10909": 0,
                  "10910": 0,
                  "10911": 0,
                  "10915": 0,
                  "10931": 0,
                  "10937": 0,
                  "10938": 0,
                  "10941": 0,
                  "10945": 0,
                  "10947": 0,
                  "10950": 0,
                  "10954": 0,
                  "10955": 0,
                  "10958": 0,
                  "10965": 0,
                  "10968": 0,
                  "10978": 0,
                  "10982": 0,
                  "10983": 0,
                  "10984": 0,
                  "10985": 0,
                  "10986": 0,
                  "10987": 0,
                  "10988": 0,
                  "10991": 0,
                  "11001": 0,
                  "11004": 0,
                  "11005": 0,
                  "11007": 0,
                  "11011": 0,
                  "11014": 0,
                  "11016": 0,
                  "11017": 0,
                  "11018": 0,
                  "11020": 0,
                  "11031": 0,
                  "11032": 0,
                  "11034": 0,
                  "11038": 0,
                  "11040": 0,
                  "11053": 0,
                  "11058": 0,
                  "11060": 0,
                  "11061": 0,
                  "11064": 0,
                  "11065": 0,
                  "11068": 0,
                  "11071": 0,
                  "11083": 0,
                  "11086": 0,
                  "11087": 0,
                  "11088": 0,
                  "11093": 0,
                  "11095": 0,
                  "11100": 0,
                  "11102": 0,
                  "11105": 0,
                  "11106": 0,
                  "11107": 0,
                  "11108": 0,
                  "11109": 0,
                  "11110": 0,
                  "11111": 0,
                  "11112": 0,
                  "11113": 0,
                  "11115": 0,
                  "11116": 0,
                  "11117": 0,
                  "11121": 0,
                  "11122": 0,
                  "11123": 0,
                  "11124": 0,
                  "11128": 0,
                  "11130": 0,
                  "11131": 0,
                  "11134": 0,
                  "11138": 0,
                  "11139": 0,
                  "11145": 0,
                  "11146": 0,
                  "11148": 0,
                  "11155": 0,
                  "11156": 0,
                  "11157": 0,
                  "11159": 0,
                  "11162": 0,
                  "11168": 0,
                  "11169": 0,
                  "11173": 0,
                  "11181": 0,
                  "11183": 0,
                  "11184": 0,
                  "11187": 0,
                  "11190": 0,
                  "11192": 0,
                  "11195": 0,
                  "11196": 0,
                  "11199": 0,
                  "11200": 0,
                  "11204": 0,
                  "11207": 0,
                  "11208": 0,
                  "11209": 0,
                  "11214": 0,
                  "11217": 0,
                  "11219": 0,
                  "11221": 0,
                  "11222": 0,
                  "11223": 0,
                  "11239": 0,
                  "11240": 0,
                  "11242": 0,
                  "11243": 0,
                  "11246": 0,
                  "11249": 0,
                  "11254": 0,
                  "11258": 0,
                  "11259": 0,
                  "11260": 0,
                  "11263": 0,
                  "11265": 0,
                  "11267": 0,
                  "11268": 0,
                  "11280": 0,
                  "11282": 0,
                  "11289": 0,
                  "11290": 0,
                  "11297": 0,
                  "11313": 0,
                  "11314": 0,
                  "11316": 0,
                  "11317": 0,
                  "11318": 0,
                  "11321": 0,
                  "11322": 0,
                  "11324": 0,
                  "11325": 0,
                  "11326": 0,
                  "11327": 0,
                  "11330": 0,
                  "11331": 0,
                  "11332": 0,
                  "11333": 0,
                  "11335": 0,
                  "11336": 0,
                  "11337": 0,
                  "11338": 0,
                  "11341": 0,
                  "11343": 0,
                  "11362": 0,
                  "11363": 0,
                  "11371": 0,
                  "11372": 0,
                  "11390": 0,
                  "11399": 0,
                  "11400": 0,
                  "11408": 0,
                  "11409": 0,
                  "11411": 0,
                  "11412": 0,
                  "11422": 0,
                  "11423": 0,
                  "11426": 0,
                  "11427": 0,
                  "11428": 0,
                  "11429": 0,
                  "11430": 0,
                  "_deepnote_index_column": 6
                },
                {
                  "11": 0,
                  "100": 0,
                  "107": 0,
                  "108": 0,
                  "110": 0,
                  "113": 0,
                  "1001": 0,
                  "1002": 0,
                  "1003": 0,
                  "1004": 0,
                  "1005": 0,
                  "1007": 0,
                  "1008": 0,
                  "1009": 0,
                  "1010": 0,
                  "1013": 0,
                  "1014": 0,
                  "1016": 0,
                  "1019": 0,
                  "1022": 0,
                  "1023": 0,
                  "1025": 0,
                  "10005": 0,
                  "10006": 0,
                  "10012": 0,
                  "10013": 0,
                  "10014": 0,
                  "10015": 0,
                  "10016": 0,
                  "10022": 0,
                  "10024": 0,
                  "10026": 0,
                  "10028": 0,
                  "10031": 0,
                  "10033": 0,
                  "10038": 0,
                  "10039": 0,
                  "10041": 0,
                  "10043": 0,
                  "10044": 0,
                  "10045": 0,
                  "10048": 0,
                  "10049": 0,
                  "10050": 0,
                  "10051": 0,
                  "10058": 0,
                  "10059": 0,
                  "10060": 0,
                  "10061": 0,
                  "10062": 0,
                  "10063": 0,
                  "10064": 0,
                  "10073": 0,
                  "10076": 0,
                  "10079": 0,
                  "10081": 0,
                  "10084": 0,
                  "10085": 0,
                  "10089": 0,
                  "10092": 0,
                  "10093": 0,
                  "10103": 0,
                  "10104": 0,
                  "10106": 0,
                  "10111": 0,
                  "10112": 0,
                  "10114": 0,
                  "10115": 0,
                  "10121": 0,
                  "10123": 0,
                  "10124": 0,
                  "10125": 0,
                  "10128": 0,
                  "10131": 0,
                  "10132": 0,
                  "10135": 0,
                  "10138": 0,
                  "10141": 0,
                  "10143": 0,
                  "10144": 0,
                  "10148": 0,
                  "10150": 0,
                  "10154": 0,
                  "10155": 0,
                  "10158": 0,
                  "10159": 0,
                  "10160": 0,
                  "10163": 0,
                  "10164": 0,
                  "10166": 0,
                  "10168": 0,
                  "10170": 0,
                  "10174": 0,
                  "10175": 0,
                  "10176": 0,
                  "10177": 0,
                  "10180": 0,
                  "10181": 0,
                  "10183": 0,
                  "10185": 0,
                  "10188": 0,
                  "10198": 0,
                  "10199": 0,
                  "10200": 0,
                  "10201": 0,
                  "10202": 0,
                  "10211": 0,
                  "10216": 0,
                  "10217": 0,
                  "10221": 0,
                  "10222": 0,
                  "10223": 0,
                  "10224": 0,
                  "10225": 0,
                  "10226": 0,
                  "10228": 0,
                  "10229": 0,
                  "10230": 0,
                  "10232": 0,
                  "10235": 0,
                  "10237": 0,
                  "10241": 0,
                  "10244": 0,
                  "10249": 0,
                  "10250": 0,
                  "10254": 0,
                  "10260": 0,
                  "10261": 0,
                  "10266": 0,
                  "10267": 0,
                  "10275": 0,
                  "10278": 0,
                  "10284": 0,
                  "10291": 0,
                  "10292": 0,
                  "10294": 0,
                  "10303": 0,
                  "10308": 0,
                  "10309": 0,
                  "10322": 0,
                  "10323": 0,
                  "10324": 0,
                  "10325": 0,
                  "10326": 0,
                  "10327": 0,
                  "10328": 0,
                  "10329": 0,
                  "10332": 0,
                  "10333": 0,
                  "10336": 0,
                  "10337": 0,
                  "10338": 0,
                  "10345": 0,
                  "10349": 0,
                  "10350": 0,
                  "10352": 0,
                  "10360": 0,
                  "10364": 0,
                  "10371": 0,
                  "10372": 0,
                  "10374": 0,
                  "10375": 0,
                  "10385": 0,
                  "10391": 0,
                  "10397": 0,
                  "10398": 0,
                  "10399": 0,
                  "10400": 0,
                  "10403": 0,
                  "10406": 0,
                  "10410": 0,
                  "10414": 0,
                  "10423": 0,
                  "10424": 0,
                  "10425": 0,
                  "10427": 0,
                  "10428": 0,
                  "10437": 0,
                  "10448": 0,
                  "10449": 0,
                  "10452": 0,
                  "10453": 0,
                  "10456": 0,
                  "10459": 0,
                  "10466": 0,
                  "10468": 0,
                  "10471": 0,
                  "10476": 0,
                  "10478": 0,
                  "10481": 0,
                  "10482": 0,
                  "10483": 0,
                  "10486": 0,
                  "10489": 0,
                  "10491": 0,
                  "10494": 0,
                  "10498": 0,
                  "10499": 0,
                  "10503": 0,
                  "10505": 0,
                  "10506": 0,
                  "10508": 0,
                  "10511": 0,
                  "10514": 0,
                  "10519": 0,
                  "10525": 0,
                  "10527": 0,
                  "10530": 0,
                  "10532": 0,
                  "10535": 0,
                  "10539": 0,
                  "10540": 0,
                  "10541": 0,
                  "10542": 0,
                  "10547": 0,
                  "10551": 0,
                  "10556": 0,
                  "10558": 0,
                  "10561": 0,
                  "10562": 0,
                  "10563": 0,
                  "10568": 0,
                  "10572": 0,
                  "10582": 0,
                  "10586": 0,
                  "10587": 0,
                  "10590": 0,
                  "10591": 0,
                  "10594": 0,
                  "10596": 0,
                  "10597": 0,
                  "10601": 0,
                  "10603": 0,
                  "10604": 0,
                  "10607": 0,
                  "10609": 0,
                  "10614": 0,
                  "10616": 0,
                  "10617": 0,
                  "10623": 0,
                  "10624": 0,
                  "10629": 0.2120922494261509,
                  "10631": 0,
                  "10637": 0,
                  "10641": 0,
                  "10644": 0,
                  "10650": 0,
                  "10652": 0,
                  "10655": 0,
                  "10656": 0,
                  "10657": 0,
                  "10663": 0,
                  "10664": 0,
                  "10666": 0,
                  "10668": 0,
                  "10669": 0,
                  "10671": 0,
                  "10683": 0,
                  "10685": 0,
                  "10686": 0,
                  "10688": 0,
                  "10689": 0,
                  "10700": 0,
                  "10703": 0,
                  "10704": 0,
                  "10706": 0,
                  "10707": 0,
                  "10712": 0,
                  "10714": 0,
                  "10715": 0,
                  "10717": 0,
                  "10718": 0,
                  "10721": 0,
                  "10726": 0,
                  "10732": 0,
                  "10733": 0,
                  "10738": 0,
                  "10756": 0,
                  "10761": 0,
                  "10766": 0,
                  "10768": 0,
                  "10770": 0,
                  "10771": 0,
                  "10772": 0,
                  "10776": 0,
                  "10786": 0,
                  "10787": 0,
                  "10789": 0,
                  "10791": 0,
                  "10792": 0,
                  "10793": 0,
                  "10794": 0,
                  "10798": 0,
                  "10807": 0,
                  "10808": 0,
                  "10809": 0,
                  "10812": 0,
                  "10814": 0,
                  "10818": 0,
                  "10821": 0,
                  "10827": 0,
                  "10833": 0,
                  "10834": 0,
                  "10842": 0,
                  "10843": 0,
                  "10847": 0,
                  "10850": 0,
                  "10851": 0,
                  "10854": 0,
                  "10855": 0,
                  "10856": 0,
                  "10859": 0,
                  "10863": 0,
                  "10864": 0,
                  "10867": 0,
                  "10870": 0,
                  "10873": 0,
                  "10875": 0,
                  "10877": 0,
                  "10878": 0,
                  "10882": 0,
                  "10883": 0,
                  "10886": 0,
                  "10887": 0,
                  "10889": 0,
                  "10891": 0,
                  "10893": 0,
                  "10897": 0,
                  "10902": 0,
                  "10904": 0,
                  "10905": 0,
                  "10906": 0,
                  "10907": 0,
                  "10909": 0,
                  "10910": 0,
                  "10911": 0,
                  "10915": 0,
                  "10931": 0,
                  "10937": 0,
                  "10938": 0,
                  "10941": 0,
                  "10945": 0,
                  "10947": 0,
                  "10950": 0,
                  "10954": 0,
                  "10955": 0,
                  "10958": 0,
                  "10965": 0,
                  "10968": 0,
                  "10978": 0,
                  "10982": 0,
                  "10983": 0,
                  "10984": 0,
                  "10985": 0,
                  "10986": 0,
                  "10987": 0,
                  "10988": 0,
                  "10991": 0,
                  "11001": 0,
                  "11004": 0,
                  "11005": 0,
                  "11007": 0,
                  "11011": 0,
                  "11014": 0,
                  "11016": 0,
                  "11017": 0,
                  "11018": 0,
                  "11020": 0,
                  "11031": 0,
                  "11032": 0,
                  "11034": 0,
                  "11038": 0,
                  "11040": 0,
                  "11053": 0,
                  "11058": 0,
                  "11060": 0,
                  "11061": 0,
                  "11064": 0,
                  "11065": 0,
                  "11068": 0,
                  "11071": 0,
                  "11083": 0,
                  "11086": 0,
                  "11087": 0,
                  "11088": 0,
                  "11093": 0,
                  "11095": 0,
                  "11100": 0,
                  "11102": 0,
                  "11105": 0,
                  "11106": 0,
                  "11107": 0,
                  "11108": 0,
                  "11109": 0,
                  "11110": 0,
                  "11111": 0,
                  "11112": 0,
                  "11113": 0,
                  "11115": 0,
                  "11116": 0,
                  "11117": 0,
                  "11121": 0,
                  "11122": 0,
                  "11123": 0,
                  "11124": 0,
                  "11128": 0,
                  "11130": 0,
                  "11131": 0,
                  "11134": 0,
                  "11138": 0,
                  "11139": 0,
                  "11145": 0,
                  "11146": 0,
                  "11148": 0,
                  "11155": 0,
                  "11156": 0,
                  "11157": 0,
                  "11159": 0,
                  "11162": 0,
                  "11168": 0,
                  "11169": 0,
                  "11173": 0,
                  "11181": 0,
                  "11183": 0,
                  "11184": 0,
                  "11187": 0,
                  "11190": 0,
                  "11192": 0,
                  "11195": 0,
                  "11196": 0,
                  "11199": 0,
                  "11200": 0,
                  "11204": 0,
                  "11207": 0,
                  "11208": 0,
                  "11209": 0,
                  "11214": 0,
                  "11217": 0,
                  "11219": 0,
                  "11221": 0,
                  "11222": 0,
                  "11223": 0,
                  "11239": 0,
                  "11240": 0,
                  "11242": 0,
                  "11243": 0,
                  "11246": 0,
                  "11249": 0,
                  "11254": 0,
                  "11258": 0,
                  "11259": 0,
                  "11260": 0,
                  "11263": 0,
                  "11265": 0,
                  "11267": 0,
                  "11268": 0,
                  "11280": 0,
                  "11282": 0,
                  "11289": 0,
                  "11290": 0,
                  "11297": 0,
                  "11313": 0,
                  "11314": 0,
                  "11316": 0,
                  "11317": 0,
                  "11318": 0,
                  "11321": 0,
                  "11322": 0,
                  "11324": 0,
                  "11325": 0,
                  "11326": 0,
                  "11327": 0,
                  "11330": 0,
                  "11331": 0,
                  "11332": 0,
                  "11333": 0,
                  "11335": 0,
                  "11336": 0,
                  "11337": 0,
                  "11338": 0,
                  "11341": 0,
                  "11343": 0,
                  "11362": 0,
                  "11363": 0,
                  "11371": 0,
                  "11372": 0,
                  "11390": 0,
                  "11399": 0,
                  "11400": 0,
                  "11408": 0,
                  "11409": 0,
                  "11411": 0,
                  "11412": 0,
                  "11422": 0,
                  "11423": 0,
                  "11426": 0,
                  "11427": 0,
                  "11428": 0,
                  "11429": 0,
                  "11430": 0,
                  "_deepnote_index_column": 7
                },
                {
                  "11": 0,
                  "100": 0,
                  "107": 0,
                  "108": 0,
                  "110": 0,
                  "113": 0,
                  "1001": 0,
                  "1002": 0,
                  "1003": 0,
                  "1004": 0,
                  "1005": 0,
                  "1007": 0,
                  "1008": 0,
                  "1009": 0,
                  "1010": 0,
                  "1013": 0,
                  "1014": 0,
                  "1016": 0,
                  "1019": 0,
                  "1022": 0,
                  "1023": 0,
                  "1025": 0,
                  "10005": 0,
                  "10006": 0,
                  "10012": 0,
                  "10013": 0,
                  "10014": 0,
                  "10015": 0,
                  "10016": 0,
                  "10022": 0,
                  "10024": 0,
                  "10026": 0,
                  "10028": 0,
                  "10031": 0,
                  "10033": 0,
                  "10038": 0,
                  "10039": 0,
                  "10041": 0,
                  "10043": 0,
                  "10044": 0,
                  "10045": 0,
                  "10048": 0,
                  "10049": 0,
                  "10050": 0,
                  "10051": 0,
                  "10058": 0,
                  "10059": 0,
                  "10060": 0,
                  "10061": 0,
                  "10062": 0,
                  "10063": 0,
                  "10064": 0,
                  "10073": 0,
                  "10076": 0,
                  "10079": 0,
                  "10081": 0,
                  "10084": 0,
                  "10085": 0,
                  "10089": 0,
                  "10092": 0,
                  "10093": 0,
                  "10103": 0,
                  "10104": 0,
                  "10106": 0,
                  "10111": 0,
                  "10112": 0,
                  "10114": 0,
                  "10115": 0,
                  "10121": 0,
                  "10123": 0,
                  "10124": 0,
                  "10125": 0,
                  "10128": 0,
                  "10131": 0,
                  "10132": 0,
                  "10135": 0,
                  "10138": 0,
                  "10141": 0,
                  "10143": 0,
                  "10144": 0,
                  "10148": 0,
                  "10150": 0,
                  "10154": 0,
                  "10155": 0,
                  "10158": 0,
                  "10159": 0,
                  "10160": 0,
                  "10163": 0,
                  "10164": 0.29070555041796575,
                  "10166": 0,
                  "10168": 0,
                  "10170": 0,
                  "10174": 0,
                  "10175": 0,
                  "10176": 0,
                  "10177": 0,
                  "10180": 0,
                  "10181": 0,
                  "10183": 0,
                  "10185": 0,
                  "10188": 0,
                  "10198": 0,
                  "10199": 0,
                  "10200": 0,
                  "10201": 0,
                  "10202": 0,
                  "10211": 0,
                  "10216": 0,
                  "10217": 0,
                  "10221": 0,
                  "10222": 0,
                  "10223": 0,
                  "10224": 0,
                  "10225": 0,
                  "10226": 0,
                  "10228": 0,
                  "10229": 0,
                  "10230": 0,
                  "10232": 0,
                  "10235": 0,
                  "10237": 0,
                  "10241": 0,
                  "10244": 0,
                  "10249": 0,
                  "10250": 0,
                  "10254": 0,
                  "10260": 0,
                  "10261": 0,
                  "10266": 0,
                  "10267": 0,
                  "10275": 0,
                  "10278": 0,
                  "10284": 0,
                  "10291": 0,
                  "10292": 0,
                  "10294": 0,
                  "10303": 0,
                  "10308": 0,
                  "10309": 0,
                  "10322": 0,
                  "10323": 0,
                  "10324": 0,
                  "10325": 0,
                  "10326": 0,
                  "10327": 0,
                  "10328": 0,
                  "10329": 0,
                  "10332": 0,
                  "10333": 0,
                  "10336": 0,
                  "10337": 0,
                  "10338": 0,
                  "10345": 0,
                  "10349": 0,
                  "10350": 0,
                  "10352": 0,
                  "10360": 0,
                  "10364": 0,
                  "10371": 0,
                  "10372": 0,
                  "10374": 0,
                  "10375": 0,
                  "10385": 0,
                  "10391": 0,
                  "10397": 0,
                  "10398": 0,
                  "10399": 0,
                  "10400": 0,
                  "10403": 0,
                  "10406": 0,
                  "10410": 0,
                  "10414": 0,
                  "10423": 0,
                  "10424": 0,
                  "10425": 0,
                  "10427": 0,
                  "10428": 0,
                  "10437": 0,
                  "10448": 0,
                  "10449": 0,
                  "10452": 0,
                  "10453": 0,
                  "10456": 0,
                  "10459": 0,
                  "10466": 0,
                  "10468": 0,
                  "10471": 0,
                  "10476": 0,
                  "10478": 0,
                  "10481": 0,
                  "10482": 0,
                  "10483": 0,
                  "10486": 0,
                  "10489": 0,
                  "10491": 0,
                  "10494": 0,
                  "10498": 0,
                  "10499": 0,
                  "10503": 0,
                  "10505": 0,
                  "10506": 0,
                  "10508": 0,
                  "10511": 0,
                  "10514": 0,
                  "10519": 0,
                  "10525": 0,
                  "10527": 0,
                  "10530": 0,
                  "10532": 0,
                  "10535": 0,
                  "10539": 0,
                  "10540": 0,
                  "10541": 0,
                  "10542": 0,
                  "10547": 0,
                  "10551": 0,
                  "10556": 0,
                  "10558": 0,
                  "10561": 0,
                  "10562": 0,
                  "10563": 0,
                  "10568": 0,
                  "10572": 0,
                  "10582": 0,
                  "10586": 0,
                  "10587": 0,
                  "10590": 0,
                  "10591": 0,
                  "10594": 0,
                  "10596": 0,
                  "10597": 0,
                  "10601": 0,
                  "10603": 0,
                  "10604": 0,
                  "10607": 0,
                  "10609": 0,
                  "10614": 0,
                  "10616": 0,
                  "10617": 0,
                  "10623": 0,
                  "10624": 0,
                  "10629": 0,
                  "10631": 0,
                  "10637": 0,
                  "10641": 0,
                  "10644": 0,
                  "10650": 0,
                  "10652": 0,
                  "10655": 0,
                  "10656": 0,
                  "10657": 0,
                  "10663": 0,
                  "10664": 0,
                  "10666": 0,
                  "10668": 0,
                  "10669": 0,
                  "10671": 0,
                  "10683": 0,
                  "10685": 0,
                  "10686": 0,
                  "10688": 0,
                  "10689": 0,
                  "10700": 0,
                  "10703": 0,
                  "10704": 0,
                  "10706": 0,
                  "10707": 0,
                  "10712": 0,
                  "10714": 0,
                  "10715": 0,
                  "10717": 0,
                  "10718": 0,
                  "10721": 0,
                  "10726": 0,
                  "10732": 0,
                  "10733": 0,
                  "10738": 0,
                  "10756": 0,
                  "10761": 0,
                  "10766": 0,
                  "10768": 0,
                  "10770": 0,
                  "10771": 0,
                  "10772": 0,
                  "10776": 0,
                  "10786": 0,
                  "10787": 0,
                  "10789": 0,
                  "10791": 0.2342874588312184,
                  "10792": 0,
                  "10793": 0,
                  "10794": 0,
                  "10798": 0,
                  "10807": 0,
                  "10808": 0,
                  "10809": 0,
                  "10812": 0,
                  "10814": 0,
                  "10818": 0,
                  "10821": 0,
                  "10827": 0,
                  "10833": 0,
                  "10834": 0,
                  "10842": 0,
                  "10843": 0,
                  "10847": 0,
                  "10850": 0,
                  "10851": 0,
                  "10854": 0,
                  "10855": 0,
                  "10856": 0,
                  "10859": 0,
                  "10863": 0,
                  "10864": 0,
                  "10867": 0,
                  "10870": 0,
                  "10873": 0,
                  "10875": 0,
                  "10877": 0,
                  "10878": 0,
                  "10882": 0,
                  "10883": 0,
                  "10886": 0,
                  "10887": 0,
                  "10889": 0,
                  "10891": 0,
                  "10893": 0,
                  "10897": 0,
                  "10902": 0,
                  "10904": 0,
                  "10905": 0,
                  "10906": 0,
                  "10907": 0,
                  "10909": 0,
                  "10910": 0,
                  "10911": 0,
                  "10915": 0,
                  "10931": 0,
                  "10937": 0,
                  "10938": 0,
                  "10941": 0,
                  "10945": 0,
                  "10947": 0,
                  "10950": 0,
                  "10954": 0,
                  "10955": 0,
                  "10958": 0,
                  "10965": 0,
                  "10968": 0,
                  "10978": 0,
                  "10982": 0,
                  "10983": 0,
                  "10984": 0,
                  "10985": 0,
                  "10986": 0,
                  "10987": 0,
                  "10988": 0,
                  "10991": 0,
                  "11001": 0,
                  "11004": 0,
                  "11005": 0,
                  "11007": 0,
                  "11011": 0,
                  "11014": 0,
                  "11016": 0,
                  "11017": 0,
                  "11018": 0,
                  "11020": 0,
                  "11031": 0,
                  "11032": 0,
                  "11034": 0,
                  "11038": 0,
                  "11040": 0,
                  "11053": 0,
                  "11058": 0,
                  "11060": 0,
                  "11061": 0,
                  "11064": 0,
                  "11065": 0,
                  "11068": 0,
                  "11071": 0,
                  "11083": 0,
                  "11086": 0,
                  "11087": 0,
                  "11088": 0,
                  "11093": 0,
                  "11095": 0,
                  "11100": 0,
                  "11102": 0,
                  "11105": 0,
                  "11106": 0,
                  "11107": 0,
                  "11108": 0,
                  "11109": 0,
                  "11110": 0,
                  "11111": 0,
                  "11112": 0,
                  "11113": 0,
                  "11115": 0,
                  "11116": 0,
                  "11117": 0,
                  "11121": 0,
                  "11122": 0,
                  "11123": 0,
                  "11124": 0,
                  "11128": 0,
                  "11130": 0,
                  "11131": 0,
                  "11134": 0,
                  "11138": 0,
                  "11139": 0,
                  "11145": 0,
                  "11146": 0,
                  "11148": 0,
                  "11155": 0,
                  "11156": 0,
                  "11157": 0,
                  "11159": 0,
                  "11162": 0,
                  "11168": 0,
                  "11169": 0,
                  "11173": 0,
                  "11181": 0,
                  "11183": 0,
                  "11184": 0,
                  "11187": 0,
                  "11190": 0,
                  "11192": 0,
                  "11195": 0,
                  "11196": 0,
                  "11199": 0,
                  "11200": 0,
                  "11204": 0,
                  "11207": 0,
                  "11208": 0,
                  "11209": 0,
                  "11214": 0,
                  "11217": 0,
                  "11219": 0,
                  "11221": 0,
                  "11222": 0,
                  "11223": 0,
                  "11239": 0,
                  "11240": 0,
                  "11242": 0,
                  "11243": 0,
                  "11246": 0,
                  "11249": 0,
                  "11254": 0,
                  "11258": 0,
                  "11259": 0,
                  "11260": 0,
                  "11263": 0,
                  "11265": 0,
                  "11267": 0,
                  "11268": 0,
                  "11280": 0,
                  "11282": 0,
                  "11289": 0,
                  "11290": 0,
                  "11297": 0,
                  "11313": 0,
                  "11314": 0,
                  "11316": 0,
                  "11317": 0,
                  "11318": 0,
                  "11321": 0,
                  "11322": 0,
                  "11324": 0,
                  "11325": 0,
                  "11326": 0,
                  "11327": 0,
                  "11330": 0,
                  "11331": 0,
                  "11332": 0,
                  "11333": 0,
                  "11335": 0,
                  "11336": 0,
                  "11337": 0,
                  "11338": 0,
                  "11341": 0,
                  "11343": 0,
                  "11362": 0,
                  "11363": 0,
                  "11371": 0,
                  "11372": 0,
                  "11390": 0,
                  "11399": 0,
                  "11400": 0,
                  "11408": 0,
                  "11409": 0,
                  "11411": 0,
                  "11412": 0,
                  "11422": 0,
                  "11423": 0,
                  "11426": 0,
                  "11427": 0,
                  "11428": 0,
                  "11429": 0,
                  "11430": 0,
                  "_deepnote_index_column": 8
                },
                {
                  "11": 0,
                  "100": 0,
                  "107": 0,
                  "108": 0,
                  "110": 0,
                  "113": 0,
                  "1001": 0,
                  "1002": 0,
                  "1003": 0,
                  "1004": 0,
                  "1005": 0,
                  "1007": 0,
                  "1008": 0,
                  "1009": 0,
                  "1010": 0,
                  "1013": 0,
                  "1014": 0,
                  "1016": 0,
                  "1019": 0,
                  "1022": 0,
                  "1023": 0,
                  "1025": 0,
                  "10005": 0,
                  "10006": 0,
                  "10012": 0,
                  "10013": 0,
                  "10014": 0,
                  "10015": 0,
                  "10016": 0,
                  "10022": 0,
                  "10024": 0,
                  "10026": 0,
                  "10028": 0,
                  "10031": 0,
                  "10033": 0,
                  "10038": 0,
                  "10039": 0,
                  "10041": 0,
                  "10043": 0,
                  "10044": 0,
                  "10045": 0,
                  "10048": 0,
                  "10049": 0,
                  "10050": 0,
                  "10051": 0,
                  "10058": 0,
                  "10059": 0,
                  "10060": 0,
                  "10061": 0,
                  "10062": 0,
                  "10063": 0,
                  "10064": 0,
                  "10073": 0,
                  "10076": 0,
                  "10079": 0,
                  "10081": 0,
                  "10084": 0,
                  "10085": 0,
                  "10089": 0,
                  "10092": 0,
                  "10093": 0,
                  "10103": 0,
                  "10104": 0,
                  "10106": 0,
                  "10111": 0,
                  "10112": 0,
                  "10114": 0,
                  "10115": 0,
                  "10121": 0,
                  "10123": 0,
                  "10124": 0,
                  "10125": 0,
                  "10128": 0,
                  "10131": 0,
                  "10132": 0,
                  "10135": 0,
                  "10138": 0,
                  "10141": 0,
                  "10143": 0,
                  "10144": 0,
                  "10148": 0,
                  "10150": 0,
                  "10154": 0,
                  "10155": 0,
                  "10158": 0,
                  "10159": 0,
                  "10160": 0,
                  "10163": 0,
                  "10164": 0,
                  "10166": 0,
                  "10168": 0,
                  "10170": 0,
                  "10174": 0,
                  "10175": 0,
                  "10176": 0,
                  "10177": 0,
                  "10180": 0,
                  "10181": 0,
                  "10183": 0,
                  "10185": 0,
                  "10188": 0,
                  "10198": 0,
                  "10199": 0,
                  "10200": 0,
                  "10201": 0,
                  "10202": 0,
                  "10211": 0,
                  "10216": 0,
                  "10217": 0,
                  "10221": 0,
                  "10222": 0,
                  "10223": 0,
                  "10224": 0,
                  "10225": 0,
                  "10226": 0,
                  "10228": 0,
                  "10229": 0,
                  "10230": 0,
                  "10232": 0,
                  "10235": 0,
                  "10237": 0,
                  "10241": 0,
                  "10244": 0,
                  "10249": 0,
                  "10250": 0,
                  "10254": 0,
                  "10260": 0,
                  "10261": 0,
                  "10266": 0,
                  "10267": 0,
                  "10275": 0,
                  "10278": 0,
                  "10284": 0,
                  "10291": 0,
                  "10292": 0,
                  "10294": 0,
                  "10303": 0,
                  "10308": 0,
                  "10309": 0,
                  "10322": 0,
                  "10323": 0,
                  "10324": 0,
                  "10325": 0,
                  "10326": 0,
                  "10327": 0,
                  "10328": 0,
                  "10329": 0,
                  "10332": 0,
                  "10333": 0,
                  "10336": 0,
                  "10337": 0,
                  "10338": 0,
                  "10345": 0,
                  "10349": 0,
                  "10350": 0,
                  "10352": 0,
                  "10360": 0,
                  "10364": 0,
                  "10371": 0,
                  "10372": 0,
                  "10374": 0,
                  "10375": 0,
                  "10385": 0,
                  "10391": 0,
                  "10397": 0,
                  "10398": 0,
                  "10399": 0,
                  "10400": 0,
                  "10403": 0,
                  "10406": 0,
                  "10410": 0,
                  "10414": 0,
                  "10423": 0,
                  "10424": 0,
                  "10425": 0,
                  "10427": 0,
                  "10428": 0,
                  "10437": 0,
                  "10448": 0,
                  "10449": 0,
                  "10452": 0,
                  "10453": 0,
                  "10456": 0,
                  "10459": 0,
                  "10466": 0,
                  "10468": 0,
                  "10471": 0,
                  "10476": 0,
                  "10478": 0,
                  "10481": 0,
                  "10482": 0,
                  "10483": 0,
                  "10486": 0,
                  "10489": 0,
                  "10491": 0,
                  "10494": 0,
                  "10498": 0,
                  "10499": 0,
                  "10503": 0,
                  "10505": 0,
                  "10506": 0,
                  "10508": 0,
                  "10511": 0,
                  "10514": 0,
                  "10519": 0,
                  "10525": 0,
                  "10527": 0,
                  "10530": 0,
                  "10532": 0,
                  "10535": 0,
                  "10539": 0,
                  "10540": 0,
                  "10541": 0,
                  "10542": 0,
                  "10547": 0,
                  "10551": 0,
                  "10556": 0,
                  "10558": 0,
                  "10561": 0,
                  "10562": 0,
                  "10563": 0,
                  "10568": 0,
                  "10572": 0,
                  "10582": 0,
                  "10586": 0,
                  "10587": 0,
                  "10590": 0,
                  "10591": 0,
                  "10594": 0,
                  "10596": 0,
                  "10597": 0,
                  "10601": 0,
                  "10603": 0,
                  "10604": 0,
                  "10607": 0,
                  "10609": 0,
                  "10614": 0,
                  "10616": 0,
                  "10617": 0,
                  "10623": 0,
                  "10624": 0,
                  "10629": 0,
                  "10631": 0,
                  "10637": 0,
                  "10641": 0,
                  "10644": 0,
                  "10650": 0,
                  "10652": 0,
                  "10655": 0,
                  "10656": 0,
                  "10657": 0,
                  "10663": 0,
                  "10664": 0,
                  "10666": 0,
                  "10668": 0,
                  "10669": 0,
                  "10671": 0,
                  "10683": 0,
                  "10685": 0,
                  "10686": 0,
                  "10688": 0,
                  "10689": 0,
                  "10700": 0,
                  "10703": 0,
                  "10704": 0,
                  "10706": 0,
                  "10707": 0,
                  "10712": 0,
                  "10714": 0,
                  "10715": 0,
                  "10717": 0,
                  "10718": 0,
                  "10721": 0,
                  "10726": 0,
                  "10732": 0,
                  "10733": 0,
                  "10738": 0,
                  "10756": 0,
                  "10761": 0,
                  "10766": 0,
                  "10768": 0,
                  "10770": 0,
                  "10771": 0,
                  "10772": 0,
                  "10776": 0,
                  "10786": 0,
                  "10787": 0,
                  "10789": 0,
                  "10791": 0,
                  "10792": 0,
                  "10793": 0,
                  "10794": 0,
                  "10798": 0,
                  "10807": 0,
                  "10808": 0,
                  "10809": 0,
                  "10812": 0,
                  "10814": 0,
                  "10818": 0,
                  "10821": 0,
                  "10827": 0,
                  "10833": 0,
                  "10834": 0,
                  "10842": 0,
                  "10843": 0,
                  "10847": 0,
                  "10850": 0,
                  "10851": 0,
                  "10854": 0,
                  "10855": 0,
                  "10856": 0,
                  "10859": 0,
                  "10863": 0,
                  "10864": 0,
                  "10867": 0,
                  "10870": 0,
                  "10873": 0,
                  "10875": 0,
                  "10877": 0,
                  "10878": 0,
                  "10882": 0,
                  "10883": 0,
                  "10886": 0,
                  "10887": 0,
                  "10889": 0,
                  "10891": 0,
                  "10893": 0,
                  "10897": 0,
                  "10902": 0,
                  "10904": 0,
                  "10905": 0,
                  "10906": 0,
                  "10907": 0,
                  "10909": 0,
                  "10910": 0,
                  "10911": 0,
                  "10915": 0,
                  "10931": 0,
                  "10937": 0,
                  "10938": 0,
                  "10941": 0,
                  "10945": 0,
                  "10947": 0,
                  "10950": 0,
                  "10954": 0,
                  "10955": 0,
                  "10958": 0,
                  "10965": 0,
                  "10968": 0,
                  "10978": 0,
                  "10982": 0,
                  "10983": 0,
                  "10984": 0,
                  "10985": 0,
                  "10986": 0,
                  "10987": 0,
                  "10988": 0,
                  "10991": 0,
                  "11001": 0,
                  "11004": 0,
                  "11005": 0,
                  "11007": 0,
                  "11011": 0,
                  "11014": 0,
                  "11016": 0,
                  "11017": 0,
                  "11018": 0,
                  "11020": 0,
                  "11031": 0,
                  "11032": 0,
                  "11034": 0,
                  "11038": 0,
                  "11040": 0,
                  "11053": 0,
                  "11058": 0,
                  "11060": 0,
                  "11061": 0,
                  "11064": 0,
                  "11065": 0,
                  "11068": 0,
                  "11071": 0,
                  "11083": 0,
                  "11086": 0,
                  "11087": 0,
                  "11088": 0,
                  "11093": 0,
                  "11095": 0,
                  "11100": 0,
                  "11102": 0,
                  "11105": 0,
                  "11106": 0,
                  "11107": 0,
                  "11108": 0,
                  "11109": 0,
                  "11110": 0,
                  "11111": 0,
                  "11112": 0,
                  "11113": 0,
                  "11115": 0,
                  "11116": 0,
                  "11117": 0,
                  "11121": 0,
                  "11122": 0,
                  "11123": 0,
                  "11124": 0,
                  "11128": 0,
                  "11130": 0,
                  "11131": 0,
                  "11134": 0,
                  "11138": 0,
                  "11139": 0,
                  "11145": 0,
                  "11146": 0,
                  "11148": 0,
                  "11155": 0,
                  "11156": 0,
                  "11157": 0,
                  "11159": 0,
                  "11162": 0,
                  "11168": 0,
                  "11169": 0,
                  "11173": 0,
                  "11181": 0,
                  "11183": 0,
                  "11184": 0,
                  "11187": 0,
                  "11190": 0,
                  "11192": 0,
                  "11195": 0,
                  "11196": 0,
                  "11199": 0,
                  "11200": 0,
                  "11204": 0,
                  "11207": 0,
                  "11208": 0,
                  "11209": 0,
                  "11214": 0,
                  "11217": 0,
                  "11219": 0,
                  "11221": 0,
                  "11222": 0,
                  "11223": 0,
                  "11239": 0,
                  "11240": 0,
                  "11242": 0,
                  "11243": 0,
                  "11246": 0,
                  "11249": 0,
                  "11254": 0,
                  "11258": 0,
                  "11259": 0,
                  "11260": 0,
                  "11263": 0,
                  "11265": 0,
                  "11267": 0,
                  "11268": 0,
                  "11280": 0,
                  "11282": 0,
                  "11289": 0,
                  "11290": 0,
                  "11297": 0,
                  "11313": 0,
                  "11314": 0,
                  "11316": 0,
                  "11317": 0,
                  "11318": 0,
                  "11321": 0,
                  "11322": 0,
                  "11324": 0,
                  "11325": 0,
                  "11326": 0,
                  "11327": 0,
                  "11330": 0,
                  "11331": 0,
                  "11332": 0,
                  "11333": 0,
                  "11335": 0,
                  "11336": 0,
                  "11337": 0,
                  "11338": 0,
                  "11341": 0,
                  "11343": 0,
                  "11362": 0,
                  "11363": 0,
                  "11371": 0,
                  "11372": 0,
                  "11390": 0,
                  "11399": 0,
                  "11400": 0,
                  "11408": 0,
                  "11409": 0,
                  "11411": 0,
                  "11412": 0,
                  "11422": 0,
                  "11423": 0,
                  "11426": 0,
                  "11427": 0,
                  "11428": 0,
                  "11429": 0,
                  "11430": 0,
                  "_deepnote_index_column": 9
                }
              ]
            },
            "text/plain": "      100  10005  10006  1001  10012  10013  10014  10015  10016  1002  ...  \\\n0     0.0    0.0    0.0   0.0    0.0    0.0    0.0    0.0    0.0   0.0  ...   \n1     0.0    0.0    0.0   0.0    0.0    0.0    0.0    0.0    0.0   0.0  ...   \n2     0.0    0.0    0.0   0.0    0.0    0.0    0.0    0.0    0.0   0.0  ...   \n3     0.0    0.0    0.0   0.0    0.0    0.0    0.0    0.0    0.0   0.0  ...   \n4     0.0    0.0    0.0   0.0    0.0    0.0    0.0    0.0    0.0   0.0  ...   \n...   ...    ...    ...   ...    ...    ...    ...    ...    ...   ...  ...   \n4798  0.0    0.0    0.0   0.0    0.0    0.0    0.0    0.0    0.0   0.0  ...   \n4799  0.0    0.0    0.0   0.0    0.0    0.0    0.0    0.0    0.0   0.0  ...   \n4800  0.0    0.0    0.0   0.0    0.0    0.0    0.0    0.0    0.0   0.0  ...   \n4801  0.0    0.0    0.0   0.0    0.0    0.0    0.0    0.0    0.0   0.0  ...   \n4802  0.0    0.0    0.0   0.0    0.0    0.0    0.0    0.0    0.0   0.0  ...   \n\n      zero  zeus  zip  zombie  zombification  zone  zoo  zookeeper  zoom  \\\n0      0.0   0.0  0.0     0.0            0.0   0.0  0.0        0.0   0.0   \n1      0.0   0.0  0.0     0.0            0.0   0.0  0.0        0.0   0.0   \n2      0.0   0.0  0.0     0.0            0.0   0.0  0.0        0.0   0.0   \n3      0.0   0.0  0.0     0.0            0.0   0.0  0.0        0.0   0.0   \n4      0.0   0.0  0.0     0.0            0.0   0.0  0.0        0.0   0.0   \n...    ...   ...  ...     ...            ...   ...  ...        ...   ...   \n4798   0.0   0.0  0.0     0.0            0.0   0.0  0.0        0.0   0.0   \n4799   0.0   0.0  0.0     0.0            0.0   0.0  0.0        0.0   0.0   \n4800   0.0   0.0  0.0     0.0            0.0   0.0  0.0        0.0   0.0   \n4801   0.0   0.0  0.0     0.0            0.0   0.0  0.0        0.0   0.0   \n4802   0.0   0.0  0.0     0.0            0.0   0.0  0.0        0.0   0.0   \n\n      zurich  \n0        0.0  \n1        0.0  \n2        0.0  \n3        0.0  \n4        0.0  \n...      ...  \n4798     0.0  \n4799     0.0  \n4800     0.0  \n4801     0.0  \n4802     0.0  \n\n[4803 rows x 16909 columns]",
            "text/html": "<div>\n<style scoped>\n    .dataframe tbody tr th:only-of-type {\n        vertical-align: middle;\n    }\n\n    .dataframe tbody tr th {\n        vertical-align: top;\n    }\n\n    .dataframe thead th {\n        text-align: right;\n    }\n</style>\n<table border=\"1\" class=\"dataframe\">\n  <thead>\n    <tr style=\"text-align: right;\">\n      <th></th>\n      <th>100</th>\n      <th>10005</th>\n      <th>10006</th>\n      <th>1001</th>\n      <th>10012</th>\n      <th>10013</th>\n      <th>10014</th>\n      <th>10015</th>\n      <th>10016</th>\n      <th>1002</th>\n      <th>...</th>\n      <th>zero</th>\n      <th>zeus</th>\n      <th>zip</th>\n      <th>zombie</th>\n      <th>zombification</th>\n      <th>zone</th>\n      <th>zoo</th>\n      <th>zookeeper</th>\n      <th>zoom</th>\n      <th>zurich</th>\n    </tr>\n  </thead>\n  <tbody>\n    <tr>\n      <th>0</th>\n      <td>0.0</td>\n      <td>0.0</td>\n      <td>0.0</td>\n      <td>0.0</td>\n      <td>0.0</td>\n      <td>0.0</td>\n      <td>0.0</td>\n      <td>0.0</td>\n      <td>0.0</td>\n      <td>0.0</td>\n      <td>...</td>\n      <td>0.0</td>\n      <td>0.0</td>\n      <td>0.0</td>\n      <td>0.0</td>\n      <td>0.0</td>\n      <td>0.0</td>\n      <td>0.0</td>\n      <td>0.0</td>\n      <td>0.0</td>\n      <td>0.0</td>\n    </tr>\n    <tr>\n      <th>1</th>\n      <td>0.0</td>\n      <td>0.0</td>\n      <td>0.0</td>\n      <td>0.0</td>\n      <td>0.0</td>\n      <td>0.0</td>\n      <td>0.0</td>\n      <td>0.0</td>\n      <td>0.0</td>\n      <td>0.0</td>\n      <td>...</td>\n      <td>0.0</td>\n      <td>0.0</td>\n      <td>0.0</td>\n      <td>0.0</td>\n      <td>0.0</td>\n      <td>0.0</td>\n      <td>0.0</td>\n      <td>0.0</td>\n      <td>0.0</td>\n      <td>0.0</td>\n    </tr>\n    <tr>\n      <th>2</th>\n      <td>0.0</td>\n      <td>0.0</td>\n      <td>0.0</td>\n      <td>0.0</td>\n      <td>0.0</td>\n      <td>0.0</td>\n      <td>0.0</td>\n      <td>0.0</td>\n      <td>0.0</td>\n      <td>0.0</td>\n      <td>...</td>\n      <td>0.0</td>\n      <td>0.0</td>\n      <td>0.0</td>\n      <td>0.0</td>\n      <td>0.0</td>\n      <td>0.0</td>\n      <td>0.0</td>\n      <td>0.0</td>\n      <td>0.0</td>\n      <td>0.0</td>\n    </tr>\n    <tr>\n      <th>3</th>\n      <td>0.0</td>\n      <td>0.0</td>\n      <td>0.0</td>\n      <td>0.0</td>\n      <td>0.0</td>\n      <td>0.0</td>\n      <td>0.0</td>\n      <td>0.0</td>\n      <td>0.0</td>\n      <td>0.0</td>\n      <td>...</td>\n      <td>0.0</td>\n      <td>0.0</td>\n      <td>0.0</td>\n      <td>0.0</td>\n      <td>0.0</td>\n      <td>0.0</td>\n      <td>0.0</td>\n      <td>0.0</td>\n      <td>0.0</td>\n      <td>0.0</td>\n    </tr>\n    <tr>\n      <th>4</th>\n      <td>0.0</td>\n      <td>0.0</td>\n      <td>0.0</td>\n      <td>0.0</td>\n      <td>0.0</td>\n      <td>0.0</td>\n      <td>0.0</td>\n      <td>0.0</td>\n      <td>0.0</td>\n      <td>0.0</td>\n      <td>...</td>\n      <td>0.0</td>\n      <td>0.0</td>\n      <td>0.0</td>\n      <td>0.0</td>\n      <td>0.0</td>\n      <td>0.0</td>\n      <td>0.0</td>\n      <td>0.0</td>\n      <td>0.0</td>\n      <td>0.0</td>\n    </tr>\n    <tr>\n      <th>...</th>\n      <td>...</td>\n      <td>...</td>\n      <td>...</td>\n      <td>...</td>\n      <td>...</td>\n      <td>...</td>\n      <td>...</td>\n      <td>...</td>\n      <td>...</td>\n      <td>...</td>\n      <td>...</td>\n      <td>...</td>\n      <td>...</td>\n      <td>...</td>\n      <td>...</td>\n      <td>...</td>\n      <td>...</td>\n      <td>...</td>\n      <td>...</td>\n      <td>...</td>\n      <td>...</td>\n    </tr>\n    <tr>\n      <th>4798</th>\n      <td>0.0</td>\n      <td>0.0</td>\n      <td>0.0</td>\n      <td>0.0</td>\n      <td>0.0</td>\n      <td>0.0</td>\n      <td>0.0</td>\n      <td>0.0</td>\n      <td>0.0</td>\n      <td>0.0</td>\n      <td>...</td>\n      <td>0.0</td>\n      <td>0.0</td>\n      <td>0.0</td>\n      <td>0.0</td>\n      <td>0.0</td>\n      <td>0.0</td>\n      <td>0.0</td>\n      <td>0.0</td>\n      <td>0.0</td>\n      <td>0.0</td>\n    </tr>\n    <tr>\n      <th>4799</th>\n      <td>0.0</td>\n      <td>0.0</td>\n      <td>0.0</td>\n      <td>0.0</td>\n      <td>0.0</td>\n      <td>0.0</td>\n      <td>0.0</td>\n      <td>0.0</td>\n      <td>0.0</td>\n      <td>0.0</td>\n      <td>...</td>\n      <td>0.0</td>\n      <td>0.0</td>\n      <td>0.0</td>\n      <td>0.0</td>\n      <td>0.0</td>\n      <td>0.0</td>\n      <td>0.0</td>\n      <td>0.0</td>\n      <td>0.0</td>\n      <td>0.0</td>\n    </tr>\n    <tr>\n      <th>4800</th>\n      <td>0.0</td>\n      <td>0.0</td>\n      <td>0.0</td>\n      <td>0.0</td>\n      <td>0.0</td>\n      <td>0.0</td>\n      <td>0.0</td>\n      <td>0.0</td>\n      <td>0.0</td>\n      <td>0.0</td>\n      <td>...</td>\n      <td>0.0</td>\n      <td>0.0</td>\n      <td>0.0</td>\n      <td>0.0</td>\n      <td>0.0</td>\n      <td>0.0</td>\n      <td>0.0</td>\n      <td>0.0</td>\n      <td>0.0</td>\n      <td>0.0</td>\n    </tr>\n    <tr>\n      <th>4801</th>\n      <td>0.0</td>\n      <td>0.0</td>\n      <td>0.0</td>\n      <td>0.0</td>\n      <td>0.0</td>\n      <td>0.0</td>\n      <td>0.0</td>\n      <td>0.0</td>\n      <td>0.0</td>\n      <td>0.0</td>\n      <td>...</td>\n      <td>0.0</td>\n      <td>0.0</td>\n      <td>0.0</td>\n      <td>0.0</td>\n      <td>0.0</td>\n      <td>0.0</td>\n      <td>0.0</td>\n      <td>0.0</td>\n      <td>0.0</td>\n      <td>0.0</td>\n    </tr>\n    <tr>\n      <th>4802</th>\n      <td>0.0</td>\n      <td>0.0</td>\n      <td>0.0</td>\n      <td>0.0</td>\n      <td>0.0</td>\n      <td>0.0</td>\n      <td>0.0</td>\n      <td>0.0</td>\n      <td>0.0</td>\n      <td>0.0</td>\n      <td>...</td>\n      <td>0.0</td>\n      <td>0.0</td>\n      <td>0.0</td>\n      <td>0.0</td>\n      <td>0.0</td>\n      <td>0.0</td>\n      <td>0.0</td>\n      <td>0.0</td>\n      <td>0.0</td>\n      <td>0.0</td>\n    </tr>\n  </tbody>\n</table>\n<p>4803 rows × 16909 columns</p>\n</div>"
          },
          "metadata": {}
        }
      ],
      "execution_count": null
    },
    {
      "cell_type": "code",
      "source": "from sklearn.metrics.pairwise import linear_kernel\nsimilarity_metrix1 = linear_kernel(tfidf_matrix1, tfidf_matrix1)\nsimilarity_metrix1",
      "metadata": {
        "source_hash": null,
        "execution_start": 1688208689170,
        "execution_millis": 464,
        "deepnote_to_be_reexecuted": false,
        "cell_id": "8c8d7d9fe52d43eaa7736c129b7b3c37",
        "deepnote_cell_type": "code"
      },
      "outputs": [
        {
          "output_type": "execute_result",
          "execution_count": 21,
          "data": {
            "text/plain": "array([[1.        , 0.17070599, 0.11670963, ..., 0.1153179 , 0.        ,\n        0.09130464],\n       [0.17070599, 1.        , 0.1082977 , ..., 0.1099264 , 0.        ,\n        0.08472379],\n       [0.11670963, 0.1082977 , 1.        , ..., 0.06916601, 0.        ,\n        0.060003  ],\n       ...,\n       [0.1153179 , 0.1099264 , 0.06916601, ..., 1.        , 0.        ,\n        0.05411017],\n       [0.        , 0.        , 0.        , ..., 0.        , 0.        ,\n        0.        ],\n       [0.09130464, 0.08472379, 0.060003  , ..., 0.05411017, 0.        ,\n        1.        ]])"
          },
          "metadata": {}
        }
      ],
      "execution_count": null
    },
    {
      "cell_type": "code",
      "source": "def similar_movies1(movie_title, nr_movie):\n    idx = movies.loc[movies['title']==movie_title].index[0]\n    scores = list(enumerate(similarity_metrix1[idx]))\n    scores = sorted(scores, key=lambda x:x[1], reverse=True)\n    movie_indices = [i[0] for i in scores[1:nr_movie+1]]\n    similar_titles = list(movies['title'].iloc[movie_indices])\n    return similar_titles",
      "metadata": {
        "source_hash": null,
        "execution_start": 1688208702887,
        "execution_millis": 9,
        "deepnote_to_be_reexecuted": false,
        "cell_id": "d2ef787b305442d6910f4668b4bc8ef6",
        "deepnote_cell_type": "code"
      },
      "outputs": [],
      "execution_count": null
    },
    {
      "cell_type": "code",
      "source": "similar_movies1('Avengers: Age of Ultron', 10)",
      "metadata": {
        "source_hash": null,
        "execution_start": 1688208721240,
        "execution_millis": 13,
        "deepnote_to_be_reexecuted": false,
        "cell_id": "ff102bc2d85a476fb357a40990dc6b20",
        "deepnote_cell_type": "code"
      },
      "outputs": [
        {
          "output_type": "execute_result",
          "execution_count": 26,
          "data": {
            "text/plain": "['Ant-Man',\n 'The Avengers',\n 'Captain America: Civil War',\n 'Iron Man 2',\n 'Thor: The Dark World',\n 'Captain America: The Winter Soldier',\n 'X2',\n 'X-Men',\n 'Captain America: The First Avenger',\n 'X-Men: Apocalypse']"
          },
          "metadata": {}
        }
      ],
      "execution_count": null
    },
    {
      "cell_type": "markdown",
      "source": "<a style='text-decoration:none;line-height:16px;display:flex;color:#5B5B62;padding:10px;justify-content:end;' href='https://deepnote.com?utm_source=created-in-deepnote-cell&projectId=921688e6-02bc-4c1f-b828-feba85daa870' target=\"_blank\">\n<img alt='Created in deepnote.com' style='display:inline;max-height:16px;margin:0px;margin-right:7.5px;' src='data:image/svg+xml;base64,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' > </img>\nCreated in <span style='font-weight:600;margin-left:4px;'>Deepnote</span></a>",
      "metadata": {
        "created_in_deepnote_cell": true,
        "deepnote_cell_type": "markdown"
      }
    }
  ],
  "nbformat": 4,
  "nbformat_minor": 0,
  "metadata": {
    "deepnote": {},
    "orig_nbformat": 2,
    "deepnote_notebook_id": "e91cbad6d6db44bfb45ab4a13b44ae30",
    "deepnote_execution_queue": []
  }
}